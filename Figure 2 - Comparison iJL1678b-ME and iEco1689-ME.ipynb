{
 "cells": [
  {
   "cell_type": "markdown",
   "id": "ce318d1e-16bd-4b2b-b696-9764f3e71e54",
   "metadata": {},
   "source": [
    "# Compare iJL1678b-ME and iEco1689-ME\n",
    "\n",
    "Code for reproducing panels of Figure 2: 2a, 2b, and 2c"
   ]
  },
  {
   "cell_type": "markdown",
   "id": "6d6faad9-c977-4a9a-9211-e2f7a6ef4329",
   "metadata": {},
   "source": [
    "## Setup environment"
   ]
  },
  {
   "cell_type": "code",
   "execution_count": 1,
   "id": "88259670-cc2a-4bce-88a8-7aa820a24c3b",
   "metadata": {
    "ExecuteTime": {
     "end_time": "2022-12-12T06:27:36.177441Z",
     "start_time": "2022-12-12T06:27:35.183790Z"
    }
   },
   "outputs": [],
   "source": [
    "import coralme\n",
    "from coralme.builder.helper_functions import *\n",
    "import pickle\n",
    "import pandas\n",
    "import os\n",
    "import tqdm\n",
    "import json\n",
    "import matplotlib.pyplot as plt\n",
    "import numpy as np\n",
    "import sympy\n",
    "pandas.set_option('display.max_colwidth', None)\n",
    "plt.rcParams['svg.fonttype'] = 'none'"
   ]
  },
  {
   "cell_type": "markdown",
   "id": "4c24468a-f2c3-48d3-9a64-0d80ce847e9a",
   "metadata": {},
   "source": [
    "## Functions to load and inspect models"
   ]
  },
  {
   "cell_type": "markdown",
   "id": "25083b78-f830-4fac-869e-0ee60efb3c25",
   "metadata": {},
   "source": [
    "Load a ME-model"
   ]
  },
  {
   "cell_type": "code",
   "execution_count": 2,
   "id": "0ca42e2d-5584-4f4a-93cf-baa6bd6cd7f3",
   "metadata": {},
   "outputs": [],
   "source": [
    "def load_me(filename='me_model.pickle'):\n",
    "    with open(filename, \"rb\") as f:\n",
    "        return pickle.load(f)"
   ]
  },
  {
   "cell_type": "markdown",
   "id": "20e70a06-360c-45e8-b640-d53a28f148ee",
   "metadata": {},
   "source": [
    "## Load Genomes"
   ]
  },
  {
   "cell_type": "code",
   "execution_count": 8,
   "id": "4fc74b40-3f82-43e4-b516-79c8137bb576",
   "metadata": {},
   "outputs": [],
   "source": [
    "features = {}\n",
    "for org in get_org_dirs('./clean/'):\n",
    "    p = './clean/{}/inputs/genome.gb'.format(org)\n",
    "    contigs = get_genbank_contigs(p)\n",
    "    count = 0\n",
    "    for c in contigs:\n",
    "        for f in c.features:\n",
    "            if not f.type == 'gene': continue\n",
    "            count += 1\n",
    "    features[org] = count"
   ]
  }
 ],
 "metadata": {
  "kernelspec": {
   "display_name": "coralme",
   "language": "python",
   "name": "coralme"
  },
  "language_info": {
   "codemirror_mode": {
    "name": "ipython",
    "version": 3
   },
   "file_extension": ".py",
   "mimetype": "text/x-python",
   "name": "python",
   "nbconvert_exporter": "python",
   "pygments_lexer": "ipython3",
   "version": "3.10.12"
  }
 },
 "nbformat": 4,
 "nbformat_minor": 5
}
