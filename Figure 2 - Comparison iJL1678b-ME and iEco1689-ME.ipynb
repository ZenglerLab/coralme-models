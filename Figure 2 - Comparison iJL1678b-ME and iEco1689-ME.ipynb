{
 "cells": [
  {
   "cell_type": "markdown",
   "id": "ce318d1e-16bd-4b2b-b696-9764f3e71e54",
   "metadata": {},
   "source": [
    "# Compare iJL1678b-ME and iEco1689-ME\n",
    "\n",
    "Code for reproducing panels of Figure 2: 2a, 2b, and 2c"
   ]
  },
  {
   "cell_type": "markdown",
   "id": "6d6faad9-c977-4a9a-9211-e2f7a6ef4329",
   "metadata": {},
   "source": [
    "## Setup environment"
   ]
  },
  {
   "cell_type": "code",
   "execution_count": 1,
   "id": "88259670-cc2a-4bce-88a8-7aa820a24c3b",
   "metadata": {
    "ExecuteTime": {
     "end_time": "2023-08-31T18:51:56.856494Z",
     "start_time": "2023-08-31T18:51:55.369721Z"
    }
   },
   "outputs": [],
   "source": [
    "import coralme\n",
    "from coralme.builder.helper_functions import *\n",
    "import pickle\n",
    "import pandas\n",
    "import os\n",
    "import tqdm\n",
    "import json\n",
    "import matplotlib.pyplot as plt\n",
    "import numpy as np\n",
    "import sympy\n",
    "pandas.set_option('display.max_colwidth', None)\n",
    "plt.rcParams['svg.fonttype'] = 'none'"
   ]
  },
  {
   "cell_type": "code",
   "execution_count": 2,
   "id": "6b8f4a32",
   "metadata": {
    "ExecuteTime": {
     "end_time": "2023-08-31T18:58:01.472941Z",
     "start_time": "2023-08-31T18:51:56.858302Z"
    }
   },
   "outputs": [
    {
     "name": "stdout",
     "output_type": "stream",
     "text": [
      "Set parameter Username\n",
      "Academic license - for non-commercial use only - expires 2024-04-01\n",
      "Read LP format model from file /tmp/tmpqbcs3pev.lp\n",
      "Reading time = 0.00 seconds\n",
      ": 0 rows, 0 columns, 0 nonzeros\n",
      "Read LP format model from file /tmp/tmp57n_suti.lp\n",
      "Reading time = 0.01 seconds\n",
      ": 1660 rows, 4754 columns, 17902 nonzeros\n",
      "Read LP format model from file /tmp/tmpc85f69w6.lp\n",
      "Reading time = 0.01 seconds\n",
      ": 1810 rows, 5220 columns, 17878 nonzeros\n",
      "The MINOS and quad MINOS solvers are a courtesy of Prof Michael A. Saunders. Please cite Ma, D., Yang, L., Fleming, R. et al. Reliable and efficient solution of genome-scale models of Metabolism and macromolecular Expression. Sci Rep 7, 40863 (2017). https://doi.org/10.1038/srep40863\n",
      "\n",
      "Iteration\t Solution to check\tSolver Status\n",
      "---------\t------------------\t-------------\n",
      "        1\t0.5000000000000000\tOptimal\n",
      "        2\t0.7500000000000000\tOptimal\n",
      "        3\t0.8750000000000000\tNot feasible\n",
      "        4\t0.8125000000000000\tOptimal\n",
      "        5\t0.8437500000000000\tNot feasible\n",
      "        6\t0.8281250000000000\tNot feasible\n",
      "        7\t0.8203125000000000\tNot feasible\n",
      "        8\t0.8164062500000000\tOptimal\n",
      "        9\t0.8183593750000000\tOptimal\n",
      "       10\t0.8193359375000000\tNot feasible\n",
      "       11\t0.8188476562500000\tNot feasible\n",
      "       12\t0.8186035156250000\tOptimal\n",
      "       13\t0.8187255859375000\tNot feasible\n",
      "       14\t0.8186645507812500\tNot feasible\n",
      "       15\t0.8186340332031250\tNot feasible\n",
      "       16\t0.8186187744140625\tOptimal\n",
      "       17\t0.8186264038085938\tOptimal\n",
      "       18\t0.8186302185058594\tNot feasible\n",
      "       19\t0.8186283111572266\tNot feasible\n",
      "       20\t0.8186273574829102\tOptimal\n"
     ]
    }
   ],
   "source": [
    "import pickle, tqdm\n",
    "with open('./published/ecoli/MEModel-step2-ecoli.pkl', 'rb') as infile:\n",
    "    me = pickle.load(infile)\n",
    "\n",
    "me.add_boundary(me.metabolites.li_c, type = 'sink');\n",
    "\n",
    "me.optimize(max_mu = 1.0)\n",
    "sol = me.solution.to_frame()['fluxes']\n",
    "sol.to_csv('./published/ecoli/fluxes_ecoli_uME-model.txt', sep = '\\t', header = False)"
   ]
  },
  {
   "cell_type": "code",
   "execution_count": 3,
   "id": "8e9cf901",
   "metadata": {
    "ExecuteTime": {
     "end_time": "2023-08-31T18:58:01.494909Z",
     "start_time": "2023-08-31T18:58:01.474334Z"
    }
   },
   "outputs": [],
   "source": [
    "# new reaction names, manually curated\n",
    "with open('./published/ecoli/paper/ecolime-new-reaction-names.txt', 'r') as infile:\n",
    "    rxn_names = pandas.read_csv(infile, sep = '\\t', header = None, index_col = 0)\n",
    "# rxn_names.index\n",
    "\n",
    "# simulation from original ecolime, solvemepy and qminos. default tolerance 1e-6\n",
    "with open('./published/ecoli/paper/ecolime-fluxes-from-model.txt', 'r') as infile:\n",
    "    source = pandas.read_csv(infile, sep = '\\t', header = None, index_col = 0)\n",
    "\n",
    "source.index = rxn_names.index\n",
    "source.columns = ['cobrame fluxes']\n",
    "# source[source['cobrame fluxes'] != 0] # 2363 non-zero fluxes"
   ]
  },
  {
   "cell_type": "code",
   "execution_count": 4,
   "id": "51bda618",
   "metadata": {
    "ExecuteTime": {
     "end_time": "2023-08-31T18:58:01.513978Z",
     "start_time": "2023-08-31T18:58:01.496849Z"
    }
   },
   "outputs": [],
   "source": [
    "# simulation of model using coralme and qminos. default tolerance 1e-6\n",
    "with open('./published/ecoli/fluxes_ecoli_uME-model.txt', 'r') as infile:\n",
    "    target = pandas.read_csv(infile, sep = '\\t', header = None, index_col = 0)\n",
    "\n",
    "# remove location of translocated proteins to match ecolime model reactions\n",
    "dct = { x:x.replace('_Outer_Membrane', '').replace('_Inner_Membrane', '').replace('_Periplasm', '').replace('_Membrane', '')\n",
    "       for x in target.index if x.startswith('translocation') }\n",
    "\n",
    "target.index = [ dct.get(x, x) for x in target.index ]\n",
    "target.columns = ['coralme fluxes']\n",
    "# target[target['coralme fluxes'] != 0] # 2436 non-zero fluxes"
   ]
  },
  {
   "cell_type": "code",
   "execution_count": 5,
   "id": "2f3b9730",
   "metadata": {
    "ExecuteTime": {
     "end_time": "2023-08-31T18:58:01.589736Z",
     "start_time": "2023-08-31T18:58:01.515980Z"
    }
   },
   "outputs": [],
   "source": [
    "# identify mismatching reactions\n",
    "tmp = pandas.concat([source['cobrame fluxes'], target['coralme fluxes']], axis = 1)\n",
    "tmp = tmp[tmp['cobrame fluxes'].isna() | tmp['coralme fluxes'].isna()].sort_index()\n",
    "\n",
    "# identify differences and save\n",
    "tmp[~tmp.index.str.startswith('transcription_') & \n",
    "    ~tmp.index.str.startswith('translocation_')].to_csv('mismatching_reactions.txt', sep = '\\t')\n",
    "\n",
    "tmp[~tmp.index.str.startswith('transcription_') & \n",
    "    ~tmp.index.str.startswith('translocation_') & \n",
    "    (tmp['cobrame fluxes'] != 0) & \n",
    "    (tmp['coralme fluxes'] != 0)].to_csv('mismatching_reactions_nonzeros.txt', sep = '\\t')\n",
    "\n",
    "tmp[tmp.index.str.startswith('transcription_')].to_csv('mismatching_reactions_transcription_only.txt', sep = '\\t')\n",
    "tmp[tmp.index.str.startswith('translocation_')].to_csv('mismatching_reactions_translocation_only.txt', sep = '\\t')"
   ]
  },
  {
   "cell_type": "code",
   "execution_count": 6,
   "id": "815a7eb2",
   "metadata": {
    "ExecuteTime": {
     "end_time": "2023-08-31T18:58:01.629930Z",
     "start_time": "2023-08-31T18:58:01.594627Z"
    }
   },
   "outputs": [],
   "source": [
    "# concatenation will align reaction names\n",
    "tmp = pandas.concat([source['cobrame fluxes'], target['coralme fluxes']], axis = 1)\n",
    "total = tmp.dropna(how = 'any').shape[0]"
   ]
  },
  {
   "cell_type": "code",
   "execution_count": 7,
   "id": "23c86b2a",
   "metadata": {
    "ExecuteTime": {
     "end_time": "2023-08-31T18:58:01.669545Z",
     "start_time": "2023-08-31T18:58:01.636276Z"
    }
   },
   "outputs": [
    {
     "data": {
      "text/plain": [
       "26"
      ]
     },
     "execution_count": 7,
     "metadata": {},
     "output_type": "execute_result"
    }
   ],
   "source": [
    "tmp[tmp['coralme fluxes'].isna()].shape[0] # unique reactions in COBRAme"
   ]
  },
  {
   "cell_type": "code",
   "execution_count": 8,
   "id": "89a237c8",
   "metadata": {
    "ExecuteTime": {
     "end_time": "2023-08-31T18:58:01.690672Z",
     "start_time": "2023-08-31T18:58:01.675407Z"
    }
   },
   "outputs": [
    {
     "data": {
      "text/plain": [
       "6"
      ]
     },
     "execution_count": 8,
     "metadata": {},
     "output_type": "execute_result"
    }
   ],
   "source": [
    "tmp[tmp['coralme fluxes'].isna() & (tmp['cobrame fluxes'] != 0)].shape[0] # non-zero flux and unique reactions"
   ]
  },
  {
   "cell_type": "code",
   "execution_count": 9,
   "id": "67064b79",
   "metadata": {
    "ExecuteTime": {
     "end_time": "2023-08-31T18:58:01.711365Z",
     "start_time": "2023-08-31T18:58:01.697573Z"
    }
   },
   "outputs": [
    {
     "data": {
      "text/plain": [
       "2328"
      ]
     },
     "execution_count": 9,
     "metadata": {},
     "output_type": "execute_result"
    }
   ],
   "source": [
    "tmp[tmp['cobrame fluxes'].isna()].shape[0] # unique reactions in coralME"
   ]
  },
  {
   "cell_type": "code",
   "execution_count": 10,
   "id": "fe034f21",
   "metadata": {
    "ExecuteTime": {
     "end_time": "2023-08-31T18:58:01.719485Z",
     "start_time": "2023-08-31T18:58:01.715322Z"
    }
   },
   "outputs": [
    {
     "data": {
      "text/plain": [
       "85"
      ]
     },
     "execution_count": 10,
     "metadata": {},
     "output_type": "execute_result"
    }
   ],
   "source": [
    "tmp[tmp['cobrame fluxes'].isna() & (tmp['coralme fluxes'] != 0)].shape[0] # non-zero flux and unique reactions"
   ]
  },
  {
   "cell_type": "code",
   "execution_count": 11,
   "id": "dd66833d",
   "metadata": {
    "ExecuteTime": {
     "end_time": "2023-08-31T18:58:01.725891Z",
     "start_time": "2023-08-31T18:58:01.721135Z"
    }
   },
   "outputs": [
    {
     "data": {
      "text/plain": [
       "0.760026912277791"
      ]
     },
     "execution_count": 11,
     "metadata": {},
     "output_type": "execute_result"
    }
   ],
   "source": [
    "max(abs(tmp['cobrame fluxes'] - tmp['coralme fluxes']))"
   ]
  },
  {
   "cell_type": "code",
   "execution_count": 12,
   "id": "c22c977f",
   "metadata": {
    "ExecuteTime": {
     "end_time": "2023-08-31T18:58:01.900353Z",
     "start_time": "2023-08-31T18:58:01.727509Z"
    }
   },
   "outputs": [
    {
     "name": "stdout",
     "output_type": "stream",
     "text": [
      "LinregressResult(slope=0.9870847097941821, intercept=-4.413699385651115e-05, rvalue=0.999780710466049, pvalue=0.0, stderr=0.00018399233070169762, intercept_stderr=0.0001916631669784639)\n",
      "LinregressResult(slope=0.9871080705992674, intercept=-0.00022321325380664225, rvalue=0.9997919404941055, pvalue=0.0, stderr=0.00041802638000104116, intercept_stderr=0.001015310949581336)\n",
      "LinregressResult(slope=0.9955676080129845, intercept=-0.05578440082375202, rvalue=0.9987838107862137, pvalue=0.0, stderr=0.0010201057103267392, intercept_stderr=0.015729227094163394)\n"
     ]
    }
   ],
   "source": [
    "# concatenation will align reaction names\n",
    "tmp = pandas.concat([source['cobrame fluxes'], target['coralme fluxes']], axis = 1).dropna(how = 'any')\n",
    "total = tmp.shape[0]\n",
    "\n",
    "from scipy.stats import linregress\n",
    "res1 = linregress(tmp.iloc[:, 0], tmp.iloc[:, 1])\n",
    "print(res1)\n",
    "\n",
    "tmp = tmp[(tmp['cobrame fluxes'] != 0) & (tmp['coralme fluxes'] != 0)]\n",
    "res2 = linregress(tmp.iloc[:, 0], tmp.iloc[:, 1])\n",
    "print(res2)\n",
    "\n",
    "tmp = tmp[(tmp['cobrame fluxes'] != 0) & (tmp['coralme fluxes'] != 0)]\n",
    "res3 = linregress(tmp.iloc[:, 0].apply(abs).apply(np.log), tmp.iloc[:, 1].apply(abs).apply(np.log))\n",
    "print(res3)"
   ]
  },
  {
   "cell_type": "code",
   "execution_count": 13,
   "id": "bd086499",
   "metadata": {
    "ExecuteTime": {
     "end_time": "2023-08-31T18:58:01.906386Z",
     "start_time": "2023-08-31T18:58:01.901894Z"
    }
   },
   "outputs": [
    {
     "data": {
      "text/plain": [
       "(12629, 10306, 2323)"
      ]
     },
     "execution_count": 13,
     "metadata": {},
     "output_type": "execute_result"
    }
   ],
   "source": [
    "non_zero_fluxes = tmp[(tmp['cobrame fluxes'] != 0) & (tmp['coralme fluxes'] != 0)] # 2323 non-zero fluxes\n",
    "total, total - non_zero_fluxes.shape[0], non_zero_fluxes.shape[0]"
   ]
  },
  {
   "cell_type": "code",
   "execution_count": 14,
   "id": "9cdb336a",
   "metadata": {
    "ExecuteTime": {
     "end_time": "2023-08-31T18:58:01.917902Z",
     "start_time": "2023-08-31T18:58:01.907866Z"
    }
   },
   "outputs": [
    {
     "data": {
      "text/html": [
       "<div>\n",
       "<style scoped>\n",
       "    .dataframe tbody tr th:only-of-type {\n",
       "        vertical-align: middle;\n",
       "    }\n",
       "\n",
       "    .dataframe tbody tr th {\n",
       "        vertical-align: top;\n",
       "    }\n",
       "\n",
       "    .dataframe thead th {\n",
       "        text-align: right;\n",
       "    }\n",
       "</style>\n",
       "<table border=\"1\" class=\"dataframe\">\n",
       "  <thead>\n",
       "    <tr style=\"text-align: right;\">\n",
       "      <th></th>\n",
       "      <th>cobrame fluxes</th>\n",
       "      <th>coralme fluxes</th>\n",
       "    </tr>\n",
       "  </thead>\n",
       "  <tbody>\n",
       "    <tr>\n",
       "      <th>protein_biomass_to_biomass</th>\n",
       "      <td>3.294974e-01</td>\n",
       "      <td>3.243568e-01</td>\n",
       "    </tr>\n",
       "    <tr>\n",
       "      <th>mRNA_biomass_to_biomass</th>\n",
       "      <td>2.758172e-03</td>\n",
       "      <td>2.682268e-03</td>\n",
       "    </tr>\n",
       "    <tr>\n",
       "      <th>tRNA_biomass_to_biomass</th>\n",
       "      <td>1.674525e-02</td>\n",
       "      <td>1.628470e-02</td>\n",
       "    </tr>\n",
       "    <tr>\n",
       "      <th>rRNA_biomass_to_biomass</th>\n",
       "      <td>1.196234e-01</td>\n",
       "      <td>1.163320e-01</td>\n",
       "    </tr>\n",
       "    <tr>\n",
       "      <th>ncRNA_biomass_to_biomass</th>\n",
       "      <td>1.883306e-04</td>\n",
       "      <td>1.914105e-04</td>\n",
       "    </tr>\n",
       "    <tr>\n",
       "      <th>...</th>\n",
       "      <td>...</td>\n",
       "      <td>...</td>\n",
       "    </tr>\n",
       "    <tr>\n",
       "      <th>b2477_lipid_modification_pg120_p_pe160_p</th>\n",
       "      <td>3.730841e-06</td>\n",
       "      <td>3.560668e-06</td>\n",
       "    </tr>\n",
       "    <tr>\n",
       "      <th>b2595_lipid_modification_pg120_p_pe160_p</th>\n",
       "      <td>3.730841e-06</td>\n",
       "      <td>3.560668e-06</td>\n",
       "    </tr>\n",
       "    <tr>\n",
       "      <th>b2617_lipid_modification_pg120_p_pe160_p</th>\n",
       "      <td>3.730841e-06</td>\n",
       "      <td>3.560668e-06</td>\n",
       "    </tr>\n",
       "    <tr>\n",
       "      <th>b1677_lipid_modification_pg120_p_pe160_p</th>\n",
       "      <td>2.997369e-03</td>\n",
       "      <td>2.944603e-03</td>\n",
       "    </tr>\n",
       "    <tr>\n",
       "      <th>b1209_lipid_modification_pg120_p_pe160_p</th>\n",
       "      <td>7.749317e-07</td>\n",
       "      <td>7.477790e-07</td>\n",
       "    </tr>\n",
       "  </tbody>\n",
       "</table>\n",
       "<p>2232 rows × 2 columns</p>\n",
       "</div>"
      ],
      "text/plain": [
       "                                          cobrame fluxes  coralme fluxes\n",
       "protein_biomass_to_biomass                  3.294974e-01    3.243568e-01\n",
       "mRNA_biomass_to_biomass                     2.758172e-03    2.682268e-03\n",
       "tRNA_biomass_to_biomass                     1.674525e-02    1.628470e-02\n",
       "rRNA_biomass_to_biomass                     1.196234e-01    1.163320e-01\n",
       "ncRNA_biomass_to_biomass                    1.883306e-04    1.914105e-04\n",
       "...                                                  ...             ...\n",
       "b2477_lipid_modification_pg120_p_pe160_p    3.730841e-06    3.560668e-06\n",
       "b2595_lipid_modification_pg120_p_pe160_p    3.730841e-06    3.560668e-06\n",
       "b2617_lipid_modification_pg120_p_pe160_p    3.730841e-06    3.560668e-06\n",
       "b1677_lipid_modification_pg120_p_pe160_p    2.997369e-03    2.944603e-03\n",
       "b1209_lipid_modification_pg120_p_pe160_p    7.749317e-07    7.477790e-07\n",
       "\n",
       "[2232 rows x 2 columns]"
      ]
     },
     "execution_count": 14,
     "metadata": {},
     "output_type": "execute_result"
    }
   ],
   "source": [
    "non_zero_fluxes[abs(non_zero_fluxes['cobrame fluxes'] - non_zero_fluxes['coralme fluxes']) < 0.01] # 2232"
   ]
  },
  {
   "cell_type": "code",
   "execution_count": 15,
   "id": "e4e98d18",
   "metadata": {
    "ExecuteTime": {
     "end_time": "2023-08-31T18:58:02.859179Z",
     "start_time": "2023-08-31T18:58:01.919265Z"
    }
   },
   "outputs": [
    {
     "data": {
      "image/png": "[encoded data removed]",
      "text/plain": [
       "<Figure size 600x450 with 1 Axes>"
      ]
     },
     "metadata": {},
     "output_type": "display_data"
    }
   ],
   "source": [
    "import seaborn\n",
    "\n",
    "palette = seaborn.color_palette('colorblind', 10)\n",
    "\n",
    "# concatenation will align reaction names\n",
    "tmp = pandas.concat([source['cobrame fluxes'], target['coralme fluxes']], axis = 1).dropna(how = 'any')\n",
    "\n",
    "# plot non-zero fluxes only\n",
    "tmp = tmp[(tmp['cobrame fluxes'] != 0) & (tmp['coralme fluxes'] != 0)]\n",
    "fig, ax = plt.subplots(1, 1, figsize = (4*1.5, 3*1.5), dpi = 100)\n",
    "\n",
    "tmp3 = tmp.apply(abs).apply(np.log)\n",
    "tmp3['delta'] = tmp3['cobrame fluxes'] - tmp3['coralme fluxes']\n",
    "\n",
    "tmp3[abs(tmp3['delta']) < 0.1].plot(kind = 'scatter', x = 0, y = 1, ax = ax, alpha = .1, s = 1.)\n",
    "\n",
    "tmp3[(abs(tmp3['delta']) >= 0.1) & tmp3.index.str.contains('_REV_|_FWD_') & \n",
    "     ~tmp3.index.str.contains('dummy_reaction_FWD_SPONT')]\\\n",
    ".plot(kind = 'scatter', x = 0, y = 1, ax = ax, s = 7.5, color = palette[7], label = 'Metabolic')\n",
    "tmp3[(abs(tmp3['delta']) >= 0.1) & tmp3.index.str.startswith('charging')]\\\n",
    ".plot(kind = 'scatter', x = 0, y = 1, ax = ax, s = 7.5, color = palette[1], label = 'tRNA Charging')\n",
    "tmp3[(abs(tmp3['delta']) >= 0.1) & tmp3.index.str.startswith('formation')]\\\n",
    ".plot(kind = 'scatter', x = 0, y = 1, ax = ax, s = 7.5, color = palette[2], label = 'Formation')\n",
    "tmp3[(abs(tmp3['delta']) >= 0.1) & tmp3.index.str.startswith('transcription')]\\\n",
    ".plot(kind = 'scatter', x = 0, y = 1, ax = ax, s = 7.5, color = palette[3], label = 'Transcription')\n",
    "tmp3[(abs(tmp3['delta']) >= 0.1) & tmp3.index.str.startswith('translation')]\\\n",
    ".plot(kind = 'scatter', x = 0, y = 1, ax = ax, s = 7.5, color = palette[4], label = 'Translation')\n",
    "tmp3[(abs(tmp3['delta']) >= 0.1) & tmp3.index.str.startswith('translocation')]\\\n",
    ".plot(kind = 'scatter', x = 0, y = 1, ax = ax, s = 7.5, color = palette[5], label = 'Translocation')\n",
    "tmp3[(abs(tmp3['delta']) >= 0.1) & tmp3.index.str.startswith('DM_RNA')]\\\n",
    ".plot(kind = 'scatter', x = 0, y = 1, ax = ax, s = 7.5, color = palette[6], label = 'Demand of RNAs')\n",
    "\n",
    "plt.text(-10, -20, '$R^2$ = {:f}'.format(res3[2]**2))\n",
    "plt.text(-10, -22.5, 'm = {:f}'.format(res3[0]))\n",
    "plt.text(-10, -25, 'b = {:f}'.format(res3[1]))\n",
    "    \n",
    "plt.xlim(-36, 6)\n",
    "plt.ylim(-36, 6)\n",
    "\n",
    "ax.set_xlabel(r'COBRAme (log$_{10}$)')\n",
    "ax.set_ylabel(r'coralME (log$_{10}$)')\n",
    "\n",
    "seaborn.despine()\n",
    "\n",
    "plt.savefig('figures/flux_comparison_linear_regression_log10_outliers.svg',format='SVG')"
   ]
  },
  {
   "cell_type": "code",
   "execution_count": 16,
   "id": "9889a3ae",
   "metadata": {
    "ExecuteTime": {
     "end_time": "2023-08-31T18:58:02.874584Z",
     "start_time": "2023-08-31T18:58:02.860732Z"
    }
   },
   "outputs": [
    {
     "data": {
      "text/plain": [
       "130"
      ]
     },
     "execution_count": 16,
     "metadata": {},
     "output_type": "execute_result"
    }
   ],
   "source": [
    "tmp3[(abs(tmp3['delta']) >= 0.1) & tmp3.index.str.contains('_REV_|_FWD_') & \n",
    "     ~tmp3.index.str.contains('dummy_reaction_FWD_SPONT')].shape[0] + \\\n",
    "tmp3[(abs(tmp3['delta']) >= 0.1) & tmp3.index.str.startswith('charging')].shape[0] + \\\n",
    "tmp3[(abs(tmp3['delta']) >= 0.1) & tmp3.index.str.startswith('formation')].shape[0] + \\\n",
    "tmp3[(abs(tmp3['delta']) >= 0.1) & tmp3.index.str.startswith('transcription')].shape[0] + \\\n",
    "tmp3[(abs(tmp3['delta']) >= 0.1) & tmp3.index.str.startswith('translation')].shape[0] + \\\n",
    "tmp3[(abs(tmp3['delta']) >= 0.1) & tmp3.index.str.startswith('translocation')].shape[0] + \\\n",
    "tmp3[(abs(tmp3['delta']) >= 0.1) & tmp3.index.str.startswith('DM_RNA')].shape[0]"
   ]
  },
  {
   "cell_type": "code",
   "execution_count": 17,
   "id": "dbdf334a",
   "metadata": {
    "ExecuteTime": {
     "end_time": "2023-08-31T18:58:02.879767Z",
     "start_time": "2023-08-31T18:58:02.876072Z"
    }
   },
   "outputs": [],
   "source": [
    "tmp['log cobrame fluxes'] = tmp['cobrame fluxes'].apply(np.log10)\n",
    "tmp['log coralme fluxes'] = tmp['coralme fluxes'].apply(np.log10)"
   ]
  },
  {
   "cell_type": "code",
   "execution_count": 18,
   "id": "423e8ea1",
   "metadata": {
    "ExecuteTime": {
     "end_time": "2023-08-31T18:58:03.597901Z",
     "start_time": "2023-08-31T18:58:02.881109Z"
    }
   },
   "outputs": [
    {
     "data": {
      "image/png": "[encoded data removed]",
      "text/plain": [
       "<Figure size 600x450 with 1 Axes>"
      ]
     },
     "metadata": {},
     "output_type": "display_data"
    }
   ],
   "source": [
    "fig, ax = plt.subplots(1, 1, figsize = (4*1.5, 3*1.5), dpi = 100)\n",
    "seaborn.histplot(\n",
    "    tmp[['log cobrame fluxes', 'log coralme fluxes']], ax = ax, \n",
    "    multiple=\"dodge\", shrink=.8, binrange = (-15, +2.5), binwidth = .5)#, element=\"step\", fill=False, kde = True)\n",
    "\n",
    "ax.set_xlabel(r'log$_{10}$ flux')\n",
    "ax.set_ylabel('Number of reactions')\n",
    "ax.set_ylim(0, 250)\n",
    "\n",
    "seaborn.despine()\n",
    "\n",
    "plt.savefig('figures/flux_comparison_histogram.svg',format='SVG')"
   ]
  },
  {
   "cell_type": "code",
   "execution_count": 19,
   "id": "1fe558ea",
   "metadata": {
    "ExecuteTime": {
     "end_time": "2023-08-31T18:58:03.609967Z",
     "start_time": "2023-08-31T18:58:03.599122Z"
    }
   },
   "outputs": [
    {
     "data": {
      "text/html": [
       "<div>\n",
       "<style scoped>\n",
       "    .dataframe tbody tr th:only-of-type {\n",
       "        vertical-align: middle;\n",
       "    }\n",
       "\n",
       "    .dataframe tbody tr th {\n",
       "        vertical-align: top;\n",
       "    }\n",
       "\n",
       "    .dataframe thead th {\n",
       "        text-align: right;\n",
       "    }\n",
       "</style>\n",
       "<table border=\"1\" class=\"dataframe\">\n",
       "  <thead>\n",
       "    <tr style=\"text-align: right;\">\n",
       "      <th></th>\n",
       "      <th>cobrame fluxes</th>\n",
       "      <th>coralme fluxes</th>\n",
       "      <th>log cobrame fluxes</th>\n",
       "      <th>log coralme fluxes</th>\n",
       "      <th>FC</th>\n",
       "      <th>log2FC</th>\n",
       "    </tr>\n",
       "  </thead>\n",
       "  <tbody>\n",
       "    <tr>\n",
       "      <th>formation_DEOD-CPLX</th>\n",
       "      <td>4.222186e-07</td>\n",
       "      <td>2.775781e-08</td>\n",
       "      <td>-6.374463</td>\n",
       "      <td>-7.556615</td>\n",
       "      <td>0.065743</td>\n",
       "      <td>-3.927025</td>\n",
       "    </tr>\n",
       "    <tr>\n",
       "      <th>translation_b4384</th>\n",
       "      <td>2.533311e-06</td>\n",
       "      <td>1.665468e-07</td>\n",
       "      <td>-5.596311</td>\n",
       "      <td>-6.778464</td>\n",
       "      <td>0.065743</td>\n",
       "      <td>-3.927025</td>\n",
       "    </tr>\n",
       "    <tr>\n",
       "      <th>transcription_TU0_6646_with_TERM88_from_RpoD_mono</th>\n",
       "      <td>2.381595e-08</td>\n",
       "      <td>1.572848e-09</td>\n",
       "      <td>-7.623132</td>\n",
       "      <td>-8.803313</td>\n",
       "      <td>0.066042</td>\n",
       "      <td>-3.920477</td>\n",
       "    </tr>\n",
       "    <tr>\n",
       "      <th>DM_RNA_b4383</th>\n",
       "      <td>2.381600e-08</td>\n",
       "      <td>1.572898e-09</td>\n",
       "      <td>-7.623131</td>\n",
       "      <td>-8.803300</td>\n",
       "      <td>0.066044</td>\n",
       "      <td>-3.920435</td>\n",
       "    </tr>\n",
       "    <tr>\n",
       "      <th>charging_tRNA_b3277_AUC</th>\n",
       "      <td>1.428565e-01</td>\n",
       "      <td>2.397347e-02</td>\n",
       "      <td>-0.845100</td>\n",
       "      <td>-1.620269</td>\n",
       "      <td>0.167815</td>\n",
       "      <td>-2.575056</td>\n",
       "    </tr>\n",
       "    <tr>\n",
       "      <th>...</th>\n",
       "      <td>...</td>\n",
       "      <td>...</td>\n",
       "      <td>...</td>\n",
       "      <td>...</td>\n",
       "      <td>...</td>\n",
       "      <td>...</td>\n",
       "    </tr>\n",
       "    <tr>\n",
       "      <th>translation_b2891</th>\n",
       "      <td>2.569760e-09</td>\n",
       "      <td>6.675885e-08</td>\n",
       "      <td>-8.590107</td>\n",
       "      <td>-7.175491</td>\n",
       "      <td>25.978626</td>\n",
       "      <td>4.699253</td>\n",
       "    </tr>\n",
       "    <tr>\n",
       "      <th>formation_PrfB_mono</th>\n",
       "      <td>2.569760e-09</td>\n",
       "      <td>6.675885e-08</td>\n",
       "      <td>-8.590107</td>\n",
       "      <td>-7.175491</td>\n",
       "      <td>25.978626</td>\n",
       "      <td>4.699253</td>\n",
       "    </tr>\n",
       "    <tr>\n",
       "      <th>transcription_TU00324_from_RpoD_mono</th>\n",
       "      <td>2.415866e-11</td>\n",
       "      <td>6.304823e-10</td>\n",
       "      <td>-10.616927</td>\n",
       "      <td>-9.200327</td>\n",
       "      <td>26.097563</td>\n",
       "      <td>4.705843</td>\n",
       "    </tr>\n",
       "    <tr>\n",
       "      <th>DM_RNA_b1210</th>\n",
       "      <td>6.946195e-13</td>\n",
       "      <td>1.997699e-11</td>\n",
       "      <td>-12.158253</td>\n",
       "      <td>-10.699470</td>\n",
       "      <td>28.759625</td>\n",
       "      <td>4.845973</td>\n",
       "    </tr>\n",
       "    <tr>\n",
       "      <th>transcription_TU0_14216_from_RpoD_mono</th>\n",
       "      <td>7.022280e-14</td>\n",
       "      <td>5.289477e-12</td>\n",
       "      <td>-13.153522</td>\n",
       "      <td>-11.276587</td>\n",
       "      <td>75.324211</td>\n",
       "      <td>6.235042</td>\n",
       "    </tr>\n",
       "  </tbody>\n",
       "</table>\n",
       "<p>2323 rows × 6 columns</p>\n",
       "</div>"
      ],
      "text/plain": [
       "                                                   cobrame fluxes  \\\n",
       "formation_DEOD-CPLX                                  4.222186e-07   \n",
       "translation_b4384                                    2.533311e-06   \n",
       "transcription_TU0_6646_with_TERM88_from_RpoD_mono    2.381595e-08   \n",
       "DM_RNA_b4383                                         2.381600e-08   \n",
       "charging_tRNA_b3277_AUC                              1.428565e-01   \n",
       "...                                                           ...   \n",
       "translation_b2891                                    2.569760e-09   \n",
       "formation_PrfB_mono                                  2.569760e-09   \n",
       "transcription_TU00324_from_RpoD_mono                 2.415866e-11   \n",
       "DM_RNA_b1210                                         6.946195e-13   \n",
       "transcription_TU0_14216_from_RpoD_mono               7.022280e-14   \n",
       "\n",
       "                                                   coralme fluxes  \\\n",
       "formation_DEOD-CPLX                                  2.775781e-08   \n",
       "translation_b4384                                    1.665468e-07   \n",
       "transcription_TU0_6646_with_TERM88_from_RpoD_mono    1.572848e-09   \n",
       "DM_RNA_b4383                                         1.572898e-09   \n",
       "charging_tRNA_b3277_AUC                              2.397347e-02   \n",
       "...                                                           ...   \n",
       "translation_b2891                                    6.675885e-08   \n",
       "formation_PrfB_mono                                  6.675885e-08   \n",
       "transcription_TU00324_from_RpoD_mono                 6.304823e-10   \n",
       "DM_RNA_b1210                                         1.997699e-11   \n",
       "transcription_TU0_14216_from_RpoD_mono               5.289477e-12   \n",
       "\n",
       "                                                   log cobrame fluxes  \\\n",
       "formation_DEOD-CPLX                                         -6.374463   \n",
       "translation_b4384                                           -5.596311   \n",
       "transcription_TU0_6646_with_TERM88_from_RpoD_mono           -7.623132   \n",
       "DM_RNA_b4383                                                -7.623131   \n",
       "charging_tRNA_b3277_AUC                                     -0.845100   \n",
       "...                                                               ...   \n",
       "translation_b2891                                           -8.590107   \n",
       "formation_PrfB_mono                                         -8.590107   \n",
       "transcription_TU00324_from_RpoD_mono                       -10.616927   \n",
       "DM_RNA_b1210                                               -12.158253   \n",
       "transcription_TU0_14216_from_RpoD_mono                     -13.153522   \n",
       "\n",
       "                                                   log coralme fluxes  \\\n",
       "formation_DEOD-CPLX                                         -7.556615   \n",
       "translation_b4384                                           -6.778464   \n",
       "transcription_TU0_6646_with_TERM88_from_RpoD_mono           -8.803313   \n",
       "DM_RNA_b4383                                                -8.803300   \n",
       "charging_tRNA_b3277_AUC                                     -1.620269   \n",
       "...                                                               ...   \n",
       "translation_b2891                                           -7.175491   \n",
       "formation_PrfB_mono                                         -7.175491   \n",
       "transcription_TU00324_from_RpoD_mono                        -9.200327   \n",
       "DM_RNA_b1210                                               -10.699470   \n",
       "transcription_TU0_14216_from_RpoD_mono                     -11.276587   \n",
       "\n",
       "                                                          FC    log2FC  \n",
       "formation_DEOD-CPLX                                 0.065743 -3.927025  \n",
       "translation_b4384                                   0.065743 -3.927025  \n",
       "transcription_TU0_6646_with_TERM88_from_RpoD_mono   0.066042 -3.920477  \n",
       "DM_RNA_b4383                                        0.066044 -3.920435  \n",
       "charging_tRNA_b3277_AUC                             0.167815 -2.575056  \n",
       "...                                                      ...       ...  \n",
       "translation_b2891                                  25.978626  4.699253  \n",
       "formation_PrfB_mono                                25.978626  4.699253  \n",
       "transcription_TU00324_from_RpoD_mono               26.097563  4.705843  \n",
       "DM_RNA_b1210                                       28.759625  4.845973  \n",
       "transcription_TU0_14216_from_RpoD_mono             75.324211  6.235042  \n",
       "\n",
       "[2323 rows x 6 columns]"
      ]
     },
     "execution_count": 19,
     "metadata": {},
     "output_type": "execute_result"
    }
   ],
   "source": [
    "tmp['FC'] = tmp['coralme fluxes'] / tmp['cobrame fluxes']\n",
    "tmp['log2FC'] = np.log2(tmp['FC'])\n",
    "tmp['log2FC'].min(), tmp['log2FC'].max() # (-1.1817633001001462, 1.8772849979992727)\n",
    "tmp.sort_values('log2FC')"
   ]
  },
  {
   "cell_type": "code",
   "execution_count": 20,
   "id": "a23ac495",
   "metadata": {
    "ExecuteTime": {
     "end_time": "2023-08-31T18:58:03.625814Z",
     "start_time": "2023-08-31T18:58:03.611188Z"
    }
   },
   "outputs": [
    {
     "data": {
      "text/plain": [
       "lower limit      -9.000000\n",
       "count          2307.000000\n",
       "relative        100.000000\n",
       "cumsum          492.587776\n",
       "dtype: float64"
      ]
     },
     "execution_count": 20,
     "metadata": {},
     "output_type": "execute_result"
    }
   ],
   "source": [
    "ranges = [ int('{:d}'.format(x)) for x in range(-5, +5) ]\n",
    "# ranges\n",
    "\n",
    "counts = []\n",
    "for idx, limit in enumerate(ranges[:-1]):\n",
    "    counts.append([limit, tmp['log2FC'].between(ranges[idx], ranges[idx+1]).sum()])\n",
    "    \n",
    "df = pandas.DataFrame(counts, columns = ['lower limit', 'count'])\n",
    "df['relative'] = df['count'] / df['count'].sum() * 100\n",
    "df['cumsum'] = df['relative'].cumsum()\n",
    "df['count'].sum()\n",
    "df.sum()"
   ]
  },
  {
   "cell_type": "code",
   "execution_count": 21,
   "id": "f4d11948",
   "metadata": {
    "ExecuteTime": {
     "end_time": "2023-08-31T18:58:03.885395Z",
     "start_time": "2023-08-31T18:58:03.627122Z"
    }
   },
   "outputs": [
    {
     "data": {
      "image/png": "[encoded data removed]",
      "text/plain": [
       "<Figure size 600x450 with 2 Axes>"
      ]
     },
     "metadata": {},
     "output_type": "display_data"
    }
   ],
   "source": [
    "seaborn.set_palette('colorblind')\n",
    "\n",
    "fig, ax1 = plt.subplots(1, 1, figsize = (4*1.5, 3*1.5), dpi = 100)\n",
    "plots = seaborn.barplot(data = df, x = 'lower limit', y = 'count', palette = seaborn.color_palette('colorblind', 1))\n",
    "\n",
    "for bar in plots.patches[1:-1]:\n",
    "    plots.annotate(format(bar.get_height(), '.0f'), \n",
    "                   (bar.get_x() + bar.get_width() / 2, bar.get_height()), \n",
    "                   ha = 'center', va = 'center', xytext = (0, 8), textcoords = 'offset points')\n",
    "\n",
    "ax1.set_xticklabels(ax1.get_xticklabels())#, rotation = 90)\n",
    "ax1.set_ylim(0, 2500.4)\n",
    "ax1.set_xlabel('Fold change ($log_{2}$)')\n",
    "ax1.set_ylabel('Number of reactions')\n",
    "ax1.set_xticks([ x-0.5 for x in range(0, 10) ], [ int('{:d}'.format(x)) for x in range(-5, +5) ])\n",
    "# ax1.set_yscale('log')\n",
    "\n",
    "ax2 = ax1.twinx()\n",
    "ax2.plot(df['cumsum'], c = 'red')\n",
    "ax2.set_ylim(0, 100.1)\n",
    "ax2.set_ylabel('Cumulative percentage of reactions', rotation = 270)\n",
    "\n",
    "seaborn.despine(right = False)\n",
    "\n",
    "plt.savefig('figures/flux_comparison_histogram_log2foldchange.svg',format='SVG')"
   ]
  },
  {
   "cell_type": "code",
   "execution_count": 22,
   "id": "70627e80",
   "metadata": {
    "ExecuteTime": {
     "end_time": "2023-08-31T18:58:03.891285Z",
     "start_time": "2023-08-31T18:58:03.887260Z"
    }
   },
   "outputs": [
    {
     "data": {
      "text/plain": [
       "0.8186273574829102"
      ]
     },
     "execution_count": 22,
     "metadata": {},
     "output_type": "execute_result"
    }
   ],
   "source": [
    "# Maximum growth rate (Supplementary Table S1)\n",
    "sol.loc['biomass_dilution']"
   ]
  },
  {
   "cell_type": "code",
   "execution_count": 23,
   "id": "6dd4f45e",
   "metadata": {
    "ExecuteTime": {
     "end_time": "2023-08-31T18:58:03.897716Z",
     "start_time": "2023-08-31T18:58:03.892944Z"
    }
   },
   "outputs": [
    {
     "data": {
      "text/plain": [
       "9.862705551525972e-07"
      ]
     },
     "execution_count": 23,
     "metadata": {},
     "output_type": "execute_result"
    }
   ],
   "source": [
    "# Regeneration of the LipA accessory iron-sulfur cluster (Supplementary Table S1)\n",
    "sol.loc['CPLX0-782_mod_4fe4s(2)_regeneration_FWD_SPONT']"
   ]
  },
  {
   "cell_type": "code",
   "execution_count": 24,
   "id": "91dbe30b",
   "metadata": {
    "ExecuteTime": {
     "end_time": "2023-08-31T18:58:03.903505Z",
     "start_time": "2023-08-31T18:58:03.898998Z"
    }
   },
   "outputs": [
    {
     "data": {
      "text/plain": [
       "3.433783854820657e-07"
      ]
     },
     "execution_count": 24,
     "metadata": {},
     "output_type": "execute_result"
    }
   ],
   "source": [
    "# Lipoyl biosynthesis (Supplementary Table S1)\n",
    "sol.loc['formation_2OXOGLUTARATEDEH-CPLX_mod_mg2(1)_mod_lipoyl(1)_lipoyl_denovo_corrected']"
   ]
  },
  {
   "cell_type": "code",
   "execution_count": 25,
   "id": "cac57ba6",
   "metadata": {
    "ExecuteTime": {
     "end_time": "2023-08-31T18:58:03.908712Z",
     "start_time": "2023-08-31T18:58:03.904865Z"
    }
   },
   "outputs": [
    {
     "data": {
      "text/plain": [
       "6.428921696705315e-07"
      ]
     },
     "execution_count": 25,
     "metadata": {},
     "output_type": "execute_result"
    }
   ],
   "source": [
    "# Lipoyl biosynthesis (Supplementary Table S1)\n",
    "sol.loc['formation_PYRUVATEDEH-CPLX_mod_mg2(1)_mod_fad(1)_mod_thmpp(1)_mod_lipoyl(1)_lipoyl_denovo_corrected']"
   ]
  },
  {
   "cell_type": "code",
   "execution_count": 26,
   "id": "cf41c821",
   "metadata": {
    "ExecuteTime": {
     "end_time": "2023-08-31T18:58:03.914555Z",
     "start_time": "2023-08-31T18:58:03.910094Z"
    }
   },
   "outputs": [
    {
     "data": {
      "text/plain": [
       "9.564605535745636e-11"
      ]
     },
     "execution_count": 26,
     "metadata": {},
     "output_type": "execute_result"
    }
   ],
   "source": [
    "# Dipyrromethane (DPM) biosynthesis (Supplementary Table S1)\n",
    "sol.loc['DPM_FWD_CPLX_dummy']"
   ]
  },
  {
   "cell_type": "code",
   "execution_count": 27,
   "id": "b41edcea",
   "metadata": {
    "ExecuteTime": {
     "end_time": "2023-08-31T18:58:03.920076Z",
     "start_time": "2023-08-31T18:58:03.916079Z"
    }
   },
   "outputs": [
    {
     "data": {
      "text/plain": [
       "2.970963829622795e-06"
      ]
     },
     "execution_count": 27,
     "metadata": {},
     "output_type": "execute_result"
    }
   ],
   "source": [
    "# holo-ACP biosynthesis (Supplementary Table S1)\n",
    "sol.loc['formation_EG50003-MONOMER_mod_pan4p(1)']"
   ]
  }
 ],
 "metadata": {
  "kernelspec": {
   "display_name": "coralme",
   "language": "python",
   "name": "coralme"
  },
  "language_info": {
   "codemirror_mode": {
    "name": "ipython",
    "version": 3
   },
   "file_extension": ".py",
   "mimetype": "text/x-python",
   "name": "python",
   "nbconvert_exporter": "python",
   "pygments_lexer": "ipython3",
   "version": "3.10.12"
  }
 },
 "nbformat": 4,
 "nbformat_minor": 5
}
