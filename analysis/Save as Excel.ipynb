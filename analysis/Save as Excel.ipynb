{
 "cells": [
  {
   "cell_type": "code",
   "execution_count": 5,
   "id": "75010920-f8cb-49f7-8d7d-e24b22df775f",
   "metadata": {},
   "outputs": [],
   "source": [
    "import pandas\n",
    "import os\n",
    "import json"
   ]
  },
  {
   "cell_type": "code",
   "execution_count": 6,
   "id": "4df85e67-53ab-493c-b0a5-87ab858520fb",
   "metadata": {},
   "outputs": [],
   "source": [
    "with open('../names.json') as f:\n",
    "    names = json.load(f)"
   ]
  },
  {
   "cell_type": "code",
   "execution_count": 7,
   "id": "d7aab326-5d4b-4a78-b23b-7eb750f45e5f",
   "metadata": {},
   "outputs": [],
   "source": [
    "results_dict = {}\n",
    "directory = \"./10steps/\"\n",
    "for file in os.listdir(directory):\n",
    "    if \".csv\" not in file: continue\n",
    "    results_dict[file.split(\"_C_\")[0]] = pandas.read_csv(directory + file,index_col=0)\n",
    "\n",
    "results_dict = {names[k]:v for k,v in results_dict.items()}"
   ]
  },
  {
   "cell_type": "code",
   "execution_count": 8,
   "id": "ac51b5ff-abed-4b76-a80b-599cade4b0da",
   "metadata": {},
   "outputs": [],
   "source": [
    "with pandas.ExcelWriter(\"Simulations.xlsx\") as writer:\n",
    "    for k,df in results_dict.items():\n",
    "        df.to_excel(writer, sheet_name=k, index=True)"
   ]
  }
 ],
 "metadata": {
  "kernelspec": {
   "display_name": "coralme",
   "language": "python",
   "name": "coralme"
  },
  "language_info": {
   "codemirror_mode": {
    "name": "ipython",
    "version": 3
   },
   "file_extension": ".py",
   "mimetype": "text/x-python",
   "name": "python",
   "nbconvert_exporter": "python",
   "pygments_lexer": "ipython3",
   "version": "3.10.12"
  }
 },
 "nbformat": 4,
 "nbformat_minor": 5
}
