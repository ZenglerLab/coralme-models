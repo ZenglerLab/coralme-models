{
 "cells": [
  {
   "cell_type": "markdown",
   "id": "ecccba1b",
   "metadata": {},
   "source": [
    "# GAM requirements in iJL1678b-ME\n",
    "\n",
    "Code for reproducing panels Figure 2d"
   ]
  },
  {
   "cell_type": "markdown",
   "id": "62e7479f",
   "metadata": {},
   "source": [
    "## Setup environment"
   ]
  },
  {
   "cell_type": "code",
   "execution_count": 1,
   "id": "f9519e52",
   "metadata": {
    "ExecuteTime": {
     "end_time": "2023-08-31T17:39:39.410766Z",
     "start_time": "2023-08-31T17:39:37.925027Z"
    },
    "execution": {
     "iopub.execute_input": "2023-05-26T07:31:54.921881Z",
     "iopub.status.busy": "2023-05-26T07:31:54.921168Z",
     "iopub.status.idle": "2023-05-26T07:31:55.879317Z",
     "shell.execute_reply": "2023-05-26T07:31:55.878853Z"
    }
   },
   "outputs": [],
   "source": [
    "import coralme\n",
    "from coralme.builder.helper_functions import *\n",
    "import pickle\n",
    "import pandas\n",
    "import os\n",
    "import tqdm\n",
    "import json\n",
    "import matplotlib.pyplot as plt\n",
    "import numpy as np\n",
    "import sympy\n",
    "pandas.set_option('display.max_colwidth', None)\n",
    "plt.rcParams['svg.fonttype'] = 'none'"
   ]
  },
  {
   "cell_type": "code",
   "execution_count": 2,
   "id": "e63729a8",
   "metadata": {
    "ExecuteTime": {
     "end_time": "2023-08-31T17:45:40.688982Z",
     "start_time": "2023-08-31T17:39:39.412453Z"
    },
    "execution": {
     "iopub.execute_input": "2023-05-26T07:31:55.902540Z",
     "iopub.status.busy": "2023-05-26T07:31:55.902404Z",
     "iopub.status.idle": "2023-05-26T07:37:34.944085Z",
     "shell.execute_reply": "2023-05-26T07:37:34.943610Z"
    }
   },
   "outputs": [
    {
     "name": "stdout",
     "output_type": "stream",
     "text": [
      "Set parameter Username\n",
      "Academic license - for non-commercial use only - expires 2024-04-01\n",
      "Read LP format model from file /tmp/tmp18e3m_qs.lp\n",
      "Reading time = 0.00 seconds\n",
      ": 0 rows, 0 columns, 0 nonzeros\n",
      "Read LP format model from file /tmp/tmp8o8eslx_.lp\n",
      "Reading time = 0.01 seconds\n",
      ": 1660 rows, 4754 columns, 17902 nonzeros\n",
      "Read LP format model from file /tmp/tmp1b9ep32l.lp\n",
      "Reading time = 0.01 seconds\n",
      ": 1810 rows, 5220 columns, 17878 nonzeros\n",
      "The MINOS and quad MINOS solvers are a courtesy of Prof Michael A. Saunders. Please cite Ma, D., Yang, L., Fleming, R. et al. Reliable and efficient solution of genome-scale models of Metabolism and macromolecular Expression. Sci Rep 7, 40863 (2017). https://doi.org/10.1038/srep40863\n",
      "\n",
      "Iteration\t Solution to check\tSolver Status\n",
      "---------\t------------------\t-------------\n",
      "        1\t0.5000000000000000\tOptimal\n",
      "        2\t0.7500000000000000\tOptimal\n",
      "        3\t0.8750000000000000\tNot feasible\n",
      "        4\t0.8125000000000000\tOptimal\n",
      "        5\t0.8437500000000000\tNot feasible\n",
      "        6\t0.8281250000000000\tNot feasible\n",
      "        7\t0.8203125000000000\tNot feasible\n",
      "        8\t0.8164062500000000\tOptimal\n",
      "        9\t0.8183593750000000\tOptimal\n",
      "       10\t0.8193359375000000\tNot feasible\n",
      "       11\t0.8188476562500000\tNot feasible\n",
      "       12\t0.8186035156250000\tOptimal\n",
      "       13\t0.8187255859375000\tNot feasible\n",
      "       14\t0.8186645507812500\tNot feasible\n",
      "       15\t0.8186340332031250\tNot feasible\n",
      "       16\t0.8186187744140625\tOptimal\n",
      "       17\t0.8186264038085938\tOptimal\n",
      "       18\t0.8186302185058594\tNot feasible\n",
      "       19\t0.8186283111572266\tNot feasible\n",
      "       20\t0.8186273574829102\tOptimal\n"
     ]
    },
    {
     "data": {
      "text/plain": [
       "True"
      ]
     },
     "execution_count": 2,
     "metadata": {},
     "output_type": "execute_result"
    }
   ],
   "source": [
    "import pickle, tqdm\n",
    "with open('./published/ecoli/MEModel-step2-ecoli.pkl', 'rb') as infile:\n",
    "    me = pickle.load(infile)\n",
    "    \n",
    "me.add_boundary(me.metabolites.li_c, type = 'sink');\n",
    "me.optimize(max_mu = 1.0, verbose = True)"
   ]
  },
  {
   "cell_type": "code",
   "execution_count": 3,
   "id": "7cb78e57",
   "metadata": {
    "ExecuteTime": {
     "end_time": "2023-08-31T17:46:29.223287Z",
     "start_time": "2023-08-31T17:45:40.690410Z"
    }
   },
   "outputs": [],
   "source": [
    "# construct the LP problem to accelerate feasibility checks\n",
    "lp = me.construct_lp_problem(lambdify = True)"
   ]
  },
  {
   "cell_type": "code",
   "execution_count": 4,
   "id": "bc806af7",
   "metadata": {
    "ExecuteTime": {
     "end_time": "2023-08-31T18:16:15.639752Z",
     "start_time": "2023-08-31T17:46:29.225312Z"
    },
    "execution": {
     "iopub.execute_input": "2023-05-26T07:37:34.946357Z",
     "iopub.status.busy": "2023-05-26T07:37:34.946021Z",
     "iopub.status.idle": "2023-05-26T10:29:52.304789Z",
     "shell.execute_reply": "2023-05-26T10:29:52.304225Z"
    },
    "scrolled": true
   },
   "outputs": [],
   "source": [
    "# 30min, 15 CPUs\n",
    "def get_feas(mu):\n",
    "    me.feasibility({ me.mu : mu }, **{'lp' : lp})\n",
    "    return me.solution\n",
    "\n",
    "opt = me.solution.objective_value\n",
    "mus = np.arange(0.01, opt-0.1, 0.01)\n",
    "\n",
    "import multiprocessing\n",
    "with multiprocessing.Pool(multiprocessing.cpu_count()-1) as pool:\n",
    "    fluxes = pool.map(get_feas, mus)"
   ]
  },
  {
   "cell_type": "code",
   "execution_count": 5,
   "id": "2282e6fe",
   "metadata": {
    "ExecuteTime": {
     "end_time": "2023-08-31T18:16:15.647697Z",
     "start_time": "2023-08-31T18:16:15.641482Z"
    },
    "execution": {
     "iopub.execute_input": "2023-05-26T10:29:52.306958Z",
     "iopub.status.busy": "2023-05-26T10:29:52.306765Z",
     "iopub.status.idle": "2023-05-26T10:29:52.336127Z",
     "shell.execute_reply": "2023-05-26T10:29:52.334100Z"
    }
   },
   "outputs": [],
   "source": [
    "types = set()\n",
    "for rxn in me.reactions:\n",
    "    types.add(type(rxn))\n",
    "types = sorted(types, key = lambda x: str(x))\n",
    "# types"
   ]
  },
  {
   "cell_type": "code",
   "execution_count": 6,
   "id": "119aa895",
   "metadata": {
    "ExecuteTime": {
     "end_time": "2023-08-31T18:18:47.731698Z",
     "start_time": "2023-08-31T18:16:15.649097Z"
    },
    "execution": {
     "iopub.execute_input": "2023-05-26T10:29:52.343147Z",
     "iopub.status.busy": "2023-05-26T10:29:52.342528Z",
     "iopub.status.idle": "2023-05-26T10:31:50.866308Z",
     "shell.execute_reply": "2023-05-26T10:31:50.865846Z"
    }
   },
   "outputs": [],
   "source": [
    "import coralme, sympy\n",
    "\n",
    "directly_modeled = {}\n",
    "\n",
    "def get_reactions(met, rxn_type):\n",
    "    value = sympy.Float(0)\n",
    "    reactions = []\n",
    "    \n",
    "    for rxn in met.reactions:\n",
    "        if isinstance(rxn, (rxn_type)) and rxn.metabolites[met] < 0:\n",
    "            reactions.append(rxn.id)\n",
    "            value += rxn.metabolites[met] * fluxes[idx][rxn.id]\n",
    "    \n",
    "    return value, reactions\n",
    "\n",
    "for rxn_type in types:\n",
    "    directly_modeled[rxn_type] = {}\n",
    "    for met in [ 'atp_c', 'utp_c', 'gtp_c', 'ctp_c', 'datp_c', 'dttp_c', 'dgtp_c', 'dctp_c', ]:\n",
    "        directly_modeled[rxn_type][met] = []\n",
    "        for idx, mu in enumerate(mus):\n",
    "            value, reactions = get_reactions(me.metabolites.get_by_id(met), rxn_type)\n",
    "            value = value.subs({ me.mu : me.solution.objective_value })\n",
    "            directly_modeled[rxn_type][met].append(value)\n",
    "            \n",
    "df_directly_modeled = pandas.DataFrame.from_dict(directly_modeled)"
   ]
  },
  {
   "cell_type": "code",
   "execution_count": 7,
   "id": "dafee474",
   "metadata": {
    "ExecuteTime": {
     "end_time": "2023-08-31T18:18:47.871458Z",
     "start_time": "2023-08-31T18:18:47.733140Z"
    },
    "execution": {
     "iopub.execute_input": "2023-05-26T10:31:50.986197Z",
     "iopub.status.busy": "2023-05-26T10:31:50.986045Z",
     "iopub.status.idle": "2023-05-26T10:31:51.013660Z",
     "shell.execute_reply": "2023-05-26T10:31:51.013148Z"
    }
   },
   "outputs": [],
   "source": [
    "from scipy.stats import linregress\n",
    "\n",
    "filter_out = [ \n",
    "    coralme.core.reaction.MEReaction, \n",
    "    coralme.core.reaction.MetabolicReaction,\n",
    "    coralme.core.reaction.GenericFormationReaction\n",
    "]\n",
    "\n",
    "slopes = df_directly_modeled.applymap(lambda x: linregress(mus, [ -1. * float(x) for x in x])[0])\n",
    "slopes = slopes.loc[:, ~slopes.columns.isin(filter_out)]\n",
    "\n",
    "slopes.columns = [\n",
    "    'Complex Formation', \n",
    "    'PostTranslation', \n",
    "    'Summary Variables', \n",
    "    'Transcription', \n",
    "    'Translation', \n",
    "    'tRNA Charging'\n",
    "]\n",
    "\n",
    "slopes.index = ['ATP', 'UTP', 'GTP', 'CTP', 'dATP', 'dTTP', 'dGTP', 'dCTP']\n",
    "slopes = slopes.replace(0, np.nan)"
   ]
  },
  {
   "cell_type": "code",
   "execution_count": 8,
   "id": "8684a717",
   "metadata": {
    "ExecuteTime": {
     "end_time": "2023-08-31T18:18:48.865603Z",
     "start_time": "2023-08-31T18:18:47.872765Z"
    },
    "execution": {
     "iopub.execute_input": "2023-05-26T10:31:51.017445Z",
     "iopub.status.busy": "2023-05-26T10:31:51.016118Z",
     "iopub.status.idle": "2023-05-26T10:31:52.161098Z",
     "shell.execute_reply": "2023-05-26T10:31:52.160737Z"
    },
    "scrolled": false
   },
   "outputs": [
    {
     "data": {
      "image/png": "[encoded data removed]",
      "text/plain": [
       "<Figure size 400x450 with 2 Axes>"
      ]
     },
     "metadata": {},
     "output_type": "display_data"
    }
   ],
   "source": [
    "import seaborn\n",
    "\n",
    "fig, ax = plt.subplots(1, 1, figsize = (4*1, 3*1.5), dpi = 100)\n",
    "\n",
    "cg = seaborn.heatmap(\n",
    "    slopes.T[['ATP', 'UTP', 'GTP', 'CTP']], \n",
    "    annot = True, cmap = 'Blues', vmax = 1., ax = ax,\n",
    "    cbar_kws = {'label': 'Flux ($mmol / gDCW / h$)'})\n",
    "\n",
    "plt.savefig('figures/GAM_calculation.svg',format='SVG')"
   ]
  },
  {
   "cell_type": "code",
   "execution_count": 11,
   "id": "6adc5a8f",
   "metadata": {
    "ExecuteTime": {
     "end_time": "2023-08-31T18:25:17.134048Z",
     "start_time": "2023-08-31T18:25:17.130209Z"
    }
   },
   "outputs": [
    {
     "data": {
      "text/plain": [
       "17.09"
      ]
     },
     "execution_count": 11,
     "metadata": {},
     "output_type": "execute_result"
    }
   ],
   "source": [
    "np.round(slopes.loc['ATP', 'Translation'], 2) + np.round(slopes.loc['GTP', 'Translation'], 2)"
   ]
  },
  {
   "cell_type": "code",
   "execution_count": 10,
   "id": "e2d97574",
   "metadata": {
    "ExecuteTime": {
     "end_time": "2023-08-31T18:25:03.802598Z",
     "start_time": "2023-08-31T18:25:03.798228Z"
    }
   },
   "outputs": [
    {
     "data": {
      "text/plain": [
       "17.08632849027311"
      ]
     },
     "execution_count": 10,
     "metadata": {},
     "output_type": "execute_result"
    }
   ],
   "source": [
    "slopes.loc['ATP', 'Translation'] + slopes.loc['GTP', 'Translation']"
   ]
  }
 ],
 "metadata": {
  "kernelspec": {
   "display_name": "coralme",
   "language": "python",
   "name": "coralme"
  },
  "language_info": {
   "codemirror_mode": {
    "name": "ipython",
    "version": 3
   },
   "file_extension": ".py",
   "mimetype": "text/x-python",
   "name": "python",
   "nbconvert_exporter": "python",
   "pygments_lexer": "ipython3",
   "version": "3.10.12"
  }
 },
 "nbformat": 4,
 "nbformat_minor": 5
}
