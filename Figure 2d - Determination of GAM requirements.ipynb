{
 "cells": [
  {
   "cell_type": "markdown",
   "id": "ecccba1b",
   "metadata": {},
   "source": [
    "# GAM requirements in iJL1678b-ME\n",
    "\n",
    "Code for reproducing panels Figure 2d"
   ]
  },
  {
   "cell_type": "markdown",
   "id": "62e7479f",
   "metadata": {},
   "source": [
    "## Setup environment"
   ]
  },
  {
   "cell_type": "code",
   "execution_count": 1,
   "id": "f9519e52",
   "metadata": {
    "ExecuteTime": {
     "end_time": "2023-08-29T20:03:01.305539Z",
     "start_time": "2023-08-29T20:02:59.914814Z"
    },
    "execution": {
     "iopub.execute_input": "2023-05-26T07:31:54.921881Z",
     "iopub.status.busy": "2023-05-26T07:31:54.921168Z",
     "iopub.status.idle": "2023-05-26T07:31:55.879317Z",
     "shell.execute_reply": "2023-05-26T07:31:55.878853Z"
    }
   },
   "outputs": [],
   "source": [
    "import coralme\n",
    "from coralme.builder.helper_functions import *\n",
    "import pickle\n",
    "import pandas\n",
    "import os\n",
    "import tqdm\n",
    "import json\n",
    "import matplotlib.pyplot as plt\n",
    "import numpy as np\n",
    "import sympy\n",
    "pandas.set_option('display.max_colwidth', None)\n",
    "plt.rcParams['svg.fonttype'] = 'none'"
   ]
  },
  {
   "cell_type": "code",
   "execution_count": 2,
   "id": "e63729a8",
   "metadata": {
    "ExecuteTime": {
     "end_time": "2023-08-29T20:09:04.430369Z",
     "start_time": "2023-08-29T20:03:01.307290Z"
    },
    "execution": {
     "iopub.execute_input": "2023-05-26T07:31:55.902540Z",
     "iopub.status.busy": "2023-05-26T07:31:55.902404Z",
     "iopub.status.idle": "2023-05-26T07:37:34.944085Z",
     "shell.execute_reply": "2023-05-26T07:37:34.943610Z"
    }
   },
   "outputs": [
    {
     "name": "stdout",
     "output_type": "stream",
     "text": [
      "Set parameter Username\n",
      "Academic license - for non-commercial use only - expires 2024-04-01\n",
      "Read LP format model from file /tmp/tmpntyzdaj7.lp\n",
      "Reading time = 0.00 seconds\n",
      ": 0 rows, 0 columns, 0 nonzeros\n",
      "Read LP format model from file /tmp/tmpv5039tot.lp\n",
      "Reading time = 0.01 seconds\n",
      ": 1660 rows, 4754 columns, 17902 nonzeros\n",
      "Read LP format model from file /tmp/tmp4vl_tow1.lp\n",
      "Reading time = 0.01 seconds\n",
      ": 1810 rows, 5220 columns, 17878 nonzeros\n",
      "The MINOS and quad MINOS solvers are a courtesy of Prof Michael A. Saunders. Please cite Ma, D., Yang, L., Fleming, R. et al. Reliable and efficient solution of genome-scale models of Metabolism and macromolecular Expression. Sci Rep 7, 40863 (2017). https://doi.org/10.1038/srep40863\n",
      "\n"
     ]
    },
    {
     "data": {
      "text/plain": [
       "True"
      ]
     },
     "execution_count": 2,
     "metadata": {},
     "output_type": "execute_result"
    }
   ],
   "source": [
    "import pickle, tqdm\n",
    "with open('./published/ecoli/MEModel-step2-ecoli.pkl', 'rb') as infile:\n",
    "    me = pickle.load(infile)\n",
    "    \n",
    "me.add_boundary(me.metabolites.li_c, type = 'sink');\n",
    "me.optimize(max_mu = 1.0, verbose = True)"
   ]
  },
  {
   "cell_type": "code",
   "execution_count": 3,
   "id": "7cb78e57",
   "metadata": {
    "ExecuteTime": {
     "end_time": "2023-08-29T20:09:52.996131Z",
     "start_time": "2023-08-29T20:09:04.431934Z"
    }
   },
   "outputs": [],
   "source": [
    "# construct the LP problem to accelerate feasibility checks\n",
    "lp = me.construct_lp_problem(lambdify = True)"
   ]
  },
  {
   "cell_type": "code",
   "execution_count": 4,
   "id": "bc806af7",
   "metadata": {
    "ExecuteTime": {
     "end_time": "2023-08-29T20:10:03.047697Z",
     "start_time": "2023-08-29T20:09:52.998237Z"
    },
    "execution": {
     "iopub.execute_input": "2023-05-26T07:37:34.946357Z",
     "iopub.status.busy": "2023-05-26T07:37:34.946021Z",
     "iopub.status.idle": "2023-05-26T10:29:52.304789Z",
     "shell.execute_reply": "2023-05-26T10:29:52.304225Z"
    },
    "scrolled": true
   },
   "outputs": [
    {
     "ename": "KeyError",
     "evalue": "mu1",
     "output_type": "error",
     "traceback": [
      "\u001b[0;31m---------------------------------------------------------------------------\u001b[0m",
      "\u001b[0;31mRemoteTraceback\u001b[0m                           Traceback (most recent call last)",
      "\u001b[0;31mRemoteTraceback\u001b[0m: \n\"\"\"\nTraceback (most recent call last):\n  File \"/opt/python-3.10.12/lib/python3.10/multiprocessing/pool.py\", line 125, in worker\n    result = (True, func(*args, **kwds))\n  File \"/opt/python-3.10.12/lib/python3.10/multiprocessing/pool.py\", line 48, in mapstar\n    return list(map(*args))\n  File \"/tmp/ipykernel_192473/308831045.py\", line 3, in get_feas\n    me.feasibility({sympy.Symbol('mu', positive = True) : mu}, **{'lp' : lp})\n  File \"/home/glucksfall/Dropbox/dev/coralme.jdtibochab/coralme/core/model.py\", line 1520, in feasibility\n    Sf, Se, lb, ub = coralme.builder.helper_functions.evaluate_lp_problem(Sf, lambdas, lb, ub, keys, atoms)\n  File \"/home/glucksfall/Dropbox/dev/coralme.jdtibochab/coralme/builder/helper_functions.py\", line 789, in evaluate_lp_problem\n    lb = [ x(*[ keys[x] for x in list(atoms) ]) if hasattr(x, '__call__') else float(x.xreplace(keys)) if hasattr(x, 'subs') else x for x in lb ]\n  File \"/home/glucksfall/Dropbox/dev/coralme.jdtibochab/coralme/builder/helper_functions.py\", line 789, in <listcomp>\n    lb = [ x(*[ keys[x] for x in list(atoms) ]) if hasattr(x, '__call__') else float(x.xreplace(keys)) if hasattr(x, 'subs') else x for x in lb ]\n  File \"/home/glucksfall/Dropbox/dev/coralme.jdtibochab/coralme/builder/helper_functions.py\", line 789, in <listcomp>\n    lb = [ x(*[ keys[x] for x in list(atoms) ]) if hasattr(x, '__call__') else float(x.xreplace(keys)) if hasattr(x, 'subs') else x for x in lb ]\nKeyError: mu1\n\"\"\"",
      "\nThe above exception was the direct cause of the following exception:\n",
      "\u001b[0;31mKeyError\u001b[0m                                  Traceback (most recent call last)",
      "Input \u001b[0;32mIn [4]\u001b[0m, in \u001b[0;36m<cell line: 10>\u001b[0;34m()\u001b[0m\n\u001b[1;32m      9\u001b[0m \u001b[38;5;28;01mimport\u001b[39;00m \u001b[38;5;21;01mmultiprocessing\u001b[39;00m\n\u001b[1;32m     10\u001b[0m \u001b[38;5;28;01mwith\u001b[39;00m multiprocessing\u001b[38;5;241m.\u001b[39mPool(multiprocessing\u001b[38;5;241m.\u001b[39mcpu_count()\u001b[38;5;241m-\u001b[39m\u001b[38;5;241m1\u001b[39m) \u001b[38;5;28;01mas\u001b[39;00m pool:\n\u001b[0;32m---> 11\u001b[0m     fluxes \u001b[38;5;241m=\u001b[39m \u001b[43mpool\u001b[49m\u001b[38;5;241;43m.\u001b[39;49m\u001b[43mmap\u001b[49m\u001b[43m(\u001b[49m\u001b[43mget_feas\u001b[49m\u001b[43m,\u001b[49m\u001b[43m \u001b[49m\u001b[43mmus\u001b[49m\u001b[43m)\u001b[49m\n",
      "File \u001b[0;32m/opt/python-3.10.12/lib/python3.10/multiprocessing/pool.py:367\u001b[0m, in \u001b[0;36mPool.map\u001b[0;34m(self, func, iterable, chunksize)\u001b[0m\n\u001b[1;32m    362\u001b[0m \u001b[38;5;28;01mdef\u001b[39;00m \u001b[38;5;21mmap\u001b[39m(\u001b[38;5;28mself\u001b[39m, func, iterable, chunksize\u001b[38;5;241m=\u001b[39m\u001b[38;5;28;01mNone\u001b[39;00m):\n\u001b[1;32m    363\u001b[0m \u001b[38;5;250m    \u001b[39m\u001b[38;5;124;03m'''\u001b[39;00m\n\u001b[1;32m    364\u001b[0m \u001b[38;5;124;03m    Apply `func` to each element in `iterable`, collecting the results\u001b[39;00m\n\u001b[1;32m    365\u001b[0m \u001b[38;5;124;03m    in a list that is returned.\u001b[39;00m\n\u001b[1;32m    366\u001b[0m \u001b[38;5;124;03m    '''\u001b[39;00m\n\u001b[0;32m--> 367\u001b[0m     \u001b[38;5;28;01mreturn\u001b[39;00m \u001b[38;5;28;43mself\u001b[39;49m\u001b[38;5;241;43m.\u001b[39;49m\u001b[43m_map_async\u001b[49m\u001b[43m(\u001b[49m\u001b[43mfunc\u001b[49m\u001b[43m,\u001b[49m\u001b[43m \u001b[49m\u001b[43miterable\u001b[49m\u001b[43m,\u001b[49m\u001b[43m \u001b[49m\u001b[43mmapstar\u001b[49m\u001b[43m,\u001b[49m\u001b[43m \u001b[49m\u001b[43mchunksize\u001b[49m\u001b[43m)\u001b[49m\u001b[38;5;241;43m.\u001b[39;49m\u001b[43mget\u001b[49m\u001b[43m(\u001b[49m\u001b[43m)\u001b[49m\n",
      "File \u001b[0;32m/opt/python-3.10.12/lib/python3.10/multiprocessing/pool.py:774\u001b[0m, in \u001b[0;36mApplyResult.get\u001b[0;34m(self, timeout)\u001b[0m\n\u001b[1;32m    772\u001b[0m     \u001b[38;5;28;01mreturn\u001b[39;00m \u001b[38;5;28mself\u001b[39m\u001b[38;5;241m.\u001b[39m_value\n\u001b[1;32m    773\u001b[0m \u001b[38;5;28;01melse\u001b[39;00m:\n\u001b[0;32m--> 774\u001b[0m     \u001b[38;5;28;01mraise\u001b[39;00m \u001b[38;5;28mself\u001b[39m\u001b[38;5;241m.\u001b[39m_value\n",
      "\u001b[0;31mKeyError\u001b[0m: mu1"
     ]
    }
   ],
   "source": [
    "# 30min, 15 CPUs\n",
    "def get_feas(mu):\n",
    "    me.feasibility({ me.mu : mu }, **{'lp' : lp})\n",
    "    return me.solution\n",
    "\n",
    "opt = me.solution.objective_value\n",
    "mus = np.arange(0.01, opt-0.1, 0.01)\n",
    "\n",
    "import multiprocessing\n",
    "with multiprocessing.Pool(multiprocessing.cpu_count()-1) as pool:\n",
    "    fluxes = pool.map(get_feas, mus)"
   ]
  },
  {
   "cell_type": "code",
   "execution_count": null,
   "id": "2282e6fe",
   "metadata": {
    "ExecuteTime": {
     "end_time": "2023-08-29T20:10:03.049604Z",
     "start_time": "2023-08-29T20:10:03.049584Z"
    },
    "execution": {
     "iopub.execute_input": "2023-05-26T10:29:52.306958Z",
     "iopub.status.busy": "2023-05-26T10:29:52.306765Z",
     "iopub.status.idle": "2023-05-26T10:29:52.336127Z",
     "shell.execute_reply": "2023-05-26T10:29:52.334100Z"
    }
   },
   "outputs": [],
   "source": [
    "types = set()\n",
    "for rxn in me.reactions:\n",
    "    types.add(type(rxn))\n",
    "types = sorted(types, key = lambda x: str(x))\n",
    "# types"
   ]
  },
  {
   "cell_type": "code",
   "execution_count": null,
   "id": "119aa895",
   "metadata": {
    "ExecuteTime": {
     "end_time": "2023-08-29T20:10:03.050471Z",
     "start_time": "2023-08-29T20:10:03.050454Z"
    },
    "execution": {
     "iopub.execute_input": "2023-05-26T10:29:52.343147Z",
     "iopub.status.busy": "2023-05-26T10:29:52.342528Z",
     "iopub.status.idle": "2023-05-26T10:31:50.866308Z",
     "shell.execute_reply": "2023-05-26T10:31:50.865846Z"
    }
   },
   "outputs": [],
   "source": [
    "import coralme, sympy\n",
    "\n",
    "directly_modeled = {}\n",
    "\n",
    "def get_reactions(met, rxn_type):\n",
    "    value = sympy.Float(0)\n",
    "    reactions = []\n",
    "    \n",
    "    for rxn in met.reactions:\n",
    "        if isinstance(rxn, (rxn_type)) and rxn.metabolites[met] < 0:\n",
    "            reactions.append(rxn.id)\n",
    "            value += rxn.metabolites[met] * fluxes[idx][rxn.id]\n",
    "    \n",
    "    return value, reactions\n",
    "\n",
    "for rxn_type in types:\n",
    "    directly_modeled[rxn_type] = {}\n",
    "    for met in [ 'atp_c', 'utp_c', 'gtp_c', 'ctp_c', 'datp_c', 'dttp_c', 'dgtp_c', 'dctp_c', ]:\n",
    "        directly_modeled[rxn_type][met] = []\n",
    "        for idx, mu in enumerate(mus):\n",
    "            value, reactions = get_reactions(me.metabolites.get_by_id(met), rxn_type)\n",
    "            value = value.subs({ me.mu : me.solution.objective_value })\n",
    "            directly_modeled[rxn_type][met].append(value)\n",
    "            \n",
    "df_directly_modeled = pandas.DataFrame.from_dict(directly_modeled)"
   ]
  },
  {
   "cell_type": "code",
   "execution_count": null,
   "id": "dafee474",
   "metadata": {
    "ExecuteTime": {
     "end_time": "2023-08-29T20:10:03.051878Z",
     "start_time": "2023-08-29T20:10:03.051862Z"
    },
    "execution": {
     "iopub.execute_input": "2023-05-26T10:31:50.986197Z",
     "iopub.status.busy": "2023-05-26T10:31:50.986045Z",
     "iopub.status.idle": "2023-05-26T10:31:51.013660Z",
     "shell.execute_reply": "2023-05-26T10:31:51.013148Z"
    }
   },
   "outputs": [],
   "source": [
    "from scipy.stats import linregress\n",
    "\n",
    "filter_out = [ \n",
    "    coralme.core.reaction.MEReaction, \n",
    "    coralme.core.reaction.MetabolicReaction,\n",
    "    coralme.core.reaction.GenericFormationReaction\n",
    "]\n",
    "\n",
    "slopes = df_directly_modeled.applymap(lambda x: linregress(mus, [ -1. * float(x) for x in x])[0])\n",
    "slopes = slopes.loc[:, ~slopes.columns.isin(filter_out)]\n",
    "\n",
    "slopes.columns = [\n",
    "    'Complex Formation', \n",
    "    'PostTranslation', \n",
    "    'Summary Variables', \n",
    "    'Transcription', \n",
    "    'Translation', \n",
    "    'tRNA Charging'\n",
    "]\n",
    "\n",
    "slopes.index = ['ATP', 'UTP', 'GTP', 'CTP', 'dATP', 'dTTP', 'dGTP', 'dCTP']\n",
    "slopes = slopes.replace(0, np.nan)"
   ]
  },
  {
   "cell_type": "code",
   "execution_count": null,
   "id": "8684a717",
   "metadata": {
    "ExecuteTime": {
     "end_time": "2023-08-29T20:10:03.052875Z",
     "start_time": "2023-08-29T20:10:03.052864Z"
    },
    "execution": {
     "iopub.execute_input": "2023-05-26T10:31:51.017445Z",
     "iopub.status.busy": "2023-05-26T10:31:51.016118Z",
     "iopub.status.idle": "2023-05-26T10:31:52.161098Z",
     "shell.execute_reply": "2023-05-26T10:31:52.160737Z"
    }
   },
   "outputs": [],
   "source": [
    "import seaborn\n",
    "\n",
    "fig, ax = plt.subplots(1, 1, figsize = (4*1, 3*1.5), dpi = 100)\n",
    "\n",
    "cg = seaborn.heatmap(\n",
    "    slopes.T[['ATP', 'UTP', 'GTP', 'CTP']], \n",
    "    annot = True, cmap = 'Blues', vmax = 1., ax = ax,\n",
    "    cbar_kws = {'label': 'Flux ($mmol / gDCW / h$)'})\n",
    "\n",
    "plt.savefig('GAM_calculation.png', format = 'png', dpi = 300, \n",
    "            edgecolor = 'w', facecolor = 'w', bbox_inches = 'tight')\n",
    "plt.savefig('GAM_calculation.svg', format = 'svg', dpi = 300, \n",
    "            edgecolor = 'w', facecolor = 'w', bbox_inches = 'tight')\n",
    "plt.show()"
   ]
  },
  {
   "cell_type": "code",
   "execution_count": null,
   "id": "6adc5a8f",
   "metadata": {
    "ExecuteTime": {
     "end_time": "2023-08-29T20:10:03.054201Z",
     "start_time": "2023-08-29T20:10:03.054188Z"
    }
   },
   "outputs": [],
   "source": [
    "np.round(slopes.loc['ATP', 'Translation'], 2), np.round(slopes.loc['GTP', 'Translation'], 2)"
   ]
  }
 ],
 "metadata": {
  "kernelspec": {
   "display_name": "VENV :: py3.10 :: COBRAME-DEV",
   "language": "python",
   "name": "venv-p310-cobrame-dev"
  },
  "language_info": {
   "codemirror_mode": {
    "name": "ipython",
    "version": 3
   },
   "file_extension": ".py",
   "mimetype": "text/x-python",
   "name": "python",
   "nbconvert_exporter": "python",
   "pygments_lexer": "ipython3",
   "version": "3.10.12"
  }
 },
 "nbformat": 4,
 "nbformat_minor": 5
}
