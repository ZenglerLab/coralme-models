{
 "cells": [
  {
   "cell_type": "markdown",
   "id": "ecccba1b",
   "metadata": {},
   "source": [
    "# GAM requirements in iJL1678b-ME and iEco1689-ME\n",
    "\n",
    "Code for reproducing panels Figure 2d and Supplementary Fig. 2"
   ]
  },
  {
   "cell_type": "markdown",
   "id": "62e7479f",
   "metadata": {},
   "source": [
    "## Setup environment"
   ]
  },
  {
   "cell_type": "code",
   "execution_count": null,
   "id": "f9519e52",
   "metadata": {
    "ExecuteTime": {
     "end_time": "2023-08-28T21:35:28.899278Z",
     "start_time": "2023-08-28T21:35:27.450309Z"
    },
    "execution": {
     "iopub.execute_input": "2023-05-26T07:31:54.921881Z",
     "iopub.status.busy": "2023-05-26T07:31:54.921168Z",
     "iopub.status.idle": "2023-05-26T07:31:55.879317Z",
     "shell.execute_reply": "2023-05-26T07:31:55.878853Z"
    }
   },
   "outputs": [],
   "source": [
    "import coralme\n",
    "from coralme.builder.helper_functions import *\n",
    "import pickle\n",
    "import pandas\n",
    "import os\n",
    "import tqdm\n",
    "import json\n",
    "import matplotlib.pyplot as plt\n",
    "import numpy as np\n",
    "import sympy\n",
    "pandas.set_option('display.max_colwidth', None)\n",
    "plt.rcParams['svg.fonttype'] = 'none'"
   ]
  },
  {
   "cell_type": "code",
   "execution_count": null,
   "id": "e63729a8",
   "metadata": {
    "ExecuteTime": {
     "end_time": "2023-08-28T21:43:48.890522Z",
     "start_time": "2023-08-28T21:35:28.901081Z"
    },
    "execution": {
     "iopub.execute_input": "2023-05-26T07:31:55.902540Z",
     "iopub.status.busy": "2023-05-26T07:31:55.902404Z",
     "iopub.status.idle": "2023-05-26T07:37:34.944085Z",
     "shell.execute_reply": "2023-05-26T07:37:34.943610Z"
    }
   },
   "outputs": [],
   "source": [
    "me = coralme.io.json.load_json_me_model('published/ecoli/MEModel-step2-iJL1678b-ME.json')\n",
    "me.add_boundary(me.metabolites.li_c, type = 'sink')\n",
    "me.optimize(max_mu = 1.0, verbose = False)"
   ]
  },
  {
   "cell_type": "code",
   "execution_count": null,
   "id": "7cb78e57",
   "metadata": {
    "ExecuteTime": {
     "end_time": "2023-08-28T21:44:38.058902Z",
     "start_time": "2023-08-28T21:43:48.892307Z"
    }
   },
   "outputs": [],
   "source": [
    "# construct the LP problem to accelerate feasibility checks\n",
    "lp = me.construct_lp_problem(lambdify = True)"
   ]
  },
  {
   "cell_type": "code",
   "execution_count": null,
   "id": "bc806af7",
   "metadata": {
    "ExecuteTime": {
     "end_time": "2023-08-28T22:13:34.222530Z",
     "start_time": "2023-08-28T21:45:22.978140Z"
    },
    "execution": {
     "iopub.execute_input": "2023-05-26T07:37:34.946357Z",
     "iopub.status.busy": "2023-05-26T07:37:34.946021Z",
     "iopub.status.idle": "2023-05-26T10:29:52.304789Z",
     "shell.execute_reply": "2023-05-26T10:29:52.304225Z"
    },
    "scrolled": true
   },
   "outputs": [],
   "source": [
    "# 30min, 15 CPUs\n",
    "def get_feas(mu):\n",
    "    me.feasibility({sympy.Symbol('mu', positive = True) : mu}, **{'lp' : lp})\n",
    "    return me.solution\n",
    "\n",
    "opt = me.solution.objective_value\n",
    "mus = np.arange(0.01, opt-0.1, 0.01)\n",
    "\n",
    "import multiprocessing\n",
    "with multiprocessing.Pool(multiprocessing.cpu_count()-1) as pool:\n",
    "    fluxes = pool.map(get_feas, mus)"
   ]
  },
  {
   "cell_type": "code",
   "execution_count": null,
   "id": "2282e6fe",
   "metadata": {
    "ExecuteTime": {
     "end_time": "2023-08-28T22:14:02.256789Z",
     "start_time": "2023-08-28T22:14:02.251810Z"
    },
    "execution": {
     "iopub.execute_input": "2023-05-26T10:29:52.306958Z",
     "iopub.status.busy": "2023-05-26T10:29:52.306765Z",
     "iopub.status.idle": "2023-05-26T10:29:52.336127Z",
     "shell.execute_reply": "2023-05-26T10:29:52.334100Z"
    }
   },
   "outputs": [],
   "source": [
    "types = set()\n",
    "for rxn in me.reactions:\n",
    "    types.add(type(rxn))\n",
    "types = sorted(types, key = lambda x: str(x))\n",
    "# types"
   ]
  },
  {
   "cell_type": "code",
   "execution_count": null,
   "id": "119aa895",
   "metadata": {
    "ExecuteTime": {
     "end_time": "2023-08-28T22:16:32.377304Z",
     "start_time": "2023-08-28T22:14:03.691788Z"
    },
    "execution": {
     "iopub.execute_input": "2023-05-26T10:29:52.343147Z",
     "iopub.status.busy": "2023-05-26T10:29:52.342528Z",
     "iopub.status.idle": "2023-05-26T10:31:50.866308Z",
     "shell.execute_reply": "2023-05-26T10:31:50.865846Z"
    }
   },
   "outputs": [],
   "source": [
    "import coralme, sympy\n",
    "\n",
    "directly_modeled = {}\n",
    "\n",
    "def get_reactions(met, rxn_type):\n",
    "    value = sympy.Float(0)\n",
    "    reactions = []\n",
    "    \n",
    "    for rxn in met.reactions:\n",
    "        if isinstance(rxn, (rxn_type)) and rxn.metabolites[met] < 0:\n",
    "            reactions.append(rxn.id)\n",
    "            value += rxn.metabolites[met] * fluxes[idx][rxn.id]\n",
    "    \n",
    "    return value, reactions\n",
    "\n",
    "for rxn_type in types:\n",
    "    directly_modeled[rxn_type] = {}\n",
    "    for met in [ 'atp_c', 'utp_c', 'gtp_c', 'ctp_c', 'datp_c', 'dttp_c', 'dgtp_c', 'dctp_c', ]:\n",
    "        directly_modeled[rxn_type][met] = []\n",
    "        for idx, mu in enumerate(mus):\n",
    "            value, reactions = get_reactions(me.metabolites.get_by_id(met), rxn_type)\n",
    "            value = value.subs({ me.mu : me.solution.objective_value })\n",
    "            directly_modeled[rxn_type][met].append(value)\n",
    "            \n",
    "df_directly_modeled = pandas.DataFrame.from_dict(directly_modeled)"
   ]
  },
  {
   "cell_type": "code",
   "execution_count": null,
   "id": "dafee474",
   "metadata": {
    "ExecuteTime": {
     "end_time": "2023-08-28T22:18:27.286700Z",
     "start_time": "2023-08-28T22:18:27.265148Z"
    },
    "execution": {
     "iopub.execute_input": "2023-05-26T10:31:50.986197Z",
     "iopub.status.busy": "2023-05-26T10:31:50.986045Z",
     "iopub.status.idle": "2023-05-26T10:31:51.013660Z",
     "shell.execute_reply": "2023-05-26T10:31:51.013148Z"
    }
   },
   "outputs": [],
   "source": [
    "from scipy.stats import linregress\n",
    "\n",
    "filter_out = [ \n",
    "    coralme.core.reaction.MEReaction, \n",
    "    coralme.core.reaction.MetabolicReaction,\n",
    "    coralme.core.reaction.GenericFormationReaction\n",
    "]\n",
    "\n",
    "slopes = df_directly_modeled.applymap(lambda x: linregress(mus, [ -1. * float(x) for x in x])[0])\n",
    "slopes = slopes.loc[:, ~slopes.columns.isin(filter_out)]\n",
    "\n",
    "slopes.columns = [\n",
    "    'Complex Formation', \n",
    "    'PostTranslation', \n",
    "    'Summary Variables', \n",
    "    'Transcription', \n",
    "    'Translation', \n",
    "    'tRNA Charging'\n",
    "]\n",
    "\n",
    "slopes.index = ['ATP', 'UTP', 'GTP', 'CTP', 'dATP', 'dTTP', 'dGTP', 'dCTP']\n",
    "slopes = slopes.replace(0, np.nan)"
   ]
  },
  {
   "cell_type": "code",
   "execution_count": null,
   "id": "8684a717",
   "metadata": {
    "ExecuteTime": {
     "end_time": "2023-08-28T22:18:54.422781Z",
     "start_time": "2023-08-28T22:18:53.521719Z"
    },
    "execution": {
     "iopub.execute_input": "2023-05-26T10:31:51.017445Z",
     "iopub.status.busy": "2023-05-26T10:31:51.016118Z",
     "iopub.status.idle": "2023-05-26T10:31:52.161098Z",
     "shell.execute_reply": "2023-05-26T10:31:52.160737Z"
    }
   },
   "outputs": [],
   "source": [
    "import seaborn\n",
    "\n",
    "fig, ax = plt.subplots(1, 1, figsize = (4*1, 3*1.5), dpi = 100)\n",
    "\n",
    "cg = seaborn.heatmap(\n",
    "    slopes.T[['ATP', 'UTP', 'GTP', 'CTP']], \n",
    "    annot = True, cmap = 'Blues', vmax = 1., ax = ax,\n",
    "    cbar_kws = {'label': 'Flux ($mmol / gDCW / h$)'})\n",
    "\n",
    "plt.savefig('GAM_calculation.png', format = 'png', dpi = 300, \n",
    "            edgecolor = 'w', facecolor = 'w', bbox_inches = 'tight')\n",
    "plt.savefig('GAM_calculation.svg', format = 'svg', dpi = 300, \n",
    "            edgecolor = 'w', facecolor = 'w', bbox_inches = 'tight')\n",
    "plt.show()"
   ]
  },
  {
   "cell_type": "code",
   "execution_count": null,
   "id": "6adc5a8f",
   "metadata": {
    "ExecuteTime": {
     "end_time": "2023-08-28T22:20:39.850863Z",
     "start_time": "2023-08-28T22:20:39.838882Z"
    }
   },
   "outputs": [],
   "source": [
    "np.round(slopes.loc['ATP', 'Translation'], 2), np.round(slopes.loc['GTP', 'Translation'], 2)"
   ]
  }
 ],
 "metadata": {
  "kernelspec": {
   "display_name": "VENV :: py3.10 :: COBRAME-DEV",
   "language": "python",
   "name": "venv-p310-cobrame-dev"
  },
  "language_info": {
   "codemirror_mode": {
    "name": "ipython",
    "version": 3
   },
   "file_extension": ".py",
   "mimetype": "text/x-python",
   "name": "python",
   "nbconvert_exporter": "python",
   "pygments_lexer": "ipython3",
   "version": "3.10.12"
  }
 },
 "nbformat": 4,
 "nbformat_minor": 5
}
