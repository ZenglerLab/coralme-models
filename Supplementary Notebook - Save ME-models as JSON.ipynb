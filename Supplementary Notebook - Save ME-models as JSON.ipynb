{
 "cells": [
  {
   "cell_type": "markdown",
   "id": "ce318d1e-16bd-4b2b-b696-9764f3e71e54",
   "metadata": {},
   "source": [
    "# Save ME-models as JSON"
   ]
  },
  {
   "cell_type": "markdown",
   "id": "6d6faad9-c977-4a9a-9211-e2f7a6ef4329",
   "metadata": {},
   "source": [
    "## Setup environment"
   ]
  },
  {
   "cell_type": "code",
   "execution_count": null,
   "id": "88259670-cc2a-4bce-88a8-7aa820a24c3b",
   "metadata": {
    "ExecuteTime": {
     "end_time": "2022-12-12T06:27:36.177441Z",
     "start_time": "2022-12-12T06:27:35.183790Z"
    }
   },
   "outputs": [],
   "source": [
    "import coralme\n",
    "from coralme.builder.helper_functions import *\n",
    "import pickle\n",
    "import pandas\n",
    "import os\n",
    "import tqdm\n",
    "import json\n",
    "import matplotlib.pyplot as plt\n",
    "import numpy as np\n",
    "import sympy\n",
    "pandas.set_option('display.max_colwidth', None)\n",
    "plt.rcParams['svg.fonttype'] = 'none'"
   ]
  },
  {
   "cell_type": "markdown",
   "id": "25083b78-f830-4fac-869e-0ee60efb3c25",
   "metadata": {},
   "source": [
    "## Load a ME-model"
   ]
  },
  {
   "cell_type": "code",
   "execution_count": null,
   "id": "0ca42e2d-5584-4f4a-93cf-baa6bd6cd7f3",
   "metadata": {},
   "outputs": [],
   "source": [
    "def load_me(filename='me_model.pickle'):\n",
    "    with open(filename, \"rb\") as f:\n",
    "        return pickle.load(f)"
   ]
  },
  {
   "cell_type": "markdown",
   "id": "8ef16e2f-6b53-4aa0-a29b-008994f17e3e",
   "metadata": {},
   "source": [
    "## Get organism directories in path"
   ]
  },
  {
   "cell_type": "code",
   "execution_count": null,
   "id": "adee78b7-9eea-483f-baab-3b63c4761d4b",
   "metadata": {},
   "outputs": [],
   "source": [
    "def get_org_dirs(directory):\n",
    "    return [i for i in os.listdir(directory) \\\n",
    "            if os.path.isdir(directory+i) and '.' not in i and '_' not in i]"
   ]
  },
  {
   "cell_type": "markdown",
   "id": "a0baf17b-2782-4684-91c5-a3230b6649e2",
   "metadata": {},
   "source": [
    "## Save as JSON"
   ]
  },
  {
   "cell_type": "code",
   "execution_count": null,
   "id": "13b3889e-d879-41af-ab94-bc64848db838",
   "metadata": {},
   "outputs": [],
   "source": [
    "def save(path):\n",
    "    model = load_me(path + \".pkl\")\n",
    "    coralme.io.json.save_json_me_model(model,path + \".json\")"
   ]
  },
  {
   "cell_type": "markdown",
   "id": "13531f70-5873-4a95-af67-17bb35a73dfe",
   "metadata": {},
   "source": [
    "## Save dME-models"
   ]
  },
  {
   "cell_type": "code",
   "execution_count": 12,
   "id": "cabe28a3-deea-465f-9275-42d5da1149c9",
   "metadata": {},
   "outputs": [],
   "source": [
    "directory=\"./clean/\""
   ]
  },
  {
   "cell_type": "code",
   "execution_count": 13,
   "id": "8e85d628-6ff1-4cd1-9af9-f893eef21a0a",
   "metadata": {
    "scrolled": true
   },
   "outputs": [
    {
     "name": "stderr",
     "output_type": "stream",
     "text": [
      "  0%|          | 0/1 [00:00<?, ?it/s]2023-08-18 21:46:34,357 The metabolite 'lipoyl_c' must exist in the ME-model to calculate the element contribution.\n",
      "2023-08-18 21:46:34,358 The metabolite 'lipoyl_c' must exist in the ME-model to calculate the element contribution.\n",
      "2023-08-18 21:46:34,358 The metabolite 'hemed_c' must exist in the ME-model to calculate the element contribution.\n",
      "2023-08-18 21:46:34,358 The metabolite 'hemed_c' must exist in the ME-model to calculate the element contribution.\n",
      "2023-08-18 21:46:34,359 The metabolite 'dpm_c' must exist in the ME-model to calculate the element contribution.\n",
      "2023-08-18 21:46:34,359 The metabolite 'dpm_c' must exist in the ME-model to calculate the element contribution.\n",
      "2023-08-18 21:46:34,359 The metabolite 'tl_c' must exist in the ME-model to calculate the element contribution.\n",
      "2023-08-18 21:46:34,360 The metabolite 'tl_c' must exist in the ME-model to calculate the element contribution.\n",
      "2023-08-18 21:46:34,360 The metabolite 'cs_c' must exist in the ME-model to calculate the element contribution.\n",
      "2023-08-18 21:46:34,360 The metabolite 'cs_c' must exist in the ME-model to calculate the element contribution.\n",
      "2023-08-18 21:46:34,361 The metabolite 'li_c' must exist in the ME-model to calculate the element contribution.\n",
      "2023-08-18 21:46:34,361 The metabolite 'li_c' must exist in the ME-model to calculate the element contribution.\n",
      "2023-08-18 21:46:34,361 The metabolite 'coo_c' must exist in the ME-model to calculate the element contribution.\n",
      "2023-08-18 21:46:34,362 The metabolite 'coo_c' must exist in the ME-model to calculate the element contribution.\n",
      "2023-08-18 21:46:34,362 The metabolite 'cosh_c' must exist in the ME-model to calculate the element contribution.\n",
      "2023-08-18 21:46:34,362 The metabolite 'cosh_c' must exist in the ME-model to calculate the element contribution.\n",
      "2023-08-18 21:46:34,363 The metabolite 'glycyl_c' must exist in the ME-model to calculate the element contribution.\n",
      "2023-08-18 21:46:34,363 The metabolite 'glycyl_c' must exist in the ME-model to calculate the element contribution.\n",
      "2023-08-18 21:46:46,603 Metabolite 'lipoyl_c' does not have a formula. Please set a formula in the M-model or in the metabolites.txt input file.\n",
      "2023-08-18 21:46:46,603 Metabolite 'lipoyl_c' does not have a formula. Please set a formula in the M-model or in the metabolites.txt input file.\n",
      "2023-08-18 21:46:46,603 Metabolite 'hemed_c' does not have a formula. Please set a formula in the M-model or in the metabolites.txt input file.\n",
      "2023-08-18 21:46:46,604 Metabolite 'hemed_c' does not have a formula. Please set a formula in the M-model or in the metabolites.txt input file.\n",
      "2023-08-18 21:46:46,604 Metabolite 'dpm_c' does not have a formula. Please set a formula in the M-model or in the metabolites.txt input file.\n",
      "2023-08-18 21:46:46,605 Metabolite 'dpm_c' does not have a formula. Please set a formula in the M-model or in the metabolites.txt input file.\n",
      "2023-08-18 21:46:46,605 Metabolite 'tl_c' does not have a formula. Please set a formula in the M-model or in the metabolites.txt input file.\n",
      "2023-08-18 21:46:46,605 Metabolite 'tl_c' does not have a formula. Please set a formula in the M-model or in the metabolites.txt input file.\n",
      "2023-08-18 21:46:46,605 Metabolite 'cs_c' does not have a formula. Please set a formula in the M-model or in the metabolites.txt input file.\n",
      "2023-08-18 21:46:46,606 Metabolite 'cs_c' does not have a formula. Please set a formula in the M-model or in the metabolites.txt input file.\n",
      "2023-08-18 21:46:46,606 The metabolite 'li_c' must exist in the ME-model to calculate the element contribution.\n",
      "2023-08-18 21:46:46,607 The metabolite 'li_c' must exist in the ME-model to calculate the element contribution.\n",
      "2023-08-18 21:46:46,607 Metabolite 'coo_c' does not have a formula. Please set a formula in the M-model or in the metabolites.txt input file.\n",
      "2023-08-18 21:46:46,607 Metabolite 'coo_c' does not have a formula. Please set a formula in the M-model or in the metabolites.txt input file.\n",
      "2023-08-18 21:46:46,607 Metabolite 'cosh_c' does not have a formula. Please set a formula in the M-model or in the metabolites.txt input file.\n",
      "2023-08-18 21:46:46,608 Metabolite 'cosh_c' does not have a formula. Please set a formula in the M-model or in the metabolites.txt input file.\n",
      "2023-08-18 21:46:46,608 The metabolite 'glycyl_c' must exist in the ME-model to calculate the element contribution.\n",
      "2023-08-18 21:46:46,608 The metabolite 'glycyl_c' must exist in the ME-model to calculate the element contribution.\n",
      "2023-08-18 21:46:55,749 Metabolite 'lipoyl_c' does not have a formula. Please set a formula in the M-model or in the metabolites.txt input file.\n",
      "2023-08-18 21:46:55,750 Metabolite 'lipoyl_c' does not have a formula. Please set a formula in the M-model or in the metabolites.txt input file.\n",
      "2023-08-18 21:46:55,750 Metabolite 'hemed_c' does not have a formula. Please set a formula in the M-model or in the metabolites.txt input file.\n",
      "2023-08-18 21:46:55,751 Metabolite 'hemed_c' does not have a formula. Please set a formula in the M-model or in the metabolites.txt input file.\n",
      "2023-08-18 21:46:55,751 Metabolite 'dpm_c' does not have a formula. Please set a formula in the M-model or in the metabolites.txt input file.\n",
      "2023-08-18 21:46:55,751 Metabolite 'dpm_c' does not have a formula. Please set a formula in the M-model or in the metabolites.txt input file.\n",
      "2023-08-18 21:46:55,752 Metabolite 'tl_c' does not have a formula. Please set a formula in the M-model or in the metabolites.txt input file.\n",
      "2023-08-18 21:46:55,752 Metabolite 'tl_c' does not have a formula. Please set a formula in the M-model or in the metabolites.txt input file.\n",
      "2023-08-18 21:46:55,752 Metabolite 'cs_c' does not have a formula. Please set a formula in the M-model or in the metabolites.txt input file.\n",
      "2023-08-18 21:46:55,752 Metabolite 'cs_c' does not have a formula. Please set a formula in the M-model or in the metabolites.txt input file.\n",
      "2023-08-18 21:46:55,753 The metabolite 'li_c' must exist in the ME-model to calculate the element contribution.\n",
      "2023-08-18 21:46:55,753 The metabolite 'li_c' must exist in the ME-model to calculate the element contribution.\n",
      "2023-08-18 21:46:55,754 Metabolite 'coo_c' does not have a formula. Please set a formula in the M-model or in the metabolites.txt input file.\n",
      "2023-08-18 21:46:55,754 Metabolite 'coo_c' does not have a formula. Please set a formula in the M-model or in the metabolites.txt input file.\n",
      "2023-08-18 21:46:55,754 Metabolite 'cosh_c' does not have a formula. Please set a formula in the M-model or in the metabolites.txt input file.\n",
      "2023-08-18 21:46:55,754 Metabolite 'cosh_c' does not have a formula. Please set a formula in the M-model or in the metabolites.txt input file.\n",
      "2023-08-18 21:46:55,754 The metabolite 'glycyl_c' must exist in the ME-model to calculate the element contribution.\n",
      "2023-08-18 21:46:55,755 The metabolite 'glycyl_c' must exist in the ME-model to calculate the element contribution.\n",
      "100%|██████████| 1/1 [00:34<00:00, 34.54s/it]\n"
     ]
    }
   ],
   "source": [
    "dirs = get_org_dirs(directory)\n",
    "for d in tqdm.tqdm(dirs):\n",
    "    save(\"./{}/{}/MEModel-step1-{}\".format(directory,d,d))\n",
    "    save(\"./{}/{}/MEModel-step2-{}\".format(directory,d,d))\n",
    "    save(\"./{}/{}/MEModel-step3-{}-TS\".format(directory,d,d))"
   ]
  },
  {
   "cell_type": "markdown",
   "id": "361f1adc-e506-46bb-b45a-cc2093e4be9d",
   "metadata": {},
   "source": [
    "## Save uME-models"
   ]
  },
  {
   "cell_type": "code",
   "execution_count": null,
   "id": "e4718bef-ed9b-472b-b548-9e1c5e6c2d2c",
   "metadata": {},
   "outputs": [],
   "source": [
    "directory=\"./published/\""
   ]
  },
  {
   "cell_type": "code",
   "execution_count": null,
   "id": "2a99095a-5d7b-4a29-91a2-24ae3c64ea42",
   "metadata": {
    "scrolled": true
   },
   "outputs": [],
   "source": [
    "dirs = get_org_dirs(directory)\n",
    "for d in tqdm.tqdm(dirs):\n",
    "    if d == 'ecoli': continue\n",
    "    save(\"./{}/{}/MEModel-step1-{}\".format(directory,d,d))\n",
    "    save(\"./{}/{}/MEModel-step2-{}\".format(directory,d,d))\n",
    "    save(\"./{}/{}/MEModel-step3-{}-TS\".format(directory,d,d))"
   ]
  }
 ],
 "metadata": {
  "kernelspec": {
   "display_name": "coralme",
   "language": "python",
   "name": "coralme"
  },
  "language_info": {
   "codemirror_mode": {
    "name": "ipython",
    "version": 3
   },
   "file_extension": ".py",
   "mimetype": "text/x-python",
   "name": "python",
   "nbconvert_exporter": "python",
   "pygments_lexer": "ipython3",
   "version": "3.10.12"
  }
 },
 "nbformat": 4,
 "nbformat_minor": 5
}
