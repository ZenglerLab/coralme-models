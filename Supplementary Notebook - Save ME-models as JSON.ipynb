{
 "cells": [
  {
   "cell_type": "markdown",
   "id": "ce318d1e-16bd-4b2b-b696-9764f3e71e54",
   "metadata": {},
   "source": [
    "# Save ME-models as JSON"
   ]
  },
  {
   "cell_type": "markdown",
   "id": "6d6faad9-c977-4a9a-9211-e2f7a6ef4329",
   "metadata": {},
   "source": [
    "## Setup environment"
   ]
  },
  {
   "cell_type": "code",
   "execution_count": 3,
   "id": "88259670-cc2a-4bce-88a8-7aa820a24c3b",
   "metadata": {
    "ExecuteTime": {
     "end_time": "2022-12-12T06:27:36.177441Z",
     "start_time": "2022-12-12T06:27:35.183790Z"
    }
   },
   "outputs": [],
   "source": [
    "import coralme\n",
    "from coralme.builder.helper_functions import *\n",
    "import pickle\n",
    "import pandas\n",
    "import os\n",
    "import tqdm\n",
    "import json\n",
    "import matplotlib.pyplot as plt\n",
    "import numpy as np\n",
    "import sympy\n",
    "pandas.set_option('display.max_colwidth', None)\n",
    "plt.rcParams['svg.fonttype'] = 'none'"
   ]
  },
  {
   "cell_type": "markdown",
   "id": "25083b78-f830-4fac-869e-0ee60efb3c25",
   "metadata": {},
   "source": [
    "## Load a ME-model"
   ]
  },
  {
   "cell_type": "code",
   "execution_count": 4,
   "id": "0ca42e2d-5584-4f4a-93cf-baa6bd6cd7f3",
   "metadata": {},
   "outputs": [],
   "source": [
    "def load_me(filename='me_model.pickle'):\n",
    "    with open(filename, \"rb\") as f:\n",
    "        return pickle.load(f)"
   ]
  },
  {
   "cell_type": "markdown",
   "id": "8ef16e2f-6b53-4aa0-a29b-008994f17e3e",
   "metadata": {},
   "source": [
    "## Get organism directories in path"
   ]
  },
  {
   "cell_type": "code",
   "execution_count": 5,
   "id": "adee78b7-9eea-483f-baab-3b63c4761d4b",
   "metadata": {},
   "outputs": [],
   "source": [
    "def get_org_dirs(directory):\n",
    "    return [i for i in os.listdir(directory) \\\n",
    "            if os.path.isdir(directory+i) and '.' not in i and '_' not in i]"
   ]
  },
  {
   "cell_type": "markdown",
   "id": "a0baf17b-2782-4684-91c5-a3230b6649e2",
   "metadata": {},
   "source": [
    "## Save as JSON"
   ]
  },
  {
   "cell_type": "code",
   "execution_count": 6,
   "id": "13b3889e-d879-41af-ab94-bc64848db838",
   "metadata": {},
   "outputs": [],
   "source": [
    "def save(path):\n",
    "    model = load_me(path + \".pkl\")\n",
    "    coralme.io.json.save_json_me_model(model,path + \".json\")"
   ]
  },
  {
   "cell_type": "markdown",
   "id": "13531f70-5873-4a95-af67-17bb35a73dfe",
   "metadata": {},
   "source": [
    "## Save dME-models"
   ]
  },
  {
   "cell_type": "code",
   "execution_count": 7,
   "id": "cabe28a3-deea-465f-9275-42d5da1149c9",
   "metadata": {},
   "outputs": [],
   "source": [
    "directory=\"./clean/\""
   ]
  },
  {
   "cell_type": "code",
   "execution_count": 8,
   "id": "8e85d628-6ff1-4cd1-9af9-f893eef21a0a",
   "metadata": {
    "scrolled": true
   },
   "outputs": [
    {
     "name": "stderr",
     "output_type": "stream",
     "text": [
      "  0%|          | 0/1 [00:00<?, ?it/s]"
     ]
    },
    {
     "name": "stdout",
     "output_type": "stream",
     "text": [
      "Set parameter Username\n",
      "Academic license - for non-commercial use only - expires 2024-08-16\n",
      "Read LP format model from file /tmp/tmpvv1le1ri.lp\n",
      "Reading time = 0.00 seconds\n",
      ": 0 rows, 0 columns, 0 nonzeros\n",
      "Read LP format model from file /tmp/tmpgmqvw7u7.lp\n",
      "Reading time = 0.00 seconds\n",
      ": 990 rows, 2500 columns, 10478 nonzeros\n",
      "Read LP format model from file /tmp/tmpfyft2y9q.lp\n",
      "Reading time = 0.00 seconds\n",
      ": 1055 rows, 2496 columns, 10342 nonzeros\n"
     ]
    },
    {
     "name": "stderr",
     "output_type": "stream",
     "text": [
      "2023-09-14 14:32:33,527 The metabolite 'pg160_p' must exist in the ME-model to calculate the element contribution.\n",
      "2023-09-14 14:32:33,527 The metabolite '2agpg160_p' must exist in the ME-model to calculate the element contribution.\n",
      "2023-09-14 14:32:33,528 The metabolite 'pe160_p' must exist in the ME-model to calculate the element contribution.\n",
      "2023-09-14 14:32:33,528 The metabolite '2agpe160_p' must exist in the ME-model to calculate the element contribution.\n",
      "2023-09-14 14:32:33,957 The metabolite '4fe4s_c' must exist in the ME-model to calculate the element contribution.\n",
      "2023-09-14 14:32:33,957 The metabolite '4fe4s_c' must exist in the ME-model to calculate the element contribution.\n",
      "2023-09-14 14:32:33,957 The metabolite 'lipoyl_c' must exist in the ME-model to calculate the element contribution.\n",
      "2023-09-14 14:32:33,958 The metabolite 'lipoyl_c' must exist in the ME-model to calculate the element contribution.\n",
      "2023-09-14 14:32:33,958 The metabolite '2fe2s_c' must exist in the ME-model to calculate the element contribution.\n",
      "2023-09-14 14:32:33,958 The metabolite '2fe2s_c' must exist in the ME-model to calculate the element contribution.\n",
      "2023-09-14 14:32:33,959 The metabolite 'hemed_c' must exist in the ME-model to calculate the element contribution.\n",
      "2023-09-14 14:32:33,959 The metabolite 'hemed_c' must exist in the ME-model to calculate the element contribution.\n",
      "2023-09-14 14:32:33,959 The metabolite 'fmnh2_c' must exist in the ME-model to calculate the element contribution.\n",
      "2023-09-14 14:32:33,959 The metabolite 'fmnh2_c' must exist in the ME-model to calculate the element contribution.\n",
      "2023-09-14 14:32:33,960 The metabolite 'dpm_c' must exist in the ME-model to calculate the element contribution.\n",
      "2023-09-14 14:32:33,960 The metabolite 'dpm_c' must exist in the ME-model to calculate the element contribution.\n",
      "2023-09-14 14:32:33,960 The metabolite 'tl_c' must exist in the ME-model to calculate the element contribution.\n",
      "2023-09-14 14:32:33,961 The metabolite 'tl_c' must exist in the ME-model to calculate the element contribution.\n",
      "2023-09-14 14:32:33,961 The metabolite 'cs_c' must exist in the ME-model to calculate the element contribution.\n",
      "2023-09-14 14:32:33,961 The metabolite 'cs_c' must exist in the ME-model to calculate the element contribution.\n",
      "2023-09-14 14:32:33,961 The metabolite 'cbl1_c' must exist in the ME-model to calculate the element contribution.\n",
      "2023-09-14 14:32:33,962 The metabolite 'cbl1_c' must exist in the ME-model to calculate the element contribution.\n",
      "2023-09-14 14:32:33,962 The metabolite 'cu_c' must exist in the ME-model to calculate the element contribution.\n",
      "2023-09-14 14:32:33,962 The metabolite 'cu_c' must exist in the ME-model to calculate the element contribution.\n",
      "2023-09-14 14:32:33,963 The metabolite 'adocbl_c' must exist in the ME-model to calculate the element contribution.\n",
      "2023-09-14 14:32:33,963 The metabolite 'adocbl_c' must exist in the ME-model to calculate the element contribution.\n",
      "2023-09-14 14:32:33,963 The metabolite 'coo_c' must exist in the ME-model to calculate the element contribution.\n",
      "2023-09-14 14:32:33,963 The metabolite 'coo_c' must exist in the ME-model to calculate the element contribution.\n",
      "2023-09-14 14:32:33,964 The metabolite 'cosh_c' must exist in the ME-model to calculate the element contribution.\n",
      "2023-09-14 14:32:33,964 The metabolite 'cosh_c' must exist in the ME-model to calculate the element contribution.\n",
      "2023-09-14 14:32:33,964 The metabolite 'li_c' must exist in the ME-model to calculate the element contribution.\n",
      "2023-09-14 14:32:33,965 The metabolite 'li_c' must exist in the ME-model to calculate the element contribution.\n",
      "2023-09-14 14:32:33,965 The metabolite 'cl_c' must exist in the ME-model to calculate the element contribution.\n",
      "2023-09-14 14:32:33,965 The metabolite 'cl_c' must exist in the ME-model to calculate the element contribution.\n",
      "2023-09-14 14:32:33,965 The metabolite 'bmocogdp_c' must exist in the ME-model to calculate the element contribution.\n",
      "2023-09-14 14:32:33,966 The metabolite 'bmocogdp_c' must exist in the ME-model to calculate the element contribution.\n",
      "2023-09-14 14:32:33,966 The metabolite '3fe4s_c' must exist in the ME-model to calculate the element contribution.\n",
      "2023-09-14 14:32:33,966 The metabolite '3fe4s_c' must exist in the ME-model to calculate the element contribution.\n"
     ]
    },
    {
     "name": "stdout",
     "output_type": "stream",
     "text": [
      "Read LP format model from file /tmp/tmptet52ftd.lp\n",
      "Reading time = 0.00 seconds\n",
      ": 0 rows, 0 columns, 0 nonzeros\n",
      "Read LP format model from file /tmp/tmpaf_1s967.lp\n",
      "Reading time = 0.00 seconds\n",
      ": 990 rows, 2500 columns, 10478 nonzeros\n",
      "Read LP format model from file /tmp/tmp95mqngr1.lp\n",
      "Reading time = 0.00 seconds\n",
      ": 1055 rows, 2496 columns, 10342 nonzeros\n"
     ]
    },
    {
     "name": "stderr",
     "output_type": "stream",
     "text": [
      "2023-09-14 14:32:44,206 The metabolite 'pg160_p' must exist in the ME-model to calculate the element contribution.\n",
      "2023-09-14 14:32:44,206 The metabolite '2agpg160_p' must exist in the ME-model to calculate the element contribution.\n",
      "2023-09-14 14:32:44,207 The metabolite 'pe160_p' must exist in the ME-model to calculate the element contribution.\n",
      "2023-09-14 14:32:44,207 The metabolite '2agpe160_p' must exist in the ME-model to calculate the element contribution.\n",
      "2023-09-14 14:32:44,606 Metabolite '4fe4s_c' does not have a formula. Please set a formula in the M-model or in the metabolites.txt input file.\n",
      "2023-09-14 14:32:44,607 Metabolite '4fe4s_c' does not have a formula. Please set a formula in the M-model or in the metabolites.txt input file.\n",
      "2023-09-14 14:32:44,607 Metabolite 'lipoyl_c' does not have a formula. Please set a formula in the M-model or in the metabolites.txt input file.\n",
      "2023-09-14 14:32:44,607 Metabolite 'lipoyl_c' does not have a formula. Please set a formula in the M-model or in the metabolites.txt input file.\n",
      "2023-09-14 14:32:44,608 Metabolite '2fe2s_c' does not have a formula. Please set a formula in the M-model or in the metabolites.txt input file.\n",
      "2023-09-14 14:32:44,608 Metabolite '2fe2s_c' does not have a formula. Please set a formula in the M-model or in the metabolites.txt input file.\n",
      "2023-09-14 14:32:44,608 Metabolite 'hemed_c' does not have a formula. Please set a formula in the M-model or in the metabolites.txt input file.\n",
      "2023-09-14 14:32:44,608 Metabolite 'hemed_c' does not have a formula. Please set a formula in the M-model or in the metabolites.txt input file.\n",
      "2023-09-14 14:32:44,609 Metabolite 'fmnh2_c' does not have a formula. Please set a formula in the M-model or in the metabolites.txt input file.\n",
      "2023-09-14 14:32:44,609 Metabolite 'fmnh2_c' does not have a formula. Please set a formula in the M-model or in the metabolites.txt input file.\n",
      "2023-09-14 14:32:44,610 Metabolite 'dpm_c' does not have a formula. Please set a formula in the M-model or in the metabolites.txt input file.\n",
      "2023-09-14 14:32:44,610 Metabolite 'dpm_c' does not have a formula. Please set a formula in the M-model or in the metabolites.txt input file.\n",
      "2023-09-14 14:32:44,610 Metabolite 'tl_c' does not have a formula. Please set a formula in the M-model or in the metabolites.txt input file.\n",
      "2023-09-14 14:32:44,611 Metabolite 'tl_c' does not have a formula. Please set a formula in the M-model or in the metabolites.txt input file.\n",
      "2023-09-14 14:32:44,611 Metabolite 'cs_c' does not have a formula. Please set a formula in the M-model or in the metabolites.txt input file.\n",
      "2023-09-14 14:32:44,611 Metabolite 'cs_c' does not have a formula. Please set a formula in the M-model or in the metabolites.txt input file.\n",
      "2023-09-14 14:32:44,611 Metabolite 'cbl1_c' does not have a formula. Please set a formula in the M-model or in the metabolites.txt input file.\n",
      "2023-09-14 14:32:44,612 Metabolite 'cbl1_c' does not have a formula. Please set a formula in the M-model or in the metabolites.txt input file.\n",
      "2023-09-14 14:32:44,612 Metabolite 'cu_c' does not have a formula. Please set a formula in the M-model or in the metabolites.txt input file.\n",
      "2023-09-14 14:32:44,612 Metabolite 'cu_c' does not have a formula. Please set a formula in the M-model or in the metabolites.txt input file.\n",
      "2023-09-14 14:32:44,613 The metabolite 'adocbl_c' must exist in the ME-model to calculate the element contribution.\n",
      "2023-09-14 14:32:44,613 The metabolite 'adocbl_c' must exist in the ME-model to calculate the element contribution.\n",
      "2023-09-14 14:32:44,613 The metabolite 'coo_c' must exist in the ME-model to calculate the element contribution.\n",
      "2023-09-14 14:32:44,613 The metabolite 'coo_c' must exist in the ME-model to calculate the element contribution.\n",
      "2023-09-14 14:32:44,613 The metabolite 'cosh_c' must exist in the ME-model to calculate the element contribution.\n",
      "2023-09-14 14:32:44,614 The metabolite 'cosh_c' must exist in the ME-model to calculate the element contribution.\n",
      "2023-09-14 14:32:44,614 The metabolite 'li_c' must exist in the ME-model to calculate the element contribution.\n",
      "2023-09-14 14:32:44,614 The metabolite 'li_c' must exist in the ME-model to calculate the element contribution.\n",
      "2023-09-14 14:32:44,615 The metabolite 'cl_c' must exist in the ME-model to calculate the element contribution.\n",
      "2023-09-14 14:32:44,615 The metabolite 'cl_c' must exist in the ME-model to calculate the element contribution.\n",
      "2023-09-14 14:32:44,615 The metabolite 'bmocogdp_c' must exist in the ME-model to calculate the element contribution.\n",
      "2023-09-14 14:32:44,615 The metabolite 'bmocogdp_c' must exist in the ME-model to calculate the element contribution.\n"
     ]
    },
    {
     "name": "stdout",
     "output_type": "stream",
     "text": [
      "Read LP format model from file /tmp/tmpepdj7n8i.lp\n",
      "Reading time = 0.00 seconds\n",
      ": 0 rows, 0 columns, 0 nonzeros\n",
      "Read LP format model from file /tmp/tmpv5g0tocy.lp\n",
      "Reading time = 0.00 seconds\n",
      ": 990 rows, 2500 columns, 10478 nonzeros\n",
      "Read LP format model from file /tmp/tmpm912wk3d.lp\n",
      "Reading time = 0.00 seconds\n",
      ": 1055 rows, 2496 columns, 10342 nonzeros\n"
     ]
    },
    {
     "name": "stderr",
     "output_type": "stream",
     "text": [
      "2023-09-14 14:32:52,335 The metabolite 'pg160_p' must exist in the ME-model to calculate the element contribution.\n",
      "2023-09-14 14:32:52,336 The metabolite '2agpg160_p' must exist in the ME-model to calculate the element contribution.\n",
      "2023-09-14 14:32:52,336 The metabolite 'pe160_p' must exist in the ME-model to calculate the element contribution.\n",
      "2023-09-14 14:32:52,336 The metabolite '2agpe160_p' must exist in the ME-model to calculate the element contribution.\n",
      "2023-09-14 14:32:52,996 Metabolite '4fe4s_c' does not have a formula. Please set a formula in the M-model or in the metabolites.txt input file.\n",
      "2023-09-14 14:32:52,997 Metabolite '4fe4s_c' does not have a formula. Please set a formula in the M-model or in the metabolites.txt input file.\n",
      "2023-09-14 14:32:52,997 Metabolite 'lipoyl_c' does not have a formula. Please set a formula in the M-model or in the metabolites.txt input file.\n",
      "2023-09-14 14:32:52,997 Metabolite 'lipoyl_c' does not have a formula. Please set a formula in the M-model or in the metabolites.txt input file.\n",
      "2023-09-14 14:32:52,998 Metabolite '2fe2s_c' does not have a formula. Please set a formula in the M-model or in the metabolites.txt input file.\n",
      "2023-09-14 14:32:52,998 Metabolite '2fe2s_c' does not have a formula. Please set a formula in the M-model or in the metabolites.txt input file.\n",
      "2023-09-14 14:32:52,998 Metabolite 'hemed_c' does not have a formula. Please set a formula in the M-model or in the metabolites.txt input file.\n",
      "2023-09-14 14:32:52,999 Metabolite 'hemed_c' does not have a formula. Please set a formula in the M-model or in the metabolites.txt input file.\n",
      "2023-09-14 14:32:52,999 Metabolite 'fmnh2_c' does not have a formula. Please set a formula in the M-model or in the metabolites.txt input file.\n",
      "2023-09-14 14:32:52,999 Metabolite 'fmnh2_c' does not have a formula. Please set a formula in the M-model or in the metabolites.txt input file.\n",
      "2023-09-14 14:32:53,000 Metabolite 'dpm_c' does not have a formula. Please set a formula in the M-model or in the metabolites.txt input file.\n",
      "2023-09-14 14:32:53,000 Metabolite 'dpm_c' does not have a formula. Please set a formula in the M-model or in the metabolites.txt input file.\n",
      "2023-09-14 14:32:53,001 Metabolite 'tl_c' does not have a formula. Please set a formula in the M-model or in the metabolites.txt input file.\n",
      "2023-09-14 14:32:53,001 Metabolite 'tl_c' does not have a formula. Please set a formula in the M-model or in the metabolites.txt input file.\n",
      "2023-09-14 14:32:53,001 Metabolite 'cs_c' does not have a formula. Please set a formula in the M-model or in the metabolites.txt input file.\n",
      "2023-09-14 14:32:53,002 Metabolite 'cs_c' does not have a formula. Please set a formula in the M-model or in the metabolites.txt input file.\n",
      "2023-09-14 14:32:53,002 Metabolite 'cbl1_c' does not have a formula. Please set a formula in the M-model or in the metabolites.txt input file.\n",
      "2023-09-14 14:32:53,002 Metabolite 'cbl1_c' does not have a formula. Please set a formula in the M-model or in the metabolites.txt input file.\n",
      "2023-09-14 14:32:53,002 Metabolite 'cu_c' does not have a formula. Please set a formula in the M-model or in the metabolites.txt input file.\n",
      "2023-09-14 14:32:53,002 Metabolite 'cu_c' does not have a formula. Please set a formula in the M-model or in the metabolites.txt input file.\n",
      "2023-09-14 14:32:53,003 The metabolite 'adocbl_c' must exist in the ME-model to calculate the element contribution.\n",
      "2023-09-14 14:32:53,003 The metabolite 'adocbl_c' must exist in the ME-model to calculate the element contribution.\n",
      "2023-09-14 14:32:53,004 The metabolite 'coo_c' must exist in the ME-model to calculate the element contribution.\n",
      "2023-09-14 14:32:53,004 The metabolite 'coo_c' must exist in the ME-model to calculate the element contribution.\n",
      "2023-09-14 14:32:53,004 The metabolite 'cosh_c' must exist in the ME-model to calculate the element contribution.\n",
      "2023-09-14 14:32:53,004 The metabolite 'cosh_c' must exist in the ME-model to calculate the element contribution.\n",
      "2023-09-14 14:32:53,005 The metabolite 'li_c' must exist in the ME-model to calculate the element contribution.\n",
      "2023-09-14 14:32:53,005 The metabolite 'li_c' must exist in the ME-model to calculate the element contribution.\n",
      "2023-09-14 14:32:53,005 The metabolite 'cl_c' must exist in the ME-model to calculate the element contribution.\n",
      "2023-09-14 14:32:53,005 The metabolite 'cl_c' must exist in the ME-model to calculate the element contribution.\n",
      "2023-09-14 14:32:53,006 The metabolite 'bmocogdp_c' must exist in the ME-model to calculate the element contribution.\n",
      "2023-09-14 14:32:53,006 The metabolite 'bmocogdp_c' must exist in the ME-model to calculate the element contribution.\n",
      "100%|██████████| 1/1 [00:29<00:00, 29.63s/it]\n"
     ]
    }
   ],
   "source": [
    "dirs = get_org_dirs(directory)\n",
    "for d in tqdm.tqdm(dirs):\n",
    "    save(\"./{}/{}/MEModel-step1-{}\".format(directory,d,d))\n",
    "    save(\"./{}/{}/MEModel-step2-{}\".format(directory,d,d))\n",
    "    save(\"./{}/{}/MEModel-step3-{}-TS\".format(directory,d,d))"
   ]
  },
  {
   "cell_type": "markdown",
   "id": "361f1adc-e506-46bb-b45a-cc2093e4be9d",
   "metadata": {},
   "source": [
    "## Save uME-models"
   ]
  },
  {
   "cell_type": "code",
   "execution_count": 9,
   "id": "e4718bef-ed9b-472b-b548-9e1c5e6c2d2c",
   "metadata": {},
   "outputs": [],
   "source": [
    "directory=\"./published/\""
   ]
  },
  {
   "cell_type": "code",
   "execution_count": 10,
   "id": "2a99095a-5d7b-4a29-91a2-24ae3c64ea42",
   "metadata": {
    "scrolled": true
   },
   "outputs": [
    {
     "name": "stderr",
     "output_type": "stream",
     "text": [
      "  0%|          | 0/1 [00:00<?, ?it/s]"
     ]
    },
    {
     "name": "stdout",
     "output_type": "stream",
     "text": [
      "Read LP format model from file /tmp/tmp0c9vtlxj.lp\n",
      "Reading time = 0.00 seconds\n",
      ": 0 rows, 0 columns, 0 nonzeros\n",
      "Read LP format model from file /tmp/tmp28uqrdns.lp\n",
      "Reading time = 0.00 seconds\n",
      ": 998 rows, 2524 columns, 10562 nonzeros\n",
      "Read LP format model from file /tmp/tmp3qylc22o.lp\n",
      "Reading time = 0.00 seconds\n",
      ": 1088 rows, 2554 columns, 10544 nonzeros\n"
     ]
    },
    {
     "name": "stderr",
     "output_type": "stream",
     "text": [
      "2023-09-14 14:34:42,267 The metabolite 'pg160_p' must exist in the ME-model to calculate the element contribution.\n",
      "2023-09-14 14:34:42,268 The metabolite '2agpg160_p' must exist in the ME-model to calculate the element contribution.\n",
      "2023-09-14 14:34:42,268 The metabolite 'pe160_p' must exist in the ME-model to calculate the element contribution.\n",
      "2023-09-14 14:34:42,268 The metabolite '2agpe160_p' must exist in the ME-model to calculate the element contribution.\n",
      "2023-09-14 14:34:42,688 The metabolite '4fe4s_c' must exist in the ME-model to calculate the element contribution.\n",
      "2023-09-14 14:34:42,689 The metabolite '4fe4s_c' must exist in the ME-model to calculate the element contribution.\n",
      "2023-09-14 14:34:42,689 The metabolite 'lipoyl_c' must exist in the ME-model to calculate the element contribution.\n",
      "2023-09-14 14:34:42,689 The metabolite 'lipoyl_c' must exist in the ME-model to calculate the element contribution.\n",
      "2023-09-14 14:34:42,690 Metabolite '2fe2s_c' does not have a formula. Please set a formula in the M-model or in the metabolites.txt input file.\n",
      "2023-09-14 14:34:42,690 Metabolite '2fe2s_c' does not have a formula. Please set a formula in the M-model or in the metabolites.txt input file.\n",
      "2023-09-14 14:34:42,690 The metabolite 'hemed_c' must exist in the ME-model to calculate the element contribution.\n",
      "2023-09-14 14:34:42,691 The metabolite 'hemed_c' must exist in the ME-model to calculate the element contribution.\n",
      "2023-09-14 14:34:42,691 The metabolite 'fmnh2_c' must exist in the ME-model to calculate the element contribution.\n",
      "2023-09-14 14:34:42,691 The metabolite 'fmnh2_c' must exist in the ME-model to calculate the element contribution.\n",
      "2023-09-14 14:34:42,692 The metabolite 'tl_c' must exist in the ME-model to calculate the element contribution.\n",
      "2023-09-14 14:34:42,692 The metabolite 'tl_c' must exist in the ME-model to calculate the element contribution.\n",
      "2023-09-14 14:34:42,692 The metabolite 'cs_c' must exist in the ME-model to calculate the element contribution.\n",
      "2023-09-14 14:34:42,692 The metabolite 'cs_c' must exist in the ME-model to calculate the element contribution.\n",
      "2023-09-14 14:34:42,692 The metabolite 'adocbl_c' must exist in the ME-model to calculate the element contribution.\n",
      "2023-09-14 14:34:42,693 The metabolite 'adocbl_c' must exist in the ME-model to calculate the element contribution.\n",
      "2023-09-14 14:34:42,693 The metabolite 'coo_c' must exist in the ME-model to calculate the element contribution.\n",
      "2023-09-14 14:34:42,693 The metabolite 'coo_c' must exist in the ME-model to calculate the element contribution.\n",
      "2023-09-14 14:34:42,693 The metabolite 'cosh_c' must exist in the ME-model to calculate the element contribution.\n",
      "2023-09-14 14:34:42,694 The metabolite 'cosh_c' must exist in the ME-model to calculate the element contribution.\n",
      "2023-09-14 14:34:42,694 The metabolite 'lipo_c' must exist in the ME-model to calculate the element contribution.\n",
      "2023-09-14 14:34:42,694 The metabolite 'lipo_c' must exist in the ME-model to calculate the element contribution.\n",
      "2023-09-14 14:34:42,694 The metabolite 'li_c' must exist in the ME-model to calculate the element contribution.\n",
      "2023-09-14 14:34:42,695 The metabolite 'li_c' must exist in the ME-model to calculate the element contribution.\n",
      "2023-09-14 14:34:42,695 The metabolite 'cl_c' must exist in the ME-model to calculate the element contribution.\n",
      "2023-09-14 14:34:42,695 The metabolite 'cl_c' must exist in the ME-model to calculate the element contribution.\n",
      "2023-09-14 14:34:42,695 The metabolite 'bmocogdp_c' must exist in the ME-model to calculate the element contribution.\n",
      "2023-09-14 14:34:42,696 The metabolite 'bmocogdp_c' must exist in the ME-model to calculate the element contribution.\n",
      "2023-09-14 14:34:42,696 The metabolite '3fe4s_c' must exist in the ME-model to calculate the element contribution.\n",
      "2023-09-14 14:34:42,696 The metabolite '3fe4s_c' must exist in the ME-model to calculate the element contribution.\n"
     ]
    },
    {
     "name": "stdout",
     "output_type": "stream",
     "text": [
      "Read LP format model from file /tmp/tmpa9z_jqoy.lp\n",
      "Reading time = 0.00 seconds\n",
      ": 0 rows, 0 columns, 0 nonzeros\n",
      "Read LP format model from file /tmp/tmpgvs8ieoc.lp\n",
      "Reading time = 0.00 seconds\n",
      ": 998 rows, 2524 columns, 10562 nonzeros\n",
      "Read LP format model from file /tmp/tmp20vy1of5.lp\n",
      "Reading time = 0.00 seconds\n",
      ": 1088 rows, 2554 columns, 10544 nonzeros\n"
     ]
    },
    {
     "name": "stderr",
     "output_type": "stream",
     "text": [
      "2023-09-14 14:34:53,937 The metabolite 'pg160_p' must exist in the ME-model to calculate the element contribution.\n",
      "2023-09-14 14:34:53,937 The metabolite '2agpg160_p' must exist in the ME-model to calculate the element contribution.\n",
      "2023-09-14 14:34:53,938 The metabolite 'pe160_p' must exist in the ME-model to calculate the element contribution.\n",
      "2023-09-14 14:34:53,938 The metabolite '2agpe160_p' must exist in the ME-model to calculate the element contribution.\n",
      "2023-09-14 14:34:54,342 Metabolite '4fe4s_c' does not have a formula. Please set a formula in the M-model or in the metabolites.txt input file.\n",
      "2023-09-14 14:34:54,342 Metabolite '4fe4s_c' does not have a formula. Please set a formula in the M-model or in the metabolites.txt input file.\n",
      "2023-09-14 14:34:54,342 Metabolite 'lipoyl_c' does not have a formula. Please set a formula in the M-model or in the metabolites.txt input file.\n",
      "2023-09-14 14:34:54,343 Metabolite 'lipoyl_c' does not have a formula. Please set a formula in the M-model or in the metabolites.txt input file.\n",
      "2023-09-14 14:34:54,343 Metabolite '2fe2s_c' does not have a formula. Please set a formula in the M-model or in the metabolites.txt input file.\n",
      "2023-09-14 14:34:54,343 Metabolite '2fe2s_c' does not have a formula. Please set a formula in the M-model or in the metabolites.txt input file.\n",
      "2023-09-14 14:34:54,343 Metabolite 'hemed_c' does not have a formula. Please set a formula in the M-model or in the metabolites.txt input file.\n",
      "2023-09-14 14:34:54,344 Metabolite 'hemed_c' does not have a formula. Please set a formula in the M-model or in the metabolites.txt input file.\n",
      "2023-09-14 14:34:54,344 Metabolite 'fmnh2_c' does not have a formula. Please set a formula in the M-model or in the metabolites.txt input file.\n",
      "2023-09-14 14:34:54,344 Metabolite 'fmnh2_c' does not have a formula. Please set a formula in the M-model or in the metabolites.txt input file.\n",
      "2023-09-14 14:34:54,345 Metabolite 'tl_c' does not have a formula. Please set a formula in the M-model or in the metabolites.txt input file.\n",
      "2023-09-14 14:34:54,345 Metabolite 'tl_c' does not have a formula. Please set a formula in the M-model or in the metabolites.txt input file.\n",
      "2023-09-14 14:34:54,345 Metabolite 'cs_c' does not have a formula. Please set a formula in the M-model or in the metabolites.txt input file.\n",
      "2023-09-14 14:34:54,346 Metabolite 'cs_c' does not have a formula. Please set a formula in the M-model or in the metabolites.txt input file.\n",
      "2023-09-14 14:34:54,346 The metabolite 'adocbl_c' must exist in the ME-model to calculate the element contribution.\n",
      "2023-09-14 14:34:54,346 The metabolite 'adocbl_c' must exist in the ME-model to calculate the element contribution.\n",
      "2023-09-14 14:34:54,347 The metabolite 'coo_c' must exist in the ME-model to calculate the element contribution.\n",
      "2023-09-14 14:34:54,347 The metabolite 'coo_c' must exist in the ME-model to calculate the element contribution.\n",
      "2023-09-14 14:34:54,347 The metabolite 'cosh_c' must exist in the ME-model to calculate the element contribution.\n",
      "2023-09-14 14:34:54,347 The metabolite 'cosh_c' must exist in the ME-model to calculate the element contribution.\n",
      "2023-09-14 14:34:54,347 The metabolite 'lipo_c' must exist in the ME-model to calculate the element contribution.\n",
      "2023-09-14 14:34:54,347 The metabolite 'lipo_c' must exist in the ME-model to calculate the element contribution.\n",
      "2023-09-14 14:34:54,348 The metabolite 'li_c' must exist in the ME-model to calculate the element contribution.\n",
      "2023-09-14 14:34:54,348 The metabolite 'li_c' must exist in the ME-model to calculate the element contribution.\n",
      "2023-09-14 14:34:54,348 The metabolite 'cl_c' must exist in the ME-model to calculate the element contribution.\n",
      "2023-09-14 14:34:54,348 The metabolite 'cl_c' must exist in the ME-model to calculate the element contribution.\n",
      "2023-09-14 14:34:54,348 The metabolite 'bmocogdp_c' must exist in the ME-model to calculate the element contribution.\n",
      "2023-09-14 14:34:54,349 The metabolite 'bmocogdp_c' must exist in the ME-model to calculate the element contribution.\n"
     ]
    },
    {
     "name": "stdout",
     "output_type": "stream",
     "text": [
      "Read LP format model from file /tmp/tmpoah0a35k.lp\n",
      "Reading time = 0.00 seconds\n",
      ": 0 rows, 0 columns, 0 nonzeros\n",
      "Read LP format model from file /tmp/tmpbzy9eibh.lp\n",
      "Reading time = 0.00 seconds\n",
      ": 998 rows, 2524 columns, 10562 nonzeros\n",
      "Read LP format model from file /tmp/tmpb_vd70tk.lp\n",
      "Reading time = 0.00 seconds\n",
      ": 1088 rows, 2554 columns, 10544 nonzeros\n"
     ]
    },
    {
     "name": "stderr",
     "output_type": "stream",
     "text": [
      "2023-09-14 14:35:02,954 The metabolite 'pg160_p' must exist in the ME-model to calculate the element contribution.\n",
      "2023-09-14 14:35:02,954 The metabolite '2agpg160_p' must exist in the ME-model to calculate the element contribution.\n",
      "2023-09-14 14:35:02,955 The metabolite 'pe160_p' must exist in the ME-model to calculate the element contribution.\n",
      "2023-09-14 14:35:02,955 The metabolite '2agpe160_p' must exist in the ME-model to calculate the element contribution.\n",
      "2023-09-14 14:35:03,368 Metabolite '4fe4s_c' does not have a formula. Please set a formula in the M-model or in the metabolites.txt input file.\n",
      "2023-09-14 14:35:03,369 Metabolite '4fe4s_c' does not have a formula. Please set a formula in the M-model or in the metabolites.txt input file.\n",
      "2023-09-14 14:35:03,369 Metabolite 'lipoyl_c' does not have a formula. Please set a formula in the M-model or in the metabolites.txt input file.\n",
      "2023-09-14 14:35:03,369 Metabolite 'lipoyl_c' does not have a formula. Please set a formula in the M-model or in the metabolites.txt input file.\n",
      "2023-09-14 14:35:03,369 Metabolite '2fe2s_c' does not have a formula. Please set a formula in the M-model or in the metabolites.txt input file.\n",
      "2023-09-14 14:35:03,369 Metabolite '2fe2s_c' does not have a formula. Please set a formula in the M-model or in the metabolites.txt input file.\n",
      "2023-09-14 14:35:03,370 Metabolite 'hemed_c' does not have a formula. Please set a formula in the M-model or in the metabolites.txt input file.\n",
      "2023-09-14 14:35:03,370 Metabolite 'hemed_c' does not have a formula. Please set a formula in the M-model or in the metabolites.txt input file.\n",
      "2023-09-14 14:35:03,370 Metabolite 'fmnh2_c' does not have a formula. Please set a formula in the M-model or in the metabolites.txt input file.\n",
      "2023-09-14 14:35:03,370 Metabolite 'fmnh2_c' does not have a formula. Please set a formula in the M-model or in the metabolites.txt input file.\n",
      "2023-09-14 14:35:03,371 Metabolite 'tl_c' does not have a formula. Please set a formula in the M-model or in the metabolites.txt input file.\n",
      "2023-09-14 14:35:03,371 Metabolite 'tl_c' does not have a formula. Please set a formula in the M-model or in the metabolites.txt input file.\n",
      "2023-09-14 14:35:03,371 Metabolite 'cs_c' does not have a formula. Please set a formula in the M-model or in the metabolites.txt input file.\n",
      "2023-09-14 14:35:03,372 Metabolite 'cs_c' does not have a formula. Please set a formula in the M-model or in the metabolites.txt input file.\n",
      "2023-09-14 14:35:03,372 The metabolite 'adocbl_c' must exist in the ME-model to calculate the element contribution.\n",
      "2023-09-14 14:35:03,373 The metabolite 'adocbl_c' must exist in the ME-model to calculate the element contribution.\n",
      "2023-09-14 14:35:03,373 The metabolite 'coo_c' must exist in the ME-model to calculate the element contribution.\n",
      "2023-09-14 14:35:03,373 The metabolite 'coo_c' must exist in the ME-model to calculate the element contribution.\n",
      "2023-09-14 14:35:03,373 The metabolite 'cosh_c' must exist in the ME-model to calculate the element contribution.\n",
      "2023-09-14 14:35:03,374 The metabolite 'cosh_c' must exist in the ME-model to calculate the element contribution.\n",
      "2023-09-14 14:35:03,374 The metabolite 'lipo_c' must exist in the ME-model to calculate the element contribution.\n",
      "2023-09-14 14:35:03,374 The metabolite 'lipo_c' must exist in the ME-model to calculate the element contribution.\n",
      "2023-09-14 14:35:03,374 The metabolite 'li_c' must exist in the ME-model to calculate the element contribution.\n",
      "2023-09-14 14:35:03,374 The metabolite 'li_c' must exist in the ME-model to calculate the element contribution.\n",
      "2023-09-14 14:35:03,375 The metabolite 'cl_c' must exist in the ME-model to calculate the element contribution.\n",
      "2023-09-14 14:35:03,375 The metabolite 'cl_c' must exist in the ME-model to calculate the element contribution.\n",
      "2023-09-14 14:35:03,375 The metabolite 'bmocogdp_c' must exist in the ME-model to calculate the element contribution.\n",
      "2023-09-14 14:35:03,375 The metabolite 'bmocogdp_c' must exist in the ME-model to calculate the element contribution.\n",
      "100%|██████████| 1/1 [00:32<00:00, 32.24s/it]\n"
     ]
    }
   ],
   "source": [
    "dirs = get_org_dirs(directory)\n",
    "for d in tqdm.tqdm(dirs):\n",
    "    if d == 'ecoli': continue\n",
    "    save(\"./{}/{}/MEModel-step1-{}\".format(directory,d,d))\n",
    "    save(\"./{}/{}/MEModel-step2-{}\".format(directory,d,d))\n",
    "    save(\"./{}/{}/MEModel-step3-{}-TS\".format(directory,d,d))"
   ]
  },
  {
   "cell_type": "code",
   "execution_count": null,
   "id": "c777f341-aa85-4341-b82f-2b4507ee0289",
   "metadata": {},
   "outputs": [],
   "source": []
  }
 ],
 "metadata": {
  "kernelspec": {
   "display_name": "coralme",
   "language": "python",
   "name": "coralme"
  },
  "language_info": {
   "codemirror_mode": {
    "name": "ipython",
    "version": 3
   },
   "file_extension": ".py",
   "mimetype": "text/x-python",
   "name": "python",
   "nbconvert_exporter": "python",
   "pygments_lexer": "ipython3",
   "version": "3.10.12"
  }
 },
 "nbformat": 4,
 "nbformat_minor": 5
}
