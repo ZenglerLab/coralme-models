{
 "cells": [
  {
   "cell_type": "code",
   "execution_count": 1,
   "id": "fadf741b-d65e-4c02-a73f-3c1414e848ce",
   "metadata": {
    "ExecuteTime": {
     "end_time": "2023-08-28T23:56:44.176058Z",
     "start_time": "2023-08-28T23:56:44.133939Z"
    }
   },
   "outputs": [
    {
     "data": {
      "text/html": [
       "<style>.container { width:95% !important; }</style>"
      ],
      "text/plain": [
       "<IPython.core.display.HTML object>"
      ]
     },
     "metadata": {},
     "output_type": "display_data"
    }
   ],
   "source": [
    "from IPython.display import display, HTML, Math, Markdown\n",
    "display(HTML(\"<style>.container { width:95% !important; }</style>\"))"
   ]
  },
  {
   "cell_type": "code",
   "execution_count": 2,
   "id": "63414ed1-c7f0-4b1c-9dd0-534c4182f428",
   "metadata": {
    "ExecuteTime": {
     "end_time": "2023-08-28T23:56:45.291775Z",
     "start_time": "2023-08-28T23:56:44.182325Z"
    }
   },
   "outputs": [],
   "source": [
    "from coralme.builder.main import MEBuilder, MEReconstruction, METroubleshooter\n",
    "from coralme.builder.curation import MECurator, MEManualCuration\n",
    "import coralme"
   ]
  },
  {
   "cell_type": "code",
   "execution_count": 3,
   "id": "659ca4b2-ac94-4b00-98e8-68fdf89c0b16",
   "metadata": {
    "ExecuteTime": {
     "end_time": "2023-08-28T23:56:45.295600Z",
     "start_time": "2023-08-28T23:56:45.293189Z"
    }
   },
   "outputs": [],
   "source": [
    "org = 'ecoli'\n",
    "organism = './{:s}/organism.json'.format(org)\n",
    "inputs = './{:s}/input.json'.format(org)"
   ]
  },
  {
   "cell_type": "markdown",
   "id": "50f8ec29-232f-4f8a-9143-4ec0f89c3b94",
   "metadata": {},
   "source": [
    "### Full"
   ]
  },
  {
   "cell_type": "code",
   "execution_count": 4,
   "id": "63010c92-3cab-4563-8252-51a4e489ae0e",
   "metadata": {
    "ExecuteTime": {
     "end_time": "2023-08-28T23:56:45.331891Z",
     "start_time": "2023-08-28T23:56:45.297374Z"
    },
    "scrolled": true,
    "tags": []
   },
   "outputs": [
    {
     "name": "stdout",
     "output_type": "stream",
     "text": [
      "Set parameter Username\n",
      "Academic license - for non-commercial use only - expires 2024-04-01\n"
     ]
    }
   ],
   "source": [
    "builder = MEBuilder(*[organism, inputs])"
   ]
  },
  {
   "cell_type": "code",
   "execution_count": 5,
   "id": "cd56e9b5-9c24-40ac-bd8b-d1a1d6d23c2a",
   "metadata": {
    "ExecuteTime": {
     "end_time": "2023-08-28T23:58:08.732653Z",
     "start_time": "2023-08-28T23:56:45.333429Z"
    },
    "scrolled": true,
    "tags": []
   },
   "outputs": [
    {
     "name": "stdout",
     "output_type": "stream",
     "text": [
      "Initiating file processing...\n",
      "~ Processing files for ecoli...\n"
     ]
    },
    {
     "name": "stderr",
     "output_type": "stream",
     "text": [
      "Checking M-model metabolites...                                            : 100.0%|██████████|  1660/ 1660 [00:00<00:00]\n",
      "Checking M-model genes...                                                  : 100.0%|██████████|  1271/ 1271 [00:00<00:00]\n",
      "Checking M-model reactions...                                              : 100.0%|██████████|  2377/ 2377 [00:00<00:00]\n",
      "Syncing optional genes file...                                             : 100.0%|██████████|  4713/ 4713 [00:06<00:00]\n",
      "Looking for duplicates within datasets...                                  : 100.0%|██████████|     5/    5 [00:00<00:00]\n",
      "Gathering ID occurrences across datasets...                                : 100.0%|██████████| 12198/12198 [00:00<00:00]\n",
      "Solving duplicates across datasets...                                      : 0.0%|          |     0/    0 [00:00<?]\n",
      "Pruning GenBank...                                                         : 100.0%|██████████|     1/    1 [00:03<00:00]\n",
      "Updating Genbank file with optional files...                               : 100.0%|██████████|  4713/ 4713 [00:00<00:00]\n",
      "Syncing optional files with genbank contigs...                             : 100.0%|██████████|   287/  287 [00:10<00:00]\n",
      "Modifying metabolic reactions with manual curation...                      : 0.0%|          |     0/    0 [00:00<?]\n",
      "Adding manual curation of complexes...                                     : 0.0%|          |     0/    0 [00:00<?]\n",
      "Getting sigma factors...                                                   : 100.0%|██████████|     7/    7 [00:00<00:00]\n",
      "Getting generics from Genbank contigs...                                   : 100.0%|██████████|   287/  287 [00:00<00:00]\n",
      "Getting TU-gene associations from optional TUs file...                     : 100.0%|██████████|  3697/ 3697 [00:00<00:00]\n",
      "Gathering ribosome stoichiometry...                                        : 100.0%|██████████|    55/   55 [00:00<00:00]\n",
      "Adding protein location...                                                 : 100.0%|██████████|  5090/ 5090 [00:01<00:00]\n",
      "Purging M-model genes...                                                   : 100.0%|██████████|  1271/ 1271 [00:00<00:00]\n",
      "Getting enzyme-reaction associations...                                    : 100.0%|██████████|  2377/ 2377 [00:00<00:00]\n"
     ]
    },
    {
     "name": "stdout",
     "output_type": "stream",
     "text": [
      "Reading ecoli done...\n"
     ]
    },
    {
     "name": "stderr",
     "output_type": "stream",
     "text": [
      "Gathering M-model compartments...                                          : 100.0%|██████████|     3/    3 [00:00<00:00]\n",
      "Fixing compartments in M-model metabolites...                              : 100.0%|██████████|  1660/ 1660 [00:00<00:00]\n",
      "Fixing missing names in M-model reactions...                               : 100.0%|██████████|  2377/ 2377 [00:00<00:00]\n",
      "Updating enzyme reaction association...                                    : 100.0%|██████████|  2079/ 2079 [00:00<00:00]\n",
      "Getting tRNA to codon dictionary from NC_000913.2                          : 100.0%|██████████|  4317/ 4317 [00:07<00:00]\n",
      "Getting tRNA to codon dictionary from b0235                                : 100.0%|██████████|     2/    2 [00:00<00:00]\n",
      "Getting tRNA to codon dictionary from b4644                                : 100.0%|██████████|     2/    2 [00:00<00:00]\n",
      "Getting tRNA to codon dictionary from b0691                                : 100.0%|██████████|     2/    2 [00:00<00:00]\n",
      "Getting tRNA to codon dictionary from b2862                                : 100.0%|██████████|     2/    2 [00:00<00:00]\n",
      "Getting tRNA to codon dictionary from b1362                                : 100.0%|██████████|     2/    2 [00:00<00:00]\n",
      "Getting tRNA to codon dictionary from b0218                                : 100.0%|██████████|     2/    2 [00:00<00:00]\n",
      "Getting tRNA to codon dictionary from b4810                                : 100.0%|██████████|     2/    2 [00:00<00:00]\n",
      "Getting tRNA to codon dictionary from b4807                                : 100.0%|██████████|     2/    2 [00:00<00:00]\n",
      "Getting tRNA to codon dictionary from b4808                                : 100.0%|██████████|     2/    2 [00:00<00:00]\n",
      "Getting tRNA to codon dictionary from b4809                                : 100.0%|██████████|     2/    2 [00:00<00:00]\n",
      "Getting tRNA to codon dictionary from b4764                                : 100.0%|██████████|     2/    2 [00:00<00:00]\n",
      "Getting tRNA to codon dictionary from G0-10537                             : 100.0%|██████████|     2/    2 [00:00<00:00]\n",
      "Getting tRNA to codon dictionary from G0-10531                             : 100.0%|██████████|     2/    2 [00:00<00:00]\n",
      "Getting tRNA to codon dictionary from b4710                                : 100.0%|██████████|     2/    2 [00:00<00:00]\n",
      "Getting tRNA to codon dictionary from G0-10528                             : 100.0%|██████████|     2/    2 [00:00<00:00]\n",
      "Getting tRNA to codon dictionary from G0-10544                             : 100.0%|██████████|     2/    2 [00:00<00:00]\n",
      "Getting tRNA to codon dictionary from G0-10541                             : 100.0%|██████████|     2/    2 [00:00<00:00]\n",
      "Getting tRNA to codon dictionary from G0-10538                             : 100.0%|██████████|     2/    2 [00:00<00:00]\n",
      "Getting tRNA to codon dictionary from G0-10535                             : 100.0%|██████████|     2/    2 [00:00<00:00]\n",
      "Getting tRNA to codon dictionary from b4709                                : 100.0%|██████████|     2/    2 [00:00<00:00]\n",
      "Getting tRNA to codon dictionary from G0-10529                             : 100.0%|██████████|     2/    2 [00:00<00:00]\n",
      "Getting tRNA to codon dictionary from G0-10545                             : 100.0%|██████████|     2/    2 [00:00<00:00]\n",
      "Getting tRNA to codon dictionary from G0-10542                             : 100.0%|██████████|     2/    2 [00:00<00:00]\n",
      "Getting tRNA to codon dictionary from G0-10539                             : 100.0%|██████████|     2/    2 [00:00<00:00]\n",
      "Getting tRNA to codon dictionary from G0-10536                             : 100.0%|██████████|     2/    2 [00:00<00:00]\n",
      "Getting tRNA to codon dictionary from b4711                                : 100.0%|██████████|     2/    2 [00:00<00:00]\n",
      "Getting tRNA to codon dictionary from G0-10530                             : 100.0%|██████████|     2/    2 [00:00<00:00]\n",
      "Getting tRNA to codon dictionary from G0-10546                             : 100.0%|██████████|     2/    2 [00:00<00:00]\n",
      "Getting tRNA to codon dictionary from G0-10525                             : 100.0%|██████████|     2/    2 [00:00<00:00]\n",
      "Getting tRNA to codon dictionary from G0-10543                             : 100.0%|██████████|     2/    2 [00:00<00:00]\n",
      "Getting tRNA to codon dictionary from G0-10540                             : 100.0%|██████████|     2/    2 [00:00<00:00]\n",
      "Getting tRNA to codon dictionary from b1370                                : 100.0%|██████████|     2/    2 [00:00<00:00]\n",
      "Getting tRNA to codon dictionary from b1151                                : 100.0%|██████████|     2/    2 [00:00<00:00]\n",
      "Getting tRNA to codon dictionary from b0266                                : 100.0%|██████████|     2/    2 [00:00<00:00]\n",
      "Getting tRNA to codon dictionary from b1142                                : 100.0%|██████████|     2/    2 [00:00<00:00]\n",
      "Getting tRNA to codon dictionary from b2638                                : 100.0%|██████████|     2/    2 [00:00<00:00]\n",
      "Getting tRNA to codon dictionary from b0258                                : 100.0%|██████████|     2/    2 [00:00<00:00]\n",
      "Getting tRNA to codon dictionary from b0561                                : 100.0%|██████████|     2/    2 [00:00<00:00]\n",
      "Getting tRNA to codon dictionary from b1366                                : 100.0%|██████████|     2/    2 [00:00<00:00]\n",
      "Getting tRNA to codon dictionary from b1149                                : 100.0%|██████████|     2/    2 [00:00<00:00]\n",
      "Getting tRNA to codon dictionary from b1548                                : 100.0%|██████████|     2/    2 [00:00<00:00]\n",
      "Getting tRNA to codon dictionary from b2358                                : 100.0%|██████████|     2/    2 [00:00<00:00]\n",
      "Getting tRNA to codon dictionary from b1567                                : 100.0%|██████████|     2/    2 [00:00<00:00]\n",
      "Getting tRNA to codon dictionary from b0563                                : 100.0%|██████████|     2/    2 [00:00<00:00]\n",
      "Getting tRNA to codon dictionary from b2006                                : 100.0%|██████████|     2/    2 [00:00<00:00]\n",
      "Getting tRNA to codon dictionary from b1368                                : 100.0%|██████████|     2/    2 [00:00<00:00]\n",
      "Getting tRNA to codon dictionary from b1361                                : 100.0%|██████████|     2/    2 [00:00<00:00]\n",
      "Getting tRNA to codon dictionary from b0276                                : 100.0%|██████████|     2/    2 [00:00<00:00]\n",
      "Getting tRNA to codon dictionary from b2356                                : 100.0%|██████████|     2/    2 [00:00<00:00]\n",
      "Getting tRNA to codon dictionary from b1568                                : 100.0%|██████████|     2/    2 [00:00<00:00]\n",
      "Getting tRNA to codon dictionary from b4584                                : 100.0%|██████████|     2/    2 [00:00<00:00]\n",
      "Getting tRNA to codon dictionary from b4496                                : 100.0%|██████████|     2/    2 [00:00<00:00]\n",
      "Getting tRNA to codon dictionary from b4575                                : 100.0%|██████████|     2/    2 [00:00<00:00]\n",
      "Getting tRNA to codon dictionary from b3534                                : 100.0%|██████████|     2/    2 [00:00<00:00]\n",
      "Getting tRNA to codon dictionary from b4658                                : 100.0%|██████████|     2/    2 [00:00<00:00]\n",
      "Getting tRNA to codon dictionary from b4490                                : 100.0%|██████████|     2/    2 [00:00<00:00]\n",
      "Getting tRNA to codon dictionary from b2850                                : 100.0%|██████████|     2/    2 [00:00<00:00]\n",
      "Getting tRNA to codon dictionary from b4038                                : 100.0%|██████████|     2/    2 [00:00<00:00]\n",
      "Getting tRNA to codon dictionary from b3782                                : 100.0%|██████████|     2/    2 [00:00<00:00]\n",
      "Getting tRNA to codon dictionary from b4661                                : 100.0%|██████████|     2/    2 [00:00<00:00]\n",
      "Getting tRNA to codon dictionary from b4493                                : 100.0%|██████████|     2/    2 [00:00<00:00]\n",
      "Getting tRNA to codon dictionary from b4497                                : 100.0%|██████████|     2/    2 [00:00<00:00]\n"
     ]
    },
    {
     "name": "stderr",
     "output_type": "stream",
     "text": [
      "Getting tRNA to codon dictionary from b4521                                : 100.0%|██████████|     2/    2 [00:00<00:00]\n",
      "Getting tRNA to codon dictionary from b4494                                : 100.0%|██████████|     2/    2 [00:00<00:00]\n",
      "Getting tRNA to codon dictionary from b4491                                : 100.0%|██████████|     2/    2 [00:00<00:00]\n",
      "Getting tRNA to codon dictionary from b4660                                : 100.0%|██████████|     2/    2 [00:00<00:00]\n",
      "Getting tRNA to codon dictionary from b2856                                : 100.0%|██████████|     2/    2 [00:00<00:00]\n",
      "Getting tRNA to codon dictionary from b4462                                : 100.0%|██████████|     2/    2 [00:00<00:00]\n",
      "Getting tRNA to codon dictionary from b4286                                : 100.0%|██████████|     2/    2 [00:00<00:00]\n",
      "Getting tRNA to codon dictionary from b4495                                : 100.0%|██████████|     2/    2 [00:00<00:00]\n",
      "Getting tRNA to codon dictionary from b2859                                : 100.0%|██████████|     2/    2 [00:00<00:00]\n",
      "Getting tRNA to codon dictionary from b0562                                : 100.0%|██████████|     2/    2 [00:00<00:00]\n",
      "Getting tRNA to codon dictionary from b2681                                : 100.0%|██████████|     2/    2 [00:00<00:00]\n",
      "Getting tRNA to codon dictionary from b4696                                : 100.0%|██████████|     2/    2 [00:00<00:00]\n",
      "Getting tRNA to codon dictionary from b4488                                : 100.0%|██████████|     2/    2 [00:00<00:00]\n",
      "Getting tRNA to codon dictionary from b4500                                : 100.0%|██████████|     2/    2 [00:00<00:00]\n",
      "Getting tRNA to codon dictionary from b4610                                : 100.0%|██████████|     2/    2 [00:00<00:00]\n",
      "Getting tRNA to codon dictionary from b4545                                : 100.0%|██████████|     2/    2 [00:00<00:00]\n",
      "Getting tRNA to codon dictionary from b2863                                : 100.0%|██████████|     2/    2 [00:00<00:00]\n",
      "Getting tRNA to codon dictionary from b1471                                : 100.0%|██████████|     2/    2 [00:00<00:00]\n",
      "Getting tRNA to codon dictionary from b4795                                : 100.0%|██████████|     2/    2 [00:00<00:00]\n",
      "Getting tRNA to codon dictionary from b4777                                : 100.0%|██████████|     2/    2 [00:00<00:00]\n",
      "Getting tRNA to codon dictionary from b4753                                : 100.0%|██████████|     2/    2 [00:00<00:00]\n",
      "Getting tRNA to codon dictionary from b4738                                : 100.0%|██████████|     2/    2 [00:00<00:00]\n",
      "Getting tRNA to codon dictionary from b4525                                : 100.0%|██████████|     2/    2 [00:00<00:00]\n",
      "Getting tRNA to codon dictionary from b4791                                : 100.0%|██████████|     2/    2 [00:00<00:00]\n",
      "Getting tRNA to codon dictionary from b4774                                : 100.0%|██████████|     2/    2 [00:00<00:00]\n",
      "Getting tRNA to codon dictionary from b4749                                : 100.0%|██████████|     2/    2 [00:00<00:00]\n",
      "Getting tRNA to codon dictionary from b4735                                : 100.0%|██████████|     2/    2 [00:00<00:00]\n",
      "Getting tRNA to codon dictionary from b2969                                : 100.0%|██████████|     2/    2 [00:00<00:00]\n",
      "Getting tRNA to codon dictionary from b4743                                : 100.0%|██████████|     2/    2 [00:00<00:00]\n",
      "Getting tRNA to codon dictionary from b4788                                : 100.0%|██████████|     2/    2 [00:00<00:00]\n",
      "Getting tRNA to codon dictionary from b4771                                : 100.0%|██████████|     2/    2 [00:00<00:00]\n",
      "Getting tRNA to codon dictionary from b4746                                : 100.0%|██████████|     2/    2 [00:00<00:00]\n",
      "Getting tRNA to codon dictionary from b4732                                : 100.0%|██████████|     2/    2 [00:00<00:00]\n",
      "Getting tRNA to codon dictionary from b3808                                : 100.0%|██████████|     2/    2 [00:00<00:00]\n",
      "Getting tRNA to codon dictionary from b0322                                : 100.0%|██████████|     2/    2 [00:00<00:00]\n",
      "Getting tRNA to codon dictionary from b0012                                : 100.0%|██████████|     2/    2 [00:00<00:00]\n",
      "Getting tRNA to codon dictionary from b0502                                : 100.0%|██████████|     2/    2 [00:00<00:00]\n",
      "Getting tRNA to codon dictionary from b4802                                : 100.0%|██████████|     2/    2 [00:00<00:00]\n",
      "Getting tRNA to codon dictionary from b4785                                : 100.0%|██████████|     2/    2 [00:00<00:00]\n",
      "Getting tRNA to codon dictionary from b4768                                : 100.0%|██████████|     2/    2 [00:00<00:00]\n",
      "Getting tRNA to codon dictionary from b4742                                : 100.0%|██████████|     2/    2 [00:00<00:00]\n",
      "Getting tRNA to codon dictionary from b4729                                : 100.0%|██████████|     2/    2 [00:00<00:00]\n",
      "Getting tRNA to codon dictionary from b3427                                : 100.0%|██████████|     2/    2 [00:00<00:00]\n",
      "Getting tRNA to codon dictionary from b0057                                : 100.0%|██████████|     2/    2 [00:00<00:00]\n",
      "Getting tRNA to codon dictionary from b0282                                : 100.0%|██████████|     2/    2 [00:00<00:00]\n",
      "Getting tRNA to codon dictionary from b4799                                : 100.0%|██████████|     2/    2 [00:00<00:00]\n",
      "Getting tRNA to codon dictionary from b4782                                : 100.0%|██████████|     2/    2 [00:00<00:00]\n",
      "Getting tRNA to codon dictionary from b4757                                : 100.0%|██████████|     2/    2 [00:00<00:00]\n",
      "Getting tRNA to codon dictionary from b4726                                : 100.0%|██████████|     2/    2 [00:00<00:00]\n",
      "Getting tRNA to codon dictionary from b2650                                : 100.0%|██████████|     2/    2 [00:00<00:00]\n",
      "Getting tRNA to codon dictionary from b2115                                : 100.0%|██████████|     2/    2 [00:00<00:00]\n",
      "Getting tRNA to codon dictionary from b2981                                : 100.0%|██████████|     2/    2 [00:00<00:00]\n",
      "Getting tRNA to codon dictionary from b1472                                : 100.0%|██████████|     2/    2 [00:00<00:00]\n",
      "Getting tRNA to codon dictionary from b4572                                : 100.0%|██████████|     2/    2 [00:00<00:00]\n",
      "Getting tRNA to codon dictionary from b4796                                : 100.0%|██████████|     2/    2 [00:00<00:00]\n",
      "Getting tRNA to codon dictionary from b4778                                : 100.0%|██████████|     2/    2 [00:00<00:00]\n",
      "Getting tRNA to codon dictionary from b4754                                : 100.0%|██████████|     2/    2 [00:00<00:00]\n",
      "Getting tRNA to codon dictionary from b4739                                : 100.0%|██████████|     2/    2 [00:00<00:00]\n",
      "Getting tRNA to codon dictionary from b1228                                : 100.0%|██████████|     2/    2 [00:00<00:00]\n",
      "Getting tRNA to codon dictionary from b4760                                : 100.0%|██████████|     2/    2 [00:00<00:00]\n",
      "Getting tRNA to codon dictionary from b4792                                : 100.0%|██████████|     2/    2 [00:00<00:00]\n",
      "Getting tRNA to codon dictionary from b4775                                : 100.0%|██████████|     2/    2 [00:00<00:00]\n",
      "Getting tRNA to codon dictionary from b4750                                : 100.0%|██████████|     2/    2 [00:00<00:00]\n",
      "Getting tRNA to codon dictionary from b4736                                : 100.0%|██████████|     2/    2 [00:00<00:00]\n",
      "Getting tRNA to codon dictionary from b4758                                : 100.0%|██████████|     2/    2 [00:00<00:00]\n",
      "Getting tRNA to codon dictionary from b4719                                : 100.0%|██████████|     2/    2 [00:00<00:00]\n",
      "Getting tRNA to codon dictionary from b2970                                : 100.0%|██████████|     2/    2 [00:00<00:00]\n"
     ]
    },
    {
     "name": "stderr",
     "output_type": "stream",
     "text": [
      "Getting tRNA to codon dictionary from b4716                                : 100.0%|██████████|     2/    2 [00:00<00:00]\n",
      "Getting tRNA to codon dictionary from b4789                                : 100.0%|██████████|     2/    2 [00:00<00:00]\n",
      "Getting tRNA to codon dictionary from b4772                                : 100.0%|██████████|     2/    2 [00:00<00:00]\n",
      "Getting tRNA to codon dictionary from b4747                                : 100.0%|██████████|     2/    2 [00:00<00:00]\n",
      "Getting tRNA to codon dictionary from b4733                                : 100.0%|██████████|     2/    2 [00:00<00:00]\n",
      "Getting tRNA to codon dictionary from b4534                                : 100.0%|██████████|     2/    2 [00:00<00:00]\n",
      "Getting tRNA to codon dictionary from b2941                                : 100.0%|██████████|     2/    2 [00:00<00:00]\n",
      "Getting tRNA to codon dictionary from b4786                                : 100.0%|██████████|     2/    2 [00:00<00:00]\n",
      "Getting tRNA to codon dictionary from b4769                                : 100.0%|██████████|     2/    2 [00:00<00:00]\n",
      "Getting tRNA to codon dictionary from b4744                                : 100.0%|██████████|     2/    2 [00:00<00:00]\n",
      "Getting tRNA to codon dictionary from b4342                                : 100.0%|██████████|     2/    2 [00:00<00:00]\n",
      "Getting tRNA to codon dictionary from b4730                                : 100.0%|██████████|     2/    2 [00:00<00:00]\n",
      "Getting tRNA to codon dictionary from b3683                                : 100.0%|██████████|     2/    2 [00:00<00:00]\n",
      "Getting tRNA to codon dictionary from b4800                                : 100.0%|██████████|     2/    2 [00:00<00:00]\n",
      "Getting tRNA to codon dictionary from b4783                                : 100.0%|██████████|     2/    2 [00:00<00:00]\n",
      "Getting tRNA to codon dictionary from b4765                                : 100.0%|██████████|     2/    2 [00:00<00:00]\n",
      "Getting tRNA to codon dictionary from b3682                                : 100.0%|██████████|     2/    2 [00:00<00:00]\n",
      "Getting tRNA to codon dictionary from b4727                                : 100.0%|██████████|     2/    2 [00:00<00:00]\n",
      "Getting tRNA to codon dictionary from b4615                                : 100.0%|██████████|     2/    2 [00:00<00:00]\n",
      "Getting tRNA to codon dictionary from b2122                                : 100.0%|██████████|     2/    2 [00:00<00:00]\n",
      "Getting tRNA to codon dictionary from b4797                                : 100.0%|██████████|     2/    2 [00:00<00:00]\n",
      "Getting tRNA to codon dictionary from b4779                                : 100.0%|██████████|     2/    2 [00:00<00:00]\n",
      "Getting tRNA to codon dictionary from b4755                                : 100.0%|██████████|     2/    2 [00:00<00:00]\n",
      "Getting tRNA to codon dictionary from b4740                                : 100.0%|██████████|     2/    2 [00:00<00:00]\n",
      "Getting tRNA to codon dictionary from b4688                                : 100.0%|██████████|     2/    2 [00:00<00:00]\n",
      "Getting tRNA to codon dictionary from b4605                                : 100.0%|██████████|     2/    2 [00:00<00:00]\n",
      "Getting tRNA to codon dictionary from b4538                                : 100.0%|██████████|     2/    2 [00:00<00:00]\n",
      "Getting tRNA to codon dictionary from b4793                                : 100.0%|██████████|     2/    2 [00:00<00:00]\n",
      "Getting tRNA to codon dictionary from b4776                                : 100.0%|██████████|     2/    2 [00:00<00:00]\n",
      "Getting tRNA to codon dictionary from b4752                                : 100.0%|██████████|     2/    2 [00:00<00:00]\n",
      "Getting tRNA to codon dictionary from b4737                                : 100.0%|██████████|     2/    2 [00:00<00:00]\n",
      "Getting tRNA to codon dictionary from b4790                                : 100.0%|██████████|     2/    2 [00:00<00:00]\n",
      "Getting tRNA to codon dictionary from b4773                                : 100.0%|██████████|     2/    2 [00:00<00:00]\n",
      "Getting tRNA to codon dictionary from b4748                                : 100.0%|██████████|     2/    2 [00:00<00:00]\n",
      "Getting tRNA to codon dictionary from b4734                                : 100.0%|██████████|     2/    2 [00:00<00:00]\n",
      "Getting tRNA to codon dictionary from b4787                                : 100.0%|██████████|     2/    2 [00:00<00:00]\n",
      "Getting tRNA to codon dictionary from b4770                                : 100.0%|██████████|     2/    2 [00:00<00:00]\n",
      "Getting tRNA to codon dictionary from b4745                                : 100.0%|██████████|     2/    2 [00:00<00:00]\n",
      "Getting tRNA to codon dictionary from b4731                                : 100.0%|██████████|     2/    2 [00:00<00:00]\n",
      "Getting tRNA to codon dictionary from b4801                                : 100.0%|██████████|     2/    2 [00:00<00:00]\n",
      "Getting tRNA to codon dictionary from b4784                                : 100.0%|██████████|     2/    2 [00:00<00:00]\n",
      "Getting tRNA to codon dictionary from b4767                                : 100.0%|██████████|     2/    2 [00:00<00:00]\n",
      "Getting tRNA to codon dictionary from b4741                                : 100.0%|██████████|     2/    2 [00:00<00:00]\n",
      "Getting tRNA to codon dictionary from b4728                                : 100.0%|██████████|     2/    2 [00:00<00:00]\n",
      "Getting tRNA to codon dictionary from b0056                                : 100.0%|██████████|     2/    2 [00:00<00:00]\n",
      "Getting tRNA to codon dictionary from b1505                                : 100.0%|██████████|     2/    2 [00:00<00:00]\n",
      "Getting tRNA to codon dictionary from b4798                                : 100.0%|██████████|     2/    2 [00:00<00:00]\n",
      "Getting tRNA to codon dictionary from b4781                                : 100.0%|██████████|     2/    2 [00:00<00:00]\n",
      "Getting tRNA to codon dictionary from b4756                                : 100.0%|██████████|     2/    2 [00:00<00:00]\n",
      "Getting tRNA to codon dictionary from b1543                                : 100.0%|██████████|     2/    2 [00:00<00:00]\n",
      "Getting tRNA to codon dictionary from b2649                                : 100.0%|██████████|     2/    2 [00:00<00:00]\n",
      "Getting tRNA to codon dictionary from G0-16695                             : 100.0%|██████████|     2/    2 [00:00<00:00]\n",
      "Getting tRNA to codon dictionary from b4725                                : 100.0%|██████████|     2/    2 [00:00<00:00]\n",
      "Getting tRNA to codon dictionary from G0-10701                             : 100.0%|██████████|     2/    2 [00:00<00:00]\n",
      "Getting tRNA to codon dictionary from b4812                                : 100.0%|██████████|     2/    2 [00:00<00:00]\n",
      "Getting tRNA to codon dictionary from b4721                                : 100.0%|██████████|     2/    2 [00:00<00:00]\n",
      "Getting tRNA to codon dictionary from b4763                                : 100.0%|██████████|     2/    2 [00:00<00:00]\n",
      "Getting tRNA to codon dictionary from b4761                                : 100.0%|██████████|     2/    2 [00:00<00:00]\n",
      "Getting tRNA to codon dictionary from G0-8861                              : 100.0%|██████████|     2/    2 [00:00<00:00]\n",
      "Getting tRNA to codon dictionary from b4762                                : 100.0%|██████████|     2/    2 [00:00<00:00]\n",
      "Getting tRNA to codon dictionary from b4416                                : 100.0%|██████████|     2/    2 [00:00<00:00]\n",
      "Getting tRNA to codon dictionary from b4805                                : 100.0%|██████████|     2/    2 [00:00<00:00]\n",
      "Getting tRNA to codon dictionary from b4718                                : 100.0%|██████████|     2/    2 [00:00<00:00]\n",
      "Getting tRNA to codon dictionary from G0-16699                             : 100.0%|██████████|     2/    2 [00:00<00:00]\n",
      "Getting tRNA to codon dictionary from G0-16635                             : 100.0%|██████████|     2/    2 [00:00<00:00]\n",
      "Getting tRNA to codon dictionary from G0-16696                             : 100.0%|██████████|     2/    2 [00:00<00:00]\n",
      "Getting tRNA to codon dictionary from G0-16693                             : 100.0%|██████████|     2/    2 [00:00<00:00]\n"
     ]
    },
    {
     "name": "stderr",
     "output_type": "stream",
     "text": [
      "Getting tRNA to codon dictionary from G0-10706                             : 100.0%|██████████|     2/    2 [00:00<00:00]\n",
      "Getting tRNA to codon dictionary from b4723                                : 100.0%|██████████|     2/    2 [00:00<00:00]\n",
      "Getting tRNA to codon dictionary from G0-17079                             : 100.0%|██████████|     2/    2 [00:00<00:00]\n",
      "Getting tRNA to codon dictionary from b4722                                : 100.0%|██████████|     2/    2 [00:00<00:00]\n",
      "Getting tRNA to codon dictionary from b4673                                : 100.0%|██████████|     2/    2 [00:00<00:00]\n",
      "Getting tRNA to codon dictionary from G0-17076                             : 100.0%|██████████|     2/    2 [00:00<00:00]\n",
      "Getting tRNA to codon dictionary from b4759                                : 100.0%|██████████|     2/    2 [00:00<00:00]\n",
      "Getting tRNA to codon dictionary from G0-16697                             : 100.0%|██████████|     2/    2 [00:00<00:00]\n",
      "Getting tRNA to codon dictionary from G0-10738                             : 100.0%|██████████|     2/    2 [00:00<00:00]\n",
      "Getting tRNA to codon dictionary from G0-16694                             : 100.0%|██████████|     2/    2 [00:00<00:00]\n",
      "Getting tRNA to codon dictionary from b4514                                : 100.0%|██████████|     2/    2 [00:00<00:00]\n",
      "Getting tRNA to codon dictionary from b4724                                : 100.0%|██████████|     2/    2 [00:00<00:00]\n",
      "Getting tRNA to codon dictionary from b4811                                : 100.0%|██████████|     2/    2 [00:00<00:00]\n",
      "Getting tRNA to codon dictionary from b4720                                : 100.0%|██████████|     2/    2 [00:00<00:00]\n",
      "Getting tRNA to codon dictionary from b4804                                : 100.0%|██████████|     2/    2 [00:00<00:00]\n",
      "Getting tRNA to codon dictionary from G0-10624                             : 100.0%|██████████|     2/    2 [00:00<00:00]\n",
      "Getting tRNA to codon dictionary from b4715                                : 100.0%|██████████|     2/    2 [00:00<00:00]\n",
      "Getting tRNA to codon dictionary from G0-16698                             : 100.0%|██████████|     2/    2 [00:00<00:00]\n",
      "Getting tRNA to codon dictionary from b4717                                : 100.0%|██████████|     2/    2 [00:00<00:00]\n",
      "Getting tRNA to codon dictionary from b4780                                : 100.0%|██████████|     2/    2 [00:00<00:00]\n",
      "Getting tRNA to codon dictionary from b4806                                : 100.0%|██████████|     2/    2 [00:00<00:00]\n",
      "Getting tRNA to codon dictionary from b4712                                : 100.0%|██████████|     2/    2 [00:00<00:00]\n",
      "Getting tRNA to codon dictionary from b4713                                : 100.0%|██████████|     2/    2 [00:00<00:00]\n",
      "Getting tRNA to codon dictionary from b4714                                : 100.0%|██████████|     2/    2 [00:00<00:00]\n",
      "Getting tRNA to codon dictionary from b4794                                : 100.0%|██████████|     2/    2 [00:00<00:00]\n",
      "Getting tRNA to codon dictionary from b4803                                : 100.0%|██████████|     2/    2 [00:00<00:00]\n",
      "Getting tRNA to codon dictionary from b4751                                : 100.0%|██████████|     2/    2 [00:00<00:00]\n",
      "Getting tRNA to codon dictionary from b4766                                : 100.0%|██████████|     2/    2 [00:00<00:00]\n",
      "Getting tRNA to codon dictionary from b2854                                : 100.0%|██████████|     2/    2 [00:00<00:00]\n",
      "Getting tRNA to codon dictionary from b1157                                : 100.0%|██████████|     2/    2 [00:00<00:00]\n",
      "Getting tRNA to codon dictionary from b4634                                : 100.0%|██████████|     2/    2 [00:00<00:00]\n",
      "Getting tRNA to codon dictionary from b1577                                : 100.0%|██████████|     2/    2 [00:00<00:00]\n",
      "Getting tRNA to codon dictionary from b2355                                : 100.0%|██████████|     2/    2 [00:00<00:00]\n",
      "Getting tRNA to codon dictionary from b0705                                : 100.0%|██████████|     2/    2 [00:00<00:00]\n",
      "Getting tRNA to codon dictionary from b4626                                : 100.0%|██████████|     2/    2 [00:00<00:00]\n",
      "Getting tRNA to codon dictionary from b2238                                : 100.0%|██████████|     2/    2 [00:00<00:00]\n",
      "Getting tRNA to codon dictionary from b4282                                : 100.0%|██████████|     2/    2 [00:00<00:00]\n",
      "Getting tRNA to codon dictionary from b1999                                : 100.0%|██████████|     2/    2 [00:00<00:00]\n",
      "Getting tRNA to codon dictionary from b0499                                : 100.0%|██████████|     2/    2 [00:00<00:00]\n",
      "Getting tRNA to codon dictionary from b4271                                : 100.0%|██████████|     2/    2 [00:00<00:00]\n",
      "Getting tRNA to codon dictionary from b3777                                : 100.0%|██████████|     2/    2 [00:00<00:00]\n",
      "Getting tRNA to codon dictionary from b1578                                : 100.0%|██████████|     2/    2 [00:00<00:00]\n",
      "Getting tRNA to codon dictionary from b0263                                : 100.0%|██████████|     2/    2 [00:00<00:00]\n",
      "Getting tRNA to codon dictionary from b2139                                : 100.0%|██████████|     2/    2 [00:00<00:00]\n",
      "Getting tRNA to codon dictionary from b2915                                : 100.0%|██████████|     2/    2 [00:00<00:00]\n",
      "Getting tRNA to codon dictionary from b1459                                : 100.0%|██████████|     2/    2 [00:00<00:00]\n",
      "Getting tRNA to codon dictionary from b0229                                : 100.0%|██████████|     2/    2 [00:00<00:00]\n",
      "Getting tRNA to codon dictionary from b3595                                : 100.0%|██████████|     2/    2 [00:00<00:00]\n",
      "Getting tRNA to codon dictionary from b2855                                : 100.0%|██████████|     2/    2 [00:00<00:00]\n",
      "Getting tRNA to codon dictionary from b4573                                : 100.0%|██████████|     2/    2 [00:00<00:00]\n",
      "Getting tRNA to codon dictionary from b4692                                : 100.0%|██████████|     2/    2 [00:00<00:00]\n",
      "Getting tRNA to codon dictionary from b4486                                : 100.0%|██████████|     2/    2 [00:00<00:00]\n",
      "Getting tRNA to codon dictionary from b2641                                : 100.0%|██████████|     2/    2 [00:00<00:00]\n",
      "Getting tRNA to codon dictionary from b1028                                : 100.0%|██████████|     2/    2 [00:00<00:00]\n",
      "Getting tRNA to codon dictionary from b4630                                : 100.0%|██████████|     2/    2 [00:00<00:00]\n",
      "Getting tRNA to codon dictionary from b4519                                : 100.0%|██████████|     2/    2 [00:00<00:00]\n",
      "Getting tRNA to codon dictionary from b4503                                : 100.0%|██████████|     2/    2 [00:00<00:00]\n",
      "Getting tRNA to codon dictionary from b4308                                : 100.0%|██████████|     2/    2 [00:00<00:00]\n",
      "Getting tRNA to codon dictionary from b2083                                : 100.0%|██████████|     2/    2 [00:00<00:00]\n",
      "Getting tRNA to codon dictionary from b0539                                : 100.0%|██████████|     2/    2 [00:00<00:00]\n",
      "Getting tRNA to codon dictionary from b4632                                : 100.0%|██████████|     2/    2 [00:00<00:00]\n",
      "Getting tRNA to codon dictionary from b3135                                : 100.0%|██████████|     2/    2 [00:00<00:00]\n",
      "Getting tRNA to codon dictionary from b4205                                : 100.0%|██████████|     2/    2 [00:00<00:00]\n",
      "Getting tRNA to codon dictionary from b1579                                : 100.0%|██████████|     2/    2 [00:00<00:00]\n",
      "Getting tRNA to codon dictionary from b0300                                : 100.0%|██████████|     2/    2 [00:00<00:00]\n",
      "Getting tRNA to codon dictionary from b4657                                : 100.0%|██████████|     2/    2 [00:00<00:00]\n",
      "Getting tRNA to codon dictionary from b0297                                : 100.0%|██████████|     2/    2 [00:00<00:00]\n"
     ]
    },
    {
     "name": "stderr",
     "output_type": "stream",
     "text": [
      "Getting tRNA to codon dictionary from b3134                                : 100.0%|██████████|     2/    2 [00:00<00:00]\n",
      "Getting tRNA to codon dictionary from b1470                                : 100.0%|██████████|     2/    2 [00:00<00:00]\n",
      "Getting tRNA to codon dictionary from b0230                                : 100.0%|██████████|     2/    2 [00:00<00:00]\n",
      "Getting tRNA to codon dictionary from b0501                                : 100.0%|██████████|     2/    2 [00:00<00:00]\n",
      "Getting tRNA to codon dictionary from b2858                                : 100.0%|██████████|     2/    2 [00:00<00:00]\n",
      "Getting tRNA to codon dictionary from b1318                                : 100.0%|██████████|     2/    2 [00:00<00:00]\n",
      "Getting tRNA to codon dictionary from b4693                                : 100.0%|██████████|     2/    2 [00:00<00:00]\n",
      "Getting tRNA to codon dictionary from b4650                                : 100.0%|██████████|     2/    2 [00:00<00:00]\n",
      "Getting tRNA to codon dictionary from b0236                                : 100.0%|██████████|     2/    2 [00:00<00:00]\n",
      "Getting tRNA to codon dictionary from b2648                                : 100.0%|██████████|     2/    2 [00:00<00:00]\n",
      "Getting tRNA to codon dictionary from b1152                                : 100.0%|██████████|     2/    2 [00:00<00:00]\n",
      "Getting tRNA to codon dictionary from b4633                                : 100.0%|██████████|     2/    2 [00:00<00:00]\n",
      "Getting tRNA to codon dictionary from b4583                                : 100.0%|██████████|     2/    2 [00:00<00:00]\n",
      "Getting tRNA to codon dictionary from b0703                                : 100.0%|██████████|     2/    2 [00:00<00:00]\n",
      "Getting tRNA to codon dictionary from b4638                                : 100.0%|██████████|     2/    2 [00:00<00:00]\n",
      "Getting tRNA to codon dictionary from b4524                                : 100.0%|██████████|     2/    2 [00:00<00:00]\n",
      "Getting tRNA to codon dictionary from b3268                                : 100.0%|██████████|     2/    2 [00:00<00:00]\n",
      "Getting tRNA to codon dictionary from b1456                                : 100.0%|██████████|     2/    2 [00:00<00:00]\n",
      "Getting tRNA to codon dictionary from b4281                                : 100.0%|██████████|     2/    2 [00:00<00:00]\n",
      "Getting tRNA to codon dictionary from b1936                                : 100.0%|██████████|     2/    2 [00:00<00:00]\n",
      "Getting tRNA to codon dictionary from b0392                                : 100.0%|██████████|     2/    2 [00:00<00:00]\n",
      "Getting tRNA to codon dictionary from b4581                                : 100.0%|██████████|     2/    2 [00:00<00:00]\n",
      "Getting tRNA to codon dictionary from b1506                                : 100.0%|██████████|     2/    2 [00:00<00:00]\n",
      "Checking defined translocation pathways...                                 : 100.0%|██████████|     9/    9 [00:00<00:00]\n",
      "Getting reaction Keffs...                                                  : 100.0%|██████████|  2079/ 2079 [00:00<00:00]\n"
     ]
    },
    {
     "name": "stdout",
     "output_type": "stream",
     "text": [
      "File processing done...\n"
     ]
    }
   ],
   "source": [
    "builder.generate_files(overwrite=True)"
   ]
  },
  {
   "cell_type": "code",
   "execution_count": 6,
   "id": "a0ca2c09-f407-472d-8902-2964eba510a5",
   "metadata": {
    "ExecuteTime": {
     "end_time": "2023-08-29T00:04:08.319886Z",
     "start_time": "2023-08-28T23:58:08.734028Z"
    },
    "scrolled": true,
    "tags": []
   },
   "outputs": [
    {
     "name": "stdout",
     "output_type": "stream",
     "text": [
      "Initiating ME-model reconstruction...\n"
     ]
    },
    {
     "name": "stderr",
     "output_type": "stream",
     "text": [
      "Adding biomass constraint(s) into the ME-model...                          : 100.0%|██████████|    11/   11 [00:00<00:00]"
     ]
    },
    {
     "name": "stdout",
     "output_type": "stream",
     "text": [
      "Read LP format model from file /tmp/tmpb1sk2h_h.lp\n",
      "Reading time = 0.01 seconds\n",
      ": 1660 rows, 4754 columns, 17902 nonzeros\n"
     ]
    },
    {
     "name": "stderr",
     "output_type": "stream",
     "text": [
      "\n",
      "Adding Metabolites from M-model into the ME-model...                       : 100.0%|██████████|  1811/ 1811 [00:00<00:00]\n",
      "Adding Reactions from M-model into the ME-model...                         : 100.0%|██████████|  2611/ 2611 [00:00<00:00]\n",
      "Adding Transcriptional Units into the ME-model...                          : 100.0%|██████████|  3415/ 3415 [00:50<00:00]\n",
      "Adding features from contig NC_000913.2 into the ME-model...               : 100.0%|██████████|  4317/ 4317 [00:22<00:00]\n",
      "Adding features from contig b0235 into the ME-model...                     : 100.0%|██████████|     2/    2 [00:00<00:00]\n",
      "Adding features from contig b4644 into the ME-model...                     : 100.0%|██████████|     2/    2 [00:00<00:00]\n",
      "Adding features from contig b0691 into the ME-model...                     : 100.0%|██████████|     2/    2 [00:00<00:00]\n",
      "Adding features from contig b2862 into the ME-model...                     : 100.0%|██████████|     2/    2 [00:00<00:00]\n",
      "Adding features from contig b1362 into the ME-model...                     : 100.0%|██████████|     2/    2 [00:00<00:00]\n",
      "Adding features from contig b0218 into the ME-model...                     : 100.0%|██████████|     2/    2 [00:00<00:00]\n",
      "Adding features from contig b4810 into the ME-model...                     : 100.0%|██████████|     2/    2 [00:00<00:00]\n",
      "Adding features from contig b4807 into the ME-model...                     : 100.0%|██████████|     2/    2 [00:00<00:00]\n",
      "Adding features from contig b4808 into the ME-model...                     : 100.0%|██████████|     2/    2 [00:00<00:00]\n",
      "Adding features from contig b4809 into the ME-model...                     : 100.0%|██████████|     2/    2 [00:00<00:00]\n",
      "Adding features from contig b4764 into the ME-model...                     : 100.0%|██████████|     2/    2 [00:00<00:00]\n",
      "Adding features from contig G0-10537 into the ME-model...                  : 100.0%|██████████|     2/    2 [00:00<00:00]\n",
      "Adding features from contig G0-10531 into the ME-model...                  : 100.0%|██████████|     2/    2 [00:00<00:00]\n",
      "Adding features from contig b4710 into the ME-model...                     : 100.0%|██████████|     2/    2 [00:00<00:00]\n",
      "Adding features from contig G0-10528 into the ME-model...                  : 100.0%|██████████|     2/    2 [00:00<00:00]\n",
      "Adding features from contig G0-10544 into the ME-model...                  : 100.0%|██████████|     2/    2 [00:00<00:00]\n",
      "Adding features from contig G0-10541 into the ME-model...                  : 100.0%|██████████|     2/    2 [00:00<00:00]\n",
      "Adding features from contig G0-10538 into the ME-model...                  : 100.0%|██████████|     2/    2 [00:00<00:00]\n",
      "Adding features from contig G0-10535 into the ME-model...                  : 100.0%|██████████|     2/    2 [00:00<00:00]\n",
      "Adding features from contig b4709 into the ME-model...                     : 100.0%|██████████|     2/    2 [00:00<00:00]\n",
      "Adding features from contig G0-10529 into the ME-model...                  : 100.0%|██████████|     2/    2 [00:00<00:00]\n",
      "Adding features from contig G0-10545 into the ME-model...                  : 100.0%|██████████|     2/    2 [00:00<00:00]\n",
      "Adding features from contig G0-10542 into the ME-model...                  : 100.0%|██████████|     2/    2 [00:00<00:00]\n",
      "Adding features from contig G0-10539 into the ME-model...                  : 100.0%|██████████|     2/    2 [00:00<00:00]\n",
      "Adding features from contig G0-10536 into the ME-model...                  : 100.0%|██████████|     2/    2 [00:00<00:00]\n",
      "Adding features from contig b4711 into the ME-model...                     : 100.0%|██████████|     2/    2 [00:00<00:00]\n",
      "Adding features from contig G0-10530 into the ME-model...                  : 100.0%|██████████|     2/    2 [00:00<00:00]\n",
      "Adding features from contig G0-10546 into the ME-model...                  : 100.0%|██████████|     2/    2 [00:00<00:00]\n",
      "Adding features from contig G0-10525 into the ME-model...                  : 100.0%|██████████|     2/    2 [00:00<00:00]\n",
      "Adding features from contig G0-10543 into the ME-model...                  : 100.0%|██████████|     2/    2 [00:00<00:00]\n",
      "Adding features from contig G0-10540 into the ME-model...                  : 100.0%|██████████|     2/    2 [00:00<00:00]\n",
      "Adding features from contig b1370 into the ME-model...                     : 100.0%|██████████|     2/    2 [00:00<00:00]\n",
      "Adding features from contig b1151 into the ME-model...                     : 100.0%|██████████|     2/    2 [00:00<00:00]\n",
      "Adding features from contig b0266 into the ME-model...                     : 100.0%|██████████|     2/    2 [00:00<00:00]\n",
      "Adding features from contig b1142 into the ME-model...                     : 100.0%|██████████|     2/    2 [00:00<00:00]\n",
      "Adding features from contig b2638 into the ME-model...                     : 100.0%|██████████|     2/    2 [00:00<00:00]\n",
      "Adding features from contig b0258 into the ME-model...                     : 100.0%|██████████|     2/    2 [00:00<00:00]\n",
      "Adding features from contig b0561 into the ME-model...                     : 100.0%|██████████|     2/    2 [00:00<00:00]\n",
      "Adding features from contig b1366 into the ME-model...                     : 100.0%|██████████|     2/    2 [00:00<00:00]\n",
      "Adding features from contig b1149 into the ME-model...                     : 100.0%|██████████|     2/    2 [00:00<00:00]\n",
      "Adding features from contig b1548 into the ME-model...                     : 100.0%|██████████|     2/    2 [00:00<00:00]\n",
      "Adding features from contig b2358 into the ME-model...                     : 100.0%|██████████|     2/    2 [00:00<00:00]\n",
      "Adding features from contig b1567 into the ME-model...                     : 100.0%|██████████|     2/    2 [00:00<00:00]\n",
      "Adding features from contig b0563 into the ME-model...                     : 100.0%|██████████|     2/    2 [00:00<00:00]\n",
      "Adding features from contig b2006 into the ME-model...                     : 100.0%|██████████|     2/    2 [00:00<00:00]\n",
      "Adding features from contig b1368 into the ME-model...                     : 100.0%|██████████|     2/    2 [00:00<00:00]\n",
      "Adding features from contig b1361 into the ME-model...                     : 100.0%|██████████|     2/    2 [00:00<00:00]\n",
      "Adding features from contig b0276 into the ME-model...                     : 100.0%|██████████|     2/    2 [00:00<00:00]\n",
      "Adding features from contig b2356 into the ME-model...                     : 100.0%|██████████|     2/    2 [00:00<00:00]\n",
      "Adding features from contig b1568 into the ME-model...                     : 100.0%|██████████|     2/    2 [00:00<00:00]\n",
      "Adding features from contig b4584 into the ME-model...                     : 100.0%|██████████|     2/    2 [00:00<00:00]\n",
      "Adding features from contig b4496 into the ME-model...                     : 100.0%|██████████|     2/    2 [00:00<00:00]\n",
      "Adding features from contig b4575 into the ME-model...                     : 100.0%|██████████|     2/    2 [00:00<00:00]\n",
      "Adding features from contig b3534 into the ME-model...                     : 100.0%|██████████|     2/    2 [00:00<00:00]\n",
      "Adding features from contig b4658 into the ME-model...                     : 100.0%|██████████|     2/    2 [00:00<00:00]\n",
      "Adding features from contig b4490 into the ME-model...                     : 100.0%|██████████|     2/    2 [00:00<00:00]\n",
      "Adding features from contig b2850 into the ME-model...                     : 100.0%|██████████|     2/    2 [00:00<00:00]\n",
      "Adding features from contig b4038 into the ME-model...                     : 100.0%|██████████|     2/    2 [00:00<00:00]\n",
      "Adding features from contig b3782 into the ME-model...                     : 100.0%|██████████|     2/    2 [00:00<00:00]\n",
      "Adding features from contig b4661 into the ME-model...                     : 100.0%|██████████|     2/    2 [00:00<00:00]\n",
      "Adding features from contig b4493 into the ME-model...                     : 100.0%|██████████|     2/    2 [00:00<00:00]\n",
      "Adding features from contig b4497 into the ME-model...                     : 100.0%|██████████|     2/    2 [00:00<00:00]\n",
      "Adding features from contig b4521 into the ME-model...                     : 100.0%|██████████|     2/    2 [00:00<00:00]\n"
     ]
    },
    {
     "name": "stderr",
     "output_type": "stream",
     "text": [
      "Adding features from contig b4494 into the ME-model...                     : 100.0%|██████████|     2/    2 [00:00<00:00]\n",
      "Adding features from contig b4491 into the ME-model...                     : 100.0%|██████████|     2/    2 [00:00<00:00]\n",
      "Adding features from contig b4660 into the ME-model...                     : 100.0%|██████████|     2/    2 [00:00<00:00]\n",
      "Adding features from contig b2856 into the ME-model...                     : 100.0%|██████████|     2/    2 [00:00<00:00]\n",
      "Adding features from contig b4462 into the ME-model...                     : 100.0%|██████████|     2/    2 [00:00<00:00]\n",
      "Adding features from contig b4286 into the ME-model...                     : 100.0%|██████████|     2/    2 [00:00<00:00]\n",
      "Adding features from contig b4495 into the ME-model...                     : 100.0%|██████████|     2/    2 [00:00<00:00]\n",
      "Adding features from contig b2859 into the ME-model...                     : 100.0%|██████████|     2/    2 [00:00<00:00]\n",
      "Adding features from contig b0562 into the ME-model...                     : 100.0%|██████████|     2/    2 [00:00<00:00]\n",
      "Adding features from contig b2681 into the ME-model...                     : 100.0%|██████████|     2/    2 [00:00<00:00]\n",
      "Adding features from contig b4696 into the ME-model...                     : 100.0%|██████████|     2/    2 [00:00<00:00]\n",
      "Adding features from contig b4488 into the ME-model...                     : 100.0%|██████████|     2/    2 [00:00<00:00]\n",
      "Adding features from contig b4500 into the ME-model...                     : 100.0%|██████████|     2/    2 [00:00<00:00]\n",
      "Adding features from contig b4610 into the ME-model...                     : 100.0%|██████████|     2/    2 [00:00<00:00]\n",
      "Adding features from contig b4545 into the ME-model...                     : 100.0%|██████████|     2/    2 [00:00<00:00]\n",
      "Adding features from contig b2863 into the ME-model...                     : 100.0%|██████████|     2/    2 [00:00<00:00]\n",
      "Adding features from contig b1471 into the ME-model...                     : 100.0%|██████████|     2/    2 [00:00<00:00]\n",
      "Adding features from contig b4795 into the ME-model...                     : 100.0%|██████████|     2/    2 [00:00<00:00]\n",
      "Adding features from contig b4777 into the ME-model...                     : 100.0%|██████████|     2/    2 [00:00<00:00]\n",
      "Adding features from contig b4753 into the ME-model...                     : 100.0%|██████████|     2/    2 [00:00<00:00]\n",
      "Adding features from contig b4738 into the ME-model...                     : 100.0%|██████████|     2/    2 [00:00<00:00]\n",
      "Adding features from contig b4525 into the ME-model...                     : 100.0%|██████████|     2/    2 [00:00<00:00]\n",
      "Adding features from contig b4791 into the ME-model...                     : 100.0%|██████████|     2/    2 [00:00<00:00]\n",
      "Adding features from contig b4774 into the ME-model...                     : 100.0%|██████████|     2/    2 [00:00<00:00]\n",
      "Adding features from contig b4749 into the ME-model...                     : 100.0%|██████████|     2/    2 [00:00<00:00]\n",
      "Adding features from contig b4735 into the ME-model...                     : 100.0%|██████████|     2/    2 [00:00<00:00]\n",
      "Adding features from contig b2969 into the ME-model...                     : 100.0%|██████████|     2/    2 [00:00<00:00]\n",
      "Adding features from contig b4743 into the ME-model...                     : 100.0%|██████████|     2/    2 [00:00<00:00]\n",
      "Adding features from contig b4788 into the ME-model...                     : 100.0%|██████████|     2/    2 [00:00<00:00]\n",
      "Adding features from contig b4771 into the ME-model...                     : 100.0%|██████████|     2/    2 [00:00<00:00]\n",
      "Adding features from contig b4746 into the ME-model...                     : 100.0%|██████████|     2/    2 [00:00<00:00]\n",
      "Adding features from contig b4732 into the ME-model...                     : 100.0%|██████████|     2/    2 [00:00<00:00]\n",
      "Adding features from contig b3808 into the ME-model...                     : 100.0%|██████████|     2/    2 [00:00<00:00]\n",
      "Adding features from contig b0322 into the ME-model...                     : 100.0%|██████████|     2/    2 [00:00<00:00]\n",
      "Adding features from contig b0012 into the ME-model...                     : 100.0%|██████████|     2/    2 [00:00<00:00]\n",
      "Adding features from contig b0502 into the ME-model...                     : 100.0%|██████████|     2/    2 [00:00<00:00]\n",
      "Adding features from contig b4802 into the ME-model...                     : 100.0%|██████████|     2/    2 [00:00<00:00]\n",
      "Adding features from contig b4785 into the ME-model...                     : 100.0%|██████████|     2/    2 [00:00<00:00]\n",
      "Adding features from contig b4768 into the ME-model...                     : 100.0%|██████████|     2/    2 [00:00<00:00]\n",
      "Adding features from contig b4742 into the ME-model...                     : 100.0%|██████████|     2/    2 [00:00<00:00]\n",
      "Adding features from contig b4729 into the ME-model...                     : 100.0%|██████████|     2/    2 [00:00<00:00]\n",
      "Adding features from contig b3427 into the ME-model...                     : 100.0%|██████████|     2/    2 [00:00<00:00]\n",
      "Adding features from contig b0057 into the ME-model...                     : 100.0%|██████████|     2/    2 [00:00<00:00]\n",
      "Adding features from contig b0282 into the ME-model...                     : 100.0%|██████████|     2/    2 [00:00<00:00]\n",
      "Adding features from contig b4799 into the ME-model...                     : 100.0%|██████████|     2/    2 [00:00<00:00]\n",
      "Adding features from contig b4782 into the ME-model...                     : 100.0%|██████████|     2/    2 [00:00<00:00]\n",
      "Adding features from contig b4757 into the ME-model...                     : 100.0%|██████████|     2/    2 [00:00<00:00]\n",
      "Adding features from contig b4726 into the ME-model...                     : 100.0%|██████████|     2/    2 [00:00<00:00]\n",
      "Adding features from contig b2650 into the ME-model...                     : 100.0%|██████████|     2/    2 [00:00<00:00]\n",
      "Adding features from contig b2115 into the ME-model...                     : 100.0%|██████████|     2/    2 [00:00<00:00]\n",
      "Adding features from contig b2981 into the ME-model...                     : 100.0%|██████████|     2/    2 [00:00<00:00]\n",
      "Adding features from contig b1472 into the ME-model...                     : 100.0%|██████████|     2/    2 [00:00<00:00]\n",
      "Adding features from contig b4572 into the ME-model...                     : 100.0%|██████████|     2/    2 [00:00<00:00]\n",
      "Adding features from contig b4796 into the ME-model...                     : 100.0%|██████████|     2/    2 [00:00<00:00]\n",
      "Adding features from contig b4778 into the ME-model...                     : 100.0%|██████████|     2/    2 [00:00<00:00]\n",
      "Adding features from contig b4754 into the ME-model...                     : 100.0%|██████████|     2/    2 [00:00<00:00]\n",
      "Adding features from contig b4739 into the ME-model...                     : 100.0%|██████████|     2/    2 [00:00<00:00]\n",
      "Adding features from contig b1228 into the ME-model...                     : 100.0%|██████████|     2/    2 [00:00<00:00]\n",
      "Adding features from contig b4760 into the ME-model...                     : 100.0%|██████████|     2/    2 [00:00<00:00]\n",
      "Adding features from contig b4792 into the ME-model...                     : 100.0%|██████████|     2/    2 [00:00<00:00]\n",
      "Adding features from contig b4775 into the ME-model...                     : 100.0%|██████████|     2/    2 [00:00<00:00]\n",
      "Adding features from contig b4750 into the ME-model...                     : 100.0%|██████████|     2/    2 [00:00<00:00]\n",
      "Adding features from contig b4736 into the ME-model...                     : 100.0%|██████████|     2/    2 [00:00<00:00]\n",
      "Adding features from contig b4758 into the ME-model...                     : 100.0%|██████████|     2/    2 [00:00<00:00]\n",
      "Adding features from contig b4719 into the ME-model...                     : 100.0%|██████████|     2/    2 [00:00<00:00]\n",
      "Adding features from contig b2970 into the ME-model...                     : 100.0%|██████████|     2/    2 [00:00<00:00]\n",
      "Adding features from contig b4716 into the ME-model...                     : 100.0%|██████████|     2/    2 [00:00<00:00]\n"
     ]
    },
    {
     "name": "stderr",
     "output_type": "stream",
     "text": [
      "Adding features from contig b4789 into the ME-model...                     : 100.0%|██████████|     2/    2 [00:00<00:00]\n",
      "Adding features from contig b4772 into the ME-model...                     : 100.0%|██████████|     2/    2 [00:00<00:00]\n",
      "Adding features from contig b4747 into the ME-model...                     : 100.0%|██████████|     2/    2 [00:00<00:00]\n",
      "Adding features from contig b4733 into the ME-model...                     : 100.0%|██████████|     2/    2 [00:00<00:00]\n",
      "Adding features from contig b4534 into the ME-model...                     : 100.0%|██████████|     2/    2 [00:00<00:00]\n",
      "Adding features from contig b2941 into the ME-model...                     : 100.0%|██████████|     2/    2 [00:00<00:00]\n",
      "Adding features from contig b4786 into the ME-model...                     : 100.0%|██████████|     2/    2 [00:00<00:00]\n",
      "Adding features from contig b4769 into the ME-model...                     : 100.0%|██████████|     2/    2 [00:00<00:00]\n",
      "Adding features from contig b4744 into the ME-model...                     : 100.0%|██████████|     2/    2 [00:00<00:00]\n",
      "Adding features from contig b4342 into the ME-model...                     : 100.0%|██████████|     2/    2 [00:00<00:00]\n",
      "Adding features from contig b4730 into the ME-model...                     : 100.0%|██████████|     2/    2 [00:00<00:00]\n",
      "Adding features from contig b3683 into the ME-model...                     : 100.0%|██████████|     2/    2 [00:00<00:00]\n",
      "Adding features from contig b4800 into the ME-model...                     : 100.0%|██████████|     2/    2 [00:00<00:00]\n",
      "Adding features from contig b4783 into the ME-model...                     : 100.0%|██████████|     2/    2 [00:00<00:00]\n",
      "Adding features from contig b4765 into the ME-model...                     : 100.0%|██████████|     2/    2 [00:00<00:00]\n",
      "Adding features from contig b3682 into the ME-model...                     : 100.0%|██████████|     2/    2 [00:00<00:00]\n",
      "Adding features from contig b4727 into the ME-model...                     : 100.0%|██████████|     2/    2 [00:00<00:00]\n",
      "Adding features from contig b4615 into the ME-model...                     : 100.0%|██████████|     2/    2 [00:00<00:00]\n",
      "Adding features from contig b2122 into the ME-model...                     : 100.0%|██████████|     2/    2 [00:00<00:00]\n",
      "Adding features from contig b4797 into the ME-model...                     : 100.0%|██████████|     2/    2 [00:00<00:00]\n",
      "Adding features from contig b4779 into the ME-model...                     : 100.0%|██████████|     2/    2 [00:00<00:00]\n",
      "Adding features from contig b4755 into the ME-model...                     : 100.0%|██████████|     2/    2 [00:00<00:00]\n",
      "Adding features from contig b4740 into the ME-model...                     : 100.0%|██████████|     2/    2 [00:00<00:00]\n",
      "Adding features from contig b4688 into the ME-model...                     : 100.0%|██████████|     2/    2 [00:00<00:00]\n",
      "Adding features from contig b4605 into the ME-model...                     : 100.0%|██████████|     2/    2 [00:00<00:00]\n",
      "Adding features from contig b4538 into the ME-model...                     : 100.0%|██████████|     2/    2 [00:00<00:00]\n",
      "Adding features from contig b4793 into the ME-model...                     : 100.0%|██████████|     2/    2 [00:00<00:00]\n",
      "Adding features from contig b4776 into the ME-model...                     : 100.0%|██████████|     2/    2 [00:00<00:00]\n",
      "Adding features from contig b4752 into the ME-model...                     : 100.0%|██████████|     2/    2 [00:00<00:00]\n",
      "Adding features from contig b4737 into the ME-model...                     : 100.0%|██████████|     2/    2 [00:00<00:00]\n",
      "Adding features from contig b4790 into the ME-model...                     : 100.0%|██████████|     2/    2 [00:00<00:00]\n",
      "Adding features from contig b4773 into the ME-model...                     : 100.0%|██████████|     2/    2 [00:00<00:00]\n",
      "Adding features from contig b4748 into the ME-model...                     : 100.0%|██████████|     2/    2 [00:00<00:00]\n",
      "Adding features from contig b4734 into the ME-model...                     : 100.0%|██████████|     2/    2 [00:00<00:00]\n",
      "Adding features from contig b4787 into the ME-model...                     : 100.0%|██████████|     2/    2 [00:00<00:00]\n",
      "Adding features from contig b4770 into the ME-model...                     : 100.0%|██████████|     2/    2 [00:00<00:00]\n",
      "Adding features from contig b4745 into the ME-model...                     : 100.0%|██████████|     2/    2 [00:00<00:00]\n",
      "Adding features from contig b4731 into the ME-model...                     : 100.0%|██████████|     2/    2 [00:00<00:00]\n",
      "Adding features from contig b4801 into the ME-model...                     : 100.0%|██████████|     2/    2 [00:00<00:00]\n",
      "Adding features from contig b4784 into the ME-model...                     : 100.0%|██████████|     2/    2 [00:00<00:00]\n",
      "Adding features from contig b4767 into the ME-model...                     : 100.0%|██████████|     2/    2 [00:00<00:00]\n",
      "Adding features from contig b4741 into the ME-model...                     : 100.0%|██████████|     2/    2 [00:00<00:00]\n",
      "Adding features from contig b4728 into the ME-model...                     : 100.0%|██████████|     2/    2 [00:00<00:00]\n",
      "Adding features from contig b0056 into the ME-model...                     : 100.0%|██████████|     2/    2 [00:00<00:00]\n",
      "Adding features from contig b1505 into the ME-model...                     : 100.0%|██████████|     2/    2 [00:00<00:00]\n",
      "Adding features from contig b4798 into the ME-model...                     : 100.0%|██████████|     2/    2 [00:00<00:00]\n",
      "Adding features from contig b4781 into the ME-model...                     : 100.0%|██████████|     2/    2 [00:00<00:00]\n",
      "Adding features from contig b4756 into the ME-model...                     : 100.0%|██████████|     2/    2 [00:00<00:00]\n",
      "Adding features from contig b1543 into the ME-model...                     : 100.0%|██████████|     2/    2 [00:00<00:00]\n",
      "Adding features from contig b2649 into the ME-model...                     : 100.0%|██████████|     2/    2 [00:00<00:00]\n",
      "Adding features from contig G0-16695 into the ME-model...                  : 100.0%|██████████|     2/    2 [00:00<00:00]\n",
      "Adding features from contig b4725 into the ME-model...                     : 100.0%|██████████|     2/    2 [00:00<00:00]\n",
      "Adding features from contig G0-10701 into the ME-model...                  : 100.0%|██████████|     2/    2 [00:00<00:00]\n",
      "Adding features from contig b4812 into the ME-model...                     : 100.0%|██████████|     2/    2 [00:00<00:00]\n",
      "Adding features from contig b4721 into the ME-model...                     : 100.0%|██████████|     2/    2 [00:00<00:00]\n",
      "Adding features from contig b4763 into the ME-model...                     : 100.0%|██████████|     2/    2 [00:00<00:00]\n",
      "Adding features from contig b4761 into the ME-model...                     : 100.0%|██████████|     2/    2 [00:00<00:00]\n",
      "Adding features from contig G0-8861 into the ME-model...                   : 100.0%|██████████|     2/    2 [00:00<00:00]\n",
      "Adding features from contig b4762 into the ME-model...                     : 100.0%|██████████|     2/    2 [00:00<00:00]\n",
      "Adding features from contig b4416 into the ME-model...                     : 100.0%|██████████|     2/    2 [00:00<00:00]\n",
      "Adding features from contig b4805 into the ME-model...                     : 100.0%|██████████|     2/    2 [00:00<00:00]\n",
      "Adding features from contig b4718 into the ME-model...                     : 100.0%|██████████|     2/    2 [00:00<00:00]\n",
      "Adding features from contig G0-16699 into the ME-model...                  : 100.0%|██████████|     2/    2 [00:00<00:00]\n",
      "Adding features from contig G0-16635 into the ME-model...                  : 100.0%|██████████|     2/    2 [00:00<00:00]\n",
      "Adding features from contig G0-16696 into the ME-model...                  : 100.0%|██████████|     2/    2 [00:00<00:00]\n",
      "Adding features from contig G0-16693 into the ME-model...                  : 100.0%|██████████|     2/    2 [00:00<00:00]\n",
      "Adding features from contig G0-10706 into the ME-model...                  : 100.0%|██████████|     2/    2 [00:00<00:00]\n"
     ]
    },
    {
     "name": "stderr",
     "output_type": "stream",
     "text": [
      "Adding features from contig b4723 into the ME-model...                     : 100.0%|██████████|     2/    2 [00:00<00:00]\n",
      "Adding features from contig G0-17079 into the ME-model...                  : 100.0%|██████████|     2/    2 [00:00<00:00]\n",
      "Adding features from contig b4722 into the ME-model...                     : 100.0%|██████████|     2/    2 [00:00<00:00]\n",
      "Adding features from contig b4673 into the ME-model...                     : 100.0%|██████████|     2/    2 [00:00<00:00]\n",
      "Adding features from contig G0-17076 into the ME-model...                  : 100.0%|██████████|     2/    2 [00:00<00:00]\n",
      "Adding features from contig b4759 into the ME-model...                     : 100.0%|██████████|     2/    2 [00:00<00:00]\n",
      "Adding features from contig G0-16697 into the ME-model...                  : 100.0%|██████████|     2/    2 [00:00<00:00]\n",
      "Adding features from contig G0-10738 into the ME-model...                  : 100.0%|██████████|     2/    2 [00:00<00:00]\n",
      "Adding features from contig G0-16694 into the ME-model...                  : 100.0%|██████████|     2/    2 [00:00<00:00]\n",
      "Adding features from contig b4514 into the ME-model...                     : 100.0%|██████████|     2/    2 [00:00<00:00]\n",
      "Adding features from contig b4724 into the ME-model...                     : 100.0%|██████████|     2/    2 [00:00<00:00]\n",
      "Adding features from contig b4811 into the ME-model...                     : 100.0%|██████████|     2/    2 [00:00<00:00]\n",
      "Adding features from contig b4720 into the ME-model...                     : 100.0%|██████████|     2/    2 [00:00<00:00]\n",
      "Adding features from contig b4804 into the ME-model...                     : 100.0%|██████████|     2/    2 [00:00<00:00]\n",
      "Adding features from contig G0-10624 into the ME-model...                  : 100.0%|██████████|     2/    2 [00:00<00:00]\n",
      "Adding features from contig b4715 into the ME-model...                     : 100.0%|██████████|     2/    2 [00:00<00:00]\n",
      "Adding features from contig G0-16698 into the ME-model...                  : 100.0%|██████████|     2/    2 [00:00<00:00]\n",
      "Adding features from contig b4717 into the ME-model...                     : 100.0%|██████████|     2/    2 [00:00<00:00]\n",
      "Adding features from contig b4780 into the ME-model...                     : 100.0%|██████████|     2/    2 [00:00<00:00]\n",
      "Adding features from contig b4806 into the ME-model...                     : 100.0%|██████████|     2/    2 [00:00<00:00]\n",
      "Adding features from contig b4712 into the ME-model...                     : 100.0%|██████████|     2/    2 [00:00<00:00]\n",
      "Adding features from contig b4713 into the ME-model...                     : 100.0%|██████████|     2/    2 [00:00<00:00]\n",
      "Adding features from contig b4714 into the ME-model...                     : 100.0%|██████████|     2/    2 [00:00<00:00]\n",
      "Adding features from contig b4794 into the ME-model...                     : 100.0%|██████████|     2/    2 [00:00<00:00]\n",
      "Adding features from contig b4803 into the ME-model...                     : 100.0%|██████████|     2/    2 [00:00<00:00]\n",
      "Adding features from contig b4751 into the ME-model...                     : 100.0%|██████████|     2/    2 [00:00<00:00]\n",
      "Adding features from contig b4766 into the ME-model...                     : 100.0%|██████████|     2/    2 [00:00<00:00]\n",
      "Adding features from contig b2854 into the ME-model...                     : 100.0%|██████████|     2/    2 [00:00<00:00]\n",
      "Adding features from contig b1157 into the ME-model...                     : 100.0%|██████████|     2/    2 [00:00<00:00]\n",
      "Adding features from contig b4634 into the ME-model...                     : 100.0%|██████████|     2/    2 [00:00<00:00]\n",
      "Adding features from contig b1577 into the ME-model...                     : 100.0%|██████████|     2/    2 [00:00<00:00]\n",
      "Adding features from contig b2355 into the ME-model...                     : 100.0%|██████████|     2/    2 [00:00<00:00]\n",
      "Adding features from contig b0705 into the ME-model...                     : 100.0%|██████████|     2/    2 [00:00<00:00]\n",
      "Adding features from contig b4626 into the ME-model...                     : 100.0%|██████████|     2/    2 [00:00<00:00]\n",
      "Adding features from contig b2238 into the ME-model...                     : 100.0%|██████████|     2/    2 [00:00<00:00]\n",
      "Adding features from contig b4282 into the ME-model...                     : 100.0%|██████████|     2/    2 [00:00<00:00]\n",
      "Adding features from contig b1999 into the ME-model...                     : 100.0%|██████████|     2/    2 [00:00<00:00]\n",
      "Adding features from contig b0499 into the ME-model...                     : 100.0%|██████████|     2/    2 [00:00<00:00]\n",
      "Adding features from contig b4271 into the ME-model...                     : 100.0%|██████████|     2/    2 [00:00<00:00]\n",
      "Adding features from contig b3777 into the ME-model...                     : 100.0%|██████████|     2/    2 [00:00<00:00]\n",
      "Adding features from contig b1578 into the ME-model...                     : 100.0%|██████████|     2/    2 [00:00<00:00]\n",
      "Adding features from contig b0263 into the ME-model...                     : 100.0%|██████████|     2/    2 [00:00<00:00]\n",
      "Adding features from contig b2139 into the ME-model...                     : 100.0%|██████████|     2/    2 [00:00<00:00]\n",
      "Adding features from contig b2915 into the ME-model...                     : 100.0%|██████████|     2/    2 [00:00<00:00]\n",
      "Adding features from contig b1459 into the ME-model...                     : 100.0%|██████████|     2/    2 [00:00<00:00]\n",
      "Adding features from contig b0229 into the ME-model...                     : 100.0%|██████████|     2/    2 [00:00<00:00]\n",
      "Adding features from contig b3595 into the ME-model...                     : 100.0%|██████████|     2/    2 [00:00<00:00]\n",
      "Adding features from contig b2855 into the ME-model...                     : 100.0%|██████████|     2/    2 [00:00<00:00]\n",
      "Adding features from contig b4573 into the ME-model...                     : 100.0%|██████████|     2/    2 [00:00<00:00]\n",
      "Adding features from contig b4692 into the ME-model...                     : 100.0%|██████████|     2/    2 [00:00<00:00]\n",
      "Adding features from contig b4486 into the ME-model...                     : 100.0%|██████████|     2/    2 [00:00<00:00]\n",
      "Adding features from contig b2641 into the ME-model...                     : 100.0%|██████████|     2/    2 [00:00<00:00]\n",
      "Adding features from contig b1028 into the ME-model...                     : 100.0%|██████████|     2/    2 [00:00<00:00]\n",
      "Adding features from contig b4630 into the ME-model...                     : 100.0%|██████████|     2/    2 [00:00<00:00]\n",
      "Adding features from contig b4519 into the ME-model...                     : 100.0%|██████████|     2/    2 [00:00<00:00]\n",
      "Adding features from contig b4503 into the ME-model...                     : 100.0%|██████████|     2/    2 [00:00<00:00]\n",
      "Adding features from contig b4308 into the ME-model...                     : 100.0%|██████████|     2/    2 [00:00<00:00]\n",
      "Adding features from contig b2083 into the ME-model...                     : 100.0%|██████████|     2/    2 [00:00<00:00]\n",
      "Adding features from contig b0539 into the ME-model...                     : 100.0%|██████████|     2/    2 [00:00<00:00]\n",
      "Adding features from contig b4632 into the ME-model...                     : 100.0%|██████████|     2/    2 [00:00<00:00]\n",
      "Adding features from contig b3135 into the ME-model...                     : 100.0%|██████████|     2/    2 [00:00<00:00]\n",
      "Adding features from contig b4205 into the ME-model...                     : 100.0%|██████████|     2/    2 [00:00<00:00]\n",
      "Adding features from contig b1579 into the ME-model...                     : 100.0%|██████████|     2/    2 [00:00<00:00]\n",
      "Adding features from contig b0300 into the ME-model...                     : 100.0%|██████████|     2/    2 [00:00<00:00]\n",
      "Adding features from contig b4657 into the ME-model...                     : 100.0%|██████████|     2/    2 [00:00<00:00]\n",
      "Adding features from contig b0297 into the ME-model...                     : 100.0%|██████████|     2/    2 [00:00<00:00]\n",
      "Adding features from contig b3134 into the ME-model...                     : 100.0%|██████████|     2/    2 [00:00<00:00]\n"
     ]
    },
    {
     "name": "stderr",
     "output_type": "stream",
     "text": [
      "Adding features from contig b1470 into the ME-model...                     : 100.0%|██████████|     2/    2 [00:00<00:00]\n",
      "Adding features from contig b0230 into the ME-model...                     : 100.0%|██████████|     2/    2 [00:00<00:00]\n",
      "Adding features from contig b0501 into the ME-model...                     : 100.0%|██████████|     2/    2 [00:00<00:00]\n",
      "Adding features from contig b2858 into the ME-model...                     : 100.0%|██████████|     2/    2 [00:00<00:00]\n",
      "Adding features from contig b1318 into the ME-model...                     : 100.0%|██████████|     2/    2 [00:00<00:00]\n",
      "Adding features from contig b4693 into the ME-model...                     : 100.0%|██████████|     2/    2 [00:00<00:00]\n",
      "Adding features from contig b4650 into the ME-model...                     : 100.0%|██████████|     2/    2 [00:00<00:00]\n",
      "Adding features from contig b0236 into the ME-model...                     : 100.0%|██████████|     2/    2 [00:00<00:00]\n",
      "Adding features from contig b2648 into the ME-model...                     : 100.0%|██████████|     2/    2 [00:00<00:00]\n",
      "Adding features from contig b1152 into the ME-model...                     : 100.0%|██████████|     2/    2 [00:00<00:00]\n",
      "Adding features from contig b4633 into the ME-model...                     : 100.0%|██████████|     2/    2 [00:00<00:00]\n",
      "Adding features from contig b4583 into the ME-model...                     : 100.0%|██████████|     2/    2 [00:00<00:00]\n",
      "Adding features from contig b0703 into the ME-model...                     : 100.0%|██████████|     2/    2 [00:00<00:00]\n",
      "Adding features from contig b4638 into the ME-model...                     : 100.0%|██████████|     2/    2 [00:00<00:00]\n",
      "Adding features from contig b4524 into the ME-model...                     : 100.0%|██████████|     2/    2 [00:00<00:00]\n",
      "Adding features from contig b3268 into the ME-model...                     : 100.0%|██████████|     2/    2 [00:00<00:00]\n",
      "Adding features from contig b1456 into the ME-model...                     : 100.0%|██████████|     2/    2 [00:00<00:00]\n",
      "Adding features from contig b4281 into the ME-model...                     : 100.0%|██████████|     2/    2 [00:00<00:00]\n",
      "Adding features from contig b1936 into the ME-model...                     : 100.0%|██████████|     2/    2 [00:00<00:00]\n",
      "Adding features from contig b0392 into the ME-model...                     : 100.0%|██████████|     2/    2 [00:00<00:00]\n",
      "Adding features from contig b4581 into the ME-model...                     : 100.0%|██████████|     2/    2 [00:00<00:00]\n",
      "Adding features from contig b1506 into the ME-model...                     : 100.0%|██████████|     2/    2 [00:00<00:00]\n",
      "Updating all TranslationReaction and TranscriptionReaction...              : 100.0%|██████████|  8480/ 8480 [00:13<00:00]\n",
      "Removing SubReactions from ComplexData...                                  : 100.0%|██████████|  5678/ 5678 [00:00<00:00]\n",
      "Adding ComplexFormation into the ME-model...                               : 100.0%|██████████|  5678/ 5678 [00:01<00:00]\n",
      "Adding Generic(s) into the ME-model...                                     : 100.0%|██████████|    11/   11 [00:00<00:00]\n",
      "Processing StoichiometricData in ME-model...                               : 100.0%|██████████|  2282/ 2282 [00:01<00:00]\n"
     ]
    },
    {
     "name": "stdout",
     "output_type": "stream",
     "text": [
      "ME-model was saved in the ./ecoli/ directory as MEModel-step1-ecoli.pkl\n"
     ]
    },
    {
     "name": "stderr",
     "output_type": "stream",
     "text": [
      "Adding tRNA synthetase(s) information into the ME-model...                 : 100.0%|██████████|   305/  305 [00:00<00:00]\n",
      "Adding tRNA modification SubReactions...                                   : 100.0%|██████████|    34/   34 [00:00<00:00]\n",
      "Associating tRNA modification enzyme(s) to tRNA(s)...                      : 100.0%|██████████|   650/  650 [00:02<00:00]\n",
      "Adding SubReactions into TranslationReactions...                           : 100.0%|██████████|  4279/ 4279 [00:03<00:00]\n",
      "Adding RNA Polymerase(s) into the ME-model...                              : 100.0%|██████████|     7/    7 [00:00<00:00]\n",
      "Associating a RNA Polymerase to each Transcriptional Unit...               : 100.0%|██████████|  3415/ 3415 [00:00<00:00]\n",
      "Processing ComplexData in ME-model...                                      : 100.0%|██████████|   537/  537 [00:00<00:00]\n",
      "Adding ComplexFormation into the ME-model...                               : 100.0%|██████████|  5691/ 5691 [00:00<00:00]\n",
      "Adding SubReactions into TranslationReactions...                           : 100.0%|██████████|  4279/ 4279 [00:03<00:00]\n",
      "Adding Transcription SubReactions...                                       : 100.0%|██████████|  3556/ 3556 [00:00<00:00]\n",
      "Processing StoichiometricData in SubReactionData...                        : 100.0%|██████████|  1009/ 1009 [00:00<00:00]\n",
      "Adding lipid precursors and lipoproteins...                                : 100.0%|██████████|    14/   14 [00:00<00:00]\n",
      "Adding reaction subsystems from M-model into the ME-model...               : 100.0%|██████████|  2611/ 2611 [00:00<00:00]\n",
      "Processing StoichiometricData in ME-model...                               : 100.0%|██████████|  2282/ 2282 [00:00<00:00]\n",
      "Updating ME-model Reactions...                                             : 100.0%|██████████| 22060/22060 [03:04<00:00]\n",
      "Updating all FormationReactions...                                         : 100.0%|██████████|  5691/ 5691 [00:00<00:00]\n",
      "Recalculation of the elemental contribution in SubReactions...             : 100.0%|██████████|   423/  423 [00:00<00:00]\n",
      "Updating all FormationReactions...                                         : 100.0%|██████████|  5691/ 5691 [00:00<00:00]\n",
      "Updating FormationReactions involving a lipoyl prosthetic group...         : 0.0%|          |     0/    0 [00:00<?]\n",
      "Updating FormationReactions involving a glycyl radical...                  : 100.0%|██████████|    18/   18 [00:00<00:00]\n",
      "Estimating effective turnover rates for reactions using the SASA method... : 100.0%|██████████|  7320/ 7320 [00:01<00:00]\n",
      "Mapping effective turnover rates from user input...                        : 100.0%|██████████|  5036/ 5036 [00:00<00:00]\n",
      "Setting the effective turnover rates using user input...                   : 100.0%|██████████|  6772/ 6772 [00:02<00:00]\n",
      "Pruning unnecessary ComplexData reactions...                               : 100.0%|██████████|  5691/ 5691 [00:17<00:00]\n",
      "Pruning unnecessary FoldedProtein reactions...                             : 0.0%|          |     0/    0 [00:00<?]\n",
      "Pruning unnecessary ProcessedProtein reactions...                          : 100.0%|██████████|  4883/ 4883 [00:00<00:00]\n",
      "Pruning unnecessary TranslatedGene reactions...                            : 100.0%|██████████|  4883/ 4883 [00:10<00:00]\n",
      "Pruning unnecessary TranscribedGene reactions...                           : 100.0%|██████████|  4451/ 4451 [00:07<00:00]\n",
      "Pruning unnecessary Transcriptional Units...                               : 100.0%|██████████|  3555/ 3555 [00:10<00:00]\n",
      "Pruning unnecessary ComplexData reactions...                               : 100.0%|██████████|  1451/ 1451 [00:00<00:00]\n",
      "Pruning unnecessary FoldedProtein reactions...                             : 0.0%|          |     0/    0 [00:00<?]\n",
      "Pruning unnecessary ProcessedProtein reactions...                          : 100.0%|██████████|  2175/ 2175 [00:00<00:00]\n",
      "Pruning unnecessary TranslatedGene reactions...                            : 100.0%|██████████|  2175/ 2175 [00:00<00:00]\n",
      "Pruning unnecessary TranscribedGene reactions...                           : 100.0%|██████████|  1682/ 1682 [00:00<00:00]\n",
      "Pruning unnecessary Transcriptional Units...                               : 100.0%|██████████|  1448/ 1448 [00:07<00:00]\n"
     ]
    },
    {
     "name": "stdout",
     "output_type": "stream",
     "text": [
      "ME-model was saved in the ./ecoli/ directory as MEModel-step2-ecoli.pkl\n",
      "ME-model reconstruction is done.\n",
      "Number of metabolites in the ME-model is 7173 (+332.11%, from 1660)\n",
      "Number of reactions in the ME-model is 15069 (+533.95%, from 2377)\n",
      "Number of genes in the ME-model is 1680 (+32.18%, from 1271)\n"
     ]
    }
   ],
   "source": [
    "builder.build_me_model(overwrite=False)"
   ]
  },
  {
   "cell_type": "code",
   "execution_count": 7,
   "id": "c3c2b019-4b54-4ff5-bdd1-9a2bd73a7ed7",
   "metadata": {
    "ExecuteTime": {
     "end_time": "2023-08-29T00:17:28.943934Z",
     "start_time": "2023-08-29T00:04:08.321719Z"
    },
    "tags": []
   },
   "outputs": [
    {
     "name": "stdout",
     "output_type": "stream",
     "text": [
      "The MINOS and quad MINOS solvers are a courtesy of Prof Michael A. Saunders. Please cite Ma, D., Yang, L., Fleming, R. et al. Reliable and efficient solution of genome-scale models of Metabolism and macromolecular Expression. Sci Rep 7, 40863 (2017). https://doi.org/10.1038/srep40863\n",
      "\n",
      "~ Troubleshooting started...\n",
      "  Checking if the ME-model can simulate growth without gapfilling reactions...\n",
      "  Original ME-model is feasible with a tested growth rate of 0.001000 1/h\n",
      "~ Final step. Fully optimizing with precision 1e-6 and save solution into the ME-model...\n",
      "  Gapfilled ME-model is feasible with growth rate 0.831407 (M-model: 0.000000).\n",
      "ME-model was saved in the ./ecoli/ directory as MEModel-step3-ecoli-TS.pkl\n"
     ]
    }
   ],
   "source": [
    "builder.troubleshoot(growth_key_and_value = { builder.me_model.mu : 0.001 })"
   ]
  },
  {
   "cell_type": "markdown",
   "id": "4e7f22d1-5230-461e-a37a-e8c64542b62d",
   "metadata": {},
   "source": [
    "### Quick"
   ]
  },
  {
   "cell_type": "code",
   "execution_count": 8,
   "id": "ba8fe959-5606-4631-b49a-e9f5e56c4b0c",
   "metadata": {
    "ExecuteTime": {
     "end_time": "2023-08-29T00:17:28.963557Z",
     "start_time": "2023-08-29T00:17:28.945771Z"
    },
    "scrolled": true
   },
   "outputs": [],
   "source": [
    "builder = MEBuilder(*['./{:s}/coralme-config.yaml'.format(org)])"
   ]
  },
  {
   "cell_type": "code",
   "execution_count": 9,
   "id": "c2f000ee-bd9a-4bb1-8d8f-ebf0e02bb657",
   "metadata": {
    "ExecuteTime": {
     "end_time": "2023-08-29T00:22:42.628106Z",
     "start_time": "2023-08-29T00:17:28.964995Z"
    },
    "scrolled": true,
    "tags": []
   },
   "outputs": [
    {
     "name": "stdout",
     "output_type": "stream",
     "text": [
      "Initiating ME-model reconstruction...\n"
     ]
    },
    {
     "name": "stderr",
     "output_type": "stream",
     "text": [
      "Adding biomass constraint(s) into the ME-model...                          : 100.0%|██████████|    11/   11 [00:00<00:00]\n"
     ]
    },
    {
     "name": "stdout",
     "output_type": "stream",
     "text": [
      "Read LP format model from file /tmp/tmppjbm6_xv.lp\n",
      "Reading time = 0.01 seconds\n",
      ": 1660 rows, 4754 columns, 17902 nonzeros\n"
     ]
    },
    {
     "name": "stderr",
     "output_type": "stream",
     "text": [
      "Adding Metabolites from M-model into the ME-model...                       : 100.0%|██████████|  1811/ 1811 [00:00<00:00]\n",
      "Adding Reactions from M-model into the ME-model...                         : 100.0%|██████████|  2611/ 2611 [00:00<00:00]\n",
      "Adding Transcriptional Units into the ME-model...                          : 100.0%|██████████|  3415/ 3415 [00:49<00:00]\n",
      "Adding features from contig NC_000913.2 into the ME-model...               : 100.0%|██████████|  4317/ 4317 [00:24<00:00]\n",
      "Adding features from contig b0235 into the ME-model...                     : 100.0%|██████████|     2/    2 [00:00<00:00]\n",
      "Adding features from contig b4644 into the ME-model...                     : 100.0%|██████████|     2/    2 [00:00<00:00]\n",
      "Adding features from contig b0691 into the ME-model...                     : 100.0%|██████████|     2/    2 [00:00<00:00]\n",
      "Adding features from contig b2862 into the ME-model...                     : 100.0%|██████████|     2/    2 [00:00<00:00]\n",
      "Adding features from contig b1362 into the ME-model...                     : 100.0%|██████████|     2/    2 [00:00<00:00]\n",
      "Adding features from contig b0218 into the ME-model...                     : 100.0%|██████████|     2/    2 [00:00<00:00]\n",
      "Adding features from contig b4810 into the ME-model...                     : 100.0%|██████████|     2/    2 [00:00<00:00]\n",
      "Adding features from contig b4807 into the ME-model...                     : 100.0%|██████████|     2/    2 [00:00<00:00]\n",
      "Adding features from contig b4808 into the ME-model...                     : 100.0%|██████████|     2/    2 [00:00<00:00]\n",
      "Adding features from contig b4809 into the ME-model...                     : 100.0%|██████████|     2/    2 [00:00<00:00]\n",
      "Adding features from contig b4764 into the ME-model...                     : 100.0%|██████████|     2/    2 [00:00<00:00]\n",
      "Adding features from contig G0-10537 into the ME-model...                  : 100.0%|██████████|     2/    2 [00:00<00:00]\n",
      "Adding features from contig G0-10531 into the ME-model...                  : 100.0%|██████████|     2/    2 [00:00<00:00]\n",
      "Adding features from contig b4710 into the ME-model...                     : 100.0%|██████████|     2/    2 [00:00<00:00]\n",
      "Adding features from contig G0-10528 into the ME-model...                  : 100.0%|██████████|     2/    2 [00:00<00:00]\n",
      "Adding features from contig G0-10544 into the ME-model...                  : 100.0%|██████████|     2/    2 [00:00<00:00]\n",
      "Adding features from contig G0-10541 into the ME-model...                  : 100.0%|██████████|     2/    2 [00:00<00:00]\n",
      "Adding features from contig G0-10538 into the ME-model...                  : 100.0%|██████████|     2/    2 [00:00<00:00]\n",
      "Adding features from contig G0-10535 into the ME-model...                  : 100.0%|██████████|     2/    2 [00:00<00:00]\n",
      "Adding features from contig b4709 into the ME-model...                     : 100.0%|██████████|     2/    2 [00:00<00:00]\n",
      "Adding features from contig G0-10529 into the ME-model...                  : 100.0%|██████████|     2/    2 [00:00<00:00]\n",
      "Adding features from contig G0-10545 into the ME-model...                  : 100.0%|██████████|     2/    2 [00:00<00:00]\n",
      "Adding features from contig G0-10542 into the ME-model...                  : 100.0%|██████████|     2/    2 [00:00<00:00]\n",
      "Adding features from contig G0-10539 into the ME-model...                  : 100.0%|██████████|     2/    2 [00:00<00:00]\n",
      "Adding features from contig G0-10536 into the ME-model...                  : 100.0%|██████████|     2/    2 [00:00<00:00]\n",
      "Adding features from contig b4711 into the ME-model...                     : 100.0%|██████████|     2/    2 [00:00<00:00]\n",
      "Adding features from contig G0-10530 into the ME-model...                  : 100.0%|██████████|     2/    2 [00:00<00:00]\n",
      "Adding features from contig G0-10546 into the ME-model...                  : 100.0%|██████████|     2/    2 [00:00<00:00]\n",
      "Adding features from contig G0-10525 into the ME-model...                  : 100.0%|██████████|     2/    2 [00:00<00:00]\n",
      "Adding features from contig G0-10543 into the ME-model...                  : 100.0%|██████████|     2/    2 [00:00<00:00]\n",
      "Adding features from contig G0-10540 into the ME-model...                  : 100.0%|██████████|     2/    2 [00:00<00:00]\n",
      "Adding features from contig b1370 into the ME-model...                     : 100.0%|██████████|     2/    2 [00:00<00:00]\n",
      "Adding features from contig b1151 into the ME-model...                     : 100.0%|██████████|     2/    2 [00:00<00:00]\n",
      "Adding features from contig b0266 into the ME-model...                     : 100.0%|██████████|     2/    2 [00:00<00:00]\n",
      "Adding features from contig b1142 into the ME-model...                     : 100.0%|██████████|     2/    2 [00:00<00:00]\n",
      "Adding features from contig b2638 into the ME-model...                     : 100.0%|██████████|     2/    2 [00:00<00:00]\n",
      "Adding features from contig b0258 into the ME-model...                     : 100.0%|██████████|     2/    2 [00:00<00:00]\n",
      "Adding features from contig b0561 into the ME-model...                     : 100.0%|██████████|     2/    2 [00:00<00:00]\n",
      "Adding features from contig b1366 into the ME-model...                     : 100.0%|██████████|     2/    2 [00:00<00:00]\n",
      "Adding features from contig b1149 into the ME-model...                     : 100.0%|██████████|     2/    2 [00:00<00:00]\n",
      "Adding features from contig b1548 into the ME-model...                     : 100.0%|██████████|     2/    2 [00:00<00:00]\n",
      "Adding features from contig b2358 into the ME-model...                     : 100.0%|██████████|     2/    2 [00:00<00:00]\n",
      "Adding features from contig b1567 into the ME-model...                     : 100.0%|██████████|     2/    2 [00:00<00:00]\n",
      "Adding features from contig b0563 into the ME-model...                     : 100.0%|██████████|     2/    2 [00:00<00:00]\n",
      "Adding features from contig b2006 into the ME-model...                     : 100.0%|██████████|     2/    2 [00:00<00:00]\n",
      "Adding features from contig b1368 into the ME-model...                     : 100.0%|██████████|     2/    2 [00:00<00:00]\n",
      "Adding features from contig b1361 into the ME-model...                     : 100.0%|██████████|     2/    2 [00:00<00:00]\n",
      "Adding features from contig b0276 into the ME-model...                     : 100.0%|██████████|     2/    2 [00:00<00:00]\n",
      "Adding features from contig b2356 into the ME-model...                     : 100.0%|██████████|     2/    2 [00:00<00:00]\n",
      "Adding features from contig b1568 into the ME-model...                     : 100.0%|██████████|     2/    2 [00:00<00:00]\n",
      "Adding features from contig b4584 into the ME-model...                     : 100.0%|██████████|     2/    2 [00:00<00:00]\n",
      "Adding features from contig b4496 into the ME-model...                     : 100.0%|██████████|     2/    2 [00:00<00:00]\n",
      "Adding features from contig b4575 into the ME-model...                     : 100.0%|██████████|     2/    2 [00:00<00:00]\n",
      "Adding features from contig b3534 into the ME-model...                     : 100.0%|██████████|     2/    2 [00:00<00:00]\n",
      "Adding features from contig b4658 into the ME-model...                     : 100.0%|██████████|     2/    2 [00:00<00:00]\n",
      "Adding features from contig b4490 into the ME-model...                     : 100.0%|██████████|     2/    2 [00:00<00:00]\n",
      "Adding features from contig b2850 into the ME-model...                     : 100.0%|██████████|     2/    2 [00:00<00:00]\n",
      "Adding features from contig b4038 into the ME-model...                     : 100.0%|██████████|     2/    2 [00:00<00:00]\n",
      "Adding features from contig b3782 into the ME-model...                     : 100.0%|██████████|     2/    2 [00:00<00:00]\n",
      "Adding features from contig b4661 into the ME-model...                     : 100.0%|██████████|     2/    2 [00:00<00:00]\n",
      "Adding features from contig b4493 into the ME-model...                     : 100.0%|██████████|     2/    2 [00:00<00:00]\n",
      "Adding features from contig b4497 into the ME-model...                     : 100.0%|██████████|     2/    2 [00:00<00:00]\n",
      "Adding features from contig b4521 into the ME-model...                     : 100.0%|██████████|     2/    2 [00:00<00:00]\n"
     ]
    },
    {
     "name": "stderr",
     "output_type": "stream",
     "text": [
      "Adding features from contig b4494 into the ME-model...                     : 100.0%|██████████|     2/    2 [00:00<00:00]\n",
      "Adding features from contig b4491 into the ME-model...                     : 100.0%|██████████|     2/    2 [00:00<00:00]\n",
      "Adding features from contig b4660 into the ME-model...                     : 100.0%|██████████|     2/    2 [00:00<00:00]\n",
      "Adding features from contig b2856 into the ME-model...                     : 100.0%|██████████|     2/    2 [00:00<00:00]\n",
      "Adding features from contig b4462 into the ME-model...                     : 100.0%|██████████|     2/    2 [00:00<00:00]\n",
      "Adding features from contig b4286 into the ME-model...                     : 100.0%|██████████|     2/    2 [00:00<00:00]\n",
      "Adding features from contig b4495 into the ME-model...                     : 100.0%|██████████|     2/    2 [00:00<00:00]\n",
      "Adding features from contig b2859 into the ME-model...                     : 100.0%|██████████|     2/    2 [00:00<00:00]\n",
      "Adding features from contig b0562 into the ME-model...                     : 100.0%|██████████|     2/    2 [00:00<00:00]\n",
      "Adding features from contig b2681 into the ME-model...                     : 100.0%|██████████|     2/    2 [00:00<00:00]\n",
      "Adding features from contig b4696 into the ME-model...                     : 100.0%|██████████|     2/    2 [00:00<00:00]\n",
      "Adding features from contig b4488 into the ME-model...                     : 100.0%|██████████|     2/    2 [00:00<00:00]\n",
      "Adding features from contig b4500 into the ME-model...                     : 100.0%|██████████|     2/    2 [00:00<00:00]\n",
      "Adding features from contig b4610 into the ME-model...                     : 100.0%|██████████|     2/    2 [00:00<00:00]\n",
      "Adding features from contig b4545 into the ME-model...                     : 100.0%|██████████|     2/    2 [00:00<00:00]\n",
      "Adding features from contig b2863 into the ME-model...                     : 100.0%|██████████|     2/    2 [00:00<00:00]\n",
      "Adding features from contig b1471 into the ME-model...                     : 100.0%|██████████|     2/    2 [00:00<00:00]\n",
      "Adding features from contig b4795 into the ME-model...                     : 100.0%|██████████|     2/    2 [00:00<00:00]\n",
      "Adding features from contig b4777 into the ME-model...                     : 100.0%|██████████|     2/    2 [00:00<00:00]\n",
      "Adding features from contig b4753 into the ME-model...                     : 100.0%|██████████|     2/    2 [00:00<00:00]\n",
      "Adding features from contig b4738 into the ME-model...                     : 100.0%|██████████|     2/    2 [00:00<00:00]\n",
      "Adding features from contig b4525 into the ME-model...                     : 100.0%|██████████|     2/    2 [00:00<00:00]\n",
      "Adding features from contig b4791 into the ME-model...                     : 100.0%|██████████|     2/    2 [00:00<00:00]\n",
      "Adding features from contig b4774 into the ME-model...                     : 100.0%|██████████|     2/    2 [00:00<00:00]\n",
      "Adding features from contig b4749 into the ME-model...                     : 100.0%|██████████|     2/    2 [00:00<00:00]\n",
      "Adding features from contig b4735 into the ME-model...                     : 100.0%|██████████|     2/    2 [00:00<00:00]\n",
      "Adding features from contig b2969 into the ME-model...                     : 100.0%|██████████|     2/    2 [00:00<00:00]\n",
      "Adding features from contig b4743 into the ME-model...                     : 100.0%|██████████|     2/    2 [00:00<00:00]\n",
      "Adding features from contig b4788 into the ME-model...                     : 100.0%|██████████|     2/    2 [00:00<00:00]\n",
      "Adding features from contig b4771 into the ME-model...                     : 100.0%|██████████|     2/    2 [00:00<00:00]\n",
      "Adding features from contig b4746 into the ME-model...                     : 100.0%|██████████|     2/    2 [00:00<00:00]\n",
      "Adding features from contig b4732 into the ME-model...                     : 100.0%|██████████|     2/    2 [00:00<00:00]\n",
      "Adding features from contig b3808 into the ME-model...                     : 100.0%|██████████|     2/    2 [00:00<00:00]\n",
      "Adding features from contig b0322 into the ME-model...                     : 100.0%|██████████|     2/    2 [00:00<00:00]\n",
      "Adding features from contig b0012 into the ME-model...                     : 100.0%|██████████|     2/    2 [00:00<00:00]\n",
      "Adding features from contig b0502 into the ME-model...                     : 100.0%|██████████|     2/    2 [00:00<00:00]\n",
      "Adding features from contig b4802 into the ME-model...                     : 100.0%|██████████|     2/    2 [00:00<00:00]\n",
      "Adding features from contig b4785 into the ME-model...                     : 100.0%|██████████|     2/    2 [00:00<00:00]\n",
      "Adding features from contig b4768 into the ME-model...                     : 100.0%|██████████|     2/    2 [00:00<00:00]\n",
      "Adding features from contig b4742 into the ME-model...                     : 100.0%|██████████|     2/    2 [00:00<00:00]\n",
      "Adding features from contig b4729 into the ME-model...                     : 100.0%|██████████|     2/    2 [00:00<00:00]\n",
      "Adding features from contig b3427 into the ME-model...                     : 100.0%|██████████|     2/    2 [00:00<00:00]\n",
      "Adding features from contig b0057 into the ME-model...                     : 100.0%|██████████|     2/    2 [00:00<00:00]\n",
      "Adding features from contig b0282 into the ME-model...                     : 100.0%|██████████|     2/    2 [00:00<00:00]\n",
      "Adding features from contig b4799 into the ME-model...                     : 100.0%|██████████|     2/    2 [00:00<00:00]\n",
      "Adding features from contig b4782 into the ME-model...                     : 100.0%|██████████|     2/    2 [00:00<00:00]\n",
      "Adding features from contig b4757 into the ME-model...                     : 100.0%|██████████|     2/    2 [00:00<00:00]\n",
      "Adding features from contig b4726 into the ME-model...                     : 100.0%|██████████|     2/    2 [00:00<00:00]\n",
      "Adding features from contig b2650 into the ME-model...                     : 100.0%|██████████|     2/    2 [00:00<00:00]\n",
      "Adding features from contig b2115 into the ME-model...                     : 100.0%|██████████|     2/    2 [00:00<00:00]\n",
      "Adding features from contig b2981 into the ME-model...                     : 100.0%|██████████|     2/    2 [00:00<00:00]\n",
      "Adding features from contig b1472 into the ME-model...                     : 100.0%|██████████|     2/    2 [00:00<00:00]\n",
      "Adding features from contig b4572 into the ME-model...                     : 100.0%|██████████|     2/    2 [00:00<00:00]\n",
      "Adding features from contig b4796 into the ME-model...                     : 100.0%|██████████|     2/    2 [00:00<00:00]\n",
      "Adding features from contig b4778 into the ME-model...                     : 100.0%|██████████|     2/    2 [00:00<00:00]\n",
      "Adding features from contig b4754 into the ME-model...                     : 100.0%|██████████|     2/    2 [00:00<00:00]\n",
      "Adding features from contig b4739 into the ME-model...                     : 100.0%|██████████|     2/    2 [00:00<00:00]\n",
      "Adding features from contig b1228 into the ME-model...                     : 100.0%|██████████|     2/    2 [00:00<00:00]\n",
      "Adding features from contig b4760 into the ME-model...                     : 100.0%|██████████|     2/    2 [00:00<00:00]\n",
      "Adding features from contig b4792 into the ME-model...                     : 100.0%|██████████|     2/    2 [00:00<00:00]\n",
      "Adding features from contig b4775 into the ME-model...                     : 100.0%|██████████|     2/    2 [00:00<00:00]\n",
      "Adding features from contig b4750 into the ME-model...                     : 100.0%|██████████|     2/    2 [00:00<00:00]\n",
      "Adding features from contig b4736 into the ME-model...                     : 100.0%|██████████|     2/    2 [00:00<00:00]\n",
      "Adding features from contig b4758 into the ME-model...                     : 100.0%|██████████|     2/    2 [00:00<00:00]\n",
      "Adding features from contig b4719 into the ME-model...                     : 100.0%|██████████|     2/    2 [00:00<00:00]\n",
      "Adding features from contig b2970 into the ME-model...                     : 100.0%|██████████|     2/    2 [00:00<00:00]\n",
      "Adding features from contig b4716 into the ME-model...                     : 100.0%|██████████|     2/    2 [00:00<00:00]\n"
     ]
    },
    {
     "name": "stderr",
     "output_type": "stream",
     "text": [
      "Adding features from contig b4789 into the ME-model...                     : 100.0%|██████████|     2/    2 [00:00<00:00]\n",
      "Adding features from contig b4772 into the ME-model...                     : 100.0%|██████████|     2/    2 [00:00<00:00]\n",
      "Adding features from contig b4747 into the ME-model...                     : 100.0%|██████████|     2/    2 [00:00<00:00]\n",
      "Adding features from contig b4733 into the ME-model...                     : 100.0%|██████████|     2/    2 [00:00<00:00]\n",
      "Adding features from contig b4534 into the ME-model...                     : 100.0%|██████████|     2/    2 [00:00<00:00]\n",
      "Adding features from contig b2941 into the ME-model...                     : 100.0%|██████████|     2/    2 [00:00<00:00]\n",
      "Adding features from contig b4786 into the ME-model...                     : 100.0%|██████████|     2/    2 [00:00<00:00]\n",
      "Adding features from contig b4769 into the ME-model...                     : 100.0%|██████████|     2/    2 [00:00<00:00]\n",
      "Adding features from contig b4744 into the ME-model...                     : 100.0%|██████████|     2/    2 [00:00<00:00]\n",
      "Adding features from contig b4342 into the ME-model...                     : 100.0%|██████████|     2/    2 [00:00<00:00]\n",
      "Adding features from contig b4730 into the ME-model...                     : 100.0%|██████████|     2/    2 [00:00<00:00]\n",
      "Adding features from contig b3683 into the ME-model...                     : 100.0%|██████████|     2/    2 [00:00<00:00]\n",
      "Adding features from contig b4800 into the ME-model...                     : 100.0%|██████████|     2/    2 [00:00<00:00]\n",
      "Adding features from contig b4783 into the ME-model...                     : 100.0%|██████████|     2/    2 [00:00<00:00]\n",
      "Adding features from contig b4765 into the ME-model...                     : 100.0%|██████████|     2/    2 [00:00<00:00]\n",
      "Adding features from contig b3682 into the ME-model...                     : 100.0%|██████████|     2/    2 [00:00<00:00]\n",
      "Adding features from contig b4727 into the ME-model...                     : 100.0%|██████████|     2/    2 [00:00<00:00]\n",
      "Adding features from contig b4615 into the ME-model...                     : 100.0%|██████████|     2/    2 [00:00<00:00]\n",
      "Adding features from contig b2122 into the ME-model...                     : 100.0%|██████████|     2/    2 [00:00<00:00]\n",
      "Adding features from contig b4797 into the ME-model...                     : 100.0%|██████████|     2/    2 [00:00<00:00]\n",
      "Adding features from contig b4779 into the ME-model...                     : 100.0%|██████████|     2/    2 [00:00<00:00]\n",
      "Adding features from contig b4755 into the ME-model...                     : 100.0%|██████████|     2/    2 [00:00<00:00]\n",
      "Adding features from contig b4740 into the ME-model...                     : 100.0%|██████████|     2/    2 [00:00<00:00]\n",
      "Adding features from contig b4688 into the ME-model...                     : 100.0%|██████████|     2/    2 [00:00<00:00]\n",
      "Adding features from contig b4605 into the ME-model...                     : 100.0%|██████████|     2/    2 [00:00<00:00]\n",
      "Adding features from contig b4538 into the ME-model...                     : 100.0%|██████████|     2/    2 [00:00<00:00]\n",
      "Adding features from contig b4793 into the ME-model...                     : 100.0%|██████████|     2/    2 [00:00<00:00]\n",
      "Adding features from contig b4776 into the ME-model...                     : 100.0%|██████████|     2/    2 [00:00<00:00]\n",
      "Adding features from contig b4752 into the ME-model...                     : 100.0%|██████████|     2/    2 [00:00<00:00]\n",
      "Adding features from contig b4737 into the ME-model...                     : 100.0%|██████████|     2/    2 [00:00<00:00]\n",
      "Adding features from contig b4790 into the ME-model...                     : 100.0%|██████████|     2/    2 [00:00<00:00]\n",
      "Adding features from contig b4773 into the ME-model...                     : 100.0%|██████████|     2/    2 [00:00<00:00]\n",
      "Adding features from contig b4748 into the ME-model...                     : 100.0%|██████████|     2/    2 [00:00<00:00]\n",
      "Adding features from contig b4734 into the ME-model...                     : 100.0%|██████████|     2/    2 [00:00<00:00]\n",
      "Adding features from contig b4787 into the ME-model...                     : 100.0%|██████████|     2/    2 [00:00<00:00]\n",
      "Adding features from contig b4770 into the ME-model...                     : 100.0%|██████████|     2/    2 [00:00<00:00]\n",
      "Adding features from contig b4745 into the ME-model...                     : 100.0%|██████████|     2/    2 [00:00<00:00]\n",
      "Adding features from contig b4731 into the ME-model...                     : 100.0%|██████████|     2/    2 [00:00<00:00]\n",
      "Adding features from contig b4801 into the ME-model...                     : 100.0%|██████████|     2/    2 [00:00<00:00]\n",
      "Adding features from contig b4784 into the ME-model...                     : 100.0%|██████████|     2/    2 [00:00<00:00]\n",
      "Adding features from contig b4767 into the ME-model...                     : 100.0%|██████████|     2/    2 [00:00<00:00]\n",
      "Adding features from contig b4741 into the ME-model...                     : 100.0%|██████████|     2/    2 [00:00<00:00]\n",
      "Adding features from contig b4728 into the ME-model...                     : 100.0%|██████████|     2/    2 [00:00<00:00]\n",
      "Adding features from contig b0056 into the ME-model...                     : 100.0%|██████████|     2/    2 [00:00<00:00]\n",
      "Adding features from contig b1505 into the ME-model...                     : 100.0%|██████████|     2/    2 [00:00<00:00]\n",
      "Adding features from contig b4798 into the ME-model...                     : 100.0%|██████████|     2/    2 [00:00<00:00]\n",
      "Adding features from contig b4781 into the ME-model...                     : 100.0%|██████████|     2/    2 [00:00<00:00]\n",
      "Adding features from contig b4756 into the ME-model...                     : 100.0%|██████████|     2/    2 [00:00<00:00]\n",
      "Adding features from contig b1543 into the ME-model...                     : 100.0%|██████████|     2/    2 [00:00<00:00]\n",
      "Adding features from contig b2649 into the ME-model...                     : 100.0%|██████████|     2/    2 [00:00<00:00]\n",
      "Adding features from contig G0-16695 into the ME-model...                  : 100.0%|██████████|     2/    2 [00:00<00:00]\n",
      "Adding features from contig b4725 into the ME-model...                     : 100.0%|██████████|     2/    2 [00:00<00:00]\n",
      "Adding features from contig G0-10701 into the ME-model...                  : 100.0%|██████████|     2/    2 [00:00<00:00]\n",
      "Adding features from contig b4812 into the ME-model...                     : 100.0%|██████████|     2/    2 [00:00<00:00]\n",
      "Adding features from contig b4721 into the ME-model...                     : 100.0%|██████████|     2/    2 [00:00<00:00]\n",
      "Adding features from contig b4763 into the ME-model...                     : 100.0%|██████████|     2/    2 [00:00<00:00]\n",
      "Adding features from contig b4761 into the ME-model...                     : 100.0%|██████████|     2/    2 [00:00<00:00]\n",
      "Adding features from contig G0-8861 into the ME-model...                   : 100.0%|██████████|     2/    2 [00:00<00:00]\n",
      "Adding features from contig b4762 into the ME-model...                     : 100.0%|██████████|     2/    2 [00:00<00:00]\n",
      "Adding features from contig b4416 into the ME-model...                     : 100.0%|██████████|     2/    2 [00:00<00:00]\n",
      "Adding features from contig b4805 into the ME-model...                     : 100.0%|██████████|     2/    2 [00:00<00:00]\n",
      "Adding features from contig b4718 into the ME-model...                     : 100.0%|██████████|     2/    2 [00:00<00:00]\n",
      "Adding features from contig G0-16699 into the ME-model...                  : 100.0%|██████████|     2/    2 [00:00<00:00]\n",
      "Adding features from contig G0-16635 into the ME-model...                  : 100.0%|██████████|     2/    2 [00:00<00:00]\n",
      "Adding features from contig G0-16696 into the ME-model...                  : 100.0%|██████████|     2/    2 [00:00<00:00]\n",
      "Adding features from contig G0-16693 into the ME-model...                  : 100.0%|██████████|     2/    2 [00:00<00:00]\n",
      "Adding features from contig G0-10706 into the ME-model...                  : 100.0%|██████████|     2/    2 [00:00<00:00]\n"
     ]
    },
    {
     "name": "stderr",
     "output_type": "stream",
     "text": [
      "Adding features from contig b4723 into the ME-model...                     : 100.0%|██████████|     2/    2 [00:00<00:00]\n",
      "Adding features from contig G0-17079 into the ME-model...                  : 100.0%|██████████|     2/    2 [00:00<00:00]\n",
      "Adding features from contig b4722 into the ME-model...                     : 100.0%|██████████|     2/    2 [00:00<00:00]\n",
      "Adding features from contig b4673 into the ME-model...                     : 100.0%|██████████|     2/    2 [00:00<00:00]\n",
      "Adding features from contig G0-17076 into the ME-model...                  : 100.0%|██████████|     2/    2 [00:00<00:00]\n",
      "Adding features from contig b4759 into the ME-model...                     : 100.0%|██████████|     2/    2 [00:00<00:00]\n",
      "Adding features from contig G0-16697 into the ME-model...                  : 100.0%|██████████|     2/    2 [00:00<00:00]\n",
      "Adding features from contig G0-10738 into the ME-model...                  : 100.0%|██████████|     2/    2 [00:00<00:00]\n",
      "Adding features from contig G0-16694 into the ME-model...                  : 100.0%|██████████|     2/    2 [00:00<00:00]\n",
      "Adding features from contig b4514 into the ME-model...                     : 100.0%|██████████|     2/    2 [00:00<00:00]\n",
      "Adding features from contig b4724 into the ME-model...                     : 100.0%|██████████|     2/    2 [00:00<00:00]\n",
      "Adding features from contig b4811 into the ME-model...                     : 100.0%|██████████|     2/    2 [00:00<00:00]\n",
      "Adding features from contig b4720 into the ME-model...                     : 100.0%|██████████|     2/    2 [00:00<00:00]\n",
      "Adding features from contig b4804 into the ME-model...                     : 100.0%|██████████|     2/    2 [00:00<00:00]\n",
      "Adding features from contig G0-10624 into the ME-model...                  : 100.0%|██████████|     2/    2 [00:00<00:00]\n",
      "Adding features from contig b4715 into the ME-model...                     : 100.0%|██████████|     2/    2 [00:00<00:00]\n",
      "Adding features from contig G0-16698 into the ME-model...                  : 100.0%|██████████|     2/    2 [00:00<00:00]\n",
      "Adding features from contig b4717 into the ME-model...                     : 100.0%|██████████|     2/    2 [00:00<00:00]\n",
      "Adding features from contig b4780 into the ME-model...                     : 100.0%|██████████|     2/    2 [00:00<00:00]\n",
      "Adding features from contig b4806 into the ME-model...                     : 100.0%|██████████|     2/    2 [00:00<00:00]\n",
      "Adding features from contig b4712 into the ME-model...                     : 100.0%|██████████|     2/    2 [00:00<00:00]\n",
      "Adding features from contig b4713 into the ME-model...                     : 100.0%|██████████|     2/    2 [00:00<00:00]\n",
      "Adding features from contig b4714 into the ME-model...                     : 100.0%|██████████|     2/    2 [00:00<00:00]\n",
      "Adding features from contig b4794 into the ME-model...                     : 100.0%|██████████|     2/    2 [00:00<00:00]\n",
      "Adding features from contig b4803 into the ME-model...                     : 100.0%|██████████|     2/    2 [00:00<00:00]\n",
      "Adding features from contig b4751 into the ME-model...                     : 100.0%|██████████|     2/    2 [00:00<00:00]\n",
      "Adding features from contig b4766 into the ME-model...                     : 100.0%|██████████|     2/    2 [00:00<00:00]\n",
      "Adding features from contig b2854 into the ME-model...                     : 100.0%|██████████|     2/    2 [00:00<00:00]\n",
      "Adding features from contig b1157 into the ME-model...                     : 100.0%|██████████|     2/    2 [00:00<00:00]\n",
      "Adding features from contig b4634 into the ME-model...                     : 100.0%|██████████|     2/    2 [00:00<00:00]\n",
      "Adding features from contig b1577 into the ME-model...                     : 100.0%|██████████|     2/    2 [00:00<00:00]\n",
      "Adding features from contig b2355 into the ME-model...                     : 100.0%|██████████|     2/    2 [00:00<00:00]\n",
      "Adding features from contig b0705 into the ME-model...                     : 100.0%|██████████|     2/    2 [00:00<00:00]\n",
      "Adding features from contig b4626 into the ME-model...                     : 100.0%|██████████|     2/    2 [00:00<00:00]\n",
      "Adding features from contig b2238 into the ME-model...                     : 100.0%|██████████|     2/    2 [00:00<00:00]\n",
      "Adding features from contig b4282 into the ME-model...                     : 100.0%|██████████|     2/    2 [00:00<00:00]\n",
      "Adding features from contig b1999 into the ME-model...                     : 100.0%|██████████|     2/    2 [00:00<00:00]\n",
      "Adding features from contig b0499 into the ME-model...                     : 100.0%|██████████|     2/    2 [00:00<00:00]\n",
      "Adding features from contig b4271 into the ME-model...                     : 100.0%|██████████|     2/    2 [00:00<00:00]\n",
      "Adding features from contig b3777 into the ME-model...                     : 100.0%|██████████|     2/    2 [00:00<00:00]\n",
      "Adding features from contig b1578 into the ME-model...                     : 100.0%|██████████|     2/    2 [00:00<00:00]\n",
      "Adding features from contig b0263 into the ME-model...                     : 100.0%|██████████|     2/    2 [00:00<00:00]\n",
      "Adding features from contig b2139 into the ME-model...                     : 100.0%|██████████|     2/    2 [00:00<00:00]\n",
      "Adding features from contig b2915 into the ME-model...                     : 100.0%|██████████|     2/    2 [00:00<00:00]\n",
      "Adding features from contig b1459 into the ME-model...                     : 100.0%|██████████|     2/    2 [00:00<00:00]\n",
      "Adding features from contig b0229 into the ME-model...                     : 100.0%|██████████|     2/    2 [00:00<00:00]\n",
      "Adding features from contig b3595 into the ME-model...                     : 100.0%|██████████|     2/    2 [00:00<00:00]\n",
      "Adding features from contig b2855 into the ME-model...                     : 100.0%|██████████|     2/    2 [00:00<00:00]\n",
      "Adding features from contig b4573 into the ME-model...                     : 100.0%|██████████|     2/    2 [00:00<00:00]\n",
      "Adding features from contig b4692 into the ME-model...                     : 100.0%|██████████|     2/    2 [00:00<00:00]\n",
      "Adding features from contig b4486 into the ME-model...                     : 100.0%|██████████|     2/    2 [00:00<00:00]\n",
      "Adding features from contig b2641 into the ME-model...                     : 100.0%|██████████|     2/    2 [00:00<00:00]\n",
      "Adding features from contig b1028 into the ME-model...                     : 100.0%|██████████|     2/    2 [00:00<00:00]\n",
      "Adding features from contig b4630 into the ME-model...                     : 100.0%|██████████|     2/    2 [00:00<00:00]\n",
      "Adding features from contig b4519 into the ME-model...                     : 100.0%|██████████|     2/    2 [00:00<00:00]\n",
      "Adding features from contig b4503 into the ME-model...                     : 100.0%|██████████|     2/    2 [00:00<00:00]\n",
      "Adding features from contig b4308 into the ME-model...                     : 100.0%|██████████|     2/    2 [00:00<00:00]\n",
      "Adding features from contig b2083 into the ME-model...                     : 100.0%|██████████|     2/    2 [00:00<00:00]\n",
      "Adding features from contig b0539 into the ME-model...                     : 100.0%|██████████|     2/    2 [00:00<00:00]\n",
      "Adding features from contig b4632 into the ME-model...                     : 100.0%|██████████|     2/    2 [00:00<00:00]\n",
      "Adding features from contig b3135 into the ME-model...                     : 100.0%|██████████|     2/    2 [00:00<00:00]\n",
      "Adding features from contig b4205 into the ME-model...                     : 100.0%|██████████|     2/    2 [00:00<00:00]\n",
      "Adding features from contig b1579 into the ME-model...                     : 100.0%|██████████|     2/    2 [00:00<00:00]\n",
      "Adding features from contig b0300 into the ME-model...                     : 100.0%|██████████|     2/    2 [00:00<00:00]\n",
      "Adding features from contig b4657 into the ME-model...                     : 100.0%|██████████|     2/    2 [00:00<00:00]\n",
      "Adding features from contig b0297 into the ME-model...                     : 100.0%|██████████|     2/    2 [00:00<00:00]\n",
      "Adding features from contig b3134 into the ME-model...                     : 100.0%|██████████|     2/    2 [00:00<00:00]\n"
     ]
    },
    {
     "name": "stderr",
     "output_type": "stream",
     "text": [
      "Adding features from contig b1470 into the ME-model...                     : 100.0%|██████████|     2/    2 [00:00<00:00]\n",
      "Adding features from contig b0230 into the ME-model...                     : 100.0%|██████████|     2/    2 [00:00<00:00]\n",
      "Adding features from contig b0501 into the ME-model...                     : 100.0%|██████████|     2/    2 [00:00<00:00]\n",
      "Adding features from contig b2858 into the ME-model...                     : 100.0%|██████████|     2/    2 [00:00<00:00]\n",
      "Adding features from contig b1318 into the ME-model...                     : 100.0%|██████████|     2/    2 [00:00<00:00]\n",
      "Adding features from contig b4693 into the ME-model...                     : 100.0%|██████████|     2/    2 [00:00<00:00]\n",
      "Adding features from contig b4650 into the ME-model...                     : 100.0%|██████████|     2/    2 [00:00<00:00]\n",
      "Adding features from contig b0236 into the ME-model...                     : 100.0%|██████████|     2/    2 [00:00<00:00]\n",
      "Adding features from contig b2648 into the ME-model...                     : 100.0%|██████████|     2/    2 [00:00<00:00]\n",
      "Adding features from contig b1152 into the ME-model...                     : 100.0%|██████████|     2/    2 [00:00<00:00]\n",
      "Adding features from contig b4633 into the ME-model...                     : 100.0%|██████████|     2/    2 [00:00<00:00]\n",
      "Adding features from contig b4583 into the ME-model...                     : 100.0%|██████████|     2/    2 [00:00<00:00]\n",
      "Adding features from contig b0703 into the ME-model...                     : 100.0%|██████████|     2/    2 [00:00<00:00]\n",
      "Adding features from contig b4638 into the ME-model...                     : 100.0%|██████████|     2/    2 [00:00<00:00]\n",
      "Adding features from contig b4524 into the ME-model...                     : 100.0%|██████████|     2/    2 [00:00<00:00]\n",
      "Adding features from contig b3268 into the ME-model...                     : 100.0%|██████████|     2/    2 [00:00<00:00]\n",
      "Adding features from contig b1456 into the ME-model...                     : 100.0%|██████████|     2/    2 [00:00<00:00]\n",
      "Adding features from contig b4281 into the ME-model...                     : 100.0%|██████████|     2/    2 [00:00<00:00]\n",
      "Adding features from contig b1936 into the ME-model...                     : 100.0%|██████████|     2/    2 [00:00<00:00]\n",
      "Adding features from contig b0392 into the ME-model...                     : 100.0%|██████████|     2/    2 [00:00<00:00]\n",
      "Adding features from contig b4581 into the ME-model...                     : 100.0%|██████████|     2/    2 [00:00<00:00]\n",
      "Adding features from contig b1506 into the ME-model...                     : 100.0%|██████████|     2/    2 [00:00<00:00]\n",
      "Updating all TranslationReaction and TranscriptionReaction...              : 100.0%|██████████|  8480/ 8480 [00:13<00:00]\n",
      "Removing SubReactions from ComplexData...                                  : 100.0%|██████████|  5678/ 5678 [00:00<00:00]\n",
      "Adding ComplexFormation into the ME-model...                               : 100.0%|██████████|  5678/ 5678 [00:01<00:00]\n",
      "Adding Generic(s) into the ME-model...                                     : 100.0%|██████████|    11/   11 [00:00<00:00]\n",
      "Processing StoichiometricData in ME-model...                               : 100.0%|██████████|  2282/ 2282 [00:01<00:00]\n"
     ]
    },
    {
     "name": "stdout",
     "output_type": "stream",
     "text": [
      "ME-model was saved in the ./ecoli/ directory as MEModel-step1-ecoli.pkl\n"
     ]
    },
    {
     "name": "stderr",
     "output_type": "stream",
     "text": [
      "Adding tRNA synthetase(s) information into the ME-model...                 : 100.0%|██████████|   305/  305 [00:00<00:00]\n",
      "Adding tRNA modification SubReactions...                                   : 100.0%|██████████|    34/   34 [00:00<00:00]\n",
      "Associating tRNA modification enzyme(s) to tRNA(s)...                      : 100.0%|██████████|   650/  650 [00:03<00:00]\n",
      "Adding SubReactions into TranslationReactions...                           : 100.0%|██████████|  4279/ 4279 [00:03<00:00]\n",
      "Adding RNA Polymerase(s) into the ME-model...                              : 100.0%|██████████|     7/    7 [00:00<00:00]\n",
      "Associating a RNA Polymerase to each Transcriptional Unit...               : 100.0%|██████████|  3415/ 3415 [00:00<00:00]\n",
      "Processing ComplexData in ME-model...                                      : 100.0%|██████████|   537/  537 [00:00<00:00]\n",
      "Adding ComplexFormation into the ME-model...                               : 100.0%|██████████|  5691/ 5691 [00:00<00:00]\n",
      "Adding SubReactions into TranslationReactions...                           : 100.0%|██████████|  4279/ 4279 [00:03<00:00]\n",
      "Adding Transcription SubReactions...                                       : 100.0%|██████████|  3556/ 3556 [00:00<00:00]\n",
      "Processing StoichiometricData in SubReactionData...                        : 100.0%|██████████|  1009/ 1009 [00:00<00:00]\n",
      "Adding lipid precursors and lipoproteins...                                : 100.0%|██████████|    14/   14 [00:00<00:00]\n",
      "Adding reaction subsystems from M-model into the ME-model...               : 100.0%|██████████|  2611/ 2611 [00:00<00:00]\n",
      "Processing StoichiometricData in ME-model...                               : 100.0%|██████████|  2282/ 2282 [00:00<00:00]\n",
      "Updating ME-model Reactions...                                             : 100.0%|██████████| 22060/22060 [03:05<00:00]\n",
      "Updating all FormationReactions...                                         : 100.0%|██████████|  5691/ 5691 [00:00<00:00]\n",
      "Recalculation of the elemental contribution in SubReactions...             : 100.0%|██████████|   423/  423 [00:00<00:00]\n",
      "Updating all FormationReactions...                                         : 100.0%|██████████|  5691/ 5691 [00:00<00:00]\n",
      "Updating FormationReactions involving a lipoyl prosthetic group...         : 0.0%|          |     0/    0 [00:00<?]\n",
      "Updating FormationReactions involving a glycyl radical...                  : 100.0%|██████████|    18/   18 [00:00<00:00]\n",
      "Estimating effective turnover rates for reactions using the SASA method... : 100.0%|██████████|  7320/ 7320 [00:01<00:00]\n",
      "Mapping effective turnover rates from user input...                        : 100.0%|██████████|  5036/ 5036 [00:00<00:00]\n",
      "Setting the effective turnover rates using user input...                   : 100.0%|██████████|  6772/ 6772 [00:02<00:00]\n"
     ]
    },
    {
     "name": "stdout",
     "output_type": "stream",
     "text": [
      "ME-model was saved in the ./ecoli/ directory as MEModel-step2-ecoli.pkl\n",
      "ME-model reconstruction is done.\n",
      "Number of metabolites in the ME-model is 16891 (+917.53%, from 1660)\n",
      "Number of reactions in the ME-model is 26893 (+1031.38%, from 2377)\n",
      "Number of genes in the ME-model is 4449 (+250.04%, from 1271)\n"
     ]
    }
   ],
   "source": [
    "builder.build_me_model(overwrite=False, update=True, prune=False)"
   ]
  },
  {
   "cell_type": "code",
   "execution_count": null,
   "id": "4dc1c455-5dc2-489d-8327-050d5f0c580a",
   "metadata": {
    "ExecuteTime": {
     "start_time": "2023-08-28T23:56:44.157Z"
    }
   },
   "outputs": [
    {
     "name": "stdout",
     "output_type": "stream",
     "text": [
      "The MINOS and quad MINOS solvers are a courtesy of Prof Michael A. Saunders. Please cite Ma, D., Yang, L., Fleming, R. et al. Reliable and efficient solution of genome-scale models of Metabolism and macromolecular Expression. Sci Rep 7, 40863 (2017). https://doi.org/10.1038/srep40863\n",
      "\n",
      "~ Troubleshooting started...\n",
      "  Checking if the ME-model can simulate growth without gapfilling reactions...\n"
     ]
    }
   ],
   "source": [
    "builder.troubleshoot(growth_key_and_value = { builder.me_model.mu : 0.001 })"
   ]
  },
  {
   "cell_type": "markdown",
   "id": "4840cacc-f83e-402e-91e7-a8d45ca92bee",
   "metadata": {},
   "source": [
    "### Load builder"
   ]
  },
  {
   "cell_type": "code",
   "execution_count": null,
   "id": "afcd0a3a-182b-424d-8c4c-09af614e3f67",
   "metadata": {
    "ExecuteTime": {
     "start_time": "2023-08-28T23:56:44.160Z"
    },
    "scrolled": true
   },
   "outputs": [],
   "source": [
    "builder = MEBuilder(*['./{:s}/coralme-config.yaml'.format(org)])\n",
    "builder.me_model = builder.load(builder.configuration['out_directory']+'MEModel-step2-{}.pkl'.format(org))"
   ]
  },
  {
   "cell_type": "markdown",
   "id": "822d348a-c2bc-4064-a131-db28874b89d2",
   "metadata": {},
   "source": [
    "### Find issue"
   ]
  },
  {
   "cell_type": "code",
   "execution_count": null,
   "id": "0291e591-18b1-4062-89c3-5397efd5ea5d",
   "metadata": {
    "ExecuteTime": {
     "start_time": "2023-08-28T23:56:44.163Z"
    }
   },
   "outputs": [],
   "source": [
    "builder.find_issue('')"
   ]
  },
  {
   "cell_type": "markdown",
   "id": "30b60288-f1c3-4aa9-925a-cc12d983a2bd",
   "metadata": {},
   "source": [
    "### Curation notes"
   ]
  },
  {
   "cell_type": "code",
   "execution_count": null,
   "id": "27830dc0-69bc-4331-af3e-08e2d597ec3b",
   "metadata": {
    "ExecuteTime": {
     "start_time": "2023-08-28T23:56:44.165Z"
    }
   },
   "outputs": [],
   "source": [
    "builder.curation_notes"
   ]
  },
  {
   "cell_type": "markdown",
   "id": "232476c7-c954-4291-b658-20671021f347",
   "metadata": {},
   "source": [
    "### Load builder"
   ]
  },
  {
   "cell_type": "code",
   "execution_count": null,
   "id": "2b5d0fb1-fa86-433a-af26-aca1aa8c542f",
   "metadata": {
    "ExecuteTime": {
     "start_time": "2023-08-28T23:56:44.167Z"
    },
    "scrolled": true
   },
   "outputs": [],
   "source": [
    "builder = MEBuilder(*['./{:s}/coralme-config.yaml'.format(org)])\n",
    "builder.me_model = builder.load(builder.configuration['out_directory']+'MEModel-step2-{}.pkl'.format(org))"
   ]
  }
 ],
 "metadata": {
  "kernelspec": {
   "display_name": "VENV :: py3.10 :: COBRAME-DEV",
   "language": "python",
   "name": "venv-p310-cobrame-dev"
  },
  "language_info": {
   "codemirror_mode": {
    "name": "ipython",
    "version": 3
   },
   "file_extension": ".py",
   "mimetype": "text/x-python",
   "name": "python",
   "nbconvert_exporter": "python",
   "pygments_lexer": "ipython3",
   "version": "3.10.12"
  }
 },
 "nbformat": 4,
 "nbformat_minor": 5
}
