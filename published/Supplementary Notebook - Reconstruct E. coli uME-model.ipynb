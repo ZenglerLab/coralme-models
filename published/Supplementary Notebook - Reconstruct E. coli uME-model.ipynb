{
 "cells": [
  {
   "cell_type": "code",
   "execution_count": 1,
   "id": "fadf741b-d65e-4c02-a73f-3c1414e848ce",
   "metadata": {
    "ExecuteTime": {
     "end_time": "2023-08-30T23:58:58.395955Z",
     "start_time": "2023-08-30T23:58:58.378250Z"
    }
   },
   "outputs": [
    {
     "data": {
      "text/html": [
       "<style>.container { width:95% !important; }</style>"
      ],
      "text/plain": [
       "<IPython.core.display.HTML object>"
      ]
     },
     "metadata": {},
     "output_type": "display_data"
    }
   ],
   "source": [
    "from IPython.display import display, HTML, Math, Markdown\n",
    "display(HTML(\"<style>.container { width:95% !important; }</style>\"))\n",
    "\n",
    "%load_ext autoreload\n",
    "%autoreload 2"
   ]
  },
  {
   "cell_type": "code",
   "execution_count": 2,
   "id": "63414ed1-c7f0-4b1c-9dd0-534c4182f428",
   "metadata": {
    "ExecuteTime": {
     "end_time": "2023-08-30T23:58:59.873768Z",
     "start_time": "2023-08-30T23:58:58.397432Z"
    }
   },
   "outputs": [],
   "source": [
    "from coralme.builder.main import MEBuilder, MEReconstruction, METroubleshooter\n",
    "from coralme.builder.curation import MECurator, MEManualCuration\n",
    "import coralme"
   ]
  },
  {
   "cell_type": "code",
   "execution_count": 3,
   "id": "659ca4b2-ac94-4b00-98e8-68fdf89c0b16",
   "metadata": {
    "ExecuteTime": {
     "end_time": "2023-08-30T23:58:59.890063Z",
     "start_time": "2023-08-30T23:58:59.875102Z"
    }
   },
   "outputs": [],
   "source": [
    "org = 'ecoli'\n",
    "organism = './{:s}/organism.json'.format(org)\n",
    "inputs = './{:s}/input.json'.format(org)"
   ]
  },
  {
   "cell_type": "markdown",
   "id": "50f8ec29-232f-4f8a-9143-4ec0f89c3b94",
   "metadata": {},
   "source": [
    "### Full"
   ]
  },
  {
   "cell_type": "code",
   "execution_count": 4,
   "id": "63010c92-3cab-4563-8252-51a4e489ae0e",
   "metadata": {
    "ExecuteTime": {
     "end_time": "2023-08-30T23:58:59.906683Z",
     "start_time": "2023-08-30T23:58:59.892014Z"
    },
    "scrolled": true,
    "tags": []
   },
   "outputs": [],
   "source": [
    "# builder = MEBuilder(*[organism, inputs])"
   ]
  },
  {
   "cell_type": "code",
   "execution_count": 5,
   "id": "cd56e9b5-9c24-40ac-bd8b-d1a1d6d23c2a",
   "metadata": {
    "ExecuteTime": {
     "end_time": "2023-08-30T23:58:59.922467Z",
     "start_time": "2023-08-30T23:58:59.908045Z"
    },
    "scrolled": true,
    "tags": []
   },
   "outputs": [],
   "source": [
    "# builder.generate_files(overwrite=True)"
   ]
  },
  {
   "cell_type": "code",
   "execution_count": 6,
   "id": "a0ca2c09-f407-472d-8902-2964eba510a5",
   "metadata": {
    "ExecuteTime": {
     "end_time": "2023-08-30T23:58:59.938378Z",
     "start_time": "2023-08-30T23:58:59.923885Z"
    },
    "scrolled": true,
    "tags": []
   },
   "outputs": [],
   "source": [
    "# builder.build_me_model(overwrite=False)"
   ]
  },
  {
   "cell_type": "code",
   "execution_count": 7,
   "id": "85fc88c1",
   "metadata": {
    "ExecuteTime": {
     "end_time": "2023-08-30T23:58:59.953722Z",
     "start_time": "2023-08-30T23:58:59.939719Z"
    }
   },
   "outputs": [],
   "source": [
    "# builder.me_model.optimize(max_mu = 1.0)"
   ]
  },
  {
   "cell_type": "code",
   "execution_count": 8,
   "id": "c3c2b019-4b54-4ff5-bdd1-9a2bd73a7ed7",
   "metadata": {
    "ExecuteTime": {
     "end_time": "2023-08-30T23:58:59.969397Z",
     "start_time": "2023-08-30T23:58:59.954955Z"
    },
    "scrolled": true,
    "tags": []
   },
   "outputs": [],
   "source": [
    "# builder.troubleshoot(growth_key_and_value = { builder.me_model.mu : 0.001 })"
   ]
  },
  {
   "cell_type": "markdown",
   "id": "4e7f22d1-5230-461e-a37a-e8c64542b62d",
   "metadata": {},
   "source": [
    "### Build a second time using a modified OSM including tRNA specificity data"
   ]
  },
  {
   "cell_type": "code",
   "execution_count": 9,
   "id": "ba8fe959-5606-4631-b49a-e9f5e56c4b0c",
   "metadata": {
    "ExecuteTime": {
     "end_time": "2023-08-30T23:59:00.002078Z",
     "start_time": "2023-08-30T23:58:59.970711Z"
    },
    "scrolled": true
   },
   "outputs": [
    {
     "name": "stdout",
     "output_type": "stream",
     "text": [
      "Set parameter Username\n",
      "Academic license - for non-commercial use only - expires 2024-04-01\n"
     ]
    }
   ],
   "source": [
    "builder = MEBuilder(*['./{:s}/coralme-config.yaml'.format(org)])\n",
    "builder.configuration['feature_types'] = ['CDS', 'rRNA', 'tRNA', 'ncRNA']\n",
    "builder.configuration['df_gene_cplxs_mods_rxns'] = './ecoli/building_data/automated-org-with-refs-tRNAs.xlsx'"
   ]
  },
  {
   "cell_type": "code",
   "execution_count": 10,
   "id": "c2f000ee-bd9a-4bb1-8d8f-ebf0e02bb657",
   "metadata": {
    "ExecuteTime": {
     "end_time": "2023-08-31T00:05:09.137611Z",
     "start_time": "2023-08-30T23:59:00.004813Z"
    },
    "scrolled": true,
    "tags": []
   },
   "outputs": [
    {
     "name": "stdout",
     "output_type": "stream",
     "text": [
      "Initiating ME-model reconstruction...\n"
     ]
    },
    {
     "name": "stderr",
     "output_type": "stream",
     "text": [
      "Adding biomass constraint(s) into the ME-model...                          : 100.0%|██████████|    11/   11 [00:00<00:00]\n"
     ]
    },
    {
     "name": "stdout",
     "output_type": "stream",
     "text": [
      "Read LP format model from file /tmp/tmphf1ay04c.lp\n",
      "Reading time = 0.01 seconds\n",
      ": 1660 rows, 4754 columns, 17902 nonzeros\n"
     ]
    },
    {
     "name": "stderr",
     "output_type": "stream",
     "text": [
      "Adding Metabolites from M-model into the ME-model...                       : 100.0%|██████████|  1810/ 1810 [00:00<00:00]\n",
      "Adding Reactions from M-model into the ME-model...                         : 100.0%|██████████|  2610/ 2610 [00:00<00:00]\n",
      "Adding Transcriptional Units into the ME-model...                          : 100.0%|██████████|  3415/ 3415 [00:44<00:00]\n",
      "Adding features from contig NC_000913.2 into the ME-model...               : 100.0%|██████████|  4317/ 4317 [00:21<00:00]\n",
      "Adding features from contig b0235 into the ME-model...                     : 100.0%|██████████|     2/    2 [00:00<00:00]\n",
      "Adding features from contig b4644 into the ME-model...                     : 100.0%|██████████|     2/    2 [00:00<00:00]\n",
      "Adding features from contig b0691 into the ME-model...                     : 100.0%|██████████|     2/    2 [00:00<00:00]\n",
      "Adding features from contig b2862 into the ME-model...                     : 100.0%|██████████|     2/    2 [00:00<00:00]\n",
      "Adding features from contig b1362 into the ME-model...                     : 100.0%|██████████|     2/    2 [00:00<00:00]\n",
      "Adding features from contig b0218 into the ME-model...                     : 100.0%|██████████|     2/    2 [00:00<00:00]\n",
      "Adding features from contig b4810 into the ME-model...                     : 100.0%|██████████|     2/    2 [00:00<00:00]\n",
      "Adding features from contig b4807 into the ME-model...                     : 100.0%|██████████|     2/    2 [00:00<00:00]\n",
      "Adding features from contig b4808 into the ME-model...                     : 100.0%|██████████|     2/    2 [00:00<00:00]\n",
      "Adding features from contig b4809 into the ME-model...                     : 100.0%|██████████|     2/    2 [00:00<00:00]\n",
      "Adding features from contig b4764 into the ME-model...                     : 100.0%|██████████|     2/    2 [00:00<00:00]\n",
      "Adding features from contig G0-10537 into the ME-model...                  : 100.0%|██████████|     2/    2 [00:00<00:00]\n",
      "Adding features from contig G0-10531 into the ME-model...                  : 100.0%|██████████|     2/    2 [00:00<00:00]\n",
      "Adding features from contig b4710 into the ME-model...                     : 100.0%|██████████|     2/    2 [00:00<00:00]\n",
      "Adding features from contig G0-10528 into the ME-model...                  : 100.0%|██████████|     2/    2 [00:00<00:00]\n",
      "Adding features from contig G0-10544 into the ME-model...                  : 100.0%|██████████|     2/    2 [00:00<00:00]\n",
      "Adding features from contig G0-10541 into the ME-model...                  : 100.0%|██████████|     2/    2 [00:00<00:00]\n",
      "Adding features from contig G0-10538 into the ME-model...                  : 100.0%|██████████|     2/    2 [00:00<00:00]\n",
      "Adding features from contig G0-10535 into the ME-model...                  : 100.0%|██████████|     2/    2 [00:00<00:00]\n",
      "Adding features from contig b4709 into the ME-model...                     : 100.0%|██████████|     2/    2 [00:00<00:00]\n",
      "Adding features from contig G0-10529 into the ME-model...                  : 100.0%|██████████|     2/    2 [00:00<00:00]\n",
      "Adding features from contig G0-10545 into the ME-model...                  : 100.0%|██████████|     2/    2 [00:00<00:00]\n",
      "Adding features from contig G0-10542 into the ME-model...                  : 100.0%|██████████|     2/    2 [00:00<00:00]\n",
      "Adding features from contig G0-10539 into the ME-model...                  : 100.0%|██████████|     2/    2 [00:00<00:00]\n",
      "Adding features from contig G0-10536 into the ME-model...                  : 100.0%|██████████|     2/    2 [00:00<00:00]\n",
      "Adding features from contig b4711 into the ME-model...                     : 100.0%|██████████|     2/    2 [00:00<00:00]\n",
      "Adding features from contig G0-10530 into the ME-model...                  : 100.0%|██████████|     2/    2 [00:00<00:00]\n",
      "Adding features from contig G0-10546 into the ME-model...                  : 100.0%|██████████|     2/    2 [00:00<00:00]\n",
      "Adding features from contig G0-10525 into the ME-model...                  : 100.0%|██████████|     2/    2 [00:00<00:00]\n",
      "Adding features from contig G0-10543 into the ME-model...                  : 100.0%|██████████|     2/    2 [00:00<00:00]\n",
      "Adding features from contig G0-10540 into the ME-model...                  : 100.0%|██████████|     2/    2 [00:00<00:00]\n",
      "Adding features from contig b1370 into the ME-model...                     : 100.0%|██████████|     2/    2 [00:00<00:00]\n",
      "Adding features from contig b1151 into the ME-model...                     : 100.0%|██████████|     2/    2 [00:00<00:00]\n",
      "Adding features from contig b0266 into the ME-model...                     : 100.0%|██████████|     2/    2 [00:00<00:00]\n",
      "Adding features from contig b1142 into the ME-model...                     : 100.0%|██████████|     2/    2 [00:00<00:00]\n",
      "Adding features from contig b2638 into the ME-model...                     : 100.0%|██████████|     2/    2 [00:00<00:00]\n",
      "Adding features from contig b0258 into the ME-model...                     : 100.0%|██████████|     2/    2 [00:00<00:00]\n",
      "Adding features from contig b0561 into the ME-model...                     : 100.0%|██████████|     2/    2 [00:00<00:00]\n",
      "Adding features from contig b1366 into the ME-model...                     : 100.0%|██████████|     2/    2 [00:00<00:00]\n",
      "Adding features from contig b1149 into the ME-model...                     : 100.0%|██████████|     2/    2 [00:00<00:00]\n",
      "Adding features from contig b1548 into the ME-model...                     : 100.0%|██████████|     2/    2 [00:00<00:00]\n",
      "Adding features from contig b2358 into the ME-model...                     : 100.0%|██████████|     2/    2 [00:00<00:00]\n",
      "Adding features from contig b1567 into the ME-model...                     : 100.0%|██████████|     2/    2 [00:00<00:00]\n",
      "Adding features from contig b0563 into the ME-model...                     : 100.0%|██████████|     2/    2 [00:00<00:00]\n",
      "Adding features from contig b2006 into the ME-model...                     : 100.0%|██████████|     2/    2 [00:00<00:00]\n",
      "Adding features from contig b1368 into the ME-model...                     : 100.0%|██████████|     2/    2 [00:00<00:00]\n",
      "Adding features from contig b1361 into the ME-model...                     : 100.0%|██████████|     2/    2 [00:00<00:00]\n",
      "Adding features from contig b0276 into the ME-model...                     : 100.0%|██████████|     2/    2 [00:00<00:00]\n",
      "Adding features from contig b2356 into the ME-model...                     : 100.0%|██████████|     2/    2 [00:00<00:00]\n",
      "Adding features from contig b1568 into the ME-model...                     : 100.0%|██████████|     2/    2 [00:00<00:00]\n",
      "Adding features from contig b4584 into the ME-model...                     : 100.0%|██████████|     2/    2 [00:00<00:00]\n",
      "Adding features from contig b4496 into the ME-model...                     : 100.0%|██████████|     2/    2 [00:00<00:00]\n",
      "Adding features from contig b4575 into the ME-model...                     : 100.0%|██████████|     2/    2 [00:00<00:00]\n",
      "Adding features from contig b3534 into the ME-model...                     : 100.0%|██████████|     2/    2 [00:00<00:00]\n",
      "Adding features from contig b4658 into the ME-model...                     : 100.0%|██████████|     2/    2 [00:00<00:00]\n",
      "Adding features from contig b4490 into the ME-model...                     : 100.0%|██████████|     2/    2 [00:00<00:00]\n",
      "Adding features from contig b2850 into the ME-model...                     : 100.0%|██████████|     2/    2 [00:00<00:00]\n",
      "Adding features from contig b4038 into the ME-model...                     : 100.0%|██████████|     2/    2 [00:00<00:00]\n",
      "Adding features from contig b3782 into the ME-model...                     : 100.0%|██████████|     2/    2 [00:00<00:00]\n",
      "Adding features from contig b4661 into the ME-model...                     : 100.0%|██████████|     2/    2 [00:00<00:00]\n",
      "Adding features from contig b4493 into the ME-model...                     : 100.0%|██████████|     2/    2 [00:00<00:00]\n",
      "Adding features from contig b4497 into the ME-model...                     : 100.0%|██████████|     2/    2 [00:00<00:00]\n",
      "Adding features from contig b4521 into the ME-model...                     : 100.0%|██████████|     2/    2 [00:00<00:00]\n"
     ]
    },
    {
     "name": "stderr",
     "output_type": "stream",
     "text": [
      "Adding features from contig b4494 into the ME-model...                     : 100.0%|██████████|     2/    2 [00:00<00:00]\n",
      "Adding features from contig b4491 into the ME-model...                     : 100.0%|██████████|     2/    2 [00:00<00:00]\n",
      "Adding features from contig b4660 into the ME-model...                     : 100.0%|██████████|     2/    2 [00:00<00:00]\n",
      "Adding features from contig b2856 into the ME-model...                     : 100.0%|██████████|     2/    2 [00:00<00:00]\n",
      "Adding features from contig b4462 into the ME-model...                     : 100.0%|██████████|     2/    2 [00:00<00:00]\n",
      "Adding features from contig b4286 into the ME-model...                     : 100.0%|██████████|     2/    2 [00:00<00:00]\n",
      "Adding features from contig b4495 into the ME-model...                     : 100.0%|██████████|     2/    2 [00:00<00:00]\n",
      "Adding features from contig b2859 into the ME-model...                     : 100.0%|██████████|     2/    2 [00:00<00:00]\n",
      "Adding features from contig b0562 into the ME-model...                     : 100.0%|██████████|     2/    2 [00:00<00:00]\n",
      "Adding features from contig b2681 into the ME-model...                     : 100.0%|██████████|     2/    2 [00:00<00:00]\n",
      "Adding features from contig b4696 into the ME-model...                     : 100.0%|██████████|     2/    2 [00:00<00:00]\n",
      "Adding features from contig b4488 into the ME-model...                     : 100.0%|██████████|     2/    2 [00:00<00:00]\n",
      "Adding features from contig b4500 into the ME-model...                     : 100.0%|██████████|     2/    2 [00:00<00:00]\n",
      "Adding features from contig b4610 into the ME-model...                     : 100.0%|██████████|     2/    2 [00:00<00:00]\n",
      "Adding features from contig b4545 into the ME-model...                     : 100.0%|██████████|     2/    2 [00:00<00:00]\n",
      "Adding features from contig b2863 into the ME-model...                     : 100.0%|██████████|     2/    2 [00:00<00:00]\n",
      "Adding features from contig b1471 into the ME-model...                     : 100.0%|██████████|     2/    2 [00:00<00:00]\n",
      "Adding features from contig b4795 into the ME-model...                     : 100.0%|██████████|     2/    2 [00:00<00:00]\n",
      "Adding features from contig b4777 into the ME-model...                     : 100.0%|██████████|     2/    2 [00:00<00:00]\n",
      "Adding features from contig b4753 into the ME-model...                     : 100.0%|██████████|     2/    2 [00:00<00:00]\n",
      "Adding features from contig b4738 into the ME-model...                     : 100.0%|██████████|     2/    2 [00:00<00:00]\n",
      "Adding features from contig b4525 into the ME-model...                     : 100.0%|██████████|     2/    2 [00:00<00:00]\n",
      "Adding features from contig b4791 into the ME-model...                     : 100.0%|██████████|     2/    2 [00:00<00:00]\n",
      "Adding features from contig b4774 into the ME-model...                     : 100.0%|██████████|     2/    2 [00:00<00:00]\n",
      "Adding features from contig b4749 into the ME-model...                     : 100.0%|██████████|     2/    2 [00:00<00:00]\n",
      "Adding features from contig b4735 into the ME-model...                     : 100.0%|██████████|     2/    2 [00:00<00:00]\n",
      "Adding features from contig b2969 into the ME-model...                     : 100.0%|██████████|     2/    2 [00:00<00:00]\n",
      "Adding features from contig b4743 into the ME-model...                     : 100.0%|██████████|     2/    2 [00:00<00:00]\n",
      "Adding features from contig b4788 into the ME-model...                     : 100.0%|██████████|     2/    2 [00:00<00:00]\n",
      "Adding features from contig b4771 into the ME-model...                     : 100.0%|██████████|     2/    2 [00:00<00:00]\n",
      "Adding features from contig b4746 into the ME-model...                     : 100.0%|██████████|     2/    2 [00:00<00:00]\n",
      "Adding features from contig b4732 into the ME-model...                     : 100.0%|██████████|     2/    2 [00:00<00:00]\n",
      "Adding features from contig b3808 into the ME-model...                     : 100.0%|██████████|     2/    2 [00:00<00:00]\n",
      "Adding features from contig b0322 into the ME-model...                     : 100.0%|██████████|     2/    2 [00:00<00:00]\n",
      "Adding features from contig b0012 into the ME-model...                     : 100.0%|██████████|     2/    2 [00:00<00:00]\n",
      "Adding features from contig b0502 into the ME-model...                     : 100.0%|██████████|     2/    2 [00:00<00:00]\n",
      "Adding features from contig b4802 into the ME-model...                     : 100.0%|██████████|     2/    2 [00:00<00:00]\n",
      "Adding features from contig b4785 into the ME-model...                     : 100.0%|██████████|     2/    2 [00:00<00:00]\n",
      "Adding features from contig b4768 into the ME-model...                     : 100.0%|██████████|     2/    2 [00:00<00:00]\n",
      "Adding features from contig b4742 into the ME-model...                     : 100.0%|██████████|     2/    2 [00:00<00:00]\n",
      "Adding features from contig b4729 into the ME-model...                     : 100.0%|██████████|     2/    2 [00:00<00:00]\n",
      "Adding features from contig b3427 into the ME-model...                     : 100.0%|██████████|     2/    2 [00:00<00:00]\n",
      "Adding features from contig b0057 into the ME-model...                     : 100.0%|██████████|     2/    2 [00:00<00:00]\n",
      "Adding features from contig b0282 into the ME-model...                     : 100.0%|██████████|     2/    2 [00:00<00:00]\n",
      "Adding features from contig b4799 into the ME-model...                     : 100.0%|██████████|     2/    2 [00:00<00:00]\n",
      "Adding features from contig b4782 into the ME-model...                     : 100.0%|██████████|     2/    2 [00:00<00:00]\n",
      "Adding features from contig b4757 into the ME-model...                     : 100.0%|██████████|     2/    2 [00:00<00:00]\n",
      "Adding features from contig b4726 into the ME-model...                     : 100.0%|██████████|     2/    2 [00:00<00:00]\n",
      "Adding features from contig b2650 into the ME-model...                     : 100.0%|██████████|     2/    2 [00:00<00:00]\n",
      "Adding features from contig b2115 into the ME-model...                     : 100.0%|██████████|     2/    2 [00:00<00:00]\n",
      "Adding features from contig b2981 into the ME-model...                     : 100.0%|██████████|     2/    2 [00:00<00:00]\n",
      "Adding features from contig b1472 into the ME-model...                     : 100.0%|██████████|     2/    2 [00:00<00:00]\n",
      "Adding features from contig b4572 into the ME-model...                     : 100.0%|██████████|     2/    2 [00:00<00:00]\n",
      "Adding features from contig b4796 into the ME-model...                     : 100.0%|██████████|     2/    2 [00:00<00:00]\n",
      "Adding features from contig b4778 into the ME-model...                     : 100.0%|██████████|     2/    2 [00:00<00:00]\n",
      "Adding features from contig b4754 into the ME-model...                     : 100.0%|██████████|     2/    2 [00:00<00:00]\n",
      "Adding features from contig b4739 into the ME-model...                     : 100.0%|██████████|     2/    2 [00:00<00:00]\n",
      "Adding features from contig b1228 into the ME-model...                     : 100.0%|██████████|     2/    2 [00:00<00:00]\n",
      "Adding features from contig b4760 into the ME-model...                     : 100.0%|██████████|     2/    2 [00:00<00:00]\n",
      "Adding features from contig b4792 into the ME-model...                     : 100.0%|██████████|     2/    2 [00:00<00:00]\n",
      "Adding features from contig b4775 into the ME-model...                     : 100.0%|██████████|     2/    2 [00:00<00:00]\n",
      "Adding features from contig b4750 into the ME-model...                     : 100.0%|██████████|     2/    2 [00:00<00:00]\n",
      "Adding features from contig b4736 into the ME-model...                     : 100.0%|██████████|     2/    2 [00:00<00:00]\n",
      "Adding features from contig b4758 into the ME-model...                     : 100.0%|██████████|     2/    2 [00:00<00:00]\n",
      "Adding features from contig b4719 into the ME-model...                     : 100.0%|██████████|     2/    2 [00:00<00:00]\n",
      "Adding features from contig b2970 into the ME-model...                     : 100.0%|██████████|     2/    2 [00:00<00:00]\n",
      "Adding features from contig b4716 into the ME-model...                     : 100.0%|██████████|     2/    2 [00:00<00:00]\n"
     ]
    },
    {
     "name": "stderr",
     "output_type": "stream",
     "text": [
      "Adding features from contig b4789 into the ME-model...                     : 100.0%|██████████|     2/    2 [00:00<00:00]\n",
      "Adding features from contig b4772 into the ME-model...                     : 100.0%|██████████|     2/    2 [00:00<00:00]\n",
      "Adding features from contig b4747 into the ME-model...                     : 100.0%|██████████|     2/    2 [00:00<00:00]\n",
      "Adding features from contig b4733 into the ME-model...                     : 100.0%|██████████|     2/    2 [00:00<00:00]\n",
      "Adding features from contig b4534 into the ME-model...                     : 100.0%|██████████|     2/    2 [00:00<00:00]\n",
      "Adding features from contig b2941 into the ME-model...                     : 100.0%|██████████|     2/    2 [00:00<00:00]\n",
      "Adding features from contig b4786 into the ME-model...                     : 100.0%|██████████|     2/    2 [00:00<00:00]\n",
      "Adding features from contig b4769 into the ME-model...                     : 100.0%|██████████|     2/    2 [00:00<00:00]\n",
      "Adding features from contig b4744 into the ME-model...                     : 100.0%|██████████|     2/    2 [00:00<00:00]\n",
      "Adding features from contig b4342 into the ME-model...                     : 100.0%|██████████|     2/    2 [00:00<00:00]\n",
      "Adding features from contig b4730 into the ME-model...                     : 100.0%|██████████|     2/    2 [00:00<00:00]\n",
      "Adding features from contig b3683 into the ME-model...                     : 100.0%|██████████|     2/    2 [00:00<00:00]\n",
      "Adding features from contig b4800 into the ME-model...                     : 100.0%|██████████|     2/    2 [00:00<00:00]\n",
      "Adding features from contig b4783 into the ME-model...                     : 100.0%|██████████|     2/    2 [00:00<00:00]\n",
      "Adding features from contig b4765 into the ME-model...                     : 100.0%|██████████|     2/    2 [00:00<00:00]\n",
      "Adding features from contig b3682 into the ME-model...                     : 100.0%|██████████|     2/    2 [00:00<00:00]\n",
      "Adding features from contig b4727 into the ME-model...                     : 100.0%|██████████|     2/    2 [00:00<00:00]\n",
      "Adding features from contig b4615 into the ME-model...                     : 100.0%|██████████|     2/    2 [00:00<00:00]\n",
      "Adding features from contig b2122 into the ME-model...                     : 100.0%|██████████|     2/    2 [00:00<00:00]\n",
      "Adding features from contig b4797 into the ME-model...                     : 100.0%|██████████|     2/    2 [00:00<00:00]\n",
      "Adding features from contig b4779 into the ME-model...                     : 100.0%|██████████|     2/    2 [00:00<00:00]\n",
      "Adding features from contig b4755 into the ME-model...                     : 100.0%|██████████|     2/    2 [00:00<00:00]\n",
      "Adding features from contig b4740 into the ME-model...                     : 100.0%|██████████|     2/    2 [00:00<00:00]\n",
      "Adding features from contig b4688 into the ME-model...                     : 100.0%|██████████|     2/    2 [00:00<00:00]\n",
      "Adding features from contig b4605 into the ME-model...                     : 100.0%|██████████|     2/    2 [00:00<00:00]\n",
      "Adding features from contig b4538 into the ME-model...                     : 100.0%|██████████|     2/    2 [00:00<00:00]\n",
      "Adding features from contig b4793 into the ME-model...                     : 100.0%|██████████|     2/    2 [00:00<00:00]\n",
      "Adding features from contig b4776 into the ME-model...                     : 100.0%|██████████|     2/    2 [00:00<00:00]\n",
      "Adding features from contig b4752 into the ME-model...                     : 100.0%|██████████|     2/    2 [00:00<00:00]\n",
      "Adding features from contig b4737 into the ME-model...                     : 100.0%|██████████|     2/    2 [00:00<00:00]\n",
      "Adding features from contig b4790 into the ME-model...                     : 100.0%|██████████|     2/    2 [00:00<00:00]\n",
      "Adding features from contig b4773 into the ME-model...                     : 100.0%|██████████|     2/    2 [00:00<00:00]\n",
      "Adding features from contig b4748 into the ME-model...                     : 100.0%|██████████|     2/    2 [00:00<00:00]\n",
      "Adding features from contig b4734 into the ME-model...                     : 100.0%|██████████|     2/    2 [00:00<00:00]\n",
      "Adding features from contig b4787 into the ME-model...                     : 100.0%|██████████|     2/    2 [00:00<00:00]\n",
      "Adding features from contig b4770 into the ME-model...                     : 100.0%|██████████|     2/    2 [00:00<00:00]\n",
      "Adding features from contig b4745 into the ME-model...                     : 100.0%|██████████|     2/    2 [00:00<00:00]\n",
      "Adding features from contig b4731 into the ME-model...                     : 100.0%|██████████|     2/    2 [00:00<00:00]\n",
      "Adding features from contig b4801 into the ME-model...                     : 100.0%|██████████|     2/    2 [00:00<00:00]\n",
      "Adding features from contig b4784 into the ME-model...                     : 100.0%|██████████|     2/    2 [00:00<00:00]\n",
      "Adding features from contig b4767 into the ME-model...                     : 100.0%|██████████|     2/    2 [00:00<00:00]\n",
      "Adding features from contig b4741 into the ME-model...                     : 100.0%|██████████|     2/    2 [00:00<00:00]\n",
      "Adding features from contig b4728 into the ME-model...                     : 100.0%|██████████|     2/    2 [00:00<00:00]\n",
      "Adding features from contig b0056 into the ME-model...                     : 100.0%|██████████|     2/    2 [00:00<00:00]\n",
      "Adding features from contig b1505 into the ME-model...                     : 100.0%|██████████|     2/    2 [00:00<00:00]\n",
      "Adding features from contig b4798 into the ME-model...                     : 100.0%|██████████|     2/    2 [00:00<00:00]\n",
      "Adding features from contig b4781 into the ME-model...                     : 100.0%|██████████|     2/    2 [00:00<00:00]\n",
      "Adding features from contig b4756 into the ME-model...                     : 100.0%|██████████|     2/    2 [00:00<00:00]\n",
      "Adding features from contig b1543 into the ME-model...                     : 100.0%|██████████|     2/    2 [00:00<00:00]\n",
      "Adding features from contig b2649 into the ME-model...                     : 100.0%|██████████|     2/    2 [00:00<00:00]\n",
      "Adding features from contig G0-16695 into the ME-model...                  : 100.0%|██████████|     2/    2 [00:00<00:00]\n",
      "Adding features from contig b4725 into the ME-model...                     : 100.0%|██████████|     2/    2 [00:00<00:00]\n",
      "Adding features from contig G0-10701 into the ME-model...                  : 100.0%|██████████|     2/    2 [00:00<00:00]\n",
      "Adding features from contig b4812 into the ME-model...                     : 100.0%|██████████|     2/    2 [00:00<00:00]\n",
      "Adding features from contig b4721 into the ME-model...                     : 100.0%|██████████|     2/    2 [00:00<00:00]\n",
      "Adding features from contig b4763 into the ME-model...                     : 100.0%|██████████|     2/    2 [00:00<00:00]\n",
      "Adding features from contig b4761 into the ME-model...                     : 100.0%|██████████|     2/    2 [00:00<00:00]\n",
      "Adding features from contig G0-8861 into the ME-model...                   : 100.0%|██████████|     2/    2 [00:00<00:00]\n",
      "Adding features from contig b4762 into the ME-model...                     : 100.0%|██████████|     2/    2 [00:00<00:00]\n",
      "Adding features from contig b4416 into the ME-model...                     : 100.0%|██████████|     2/    2 [00:00<00:00]\n",
      "Adding features from contig b4805 into the ME-model...                     : 100.0%|██████████|     2/    2 [00:00<00:00]\n",
      "Adding features from contig b4718 into the ME-model...                     : 100.0%|██████████|     2/    2 [00:00<00:00]\n",
      "Adding features from contig G0-16699 into the ME-model...                  : 100.0%|██████████|     2/    2 [00:00<00:00]\n",
      "Adding features from contig G0-16635 into the ME-model...                  : 100.0%|██████████|     2/    2 [00:00<00:00]\n",
      "Adding features from contig G0-16696 into the ME-model...                  : 100.0%|██████████|     2/    2 [00:00<00:00]\n",
      "Adding features from contig G0-16693 into the ME-model...                  : 100.0%|██████████|     2/    2 [00:00<00:00]\n",
      "Adding features from contig G0-10706 into the ME-model...                  : 100.0%|██████████|     2/    2 [00:00<00:00]\n"
     ]
    },
    {
     "name": "stderr",
     "output_type": "stream",
     "text": [
      "Adding features from contig b4723 into the ME-model...                     : 100.0%|██████████|     2/    2 [00:00<00:00]\n",
      "Adding features from contig G0-17079 into the ME-model...                  : 100.0%|██████████|     2/    2 [00:00<00:00]\n",
      "Adding features from contig b4722 into the ME-model...                     : 100.0%|██████████|     2/    2 [00:00<00:00]\n",
      "Adding features from contig b4673 into the ME-model...                     : 100.0%|██████████|     2/    2 [00:00<00:00]\n",
      "Adding features from contig G0-17076 into the ME-model...                  : 100.0%|██████████|     2/    2 [00:00<00:00]\n",
      "Adding features from contig b4759 into the ME-model...                     : 100.0%|██████████|     2/    2 [00:00<00:00]\n",
      "Adding features from contig G0-16697 into the ME-model...                  : 100.0%|██████████|     2/    2 [00:00<00:00]\n",
      "Adding features from contig G0-10738 into the ME-model...                  : 100.0%|██████████|     2/    2 [00:00<00:00]\n",
      "Adding features from contig G0-16694 into the ME-model...                  : 100.0%|██████████|     2/    2 [00:00<00:00]\n",
      "Adding features from contig b4514 into the ME-model...                     : 100.0%|██████████|     2/    2 [00:00<00:00]\n",
      "Adding features from contig b4724 into the ME-model...                     : 100.0%|██████████|     2/    2 [00:00<00:00]\n",
      "Adding features from contig b4811 into the ME-model...                     : 100.0%|██████████|     2/    2 [00:00<00:00]\n",
      "Adding features from contig b4720 into the ME-model...                     : 100.0%|██████████|     2/    2 [00:00<00:00]\n",
      "Adding features from contig b4804 into the ME-model...                     : 100.0%|██████████|     2/    2 [00:00<00:00]\n",
      "Adding features from contig G0-10624 into the ME-model...                  : 100.0%|██████████|     2/    2 [00:00<00:00]\n",
      "Adding features from contig b4715 into the ME-model...                     : 100.0%|██████████|     2/    2 [00:00<00:00]\n",
      "Adding features from contig G0-16698 into the ME-model...                  : 100.0%|██████████|     2/    2 [00:00<00:00]\n",
      "Adding features from contig b4717 into the ME-model...                     : 100.0%|██████████|     2/    2 [00:00<00:00]\n",
      "Adding features from contig b4780 into the ME-model...                     : 100.0%|██████████|     2/    2 [00:00<00:00]\n",
      "Adding features from contig b4806 into the ME-model...                     : 100.0%|██████████|     2/    2 [00:00<00:00]\n",
      "Adding features from contig b4712 into the ME-model...                     : 100.0%|██████████|     2/    2 [00:00<00:00]\n",
      "Adding features from contig b4713 into the ME-model...                     : 100.0%|██████████|     2/    2 [00:00<00:00]\n",
      "Adding features from contig b4714 into the ME-model...                     : 100.0%|██████████|     2/    2 [00:00<00:00]\n",
      "Adding features from contig b4794 into the ME-model...                     : 100.0%|██████████|     2/    2 [00:00<00:00]\n",
      "Adding features from contig b4803 into the ME-model...                     : 100.0%|██████████|     2/    2 [00:00<00:00]\n",
      "Adding features from contig b4751 into the ME-model...                     : 100.0%|██████████|     2/    2 [00:00<00:00]\n",
      "Adding features from contig b4766 into the ME-model...                     : 100.0%|██████████|     2/    2 [00:00<00:00]\n",
      "Adding features from contig b2854 into the ME-model...                     : 100.0%|██████████|     2/    2 [00:00<00:00]\n",
      "Adding features from contig b1157 into the ME-model...                     : 100.0%|██████████|     2/    2 [00:00<00:00]\n",
      "Adding features from contig b4634 into the ME-model...                     : 100.0%|██████████|     2/    2 [00:00<00:00]\n",
      "Adding features from contig b1577 into the ME-model...                     : 100.0%|██████████|     2/    2 [00:00<00:00]\n",
      "Adding features from contig b2355 into the ME-model...                     : 100.0%|██████████|     2/    2 [00:00<00:00]\n",
      "Adding features from contig b0705 into the ME-model...                     : 100.0%|██████████|     2/    2 [00:00<00:00]\n",
      "Adding features from contig b4626 into the ME-model...                     : 100.0%|██████████|     2/    2 [00:00<00:00]\n",
      "Adding features from contig b2238 into the ME-model...                     : 100.0%|██████████|     2/    2 [00:00<00:00]\n",
      "Adding features from contig b4282 into the ME-model...                     : 100.0%|██████████|     2/    2 [00:00<00:00]\n",
      "Adding features from contig b1999 into the ME-model...                     : 100.0%|██████████|     2/    2 [00:00<00:00]\n",
      "Adding features from contig b0499 into the ME-model...                     : 100.0%|██████████|     2/    2 [00:00<00:00]\n",
      "Adding features from contig b4271 into the ME-model...                     : 100.0%|██████████|     2/    2 [00:00<00:00]\n",
      "Adding features from contig b3777 into the ME-model...                     : 100.0%|██████████|     2/    2 [00:00<00:00]\n",
      "Adding features from contig b1578 into the ME-model...                     : 100.0%|██████████|     2/    2 [00:00<00:00]\n",
      "Adding features from contig b0263 into the ME-model...                     : 100.0%|██████████|     2/    2 [00:00<00:00]\n",
      "Adding features from contig b2139 into the ME-model...                     : 100.0%|██████████|     2/    2 [00:00<00:00]\n",
      "Adding features from contig b2915 into the ME-model...                     : 100.0%|██████████|     2/    2 [00:00<00:00]\n",
      "Adding features from contig b1459 into the ME-model...                     : 100.0%|██████████|     2/    2 [00:00<00:00]\n",
      "Adding features from contig b0229 into the ME-model...                     : 100.0%|██████████|     2/    2 [00:00<00:00]\n",
      "Adding features from contig b3595 into the ME-model...                     : 100.0%|██████████|     2/    2 [00:00<00:00]\n",
      "Adding features from contig b2855 into the ME-model...                     : 100.0%|██████████|     2/    2 [00:00<00:00]\n",
      "Adding features from contig b4573 into the ME-model...                     : 100.0%|██████████|     2/    2 [00:00<00:00]\n",
      "Adding features from contig b4692 into the ME-model...                     : 100.0%|██████████|     2/    2 [00:00<00:00]\n",
      "Adding features from contig b4486 into the ME-model...                     : 100.0%|██████████|     2/    2 [00:00<00:00]\n",
      "Adding features from contig b2641 into the ME-model...                     : 100.0%|██████████|     2/    2 [00:00<00:00]\n",
      "Adding features from contig b1028 into the ME-model...                     : 100.0%|██████████|     2/    2 [00:00<00:00]\n",
      "Adding features from contig b4630 into the ME-model...                     : 100.0%|██████████|     2/    2 [00:00<00:00]\n",
      "Adding features from contig b4519 into the ME-model...                     : 100.0%|██████████|     2/    2 [00:00<00:00]\n",
      "Adding features from contig b4503 into the ME-model...                     : 100.0%|██████████|     2/    2 [00:00<00:00]\n",
      "Adding features from contig b4308 into the ME-model...                     : 100.0%|██████████|     2/    2 [00:00<00:00]\n",
      "Adding features from contig b2083 into the ME-model...                     : 100.0%|██████████|     2/    2 [00:00<00:00]\n",
      "Adding features from contig b0539 into the ME-model...                     : 100.0%|██████████|     2/    2 [00:00<00:00]\n",
      "Adding features from contig b4632 into the ME-model...                     : 100.0%|██████████|     2/    2 [00:00<00:00]\n",
      "Adding features from contig b3135 into the ME-model...                     : 100.0%|██████████|     2/    2 [00:00<00:00]\n",
      "Adding features from contig b4205 into the ME-model...                     : 100.0%|██████████|     2/    2 [00:00<00:00]\n",
      "Adding features from contig b1579 into the ME-model...                     : 100.0%|██████████|     2/    2 [00:00<00:00]\n",
      "Adding features from contig b0300 into the ME-model...                     : 100.0%|██████████|     2/    2 [00:00<00:00]\n",
      "Adding features from contig b4657 into the ME-model...                     : 100.0%|██████████|     2/    2 [00:00<00:00]\n",
      "Adding features from contig b0297 into the ME-model...                     : 100.0%|██████████|     2/    2 [00:00<00:00]\n",
      "Adding features from contig b3134 into the ME-model...                     : 100.0%|██████████|     2/    2 [00:00<00:00]\n"
     ]
    },
    {
     "name": "stderr",
     "output_type": "stream",
     "text": [
      "Adding features from contig b1470 into the ME-model...                     : 100.0%|██████████|     2/    2 [00:00<00:00]\n",
      "Adding features from contig b0230 into the ME-model...                     : 100.0%|██████████|     2/    2 [00:00<00:00]\n",
      "Adding features from contig b0501 into the ME-model...                     : 100.0%|██████████|     2/    2 [00:00<00:00]\n",
      "Adding features from contig b2858 into the ME-model...                     : 100.0%|██████████|     2/    2 [00:00<00:00]\n",
      "Adding features from contig b1318 into the ME-model...                     : 100.0%|██████████|     2/    2 [00:00<00:00]\n",
      "Adding features from contig b4693 into the ME-model...                     : 100.0%|██████████|     2/    2 [00:00<00:00]\n",
      "Adding features from contig b4650 into the ME-model...                     : 100.0%|██████████|     2/    2 [00:00<00:00]\n",
      "Adding features from contig b0236 into the ME-model...                     : 100.0%|██████████|     2/    2 [00:00<00:00]\n",
      "Adding features from contig b2648 into the ME-model...                     : 100.0%|██████████|     2/    2 [00:00<00:00]\n",
      "Adding features from contig b1152 into the ME-model...                     : 100.0%|██████████|     2/    2 [00:00<00:00]\n",
      "Adding features from contig b4633 into the ME-model...                     : 100.0%|██████████|     2/    2 [00:00<00:00]\n",
      "Adding features from contig b4583 into the ME-model...                     : 100.0%|██████████|     2/    2 [00:00<00:00]\n",
      "Adding features from contig b0703 into the ME-model...                     : 100.0%|██████████|     2/    2 [00:00<00:00]\n",
      "Adding features from contig b4638 into the ME-model...                     : 100.0%|██████████|     2/    2 [00:00<00:00]\n",
      "Adding features from contig b4524 into the ME-model...                     : 100.0%|██████████|     2/    2 [00:00<00:00]\n",
      "Adding features from contig b3268 into the ME-model...                     : 100.0%|██████████|     2/    2 [00:00<00:00]\n",
      "Adding features from contig b1456 into the ME-model...                     : 100.0%|██████████|     2/    2 [00:00<00:00]\n",
      "Adding features from contig b4281 into the ME-model...                     : 100.0%|██████████|     2/    2 [00:00<00:00]\n",
      "Adding features from contig b1936 into the ME-model...                     : 100.0%|██████████|     2/    2 [00:00<00:00]\n",
      "Adding features from contig b0392 into the ME-model...                     : 100.0%|██████████|     2/    2 [00:00<00:00]\n",
      "Adding features from contig b4581 into the ME-model...                     : 100.0%|██████████|     2/    2 [00:00<00:00]\n",
      "Adding features from contig b1506 into the ME-model...                     : 100.0%|██████████|     2/    2 [00:00<00:00]\n",
      "Updating all TranslationReaction and TranscriptionReaction...              : 100.0%|██████████|  8333/ 8333 [00:11<00:00]\n",
      "Removing SubReactions from ComplexData...                                  : 100.0%|██████████|  5676/ 5676 [00:00<00:00]\n",
      "Adding ComplexFormation into the ME-model...                               : 100.0%|██████████|  5676/ 5676 [00:01<00:00]\n",
      "Adding Generic(s) into the ME-model...                                     : 100.0%|██████████|    11/   11 [00:00<00:00]\n",
      "Processing StoichiometricData in ME-model...                               : 100.0%|██████████|  2281/ 2281 [00:01<00:00]\n"
     ]
    },
    {
     "name": "stdout",
     "output_type": "stream",
     "text": [
      "ME-model was saved in the ./ecoli/ directory as MEModel-step1-ecoli.pkl\n"
     ]
    },
    {
     "name": "stderr",
     "output_type": "stream",
     "text": [
      "Adding tRNA synthetase(s) information into the ME-model...                 : 100.0%|██████████|   158/  158 [00:00<00:00]\n",
      "Adding tRNA modification SubReactions...                                   : 100.0%|██████████|    34/   34 [00:00<00:00]\n",
      "Associating tRNA modification enzyme(s) to tRNA(s)...                      : 100.0%|██████████|   650/  650 [00:02<00:00]\n",
      "Adding SubReactions into TranslationReactions...                           : 100.0%|██████████|  4279/ 4279 [00:03<00:00]\n",
      "Adding RNA Polymerase(s) into the ME-model...                              : 100.0%|██████████|     7/    7 [00:00<00:00]\n",
      "Associating a RNA Polymerase to each Transcriptional Unit...               : 100.0%|██████████|  3415/ 3415 [00:00<00:00]\n",
      "Processing ComplexData in ME-model...                                      : 100.0%|██████████|   535/  535 [00:00<00:00]\n",
      "Adding ComplexFormation into the ME-model...                               : 100.0%|██████████|  5695/ 5695 [00:00<00:00]\n",
      "Adding SubReactions into TranslationReactions...                           : 100.0%|██████████|  4279/ 4279 [00:03<00:00]\n",
      "Adding Transcription SubReactions...                                       : 100.0%|██████████|  3556/ 3556 [00:00<00:00]\n",
      "Processing StoichiometricData in SubReactionData...                        : 100.0%|██████████|  1009/ 1009 [00:00<00:00]\n",
      "Adding lipid precursors and lipoproteins...                                : 100.0%|██████████|    14/   14 [00:00<00:00]\n",
      "Adding reaction subsystems from M-model into the ME-model...               : 100.0%|██████████|  2610/ 2610 [00:00<00:00]\n",
      "Processing StoichiometricData in ME-model...                               : 100.0%|██████████|  2281/ 2281 [00:00<00:00]\n",
      "Updating ME-model Reactions...                                             : 100.0%|██████████| 21915/21915 [03:12<00:00]\n",
      "Updating all FormationReactions...                                         : 100.0%|██████████|  5695/ 5695 [00:00<00:00]\n",
      "Recalculation of the elemental contribution in SubReactions...             : 100.0%|██████████|   423/  423 [00:00<00:00]\n",
      "Updating all FormationReactions...                                         : 100.0%|██████████|  5695/ 5695 [00:00<00:00]\n",
      "Updating FormationReactions involving a lipoyl prosthetic group...         : 100.0%|██████████|    15/   15 [00:00<00:00]\n",
      "Updating FormationReactions involving a glycyl radical...                  : 100.0%|██████████|    18/   18 [00:00<00:00]\n",
      "Estimating effective turnover rates for reactions using the SASA method... : 100.0%|██████████|  7318/ 7318 [00:01<00:00]\n",
      "Mapping effective turnover rates from user input...                        : 100.0%|██████████|  5036/ 5036 [00:00<00:00]\n",
      "Setting the effective turnover rates using user input...                   : 100.0%|██████████|  6772/ 6772 [00:01<00:00]\n",
      "Pruning unnecessary ComplexData reactions...                               : 100.0%|██████████|  5695/ 5695 [00:21<00:00]\n",
      "Pruning unnecessary FoldedProtein reactions...                             : 0.0%|          |     0/    0 [00:00<?]\n",
      "Pruning unnecessary ProcessedProtein reactions...                          : 100.0%|██████████|  4883/ 4883 [00:00<00:00]\n",
      "Pruning unnecessary TranslatedGene reactions...                            : 100.0%|██████████|  4883/ 4883 [00:13<00:00]\n",
      "Pruning unnecessary TranscribedGene reactions...                           : 100.0%|██████████|  4450/ 4450 [00:08<00:00]\n",
      "Pruning unnecessary Transcriptional Units...                               : 100.0%|██████████|  3555/ 3555 [00:10<00:00]\n",
      "Pruning unnecessary ComplexData reactions...                               : 100.0%|██████████|  1459/ 1459 [00:00<00:00]\n",
      "Pruning unnecessary FoldedProtein reactions...                             : 0.0%|          |     0/    0 [00:00<?]\n",
      "Pruning unnecessary ProcessedProtein reactions...                          : 100.0%|██████████|  2184/ 2184 [00:00<00:00]\n",
      "Pruning unnecessary TranslatedGene reactions...                            : 100.0%|██████████|  2184/ 2184 [00:00<00:00]\n",
      "Pruning unnecessary TranscribedGene reactions...                           : 100.0%|██████████|  1691/ 1691 [00:00<00:00]\n",
      "Pruning unnecessary Transcriptional Units...                               : 100.0%|██████████|  1458/ 1458 [00:06<00:00]\n"
     ]
    },
    {
     "name": "stdout",
     "output_type": "stream",
     "text": [
      "ME-model was saved in the ./ecoli/ directory as MEModel-step2-ecoli.pkl\n",
      "ME-model reconstruction is done.\n",
      "Number of metabolites in the ME-model is 7193 (+333.31%, from 1660)\n",
      "Number of reactions in the ME-model is 14956 (+529.20%, from 2377)\n",
      "Number of genes in the ME-model is 1689 (+32.89%, from 1271)\n"
     ]
    }
   ],
   "source": [
    "builder.build_me_model(overwrite=False)"
   ]
  },
  {
   "cell_type": "code",
   "execution_count": 11,
   "id": "5c2c6db5",
   "metadata": {
    "ExecuteTime": {
     "end_time": "2023-08-31T00:05:32.775917Z",
     "start_time": "2023-08-31T00:05:09.139033Z"
    }
   },
   "outputs": [
    {
     "name": "stderr",
     "output_type": "stream",
     "text": [
      "2023-08-30 17:05:25,363 The metabolite 'glycyl_c' must exist in the ME-model to calculate the element contribution.\n",
      "2023-08-30 17:05:25,364 The metabolite 'glycyl_c' must exist in the ME-model to calculate the element contribution.\n"
     ]
    }
   ],
   "source": [
    "coralme.io.json.save_json_me_model(builder.me_model, 'ecoli.json')"
   ]
  },
  {
   "cell_type": "code",
   "execution_count": 12,
   "id": "cde58d89",
   "metadata": {
    "ExecuteTime": {
     "end_time": "2023-08-31T00:05:33.150157Z",
     "start_time": "2023-08-31T00:05:32.777548Z"
    }
   },
   "outputs": [
    {
     "ename": "NameError",
     "evalue": "name 'me' is not defined",
     "output_type": "error",
     "traceback": [
      "\u001b[0;31m---------------------------------------------------------------------------\u001b[0m",
      "\u001b[0;31mNameError\u001b[0m                                 Traceback (most recent call last)",
      "Input \u001b[0;32mIn [12]\u001b[0m, in \u001b[0;36m<cell line: 1>\u001b[0;34m()\u001b[0m\n\u001b[0;32m----> 1\u001b[0m builder\u001b[38;5;241m.\u001b[39mme_model\u001b[38;5;241m.\u001b[39madd_boundary(\u001b[43mme\u001b[49m\u001b[38;5;241m.\u001b[39mmetabolites\u001b[38;5;241m.\u001b[39mli_c, \u001b[38;5;28mtype\u001b[39m \u001b[38;5;241m=\u001b[39m \u001b[38;5;124m'\u001b[39m\u001b[38;5;124msink\u001b[39m\u001b[38;5;124m'\u001b[39m); \u001b[38;5;66;03m# iJL1678b-ME has a sink reaction for lithium ion\u001b[39;00m\n\u001b[1;32m      2\u001b[0m builder\u001b[38;5;241m.\u001b[39mme_model\u001b[38;5;241m.\u001b[39moptimize(max_mu \u001b[38;5;241m=\u001b[39m \u001b[38;5;241m1.0\u001b[39m)\n\u001b[1;32m      3\u001b[0m builder\u001b[38;5;241m.\u001b[39mme_model\u001b[38;5;241m.\u001b[39msolution\u001b[38;5;241m.\u001b[39mobjective_value\n",
      "\u001b[0;31mNameError\u001b[0m: name 'me' is not defined"
     ]
    }
   ],
   "source": [
    "builder.me_model.add_boundary(me.metabolites.li_c, type = 'sink'); # iJL1678b-ME has a sink reaction for lithium ion\n",
    "builder.me_model.optimize(max_mu = 1.0)\n",
    "builder.me_model.solution.objective_value # value in Supplementary Table 1"
   ]
  }
 ],
 "metadata": {
  "kernelspec": {
   "display_name": "coralme",
   "language": "python",
   "name": "coralme"
  },
  "language_info": {
   "codemirror_mode": {
    "name": "ipython",
    "version": 3
   },
   "file_extension": ".py",
   "mimetype": "text/x-python",
   "name": "python",
   "nbconvert_exporter": "python",
   "pygments_lexer": "ipython3",
   "version": "3.10.12"
  }
 },
 "nbformat": 4,
 "nbformat_minor": 5
}
