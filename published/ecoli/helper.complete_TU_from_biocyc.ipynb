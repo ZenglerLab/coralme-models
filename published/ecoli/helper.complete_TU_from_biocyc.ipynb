{
 "cells": [
  {
   "cell_type": "code",
   "execution_count": 1,
   "metadata": {
    "ExecuteTime": {
     "end_time": "2023-03-31T07:29:13.521997Z",
     "start_time": "2023-03-31T07:29:12.316781Z"
    }
   },
   "outputs": [],
   "source": [
    "import glob\n",
    "import numpy\n",
    "import pandas\n",
    "import seaborn\n",
    "import matplotlib.pyplot as plt\n",
    "from tqdm import tqdm"
   ]
  },
  {
   "cell_type": "code",
   "execution_count": 2,
   "metadata": {
    "ExecuteTime": {
     "end_time": "2023-03-31T07:29:13.553214Z",
     "start_time": "2023-03-31T07:29:13.525348Z"
    }
   },
   "outputs": [
    {
     "data": {
      "text/html": [
       "<style>.container { width:95% !important; }</style>"
      ],
      "text/plain": [
       "<IPython.core.display.HTML object>"
      ]
     },
     "metadata": {},
     "output_type": "display_data"
    }
   ],
   "source": [
    "from IPython.display import display, HTML, Math, Markdown\n",
    "display(HTML(\"<style>.container { width:95% !important; }</style>\"))\n",
    "\n",
    "%load_ext autoreload\n",
    "%autoreload 2"
   ]
  },
  {
   "cell_type": "code",
   "execution_count": 3,
   "metadata": {
    "ExecuteTime": {
     "end_time": "2023-03-31T07:29:13.623387Z",
     "start_time": "2023-03-31T07:29:13.557114Z"
    }
   },
   "outputs": [],
   "source": [
    "# with open('mismatching_reactions_transcription_only.txt', 'r') as infile:\n",
    "#     juans = pandas.read_csv(infile, sep = '\\t', dtype = str, index_col = 0)\n",
    "# juans = juans[juans.index.str.contains('from') & (juans['iJL1673'] == '0.0')]\n",
    "# index = [ x[14:] for x in juans.index ]\n",
    "# index"
   ]
  },
  {
   "cell_type": "code",
   "execution_count": 4,
   "metadata": {
    "ExecuteTime": {
     "end_time": "2023-03-31T07:29:13.763664Z",
     "start_time": "2023-03-31T07:29:13.627235Z"
    }
   },
   "outputs": [],
   "source": [
    "with open('/opt/git-repositories/ecolime.SBRG/ecolime/building_data/TUs_from_ecocyc.txt', 'r') as infile:\n",
    "    original = pandas.read_csv(infile, sep = '\\t', keep_default_na = False)\n",
    "original\n",
    "\n",
    "TU_id = [ x for x in original['TU_id']]\n",
    "starts = [ int(x) for x in original['start']]\n",
    "stops = [ int(x) for x in original['stop']]"
   ]
  },
  {
   "cell_type": "code",
   "execution_count": 5,
   "metadata": {
    "ExecuteTime": {
     "end_time": "2023-03-31T07:29:13.869023Z",
     "start_time": "2023-03-31T07:29:13.765621Z"
    }
   },
   "outputs": [
    {
     "data": {
      "text/html": [
       "<div>\n",
       "<style scoped>\n",
       "    .dataframe tbody tr th:only-of-type {\n",
       "        vertical-align: middle;\n",
       "    }\n",
       "\n",
       "    .dataframe tbody tr th {\n",
       "        vertical-align: top;\n",
       "    }\n",
       "\n",
       "    .dataframe thead th {\n",
       "        text-align: right;\n",
       "    }\n",
       "</style>\n",
       "<table border=\"1\" class=\"dataframe\">\n",
       "  <thead>\n",
       "    <tr style=\"text-align: right;\">\n",
       "      <th></th>\n",
       "      <th>TU_id</th>\n",
       "      <th>start</th>\n",
       "      <th>stop</th>\n",
       "      <th>tss</th>\n",
       "      <th>strand</th>\n",
       "      <th>rho_dependent</th>\n",
       "      <th>sigma</th>\n",
       "    </tr>\n",
       "  </thead>\n",
       "  <tbody>\n",
       "    <tr>\n",
       "      <th>0</th>\n",
       "      <td>TU0_13350_from_RpoD_mono</td>\n",
       "      <td>1700257</td>\n",
       "      <td>1701258</td>\n",
       "      <td>None</td>\n",
       "      <td>+</td>\n",
       "      <td>True</td>\n",
       "      <td>RpoD_mono</td>\n",
       "    </tr>\n",
       "    <tr>\n",
       "      <th>1</th>\n",
       "      <td>TU0_12877_from_RpoD_mono</td>\n",
       "      <td>303077</td>\n",
       "      <td>303406</td>\n",
       "      <td>None</td>\n",
       "      <td>-</td>\n",
       "      <td>True</td>\n",
       "      <td>RpoD_mono</td>\n",
       "    </tr>\n",
       "    <tr>\n",
       "      <th>2</th>\n",
       "      <td>TU0_7622_from_RpoD_mono</td>\n",
       "      <td>542485</td>\n",
       "      <td>545635</td>\n",
       "      <td>545635</td>\n",
       "      <td>-</td>\n",
       "      <td>True</td>\n",
       "      <td>RpoD_mono</td>\n",
       "    </tr>\n",
       "    <tr>\n",
       "      <th>3</th>\n",
       "      <td>TU00158_from_RpoD_mono</td>\n",
       "      <td>1165215</td>\n",
       "      <td>1166612</td>\n",
       "      <td>1165215</td>\n",
       "      <td>+</td>\n",
       "      <td>True</td>\n",
       "      <td>RpoD_mono</td>\n",
       "    </tr>\n",
       "    <tr>\n",
       "      <th>4</th>\n",
       "      <td>TU0_8340_from_EG11355_MONOMER</td>\n",
       "      <td>2010724</td>\n",
       "      <td>2011117</td>\n",
       "      <td>2011117</td>\n",
       "      <td>-</td>\n",
       "      <td>True</td>\n",
       "      <td>FliA_mono</td>\n",
       "    </tr>\n",
       "    <tr>\n",
       "      <th>...</th>\n",
       "      <td>...</td>\n",
       "      <td>...</td>\n",
       "      <td>...</td>\n",
       "      <td>...</td>\n",
       "      <td>...</td>\n",
       "      <td>...</td>\n",
       "      <td>...</td>\n",
       "    </tr>\n",
       "    <tr>\n",
       "      <th>3509</th>\n",
       "      <td>TU0_13407_from_RpoD_mono</td>\n",
       "      <td>1877427</td>\n",
       "      <td>1878018</td>\n",
       "      <td>1878018</td>\n",
       "      <td>-</td>\n",
       "      <td>True</td>\n",
       "      <td>RpoD_mono</td>\n",
       "    </tr>\n",
       "    <tr>\n",
       "      <th>3510</th>\n",
       "      <td>TU0_13145_from_RpoD_mono</td>\n",
       "      <td>1193050</td>\n",
       "      <td>1194174</td>\n",
       "      <td>None</td>\n",
       "      <td>-</td>\n",
       "      <td>True</td>\n",
       "      <td>RpoD_mono</td>\n",
       "    </tr>\n",
       "    <tr>\n",
       "      <th>3511</th>\n",
       "      <td>TU0_12807_from_RpoD_mono</td>\n",
       "      <td>84188</td>\n",
       "      <td>85312</td>\n",
       "      <td>84188</td>\n",
       "      <td>+</td>\n",
       "      <td>True</td>\n",
       "      <td>RpoD_mono</td>\n",
       "    </tr>\n",
       "    <tr>\n",
       "      <th>3512</th>\n",
       "      <td>TU0_13883_from_RpoD_mono</td>\n",
       "      <td>3320755</td>\n",
       "      <td>3322933</td>\n",
       "      <td>None</td>\n",
       "      <td>-</td>\n",
       "      <td>True</td>\n",
       "      <td>RpoD_mono</td>\n",
       "    </tr>\n",
       "    <tr>\n",
       "      <th>3513</th>\n",
       "      <td>TU00367_from_RpoD_mono</td>\n",
       "      <td>773975</td>\n",
       "      <td>776830</td>\n",
       "      <td>None</td>\n",
       "      <td>+</td>\n",
       "      <td>True</td>\n",
       "      <td>RpoD_mono</td>\n",
       "    </tr>\n",
       "  </tbody>\n",
       "</table>\n",
       "<p>3514 rows × 7 columns</p>\n",
       "</div>"
      ],
      "text/plain": [
       "                              TU_id    start     stop      tss strand  \\\n",
       "0          TU0_13350_from_RpoD_mono  1700257  1701258     None      +   \n",
       "1          TU0_12877_from_RpoD_mono   303077   303406     None      -   \n",
       "2           TU0_7622_from_RpoD_mono   542485   545635   545635      -   \n",
       "3            TU00158_from_RpoD_mono  1165215  1166612  1165215      +   \n",
       "4     TU0_8340_from_EG11355_MONOMER  2010724  2011117  2011117      -   \n",
       "...                             ...      ...      ...      ...    ...   \n",
       "3509       TU0_13407_from_RpoD_mono  1877427  1878018  1878018      -   \n",
       "3510       TU0_13145_from_RpoD_mono  1193050  1194174     None      -   \n",
       "3511       TU0_12807_from_RpoD_mono    84188    85312    84188      +   \n",
       "3512       TU0_13883_from_RpoD_mono  3320755  3322933     None      -   \n",
       "3513         TU00367_from_RpoD_mono   773975   776830     None      +   \n",
       "\n",
       "      rho_dependent      sigma  \n",
       "0              True  RpoD_mono  \n",
       "1              True  RpoD_mono  \n",
       "2              True  RpoD_mono  \n",
       "3              True  RpoD_mono  \n",
       "4              True  FliA_mono  \n",
       "...             ...        ...  \n",
       "3509           True  RpoD_mono  \n",
       "3510           True  RpoD_mono  \n",
       "3511           True  RpoD_mono  \n",
       "3512           True  RpoD_mono  \n",
       "3513           True  RpoD_mono  \n",
       "\n",
       "[3514 rows x 7 columns]"
      ]
     },
     "execution_count": 5,
     "metadata": {},
     "output_type": "execute_result"
    }
   ],
   "source": [
    "original"
   ]
  },
  {
   "cell_type": "code",
   "execution_count": 6,
   "metadata": {
    "ExecuteTime": {
     "end_time": "2023-03-31T07:29:22.864451Z",
     "start_time": "2023-03-31T07:29:13.871320Z"
    }
   },
   "outputs": [],
   "source": [
    "from Bio import SeqIO\n",
    "contigs = []\n",
    "for contig in SeqIO.parse('/opt/git-repositories/ecolime.SBRG/ecolime/building_data/NC_000913.2.gb', 'genbank'):\n",
    "    contigs.append(contig)\n",
    "\n",
    "dct = {}\n",
    "for feature in contigs[0].features:\n",
    "    for tu_id, start, stop in zip(TU_id, starts, stops):\n",
    "        if feature.type in ['CDS', 'rRNA', 'tRNA', 'tmRNA', 'ncRNA'] and feature.location.start >= start-2 and feature.location.end <= stop:\n",
    "            dct.setdefault((tu_id, start, stop), set()).add(feature.qualifiers.get('locus_tag', ['None'])[0])\n",
    "            if feature.qualifiers.get('locus_tag', False) == False:\n",
    "                print(feature.__dict__)\n",
    "\n",
    "original['replicon'] = 'NC_000913.2'\n",
    "original['genes'] = original.apply(lambda x: ','.join(list(dct.get((x['TU_id'], int(x['start']), int(x['stop'])), ['']))), axis = 1)\n",
    "original['genes'] = original['genes'].apply(lambda x: ','.join(sorted(x.split(','))))\n",
    "original.to_excel('TUs_from_ecolime_plus_genes.xlsx', index = False)\n",
    "original.drop_duplicates().to_csv('TUs_from_ecolime_plus_genes.txt', sep = '\\t', index = False)"
   ]
  },
  {
   "cell_type": "code",
   "execution_count": 7,
   "metadata": {
    "ExecuteTime": {
     "end_time": "2023-03-31T07:29:22.887027Z",
     "start_time": "2023-03-31T07:29:22.866712Z"
    }
   },
   "outputs": [
    {
     "data": {
      "text/plain": [
       "{'b4013'}"
      ]
     },
     "execution_count": 7,
     "metadata": {},
     "output_type": "execute_result"
    }
   ],
   "source": [
    "dct[('TU00041_from_RPOH_MONOMER', 4212256, 4213232)]"
   ]
  },
  {
   "cell_type": "code",
   "execution_count": 8,
   "metadata": {
    "ExecuteTime": {
     "end_time": "2023-03-31T07:29:23.135412Z",
     "start_time": "2023-03-31T07:29:22.889449Z"
    }
   },
   "outputs": [],
   "source": [
    "incorrect_sigma_32 = [\n",
    "    \"TU0_3463_from_RPOH_MONOMER\",\n",
    "    \"TU0_1181_from_RPOH_MONOMER\",\n",
    "    \"TU0_1182_with_TERM0_1116_from_RPOH_MONOMER\",\n",
    "    \"TU0_1182_with_TERM0_1115_from_RPOH_MONOMER\",\n",
    "    \"TU0_1183_with_TERM0_1117_from_RPOH_MONOMER\",\n",
    "    \"TU0_1186_from_RPOH_MONOMER\",\n",
    "    \"TU0_1187_from_RPOH_MONOMER\",\n",
    "    \"TU0_1189_from_RPOH_MONOMER\",\n",
    "    \"TU0_1191_from_RPOH_MONOMER\"\n",
    "    ]\n",
    "\n",
    "dct = { k:f'#{k}' for k in incorrect_sigma_32 }\n",
    "\n",
    "with open('TUs_from_ecolime_plus_genes.txt', 'r') as infile:\n",
    "    new = pandas.read_csv(infile, sep = '\\t', keep_default_na = False)\n",
    "    \n",
    "new['genes'] = new['genes'].apply(lambda x: ','.join(sorted(x.split(','))))\n",
    "new['TU_id'] = new['TU_id'].replace(dct)\n",
    "new.columns = ['TU_id', 'start', 'stop', 'tss', 'strand', 'rho_dependent', 'rnapol', 'replicon', 'genes']\n",
    "cols = ['TU_id', 'replicon', 'genes', 'start', 'stop', 'tss', 'strand', 'rho_dependent', 'rnapol']\n",
    "new.drop_duplicates().sort_values(['start', 'TU_id'])[cols].to_csv('TUs_from_ecolime_plus_genes.txt', sep = '\\t', index = False)"
   ]
  }
 ],
 "metadata": {
  "kernelspec": {
   "display_name": "Python 3 (ipykernel)",
   "language": "python",
   "name": "python3"
  },
  "language_info": {
   "codemirror_mode": {
    "name": "ipython",
    "version": 3
   },
   "file_extension": ".py",
   "mimetype": "text/x-python",
   "name": "python",
   "nbconvert_exporter": "python",
   "pygments_lexer": "ipython3",
   "version": "3.10.6"
  }
 },
 "nbformat": 4,
 "nbformat_minor": 2
}
