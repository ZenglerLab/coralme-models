{
 "cells": [
  {
   "cell_type": "code",
   "execution_count": 1,
   "id": "f0b64df1",
   "metadata": {
    "ExecuteTime": {
     "end_time": "2023-05-09T23:41:01.786168Z",
     "start_time": "2023-05-09T23:41:00.800479Z"
    }
   },
   "outputs": [],
   "source": [
    "import glob\n",
    "import numpy\n",
    "import pandas\n",
    "import seaborn\n",
    "import matplotlib.pyplot as plt\n",
    "from tqdm import tqdm"
   ]
  },
  {
   "cell_type": "code",
   "execution_count": 2,
   "id": "6803fce1",
   "metadata": {
    "ExecuteTime": {
     "end_time": "2023-05-09T23:41:01.825855Z",
     "start_time": "2023-05-09T23:41:01.789400Z"
    }
   },
   "outputs": [
    {
     "data": {
      "text/html": [
       "<style>.container { width:95% !important; }</style>"
      ],
      "text/plain": [
       "<IPython.core.display.HTML object>"
      ]
     },
     "metadata": {},
     "output_type": "display_data"
    }
   ],
   "source": [
    "from IPython.display import display, HTML, Math, Markdown\n",
    "display(HTML(\"<style>.container { width:95% !important; }</style>\"))\n",
    "\n",
    "%load_ext autoreload\n",
    "%autoreload 2"
   ]
  },
  {
   "cell_type": "code",
   "execution_count": 3,
   "id": "71f7c767",
   "metadata": {
    "ExecuteTime": {
     "end_time": "2023-05-09T23:41:01.879875Z",
     "start_time": "2023-05-09T23:41:01.830423Z"
    }
   },
   "outputs": [],
   "source": [
    "with open('ecolime-new-reaction-names.txt', 'r') as infile:\n",
    "    rxn_names = pandas.read_csv(infile, sep = '\\t', header = None, index_col = 0)\n",
    "# rxn_names.index"
   ]
  },
  {
   "cell_type": "code",
   "execution_count": 4,
   "id": "cbcda111",
   "metadata": {
    "ExecuteTime": {
     "end_time": "2023-05-09T23:41:02.711609Z",
     "start_time": "2023-05-09T23:41:01.881755Z"
    }
   },
   "outputs": [
    {
     "data": {
      "image/png": "[encoded data removed]",
      "text/plain": [
       "<Figure size 800x600 with 1 Axes>"
      ]
     },
     "metadata": {
      "needs_background": "light"
     },
     "output_type": "display_data"
    }
   ],
   "source": [
    "with open('coralme-fluxes-from-model.txt', 'r') as infile:\n",
    "    target = pandas.read_csv(infile, sep = '\\t', header = None, index_col = 0)\n",
    "    \n",
    "dct = { x:x.replace('_Outer_Membrane', '').replace('_Inner_Membrane', '').replace('_Periplasm', '')\n",
    "       for x in target.index if x.startswith('translocation') }\n",
    "target.index = [ dct.get(x, x) for x in target.index ]\n",
    "    \n",
    "target.columns = ['coralme fluxes']\n",
    "target\n",
    "\n",
    "with open('ecolime-fluxes-from-model.txt', 'r') as infile:\n",
    "    source = pandas.read_csv(infile, sep = '\\t', header = None, index_col = 0)\n",
    "\n",
    "source.columns = ['cobrame/ecolime fluxes']\n",
    "source.index = rxn_names.index\n",
    "\n",
    "tmp = pandas.concat([source['cobrame/ecolime fluxes'], target['coralme fluxes']], axis = 1).dropna(how = 'any')\n",
    "fig, ax = plt.subplots(1, 1, figsize = (4*2, 3*2), dpi = 100)\n",
    "tmp.plot(kind = 'scatter', x = 0, y = 1, ax = ax)\n",
    "\n",
    "# tmp = tmp[tmp.isnull().any(axis=1)].fillna(0)\n",
    "# tmp[tmp['cobrame/ecolime'] != 0]\n",
    "# tmp = tmp[(tmp['cobrame/ecolime'] != 0) | (tmp['coralme'] != 0)]\n",
    "\n",
    "tmp[~tmp.index.str.startswith('transcription_') & ~tmp.index.str.startswith('translocation_')].to_csv('mismatching_reactions.txt', sep = '\\t')\n",
    "tmp[tmp.index.str.startswith('transcription_')].to_csv('mismatching_reactions_transcription_only.txt', sep = '\\t')\n",
    "tmp[tmp.index.str.startswith('translocation_')].to_csv('mismatching_reactions_translocation_only.txt', sep = '\\t')\n",
    "\n",
    "tmp = pandas.concat([source['cobrame/ecolime fluxes'], target['coralme fluxes']], axis = 1).dropna(how = 'any')\n",
    "from scipy.stats import ttest_ind, linregress\n",
    "res = linregress(tmp.iloc[:, 0], tmp.iloc[:, 1])\n",
    "res\n",
    "\n",
    "try:\n",
    "    plt.text(7, -5, 'r = {:f}'.format(res[2]))\n",
    "    plt.text(7, 0, 'coralme = {:f}*ecolime {:f}'.format(res[0], res[1]))\n",
    "except:\n",
    "    print('run again...')\n",
    "    \n",
    "plt.xlim(-20, 60)\n",
    "plt.ylim(-20, 60)\n",
    "\n",
    "seaborn.despine()\n",
    "\n",
    "plt.savefig('flux_comparison_linear_regression.png', format = 'png', dpi = 300, edgecolor = 'w', facecolor = 'w')\n",
    "plt.savefig('flux_comparison_linear_regression.svg', format = 'svg', dpi = 300, edgecolor = 'w', facecolor = 'w')\n",
    "plt.show()"
   ]
  },
  {
   "cell_type": "code",
   "execution_count": 5,
   "id": "7332de36",
   "metadata": {
    "ExecuteTime": {
     "end_time": "2023-05-09T23:41:02.726835Z",
     "start_time": "2023-05-09T23:41:02.712674Z"
    }
   },
   "outputs": [
    {
     "data": {
      "text/html": [
       "<div>\n",
       "<style scoped>\n",
       "    .dataframe tbody tr th:only-of-type {\n",
       "        vertical-align: middle;\n",
       "    }\n",
       "\n",
       "    .dataframe tbody tr th {\n",
       "        vertical-align: top;\n",
       "    }\n",
       "\n",
       "    .dataframe thead th {\n",
       "        text-align: right;\n",
       "    }\n",
       "</style>\n",
       "<table border=\"1\" class=\"dataframe\">\n",
       "  <thead>\n",
       "    <tr style=\"text-align: right;\">\n",
       "      <th></th>\n",
       "      <th>cobrame/ecolime fluxes</th>\n",
       "      <th>coralme fluxes</th>\n",
       "    </tr>\n",
       "  </thead>\n",
       "  <tbody>\n",
       "    <tr>\n",
       "      <th>EX_cobalt2_e</th>\n",
       "      <td>-1.074998e-04</td>\n",
       "      <td>-1.038604e-04</td>\n",
       "    </tr>\n",
       "    <tr>\n",
       "      <th>EX_cu2_e</th>\n",
       "      <td>-2.581877e-06</td>\n",
       "      <td>-2.520805e-06</td>\n",
       "    </tr>\n",
       "    <tr>\n",
       "      <th>EX_fe2_e</th>\n",
       "      <td>-5.537101e-04</td>\n",
       "      <td>-5.426010e-04</td>\n",
       "    </tr>\n",
       "    <tr>\n",
       "      <th>EX_glc__D_e</th>\n",
       "      <td>-9.380408e+00</td>\n",
       "      <td>-9.252004e+00</td>\n",
       "    </tr>\n",
       "    <tr>\n",
       "      <th>EX_k_e</th>\n",
       "      <td>-4.347738e-05</td>\n",
       "      <td>-4.193061e-05</td>\n",
       "    </tr>\n",
       "    <tr>\n",
       "      <th>EX_mg2_e</th>\n",
       "      <td>-1.501063e-02</td>\n",
       "      <td>-1.458763e-02</td>\n",
       "    </tr>\n",
       "    <tr>\n",
       "      <th>EX_mn2_e</th>\n",
       "      <td>-4.987812e-05</td>\n",
       "      <td>-4.809533e-05</td>\n",
       "    </tr>\n",
       "    <tr>\n",
       "      <th>EX_nh4_e</th>\n",
       "      <td>-9.124461e+00</td>\n",
       "      <td>-8.961167e+00</td>\n",
       "    </tr>\n",
       "    <tr>\n",
       "      <th>EX_o2_e</th>\n",
       "      <td>-1.673140e+01</td>\n",
       "      <td>-1.662744e+01</td>\n",
       "    </tr>\n",
       "    <tr>\n",
       "      <th>EX_pi_e</th>\n",
       "      <td>-8.171414e-01</td>\n",
       "      <td>-7.989145e-01</td>\n",
       "    </tr>\n",
       "    <tr>\n",
       "      <th>EX_so4_e</th>\n",
       "      <td>-1.832651e-01</td>\n",
       "      <td>-1.807279e-01</td>\n",
       "    </tr>\n",
       "    <tr>\n",
       "      <th>EX_zn2_e</th>\n",
       "      <td>-7.164552e-05</td>\n",
       "      <td>-6.917733e-05</td>\n",
       "    </tr>\n",
       "    <tr>\n",
       "      <th>SK_li_c</th>\n",
       "      <td>-1.368487e-09</td>\n",
       "      <td>-1.307326e-09</td>\n",
       "    </tr>\n",
       "  </tbody>\n",
       "</table>\n",
       "</div>"
      ],
      "text/plain": [
       "              cobrame/ecolime fluxes  coralme fluxes\n",
       "EX_cobalt2_e           -1.074998e-04   -1.038604e-04\n",
       "EX_cu2_e               -2.581877e-06   -2.520805e-06\n",
       "EX_fe2_e               -5.537101e-04   -5.426010e-04\n",
       "EX_glc__D_e            -9.380408e+00   -9.252004e+00\n",
       "EX_k_e                 -4.347738e-05   -4.193061e-05\n",
       "EX_mg2_e               -1.501063e-02   -1.458763e-02\n",
       "EX_mn2_e               -4.987812e-05   -4.809533e-05\n",
       "EX_nh4_e               -9.124461e+00   -8.961167e+00\n",
       "EX_o2_e                -1.673140e+01   -1.662744e+01\n",
       "EX_pi_e                -8.171414e-01   -7.989145e-01\n",
       "EX_so4_e               -1.832651e-01   -1.807279e-01\n",
       "EX_zn2_e               -7.164552e-05   -6.917733e-05\n",
       "SK_li_c                -1.368487e-09   -1.307326e-09"
      ]
     },
     "execution_count": 5,
     "metadata": {},
     "output_type": "execute_result"
    }
   ],
   "source": [
    "tmp[(tmp['cobrame/ecolime fluxes'] < 0) | (tmp['coralme fluxes'] < 0)]"
   ]
  },
  {
   "cell_type": "code",
   "execution_count": 6,
   "id": "4115859c",
   "metadata": {
    "ExecuteTime": {
     "end_time": "2023-05-09T23:41:02.739485Z",
     "start_time": "2023-05-09T23:41:02.728141Z"
    }
   },
   "outputs": [],
   "source": [
    "tmp['Delta'] = abs(tmp['cobrame/ecolime fluxes']-tmp['coralme fluxes'])\n",
    "# correct negative fluxes (demand/exchange reactions) to calculate log10\n",
    "tmp['cobrame/ecolime fluxes'] = abs(tmp['cobrame/ecolime fluxes'])\n",
    "tmp['coralme fluxes'] = abs(tmp['coralme fluxes'])"
   ]
  },
  {
   "cell_type": "code",
   "execution_count": 7,
   "id": "a034094f",
   "metadata": {
    "ExecuteTime": {
     "end_time": "2023-05-09T23:41:02.750953Z",
     "start_time": "2023-05-09T23:41:02.740605Z"
    }
   },
   "outputs": [],
   "source": [
    "tmp['log cobrame/ecolime fluxes'] = tmp['cobrame/ecolime fluxes'].apply(numpy.log10)"
   ]
  },
  {
   "cell_type": "code",
   "execution_count": 8,
   "id": "a4236e53",
   "metadata": {
    "ExecuteTime": {
     "end_time": "2023-05-09T23:41:02.764067Z",
     "start_time": "2023-05-09T23:41:02.751995Z"
    }
   },
   "outputs": [],
   "source": [
    "tmp['log coralme fluxes'] = tmp['coralme fluxes'].apply(numpy.log10)"
   ]
  },
  {
   "cell_type": "code",
   "execution_count": 9,
   "id": "99af5183",
   "metadata": {
    "ExecuteTime": {
     "end_time": "2023-05-09T23:41:03.594685Z",
     "start_time": "2023-05-09T23:41:02.765084Z"
    }
   },
   "outputs": [
    {
     "data": {
      "image/png": "[encoded data removed]",
      "text/plain": [
       "<Figure size 800x600 with 1 Axes>"
      ]
     },
     "metadata": {
      "needs_background": "light"
     },
     "output_type": "display_data"
    }
   ],
   "source": [
    "fig, ax = plt.subplots(1, 1, figsize = (4*2, 3*2), dpi = 100)\n",
    "seaborn.histplot(tmp[['log cobrame/ecolime fluxes', 'log coralme fluxes']], ax = ax, \n",
    "                multiple=\"dodge\", shrink=.8, binrange = (-15, +2.5), binwidth = .5)#, element=\"step\", fill=False, kde = True)\n",
    "\n",
    "ax.set_xlabel(r'log$_{10}$ flux')\n",
    "ax.set_ylabel('Number of reactions')\n",
    "\n",
    "seaborn.despine()\n",
    "\n",
    "plt.savefig('flux_comparison_histogram.png', format = 'png', dpi = 300, edgecolor = 'w', facecolor = 'w')\n",
    "plt.savefig('flux_comparison_histogram.svg', format = 'svg', dpi = 300, edgecolor = 'w', facecolor = 'w')\n",
    "plt.show()"
   ]
  }
 ],
 "metadata": {
  "kernelspec": {
   "display_name": "Python 3 (ipykernel)",
   "language": "python",
   "name": "python3"
  },
  "language_info": {
   "codemirror_mode": {
    "name": "ipython",
    "version": 3
   },
   "file_extension": ".py",
   "mimetype": "text/x-python",
   "name": "python",
   "nbconvert_exporter": "python",
   "pygments_lexer": "ipython3",
   "version": "3.10.6"
  }
 },
 "nbformat": 4,
 "nbformat_minor": 5
}
