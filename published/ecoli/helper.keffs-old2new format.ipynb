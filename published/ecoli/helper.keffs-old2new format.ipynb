{
 "cells": [
  {
   "cell_type": "code",
   "execution_count": 1,
   "metadata": {
    "ExecuteTime": {
     "end_time": "2023-03-01T18:42:23.115054Z",
     "start_time": "2023-03-01T18:42:21.686316Z"
    }
   },
   "outputs": [],
   "source": [
    "import glob\n",
    "import numpy\n",
    "import pandas\n",
    "import seaborn\n",
    "import matplotlib.pyplot as plt\n",
    "from tqdm import tqdm"
   ]
  },
  {
   "cell_type": "code",
   "execution_count": 2,
   "metadata": {
    "ExecuteTime": {
     "end_time": "2023-03-01T18:42:27.028995Z",
     "start_time": "2023-03-01T18:42:26.998478Z"
    }
   },
   "outputs": [
    {
     "data": {
      "text/html": [
       "<style>.container { width:95% !important; }</style>"
      ],
      "text/plain": [
       "<IPython.core.display.HTML object>"
      ]
     },
     "metadata": {},
     "output_type": "display_data"
    }
   ],
   "source": [
    "from IPython.display import display, HTML, Math, Markdown\n",
    "display(HTML(\"<style>.container { width:95% !important; }</style>\"))\n",
    "\n",
    "%load_ext autoreload\n",
    "%autoreload 2"
   ]
  },
  {
   "cell_type": "code",
   "execution_count": 92,
   "metadata": {
    "ExecuteTime": {
     "end_time": "2023-03-01T23:31:00.603135Z",
     "start_time": "2023-03-01T23:31:00.586313Z"
    }
   },
   "outputs": [],
   "source": [
    "import json\n",
    "with open('keffs-modified-reactions.json', 'r') as infile:\n",
    "    dct = json.load(infile)"
   ]
  },
  {
   "cell_type": "code",
   "execution_count": 95,
   "metadata": {
    "ExecuteTime": {
     "end_time": "2023-03-01T23:32:24.909181Z",
     "start_time": "2023-03-01T23:32:24.851273Z"
    }
   },
   "outputs": [
    {
     "data": {
      "text/html": [
       "<div>\n",
       "<style scoped>\n",
       "    .dataframe tbody tr th:only-of-type {\n",
       "        vertical-align: middle;\n",
       "    }\n",
       "\n",
       "    .dataframe tbody tr th {\n",
       "        vertical-align: top;\n",
       "    }\n",
       "\n",
       "    .dataframe thead th {\n",
       "        text-align: right;\n",
       "    }\n",
       "</style>\n",
       "<table border=\"1\" class=\"dataframe\">\n",
       "  <thead>\n",
       "    <tr style=\"text-align: right;\">\n",
       "      <th></th>\n",
       "      <th>0</th>\n",
       "      <th>1</th>\n",
       "      <th>2</th>\n",
       "      <th>3</th>\n",
       "      <th>4</th>\n",
       "    </tr>\n",
       "  </thead>\n",
       "  <tbody>\n",
       "    <tr>\n",
       "      <th>5038</th>\n",
       "      <td>Zn2tex</td>\n",
       "      <td>FWD</td>\n",
       "      <td>CPLX0-7530</td>\n",
       "      <td></td>\n",
       "      <td>74.679114</td>\n",
       "    </tr>\n",
       "    <tr>\n",
       "      <th>5039</th>\n",
       "      <td>Zn2tex</td>\n",
       "      <td>REV</td>\n",
       "      <td>CPLX0-7530</td>\n",
       "      <td></td>\n",
       "      <td>74.679114</td>\n",
       "    </tr>\n",
       "    <tr>\n",
       "      <th>5040</th>\n",
       "      <td>Zn2tex</td>\n",
       "      <td>FWD</td>\n",
       "      <td>CPLX0-7533</td>\n",
       "      <td></td>\n",
       "      <td>76.744724</td>\n",
       "    </tr>\n",
       "    <tr>\n",
       "      <th>5041</th>\n",
       "      <td>Zn2tex</td>\n",
       "      <td>REV</td>\n",
       "      <td>CPLX0-7533</td>\n",
       "      <td></td>\n",
       "      <td>76.744724</td>\n",
       "    </tr>\n",
       "    <tr>\n",
       "      <th>5042</th>\n",
       "      <td>Zn2tex</td>\n",
       "      <td>FWD</td>\n",
       "      <td>CPLX0-7534</td>\n",
       "      <td></td>\n",
       "      <td>75.267682</td>\n",
       "    </tr>\n",
       "    <tr>\n",
       "      <th>5043</th>\n",
       "      <td>Zn2tex</td>\n",
       "      <td>REV</td>\n",
       "      <td>CPLX0-7534</td>\n",
       "      <td></td>\n",
       "      <td>75.267682</td>\n",
       "    </tr>\n",
       "    <tr>\n",
       "      <th>5044</th>\n",
       "      <td>Zn2tex</td>\n",
       "      <td>FWD</td>\n",
       "      <td>G6700-MONOMER</td>\n",
       "      <td></td>\n",
       "      <td>34.194019</td>\n",
       "    </tr>\n",
       "    <tr>\n",
       "      <th>5045</th>\n",
       "      <td>Zn2tex</td>\n",
       "      <td>REV</td>\n",
       "      <td>G6700-MONOMER</td>\n",
       "      <td></td>\n",
       "      <td>34.194019</td>\n",
       "    </tr>\n",
       "    <tr>\n",
       "      <th>5046</th>\n",
       "      <td>GLUTRR</td>\n",
       "      <td>FWD</td>\n",
       "      <td>CPLX0-3741</td>\n",
       "      <td></td>\n",
       "      <td>3269.010801</td>\n",
       "    </tr>\n",
       "    <tr>\n",
       "      <th>5047</th>\n",
       "      <td>hemeD_synthesis</td>\n",
       "      <td>FWD</td>\n",
       "      <td>HYDROPEROXIDII-CPLX</td>\n",
       "      <td>hemed(6)</td>\n",
       "      <td>0.000863</td>\n",
       "    </tr>\n",
       "  </tbody>\n",
       "</table>\n",
       "</div>"
      ],
      "text/plain": [
       "                    0    1                    2         3            4\n",
       "5038           Zn2tex  FWD           CPLX0-7530              74.679114\n",
       "5039           Zn2tex  REV           CPLX0-7530              74.679114\n",
       "5040           Zn2tex  FWD           CPLX0-7533              76.744724\n",
       "5041           Zn2tex  REV           CPLX0-7533              76.744724\n",
       "5042           Zn2tex  FWD           CPLX0-7534              75.267682\n",
       "5043           Zn2tex  REV           CPLX0-7534              75.267682\n",
       "5044           Zn2tex  FWD        G6700-MONOMER              34.194019\n",
       "5045           Zn2tex  REV        G6700-MONOMER              34.194019\n",
       "5046           GLUTRR  FWD           CPLX0-3741            3269.010801\n",
       "5047  hemeD_synthesis  FWD  HYDROPEROXIDII-CPLX  hemed(6)     0.000863"
      ]
     },
     "metadata": {},
     "output_type": "display_data"
    }
   ],
   "source": [
    "import re\n",
    "\n",
    "df = pandas.DataFrame([ [ re.split('_FWD_|_REV_', k)[0], 'FWD' if 'FWD' in k else 'REV', \n",
    "   re.split('_FWD_|_REV_', x := k)[1].split('_mod_')[0],\n",
    "  ' AND '.join(k.split('_mod_')[1:]), v] for k,v in dct.items() ])\n",
    "\n",
    "display(df.tail(10))\n",
    "\n",
    "df.columns = ['reaction', 'direction', 'complex', 'mods', 'keff']\n",
    "df.to_csv('keffs-rs.txt', sep = '\\t', index = False)\n",
    "\n",
    "df.columns = ['reaction', 'direction', 'complex', 'mods', 'keff']\n",
    "df[~df.duplicated(subset = ['reaction', 'complex', 'mods', 'keff'])].to_csv('keffs-rs-unique.txt', sep = '\\t', index = False)"
   ]
  },
  {
   "cell_type": "code",
   "execution_count": 91,
   "metadata": {
    "ExecuteTime": {
     "end_time": "2023-03-01T23:29:59.440508Z",
     "start_time": "2023-03-01T23:29:59.426739Z"
    }
   },
   "outputs": [
    {
     "data": {
      "text/plain": [
       "'Translation_initiation_fmet_addition_at_START'"
      ]
     },
     "execution_count": 91,
     "metadata": {},
     "output_type": "execute_result"
    }
   ],
   "source": [
    "x"
   ]
  }
 ],
 "metadata": {
  "kernelspec": {
   "display_name": "Python 3 (ipykernel)",
   "language": "python",
   "name": "python3"
  },
  "language_info": {
   "codemirror_mode": {
    "name": "ipython",
    "version": 3
   },
   "file_extension": ".py",
   "mimetype": "text/x-python",
   "name": "python",
   "nbconvert_exporter": "python",
   "pygments_lexer": "ipython3",
   "version": "3.10.6"
  }
 },
 "nbformat": 4,
 "nbformat_minor": 2
}
