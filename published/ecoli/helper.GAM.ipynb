{
 "cells": [
  {
   "cell_type": "code",
   "execution_count": 1,
   "id": "f9519e52",
   "metadata": {
    "ExecuteTime": {
     "end_time": "2023-05-09T23:44:46.320619Z",
     "start_time": "2023-05-09T23:44:45.462738Z"
    }
   },
   "outputs": [],
   "source": [
    "import glob\n",
    "import numpy\n",
    "import pandas\n",
    "import seaborn\n",
    "import matplotlib.pyplot as plt\n",
    "from tqdm import tqdm"
   ]
  },
  {
   "cell_type": "code",
   "execution_count": 2,
   "id": "52f44a47",
   "metadata": {
    "ExecuteTime": {
     "end_time": "2023-05-09T23:44:46.337452Z",
     "start_time": "2023-05-09T23:44:46.322022Z"
    }
   },
   "outputs": [
    {
     "data": {
      "text/html": [
       "<style>.container { width:95% !important; }</style>"
      ],
      "text/plain": [
       "<IPython.core.display.HTML object>"
      ]
     },
     "metadata": {},
     "output_type": "display_data"
    }
   ],
   "source": [
    "from IPython.display import display, HTML, Math, Markdown\n",
    "display(HTML(\"<style>.container { width:95% !important; }</style>\"))\n",
    "\n",
    "%load_ext autoreload\n",
    "%autoreload 2"
   ]
  },
  {
   "cell_type": "code",
   "execution_count": 3,
   "id": "e63729a8",
   "metadata": {
    "ExecuteTime": {
     "end_time": "2023-05-09T23:50:28.847527Z",
     "start_time": "2023-05-09T23:44:46.338757Z"
    }
   },
   "outputs": [
    {
     "name": "stdout",
     "output_type": "stream",
     "text": [
      "Set parameter Username\n",
      "Academic license - for non-commercial use only - expires 2024-04-01\n",
      "Read LP format model from file /tmp/tmp_t9s7jc9.lp\n",
      "Reading time = 0.00 seconds\n",
      ": 0 rows, 0 columns, 0 nonzeros\n",
      "Read LP format model from file /tmp/tmpaywvve42.lp\n",
      "Reading time = 0.01 seconds\n",
      ": 1660 rows, 4754 columns, 17902 nonzeros\n",
      "Read LP format model from file /tmp/tmpoq21h238.lp\n",
      "Reading time = 0.01 seconds\n",
      ": 1810 rows, 5220 columns, 17878 nonzeros\n",
      "Iteration\t Solution to check\tSolver Status\n",
      "---------\t------------------\t-------------\n",
      "        1\t0.5000000000000000\tOptimal\n",
      "        2\t0.7500000000000000\tOptimal\n",
      "        3\t0.8750000000000000\tNot feasible\n",
      "        4\t0.8125000000000000\tNot feasible\n",
      "        5\t0.7812500000000000\tOptimal\n",
      "        6\t0.7968750000000000\tNot feasible\n",
      "        7\t0.7890625000000000\tOptimal\n",
      "        8\t0.7929687500000000\tOptimal\n",
      "        9\t0.7949218750000000\tNot feasible\n",
      "       10\t0.7939453125000000\tNot feasible\n",
      "       11\t0.7934570312500000\tOptimal\n",
      "       12\t0.7937011718750000\tNot feasible\n",
      "       13\t0.7935791015625000\tOptimal\n",
      "       14\t0.7936401367187500\tNot feasible\n",
      "       15\t0.7936096191406250\tNot feasible\n",
      "       16\t0.7935943603515625\tNot feasible\n",
      "       17\t0.7935867309570312\tNot feasible\n",
      "       18\t0.7935829162597656\tOptimal\n",
      "       19\t0.7935848236083984\tOptimal\n",
      "       20\t0.7935857772827148\tOptimal\n"
     ]
    },
    {
     "data": {
      "text/plain": [
       "True"
      ]
     },
     "execution_count": 3,
     "metadata": {},
     "output_type": "execute_result"
    }
   ],
   "source": [
    "import pickle\n",
    "with open('./iJL1678b-ME/MEModel-step2-iJL1678b-ME.pkl', 'rb') as infile:\n",
    "    me = pickle.load(infile)\n",
    "\n",
    "me.add_boundary(me.metabolites.li_c, type = 'sink')\n",
    "me.optimize()"
   ]
  },
  {
   "cell_type": "code",
   "execution_count": 4,
   "id": "bc806af7",
   "metadata": {
    "ExecuteTime": {
     "end_time": "2023-05-10T00:05:34.550179Z",
     "start_time": "2023-05-09T23:50:28.849713Z"
    }
   },
   "outputs": [],
   "source": [
    "# 15min, 15 CPUs\n",
    "def get_feas(mu):\n",
    "    me.feasibility({me.mu : mu}, tolerance = 1e-15)\n",
    "    return me.solution\n",
    "\n",
    "opt = me.solution.objective_value\n",
    "mus = numpy.arange(0.01, opt, 0.01)\n",
    "\n",
    "import multiprocessing\n",
    "with multiprocessing.Pool(multiprocessing.cpu_count()-1) as pool:\n",
    "    fluxes = pool.map(get_feas, mus)"
   ]
  },
  {
   "cell_type": "code",
   "execution_count": 5,
   "id": "2282e6fe",
   "metadata": {
    "ExecuteTime": {
     "end_time": "2023-05-10T00:05:34.574919Z",
     "start_time": "2023-05-10T00:05:34.551704Z"
    }
   },
   "outputs": [
    {
     "data": {
      "text/plain": [
       "coralme.core.reaction.MEReaction"
      ]
     },
     "execution_count": 5,
     "metadata": {},
     "output_type": "execute_result"
    }
   ],
   "source": [
    "types = set()\n",
    "for rxn in me.reactions:\n",
    "    types.add(type(rxn))\n",
    "list(types)[0]"
   ]
  },
  {
   "cell_type": "code",
   "execution_count": 6,
   "id": "119aa895",
   "metadata": {
    "ExecuteTime": {
     "end_time": "2023-05-10T00:07:52.295371Z",
     "start_time": "2023-05-10T00:05:34.576383Z"
    }
   },
   "outputs": [],
   "source": [
    "import coralme, sympy\n",
    "\n",
    "directly_modeled = {}\n",
    "\n",
    "def get_reactions(met, rxn_type):\n",
    "    value = sympy.Float(0)\n",
    "    reactions = []\n",
    "    \n",
    "    for rxn in met.reactions:\n",
    "        if isinstance(rxn, (rxn_type)) and rxn.metabolites[met] < 0:\n",
    "            reactions.append(rxn.id)\n",
    "            value += rxn.metabolites[met] * fluxes[idx][rxn.id]\n",
    "    \n",
    "    return value, reactions\n",
    "\n",
    "for rxn_type in types:\n",
    "    directly_modeled[rxn_type] = {}\n",
    "    for met in ['atp_c', 'utp_c', 'gtp_c', 'ctp_c', 'datp_c', 'dttp_c', 'dgtp_c', 'dctp_c', ]:\n",
    "        directly_modeled[rxn_type][met] = []\n",
    "        for idx, mu in enumerate(mus):\n",
    "            value, reactions = get_reactions(me.metabolites.get_by_id(met), rxn_type)\n",
    "            directly_modeled[rxn_type][met].append(value.subs({me.mu : me.solution.objective_value}))"
   ]
  },
  {
   "cell_type": "code",
   "execution_count": 7,
   "id": "f73fdddd",
   "metadata": {
    "ExecuteTime": {
     "end_time": "2023-05-10T00:07:52.430527Z",
     "start_time": "2023-05-10T00:07:52.296525Z"
    }
   },
   "outputs": [
    {
     "data": {
      "text/html": [
       "<div>\n",
       "<style scoped>\n",
       "    .dataframe tbody tr th:only-of-type {\n",
       "        vertical-align: middle;\n",
       "    }\n",
       "\n",
       "    .dataframe tbody tr th {\n",
       "        vertical-align: top;\n",
       "    }\n",
       "\n",
       "    .dataframe thead th {\n",
       "        text-align: right;\n",
       "    }\n",
       "</style>\n",
       "<table border=\"1\" class=\"dataframe\">\n",
       "  <thead>\n",
       "    <tr style=\"text-align: right;\">\n",
       "      <th></th>\n",
       "      <th>&lt;class 'coralme.core.reaction.MEReaction'&gt;</th>\n",
       "      <th>&lt;class 'coralme.core.reaction.TranslationReaction'&gt;</th>\n",
       "      <th>&lt;class 'coralme.core.reaction.GenericFormationReaction'&gt;</th>\n",
       "      <th>&lt;class 'coralme.core.reaction.TranscriptionReaction'&gt;</th>\n",
       "      <th>&lt;class 'coralme.core.reaction.MetabolicReaction'&gt;</th>\n",
       "      <th>&lt;class 'coralme.core.reaction.PostTranslationReaction'&gt;</th>\n",
       "      <th>&lt;class 'coralme.core.reaction.SummaryVariable'&gt;</th>\n",
       "      <th>&lt;class 'coralme.core.reaction.ComplexFormation'&gt;</th>\n",
       "      <th>&lt;class 'coralme.core.reaction.tRNAChargingReaction'&gt;</th>\n",
       "    </tr>\n",
       "  </thead>\n",
       "  <tbody>\n",
       "    <tr>\n",
       "      <th>atp_c</th>\n",
       "      <td>[-2.05236438860880, -2.88474188300621, -3.7162...</td>\n",
       "      <td>[-0.0626885692494381, -0.125136671820950, -0.1...</td>\n",
       "      <td>[0.0, 0.0, 0.0, 0.0, 0.0, 0.0, 0.0, 0.0, 0.0, ...</td>\n",
       "      <td>[-0.0120709516585509, -0.0130614588336322, -0....</td>\n",
       "      <td>[-0.627702593009054, -1.04673416641762, -1.465...</td>\n",
       "      <td>[-9.42867101628377e-5, -0.000193643287376630, ...</td>\n",
       "      <td>[-1.34980000000000, -1.69960000000000, -2.0494...</td>\n",
       "      <td>[-7.84290488288856e-11, -3.13716330411604e-10,...</td>\n",
       "      <td>[-7.98790316326339e-6, -1.59423329184913e-5, -...</td>\n",
       "    </tr>\n",
       "    <tr>\n",
       "      <th>utp_c</th>\n",
       "      <td>[-0.0156139736126692, -0.0193747832808756, -0....</td>\n",
       "      <td>[0.0, 0.0, 0.0, 0.0, 0.0, 0.0, 0.0, 0.0, 0.0, ...</td>\n",
       "      <td>[0.0, 0.0, 0.0, 0.0, 0.0, 0.0, 0.0, 0.0, 0.0, ...</td>\n",
       "      <td>[-0.0123927075070588, -0.0134202706972654, -0....</td>\n",
       "      <td>[-0.00322126610561045, -0.00595451258361027, -...</td>\n",
       "      <td>[0.0, 0.0, 0.0, 0.0, 0.0, 0.0, 0.0, 0.0, 0.0, ...</td>\n",
       "      <td>[0.0, 0.0, 0.0, 0.0, 0.0, 0.0, 0.0, 0.0, 0.0, ...</td>\n",
       "      <td>[0.0, 0.0, 0.0, 0.0, 0.0, 0.0, 0.0, 0.0, 0.0, ...</td>\n",
       "      <td>[0.0, 0.0, 0.0, 0.0, 0.0, 0.0, 0.0, 0.0, 0.0, ...</td>\n",
       "    </tr>\n",
       "    <tr>\n",
       "      <th>gtp_c</th>\n",
       "      <td>[-0.143188558065882, -0.274295368770255, -0.40...</td>\n",
       "      <td>[-0.125016988299855, -0.249559939414288, -0.37...</td>\n",
       "      <td>[0.0, 0.0, 0.0, 0.0, 0.0, 0.0, 0.0, 0.0, 0.0, ...</td>\n",
       "      <td>[-0.0120650400897219, -0.0130158819337113, -0....</td>\n",
       "      <td>[-0.00606795405359563, -0.0116417848849170, -0...</td>\n",
       "      <td>[-3.65655632322998e-5, -7.36971512933073e-5, -...</td>\n",
       "      <td>[0.0, 0.0, 0.0, 0.0, 0.0, 0.0, 0.0, 0.0, 0.0, ...</td>\n",
       "      <td>[-1.07942555553537e-6, -2.20842592752339e-6, -...</td>\n",
       "      <td>[-9.30633921384334e-7, -1.85696011787654e-6, -...</td>\n",
       "    </tr>\n",
       "    <tr>\n",
       "      <th>ctp_c</th>\n",
       "      <td>[-0.0160403860797359, -0.0195542560749768, -0....</td>\n",
       "      <td>[0.0, 0.0, 0.0, 0.0, 0.0, 0.0, 0.0, 0.0, 0.0, ...</td>\n",
       "      <td>[0.0, 0.0, 0.0, 0.0, 0.0, 0.0, 0.0, 0.0, 0.0, ...</td>\n",
       "      <td>[-0.0137066218727079, -0.0148867085292398, -0....</td>\n",
       "      <td>[-0.00233376420702792, -0.00466754754573691, -...</td>\n",
       "      <td>[0.0, 0.0, 0.0, 0.0, 0.0, 0.0, 0.0, 0.0, 0.0, ...</td>\n",
       "      <td>[0.0, 0.0, 0.0, 0.0, 0.0, 0.0, 0.0, 0.0, 0.0, ...</td>\n",
       "      <td>[0.0, 0.0, 0.0, 0.0, 0.0, 0.0, 0.0, 0.0, 0.0, ...</td>\n",
       "      <td>[0.0, 0.0, 0.0, 0.0, 0.0, 0.0, 0.0, 0.0, 0.0, ...</td>\n",
       "    </tr>\n",
       "    <tr>\n",
       "      <th>datp_c</th>\n",
       "      <td>[-0.000474579008927195, -0.000949156872019905,...</td>\n",
       "      <td>[0.0, 0.0, 0.0, 0.0, 0.0, 0.0, 0.0, 0.0, 0.0, ...</td>\n",
       "      <td>[0.0, 0.0, 0.0, 0.0, 0.0, 0.0, 0.0, 0.0, 0.0, ...</td>\n",
       "      <td>[0.0, 0.0, 0.0, 0.0, 0.0, 0.0, 0.0, 0.0, 0.0, ...</td>\n",
       "      <td>[-4.65167969358941e-56, -6.40605739185398e-23,...</td>\n",
       "      <td>[0.0, 0.0, 0.0, 0.0, 0.0, 0.0, 0.0, 0.0, 0.0, ...</td>\n",
       "      <td>[-0.000474579008927195, -0.000949156872019905,...</td>\n",
       "      <td>[0.0, 0.0, 0.0, 0.0, 0.0, 0.0, 0.0, 0.0, 0.0, ...</td>\n",
       "      <td>[0.0, 0.0, 0.0, 0.0, 0.0, 0.0, 0.0, 0.0, 0.0, ...</td>\n",
       "    </tr>\n",
       "    <tr>\n",
       "      <th>dttp_c</th>\n",
       "      <td>[-0.000474579008927195, -0.000949156872019905,...</td>\n",
       "      <td>[0.0, 0.0, 0.0, 0.0, 0.0, 0.0, 0.0, 0.0, 0.0, ...</td>\n",
       "      <td>[0.0, 0.0, 0.0, 0.0, 0.0, 0.0, 0.0, 0.0, 0.0, ...</td>\n",
       "      <td>[0.0, 0.0, 0.0, 0.0, 0.0, 0.0, 0.0, 0.0, 0.0, ...</td>\n",
       "      <td>[-3.63263897807889e-50, -2.93781375554723e-20,...</td>\n",
       "      <td>[0.0, 0.0, 0.0, 0.0, 0.0, 0.0, 0.0, 0.0, 0.0, ...</td>\n",
       "      <td>[-0.000474579008927195, -0.000949156872019905,...</td>\n",
       "      <td>[0.0, 0.0, 0.0, 0.0, 0.0, 0.0, 0.0, 0.0, 0.0, ...</td>\n",
       "      <td>[0.0, 0.0, 0.0, 0.0, 0.0, 0.0, 0.0, 0.0, 0.0, ...</td>\n",
       "    </tr>\n",
       "    <tr>\n",
       "      <th>dgtp_c</th>\n",
       "      <td>[-0.000488492096290678, -0.000976983013154792,...</td>\n",
       "      <td>[0.0, 0.0, 0.0, 0.0, 0.0, 0.0, 0.0, 0.0, 0.0, ...</td>\n",
       "      <td>[0.0, 0.0, 0.0, 0.0, 0.0, 0.0, 0.0, 0.0, 0.0, ...</td>\n",
       "      <td>[0.0, 0.0, 0.0, 0.0, 0.0, 0.0, 0.0, 0.0, 0.0, ...</td>\n",
       "      <td>[1.16291992339735e-56, 0, 0, 0, 0, 0, 0, 0, 0,...</td>\n",
       "      <td>[0.0, 0.0, 0.0, 0.0, 0.0, 0.0, 0.0, 0.0, 0.0, ...</td>\n",
       "      <td>[-0.000488492096290678, -0.000976983013154792,...</td>\n",
       "      <td>[0.0, 0.0, 0.0, 0.0, 0.0, 0.0, 0.0, 0.0, 0.0, ...</td>\n",
       "      <td>[0.0, 0.0, 0.0, 0.0, 0.0, 0.0, 0.0, 0.0, 0.0, ...</td>\n",
       "    </tr>\n",
       "    <tr>\n",
       "      <th>dctp_c</th>\n",
       "      <td>[-0.000488492096290678, -0.000976983013154792,...</td>\n",
       "      <td>[0.0, 0.0, 0.0, 0.0, 0.0, 0.0, 0.0, 0.0, 0.0, ...</td>\n",
       "      <td>[0.0, 0.0, 0.0, 0.0, 0.0, 0.0, 0.0, 0.0, 0.0, ...</td>\n",
       "      <td>[0.0, 0.0, 0.0, 0.0, 0.0, 0.0, 0.0, 0.0, 0.0, ...</td>\n",
       "      <td>[0, -1.78491436509673e-22, -4.31628357467279e-...</td>\n",
       "      <td>[0.0, 0.0, 0.0, 0.0, 0.0, 0.0, 0.0, 0.0, 0.0, ...</td>\n",
       "      <td>[-0.000488492096290678, -0.000976983013154792,...</td>\n",
       "      <td>[0.0, 0.0, 0.0, 0.0, 0.0, 0.0, 0.0, 0.0, 0.0, ...</td>\n",
       "      <td>[0.0, 0.0, 0.0, 0.0, 0.0, 0.0, 0.0, 0.0, 0.0, ...</td>\n",
       "    </tr>\n",
       "  </tbody>\n",
       "</table>\n",
       "</div>"
      ],
      "text/plain": [
       "               <class 'coralme.core.reaction.MEReaction'>  \\\n",
       "atp_c   [-2.05236438860880, -2.88474188300621, -3.7162...   \n",
       "utp_c   [-0.0156139736126692, -0.0193747832808756, -0....   \n",
       "gtp_c   [-0.143188558065882, -0.274295368770255, -0.40...   \n",
       "ctp_c   [-0.0160403860797359, -0.0195542560749768, -0....   \n",
       "datp_c  [-0.000474579008927195, -0.000949156872019905,...   \n",
       "dttp_c  [-0.000474579008927195, -0.000949156872019905,...   \n",
       "dgtp_c  [-0.000488492096290678, -0.000976983013154792,...   \n",
       "dctp_c  [-0.000488492096290678, -0.000976983013154792,...   \n",
       "\n",
       "       <class 'coralme.core.reaction.TranslationReaction'>  \\\n",
       "atp_c   [-0.0626885692494381, -0.125136671820950, -0.1...    \n",
       "utp_c   [0.0, 0.0, 0.0, 0.0, 0.0, 0.0, 0.0, 0.0, 0.0, ...    \n",
       "gtp_c   [-0.125016988299855, -0.249559939414288, -0.37...    \n",
       "ctp_c   [0.0, 0.0, 0.0, 0.0, 0.0, 0.0, 0.0, 0.0, 0.0, ...    \n",
       "datp_c  [0.0, 0.0, 0.0, 0.0, 0.0, 0.0, 0.0, 0.0, 0.0, ...    \n",
       "dttp_c  [0.0, 0.0, 0.0, 0.0, 0.0, 0.0, 0.0, 0.0, 0.0, ...    \n",
       "dgtp_c  [0.0, 0.0, 0.0, 0.0, 0.0, 0.0, 0.0, 0.0, 0.0, ...    \n",
       "dctp_c  [0.0, 0.0, 0.0, 0.0, 0.0, 0.0, 0.0, 0.0, 0.0, ...    \n",
       "\n",
       "       <class 'coralme.core.reaction.GenericFormationReaction'>  \\\n",
       "atp_c   [0.0, 0.0, 0.0, 0.0, 0.0, 0.0, 0.0, 0.0, 0.0, ...         \n",
       "utp_c   [0.0, 0.0, 0.0, 0.0, 0.0, 0.0, 0.0, 0.0, 0.0, ...         \n",
       "gtp_c   [0.0, 0.0, 0.0, 0.0, 0.0, 0.0, 0.0, 0.0, 0.0, ...         \n",
       "ctp_c   [0.0, 0.0, 0.0, 0.0, 0.0, 0.0, 0.0, 0.0, 0.0, ...         \n",
       "datp_c  [0.0, 0.0, 0.0, 0.0, 0.0, 0.0, 0.0, 0.0, 0.0, ...         \n",
       "dttp_c  [0.0, 0.0, 0.0, 0.0, 0.0, 0.0, 0.0, 0.0, 0.0, ...         \n",
       "dgtp_c  [0.0, 0.0, 0.0, 0.0, 0.0, 0.0, 0.0, 0.0, 0.0, ...         \n",
       "dctp_c  [0.0, 0.0, 0.0, 0.0, 0.0, 0.0, 0.0, 0.0, 0.0, ...         \n",
       "\n",
       "       <class 'coralme.core.reaction.TranscriptionReaction'>  \\\n",
       "atp_c   [-0.0120709516585509, -0.0130614588336322, -0....      \n",
       "utp_c   [-0.0123927075070588, -0.0134202706972654, -0....      \n",
       "gtp_c   [-0.0120650400897219, -0.0130158819337113, -0....      \n",
       "ctp_c   [-0.0137066218727079, -0.0148867085292398, -0....      \n",
       "datp_c  [0.0, 0.0, 0.0, 0.0, 0.0, 0.0, 0.0, 0.0, 0.0, ...      \n",
       "dttp_c  [0.0, 0.0, 0.0, 0.0, 0.0, 0.0, 0.0, 0.0, 0.0, ...      \n",
       "dgtp_c  [0.0, 0.0, 0.0, 0.0, 0.0, 0.0, 0.0, 0.0, 0.0, ...      \n",
       "dctp_c  [0.0, 0.0, 0.0, 0.0, 0.0, 0.0, 0.0, 0.0, 0.0, ...      \n",
       "\n",
       "        <class 'coralme.core.reaction.MetabolicReaction'>  \\\n",
       "atp_c   [-0.627702593009054, -1.04673416641762, -1.465...   \n",
       "utp_c   [-0.00322126610561045, -0.00595451258361027, -...   \n",
       "gtp_c   [-0.00606795405359563, -0.0116417848849170, -0...   \n",
       "ctp_c   [-0.00233376420702792, -0.00466754754573691, -...   \n",
       "datp_c  [-4.65167969358941e-56, -6.40605739185398e-23,...   \n",
       "dttp_c  [-3.63263897807889e-50, -2.93781375554723e-20,...   \n",
       "dgtp_c  [1.16291992339735e-56, 0, 0, 0, 0, 0, 0, 0, 0,...   \n",
       "dctp_c  [0, -1.78491436509673e-22, -4.31628357467279e-...   \n",
       "\n",
       "       <class 'coralme.core.reaction.PostTranslationReaction'>  \\\n",
       "atp_c   [-9.42867101628377e-5, -0.000193643287376630, ...        \n",
       "utp_c   [0.0, 0.0, 0.0, 0.0, 0.0, 0.0, 0.0, 0.0, 0.0, ...        \n",
       "gtp_c   [-3.65655632322998e-5, -7.36971512933073e-5, -...        \n",
       "ctp_c   [0.0, 0.0, 0.0, 0.0, 0.0, 0.0, 0.0, 0.0, 0.0, ...        \n",
       "datp_c  [0.0, 0.0, 0.0, 0.0, 0.0, 0.0, 0.0, 0.0, 0.0, ...        \n",
       "dttp_c  [0.0, 0.0, 0.0, 0.0, 0.0, 0.0, 0.0, 0.0, 0.0, ...        \n",
       "dgtp_c  [0.0, 0.0, 0.0, 0.0, 0.0, 0.0, 0.0, 0.0, 0.0, ...        \n",
       "dctp_c  [0.0, 0.0, 0.0, 0.0, 0.0, 0.0, 0.0, 0.0, 0.0, ...        \n",
       "\n",
       "          <class 'coralme.core.reaction.SummaryVariable'>  \\\n",
       "atp_c   [-1.34980000000000, -1.69960000000000, -2.0494...   \n",
       "utp_c   [0.0, 0.0, 0.0, 0.0, 0.0, 0.0, 0.0, 0.0, 0.0, ...   \n",
       "gtp_c   [0.0, 0.0, 0.0, 0.0, 0.0, 0.0, 0.0, 0.0, 0.0, ...   \n",
       "ctp_c   [0.0, 0.0, 0.0, 0.0, 0.0, 0.0, 0.0, 0.0, 0.0, ...   \n",
       "datp_c  [-0.000474579008927195, -0.000949156872019905,...   \n",
       "dttp_c  [-0.000474579008927195, -0.000949156872019905,...   \n",
       "dgtp_c  [-0.000488492096290678, -0.000976983013154792,...   \n",
       "dctp_c  [-0.000488492096290678, -0.000976983013154792,...   \n",
       "\n",
       "         <class 'coralme.core.reaction.ComplexFormation'>  \\\n",
       "atp_c   [-7.84290488288856e-11, -3.13716330411604e-10,...   \n",
       "utp_c   [0.0, 0.0, 0.0, 0.0, 0.0, 0.0, 0.0, 0.0, 0.0, ...   \n",
       "gtp_c   [-1.07942555553537e-6, -2.20842592752339e-6, -...   \n",
       "ctp_c   [0.0, 0.0, 0.0, 0.0, 0.0, 0.0, 0.0, 0.0, 0.0, ...   \n",
       "datp_c  [0.0, 0.0, 0.0, 0.0, 0.0, 0.0, 0.0, 0.0, 0.0, ...   \n",
       "dttp_c  [0.0, 0.0, 0.0, 0.0, 0.0, 0.0, 0.0, 0.0, 0.0, ...   \n",
       "dgtp_c  [0.0, 0.0, 0.0, 0.0, 0.0, 0.0, 0.0, 0.0, 0.0, ...   \n",
       "dctp_c  [0.0, 0.0, 0.0, 0.0, 0.0, 0.0, 0.0, 0.0, 0.0, ...   \n",
       "\n",
       "       <class 'coralme.core.reaction.tRNAChargingReaction'>  \n",
       "atp_c   [-7.98790316326339e-6, -1.59423329184913e-5, -...    \n",
       "utp_c   [0.0, 0.0, 0.0, 0.0, 0.0, 0.0, 0.0, 0.0, 0.0, ...    \n",
       "gtp_c   [-9.30633921384334e-7, -1.85696011787654e-6, -...    \n",
       "ctp_c   [0.0, 0.0, 0.0, 0.0, 0.0, 0.0, 0.0, 0.0, 0.0, ...    \n",
       "datp_c  [0.0, 0.0, 0.0, 0.0, 0.0, 0.0, 0.0, 0.0, 0.0, ...    \n",
       "dttp_c  [0.0, 0.0, 0.0, 0.0, 0.0, 0.0, 0.0, 0.0, 0.0, ...    \n",
       "dgtp_c  [0.0, 0.0, 0.0, 0.0, 0.0, 0.0, 0.0, 0.0, 0.0, ...    \n",
       "dctp_c  [0.0, 0.0, 0.0, 0.0, 0.0, 0.0, 0.0, 0.0, 0.0, ...    "
      ]
     },
     "execution_count": 7,
     "metadata": {},
     "output_type": "execute_result"
    }
   ],
   "source": [
    "df_directly_modeled = pandas.DataFrame.from_dict(directly_modeled)\n",
    "df_directly_modeled"
   ]
  },
  {
   "cell_type": "code",
   "execution_count": 15,
   "id": "dafee474",
   "metadata": {
    "ExecuteTime": {
     "end_time": "2023-05-10T00:11:36.581100Z",
     "start_time": "2023-05-10T00:11:36.515616Z"
    }
   },
   "outputs": [
    {
     "data": {
      "text/html": [
       "<div>\n",
       "<style scoped>\n",
       "    .dataframe tbody tr th:only-of-type {\n",
       "        vertical-align: middle;\n",
       "    }\n",
       "\n",
       "    .dataframe tbody tr th {\n",
       "        vertical-align: top;\n",
       "    }\n",
       "\n",
       "    .dataframe thead th {\n",
       "        text-align: right;\n",
       "    }\n",
       "</style>\n",
       "<table border=\"1\" class=\"dataframe\">\n",
       "  <thead>\n",
       "    <tr style=\"text-align: right;\">\n",
       "      <th></th>\n",
       "      <th>Translation</th>\n",
       "      <th>Transcription</th>\n",
       "      <th>PostTranslation</th>\n",
       "      <th>Summary Variables</th>\n",
       "      <th>Complex Formation</th>\n",
       "      <th>tRNA Charging</th>\n",
       "    </tr>\n",
       "  </thead>\n",
       "  <tbody>\n",
       "    <tr>\n",
       "      <th>atp_c</th>\n",
       "      <td>5.663769</td>\n",
       "      <td>0.214607</td>\n",
       "      <td>0.030283</td>\n",
       "      <td>34.980000</td>\n",
       "      <td>6.274515e-07</td>\n",
       "      <td>0.000698</td>\n",
       "    </tr>\n",
       "    <tr>\n",
       "      <th>utp_c</th>\n",
       "      <td>0.000000</td>\n",
       "      <td>0.224638</td>\n",
       "      <td>0.000000</td>\n",
       "      <td>0.000000</td>\n",
       "      <td>0.000000e+00</td>\n",
       "      <td>0.000000</td>\n",
       "    </tr>\n",
       "    <tr>\n",
       "      <th>gtp_c</th>\n",
       "      <td>11.289428</td>\n",
       "      <td>0.204677</td>\n",
       "      <td>0.006230</td>\n",
       "      <td>0.000000</td>\n",
       "      <td>2.912385e-04</td>\n",
       "      <td>0.000089</td>\n",
       "    </tr>\n",
       "    <tr>\n",
       "      <th>ctp_c</th>\n",
       "      <td>0.000000</td>\n",
       "      <td>0.260285</td>\n",
       "      <td>0.000000</td>\n",
       "      <td>0.000000</td>\n",
       "      <td>0.000000e+00</td>\n",
       "      <td>0.000000</td>\n",
       "    </tr>\n",
       "    <tr>\n",
       "      <th>datp_c</th>\n",
       "      <td>0.000000</td>\n",
       "      <td>0.000000</td>\n",
       "      <td>0.000000</td>\n",
       "      <td>0.023095</td>\n",
       "      <td>0.000000e+00</td>\n",
       "      <td>0.000000</td>\n",
       "    </tr>\n",
       "    <tr>\n",
       "      <th>dttp_c</th>\n",
       "      <td>0.000000</td>\n",
       "      <td>0.000000</td>\n",
       "      <td>0.000000</td>\n",
       "      <td>0.023095</td>\n",
       "      <td>0.000000e+00</td>\n",
       "      <td>0.000000</td>\n",
       "    </tr>\n",
       "    <tr>\n",
       "      <th>dgtp_c</th>\n",
       "      <td>0.000000</td>\n",
       "      <td>0.000000</td>\n",
       "      <td>0.000000</td>\n",
       "      <td>0.023772</td>\n",
       "      <td>0.000000e+00</td>\n",
       "      <td>0.000000</td>\n",
       "    </tr>\n",
       "    <tr>\n",
       "      <th>dctp_c</th>\n",
       "      <td>0.000000</td>\n",
       "      <td>0.000000</td>\n",
       "      <td>0.000000</td>\n",
       "      <td>0.023772</td>\n",
       "      <td>0.000000e+00</td>\n",
       "      <td>0.000000</td>\n",
       "    </tr>\n",
       "  </tbody>\n",
       "</table>\n",
       "</div>"
      ],
      "text/plain": [
       "        Translation  Transcription  PostTranslation  Summary Variables  \\\n",
       "atp_c      5.663769       0.214607         0.030283          34.980000   \n",
       "utp_c      0.000000       0.224638         0.000000           0.000000   \n",
       "gtp_c     11.289428       0.204677         0.006230           0.000000   \n",
       "ctp_c      0.000000       0.260285         0.000000           0.000000   \n",
       "datp_c     0.000000       0.000000         0.000000           0.023095   \n",
       "dttp_c     0.000000       0.000000         0.000000           0.023095   \n",
       "dgtp_c     0.000000       0.000000         0.000000           0.023772   \n",
       "dctp_c     0.000000       0.000000         0.000000           0.023772   \n",
       "\n",
       "        Complex Formation  tRNA Charging  \n",
       "atp_c        6.274515e-07       0.000698  \n",
       "utp_c        0.000000e+00       0.000000  \n",
       "gtp_c        2.912385e-04       0.000089  \n",
       "ctp_c        0.000000e+00       0.000000  \n",
       "datp_c       0.000000e+00       0.000000  \n",
       "dttp_c       0.000000e+00       0.000000  \n",
       "dgtp_c       0.000000e+00       0.000000  \n",
       "dctp_c       0.000000e+00       0.000000  "
      ]
     },
     "execution_count": 15,
     "metadata": {},
     "output_type": "execute_result"
    }
   ],
   "source": [
    "from scipy.stats import linregress\n",
    "# print('atp', slope, intercept, r_value**2, p_value, std_err)\n",
    "slopes = df_directly_modeled.applymap(lambda x: linregress(mus, [ -1. * float(x) for x in x])[0])\n",
    "slopes = slopes.loc[:, ~slopes.columns.isin(\n",
    "    [coralme.core.reaction.MEReaction, \n",
    "     coralme.core.reaction.MetabolicReaction,\n",
    "    coralme.core.reaction.GenericFormationReaction])]\n",
    "slopes.columns = ['Translation', 'Transcription', 'PostTranslation', 'Summary Variables', 'Complex Formation', 'tRNA Charging', ]\n",
    "slopes"
   ]
  },
  {
   "cell_type": "code",
   "execution_count": 16,
   "id": "8684a717",
   "metadata": {
    "ExecuteTime": {
     "end_time": "2023-05-10T00:11:39.030757Z",
     "start_time": "2023-05-10T00:11:38.736512Z"
    }
   },
   "outputs": [
    {
     "data": {
      "text/plain": [
       "<AxesSubplot:>"
      ]
     },
     "execution_count": 16,
     "metadata": {},
     "output_type": "execute_result"
    },
    {
     "data": {
      "image/png": "[encoded data removed]",
      "text/plain": [
       "<Figure size 640x480 with 2 Axes>"
      ]
     },
     "metadata": {},
     "output_type": "display_data"
    }
   ],
   "source": [
    "seaborn.heatmap(slopes.T, annot = True, cmap = 'Blues', vmax = 35.)"
   ]
  },
  {
   "cell_type": "code",
   "execution_count": 24,
   "id": "0a45d12e",
   "metadata": {
    "ExecuteTime": {
     "end_time": "2023-05-10T00:13:42.049926Z",
     "start_time": "2023-05-10T00:13:42.032670Z"
    }
   },
   "outputs": [
    {
     "data": {
      "text/plain": [
       "17.205396669949394"
      ]
     },
     "execution_count": 24,
     "metadata": {},
     "output_type": "execute_result"
    }
   ],
   "source": [
    "slopes.T[['atp_c', 'gtp_c']].sum().sum() - slopes.T['gtp_c']['Transcription'] - slopes.T['atp_c']['Summary Variables']"
   ]
  },
  {
   "cell_type": "code",
   "execution_count": 11,
   "id": "3ee275e6",
   "metadata": {
    "ExecuteTime": {
     "end_time": "2023-05-10T00:07:54.637486Z",
     "start_time": "2023-05-10T00:07:52.875607Z"
    }
   },
   "outputs": [
    {
     "data": {
      "text/plain": [
       "{'atp_c': -59.984,\n",
       " 'utp_c': -0.1441,\n",
       " 'gtp_c': -0.2151,\n",
       " 'ctp_c': -0.1335,\n",
       " 'datp_c': -0.02617,\n",
       " 'dttp_c': -0.02617,\n",
       " 'dgtp_c': -0.02702,\n",
       " 'dctp_c': -0.02702,\n",
       " 'ppi_c': 0.7739,\n",
       " 'pi_c': 59.806,\n",
       " 'adp_c': 59.81,\n",
       " 'h2o_c': -54.462}"
      ]
     },
     "execution_count": 11,
     "metadata": {},
     "output_type": "execute_result"
    }
   ],
   "source": [
    "import cobra\n",
    "model = cobra.io.load_json_model('inputs/iAF1260.json')\n",
    "mets = ['atp_c', 'utp_c', 'gtp_c', 'ctp_c', 'datp_c', 'dttp_c', 'dgtp_c', 'dctp_c', 'ppi_c', 'pi_c', 'adp_c', 'h2o_c']\n",
    "dct = { k.id:v for k,v in model.reactions.query('BIOM')[0].metabolites.items() if k.id in mets }\n",
    "dct = { k:dct[k] for k in mets}\n",
    "dct"
   ]
  },
  {
   "cell_type": "code",
   "execution_count": 12,
   "id": "38f3b1f7",
   "metadata": {
    "ExecuteTime": {
     "end_time": "2023-05-10T00:07:54.655141Z",
     "start_time": "2023-05-10T00:07:54.638666Z"
    }
   },
   "outputs": [
    {
     "data": {
      "text/plain": [
       "0.7730799999999995"
      ]
     },
     "execution_count": 12,
     "metadata": {},
     "output_type": "execute_result"
    }
   ],
   "source": [
    "abs(59.81-59.984)+0.1441+0.2151+0.1335+0.02617+0.02617+0.02702+0.02702"
   ]
  }
 ],
 "metadata": {
  "kernelspec": {
   "display_name": "VENV :: py3.10 :: COBRAME-DEV",
   "language": "python",
   "name": "venv-p310-cobrame-dev"
  },
  "language_info": {
   "codemirror_mode": {
    "name": "ipython",
    "version": 3
   },
   "file_extension": ".py",
   "mimetype": "text/x-python",
   "name": "python",
   "nbconvert_exporter": "python",
   "pygments_lexer": "ipython3",
   "version": "3.10.6"
  }
 },
 "nbformat": 4,
 "nbformat_minor": 5
}
