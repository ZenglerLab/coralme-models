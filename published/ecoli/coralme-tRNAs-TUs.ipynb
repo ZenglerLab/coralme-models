{
 "cells": [
  {
   "cell_type": "code",
   "execution_count": 1,
   "metadata": {
    "ExecuteTime": {
     "end_time": "2023-05-09T23:18:26.965994Z",
     "start_time": "2023-05-09T23:18:26.075777Z"
    },
    "tags": []
   },
   "outputs": [],
   "source": [
    "import glob\n",
    "import numpy\n",
    "import pandas\n",
    "import seaborn\n",
    "import matplotlib.pyplot as plt\n",
    "from tqdm import tqdm"
   ]
  },
  {
   "cell_type": "code",
   "execution_count": 2,
   "metadata": {
    "ExecuteTime": {
     "end_time": "2023-05-09T23:18:26.983788Z",
     "start_time": "2023-05-09T23:18:26.967690Z"
    },
    "tags": []
   },
   "outputs": [
    {
     "data": {
      "text/html": [
       "<style>.container { width:95% !important; }</style>"
      ],
      "text/plain": [
       "<IPython.core.display.HTML object>"
      ]
     },
     "metadata": {},
     "output_type": "display_data"
    }
   ],
   "source": [
    "from IPython.display import display, HTML, Math, Markdown\n",
    "display(HTML(\"<style>.container { width:95% !important; }</style>\"))\n",
    "\n",
    "%load_ext autoreload\n",
    "%autoreload 2"
   ]
  },
  {
   "cell_type": "code",
   "execution_count": 3,
   "metadata": {
    "ExecuteTime": {
     "end_time": "2023-05-09T23:23:19.463153Z",
     "start_time": "2023-05-09T23:18:26.986500Z"
    },
    "scrolled": true,
    "tags": []
   },
   "outputs": [
    {
     "name": "stderr",
     "output_type": "stream",
     "text": [
      "/home/jt/UCSD/coralme/coralme/builder/main.py:30: UserWarning: This pandas version does not allow for correct warning handling. Pandas >=1.5.1 is suggested.\n",
      "  warnings.warn(\"This pandas version does not allow for correct warning handling. Pandas >=1.5.1 is suggested.\")\n",
      "/home/jt/UCSD/coralme/coralme/builder/preprocess_inputs.py:15: UserWarning: This pandas version does not allow for correct warning handling. Pandas >=1.5.1 is suggested.\n",
      "  warnings.warn(\"This pandas version does not allow for correct warning handling. Pandas >=1.5.1 is suggested.\")\n"
     ]
    },
    {
     "name": "stdout",
     "output_type": "stream",
     "text": [
      "Set parameter Username\n",
      "Academic license - for non-commercial use only - expires 2024-01-12\n",
      "Initiating ME-model reconstruction...\n"
     ]
    },
    {
     "name": "stderr",
     "output_type": "stream",
     "text": [
      "Adding biomass constraint(s) into the ME-model...                          : 100.0%|████████████████████████████████████████|    11/   11 [00:00<00:00]\n"
     ]
    },
    {
     "name": "stdout",
     "output_type": "stream",
     "text": [
      "Read LP format model from file /tmp/tmptirj5bq1.lp\n",
      "Reading time = 0.02 seconds\n",
      ": 1660 rows, 4754 columns, 17902 nonzeros\n"
     ]
    },
    {
     "name": "stderr",
     "output_type": "stream",
     "text": [
      "Adding Metabolites from M-model into the ME-model...                       : 100.0%|████████████████████████████████████████|  1810/ 1810 [00:00<00:00]\n",
      "Adding Reactions from M-model into the ME-model...                         : 100.0%|████████████████████████████████████████|  2610/ 2610 [00:00<00:00]\n",
      "Adding Transcriptional Units into the ME-model...                          : 100.0%|████████████████████████████████████████|  3415/ 3415 [01:49<00:00]\n",
      "Adding features from contig NC_000913.2 into the ME-model...               : 100.0%|████████████████████████████████████████|  4317/ 4317 [00:53<00:00]\n",
      "Adding features from contig b0235 into the ME-model...                     : 100.0%|████████████████████████████████████████|     2/    2 [00:00<00:00]\n",
      "Adding features from contig b4644 into the ME-model...                     : 100.0%|████████████████████████████████████████|     2/    2 [00:00<00:00]\n",
      "Adding features from contig b0691 into the ME-model...                     : 100.0%|████████████████████████████████████████|     2/    2 [00:00<00:00]\n",
      "Adding features from contig b2862 into the ME-model...                     : 100.0%|████████████████████████████████████████|     2/    2 [00:00<00:00]\n",
      "Adding features from contig b1362 into the ME-model...                     : 100.0%|████████████████████████████████████████|     2/    2 [00:00<00:00]\n",
      "Adding features from contig b0218 into the ME-model...                     : 100.0%|████████████████████████████████████████|     2/    2 [00:00<00:00]\n",
      "Adding features from contig b4810 into the ME-model...                     : 100.0%|████████████████████████████████████████|     2/    2 [00:00<00:00]\n",
      "Adding features from contig b4807 into the ME-model...                     : 100.0%|████████████████████████████████████████|     2/    2 [00:00<00:00]\n",
      "Adding features from contig b4808 into the ME-model...                     : 100.0%|████████████████████████████████████████|     2/    2 [00:00<00:00]\n",
      "Adding features from contig b4809 into the ME-model...                     : 100.0%|████████████████████████████████████████|     2/    2 [00:00<00:00]\n",
      "Adding features from contig b4764 into the ME-model...                     : 100.0%|████████████████████████████████████████|     2/    2 [00:00<00:00]\n",
      "Adding features from contig G0-10537 into the ME-model...                  : 100.0%|████████████████████████████████████████|     2/    2 [00:00<00:00]\n",
      "Adding features from contig G0-10531 into the ME-model...                  : 100.0%|████████████████████████████████████████|     2/    2 [00:00<00:00]\n",
      "Adding features from contig b4710 into the ME-model...                     : 100.0%|████████████████████████████████████████|     2/    2 [00:00<00:00]\n",
      "Adding features from contig G0-10528 into the ME-model...                  : 100.0%|████████████████████████████████████████|     2/    2 [00:00<00:00]\n",
      "Adding features from contig G0-10544 into the ME-model...                  : 100.0%|████████████████████████████████████████|     2/    2 [00:00<00:00]\n",
      "Adding features from contig G0-10541 into the ME-model...                  : 100.0%|████████████████████████████████████████|     2/    2 [00:00<00:00]\n",
      "Adding features from contig G0-10538 into the ME-model...                  : 100.0%|████████████████████████████████████████|     2/    2 [00:00<00:00]\n",
      "Adding features from contig G0-10535 into the ME-model...                  : 100.0%|████████████████████████████████████████|     2/    2 [00:00<00:00]\n",
      "Adding features from contig b4709 into the ME-model...                     : 100.0%|████████████████████████████████████████|     2/    2 [00:00<00:00]\n",
      "Adding features from contig G0-10529 into the ME-model...                  : 100.0%|████████████████████████████████████████|     2/    2 [00:00<00:00]\n",
      "Adding features from contig G0-10545 into the ME-model...                  : 100.0%|████████████████████████████████████████|     2/    2 [00:00<00:00]\n",
      "Adding features from contig G0-10542 into the ME-model...                  : 100.0%|████████████████████████████████████████|     2/    2 [00:00<00:00]\n",
      "Adding features from contig G0-10539 into the ME-model...                  : 100.0%|████████████████████████████████████████|     2/    2 [00:00<00:00]\n",
      "Adding features from contig G0-10536 into the ME-model...                  : 100.0%|████████████████████████████████████████|     2/    2 [00:00<00:00]\n",
      "Adding features from contig b4711 into the ME-model...                     : 100.0%|████████████████████████████████████████|     2/    2 [00:00<00:00]\n",
      "Adding features from contig G0-10530 into the ME-model...                  : 100.0%|████████████████████████████████████████|     2/    2 [00:00<00:00]\n",
      "Adding features from contig G0-10546 into the ME-model...                  : 100.0%|████████████████████████████████████████|     2/    2 [00:00<00:00]\n",
      "Adding features from contig G0-10525 into the ME-model...                  : 100.0%|████████████████████████████████████████|     2/    2 [00:00<00:00]\n",
      "Adding features from contig G0-10543 into the ME-model...                  : 100.0%|████████████████████████████████████████|     2/    2 [00:00<00:00]\n",
      "Adding features from contig G0-10540 into the ME-model...                  : 100.0%|████████████████████████████████████████|     2/    2 [00:00<00:00]\n",
      "Adding features from contig b1370 into the ME-model...                     : 100.0%|████████████████████████████████████████|     2/    2 [00:00<00:00]\n",
      "Adding features from contig b1151 into the ME-model...                     : 100.0%|████████████████████████████████████████|     2/    2 [00:00<00:00]\n",
      "Adding features from contig b0266 into the ME-model...                     : 100.0%|████████████████████████████████████████|     2/    2 [00:00<00:00]\n",
      "Adding features from contig b1142 into the ME-model...                     : 100.0%|████████████████████████████████████████|     2/    2 [00:00<00:00]\n",
      "Adding features from contig b2638 into the ME-model...                     : 100.0%|████████████████████████████████████████|     2/    2 [00:00<00:00]\n",
      "Adding features from contig b0258 into the ME-model...                     : 100.0%|████████████████████████████████████████|     2/    2 [00:00<00:00]\n",
      "Adding features from contig b0561 into the ME-model...                     : 100.0%|████████████████████████████████████████|     2/    2 [00:00<00:00]\n",
      "Adding features from contig b1366 into the ME-model...                     : 100.0%|████████████████████████████████████████|     2/    2 [00:00<00:00]\n",
      "Adding features from contig b1149 into the ME-model...                     : 100.0%|████████████████████████████████████████|     2/    2 [00:00<00:00]\n",
      "Adding features from contig b1548 into the ME-model...                     : 100.0%|████████████████████████████████████████|     2/    2 [00:00<00:00]\n",
      "Adding features from contig b2358 into the ME-model...                     : 100.0%|████████████████████████████████████████|     2/    2 [00:00<00:00]\n",
      "Adding features from contig b1567 into the ME-model...                     : 100.0%|████████████████████████████████████████|     2/    2 [00:00<00:00]\n",
      "Adding features from contig b0563 into the ME-model...                     : 100.0%|████████████████████████████████████████|     2/    2 [00:00<00:00]\n",
      "Adding features from contig b2006 into the ME-model...                     : 100.0%|████████████████████████████████████████|     2/    2 [00:00<00:00]\n",
      "Adding features from contig b1368 into the ME-model...                     : 100.0%|████████████████████████████████████████|     2/    2 [00:00<00:00]\n",
      "Adding features from contig b1361 into the ME-model...                     : 100.0%|████████████████████████████████████████|     2/    2 [00:00<00:00]\n",
      "Adding features from contig b0276 into the ME-model...                     : 100.0%|████████████████████████████████████████|     2/    2 [00:00<00:00]\n",
      "Adding features from contig b2356 into the ME-model...                     : 100.0%|████████████████████████████████████████|     2/    2 [00:00<00:00]\n",
      "Adding features from contig b1568 into the ME-model...                     : 100.0%|████████████████████████████████████████|     2/    2 [00:00<00:00]\n",
      "Adding features from contig b4584 into the ME-model...                     : 100.0%|████████████████████████████████████████|     2/    2 [00:00<00:00]\n",
      "Adding features from contig b4496 into the ME-model...                     : 100.0%|████████████████████████████████████████|     2/    2 [00:00<00:00]\n",
      "Adding features from contig b4575 into the ME-model...                     : 100.0%|████████████████████████████████████████|     2/    2 [00:00<00:00]\n",
      "Adding features from contig b3534 into the ME-model...                     : 100.0%|████████████████████████████████████████|     2/    2 [00:00<00:00]\n",
      "Adding features from contig b4658 into the ME-model...                     : 100.0%|████████████████████████████████████████|     2/    2 [00:00<00:00]\n",
      "Adding features from contig b4490 into the ME-model...                     : 100.0%|████████████████████████████████████████|     2/    2 [00:00<00:00]\n",
      "Adding features from contig b2850 into the ME-model...                     : 100.0%|████████████████████████████████████████|     2/    2 [00:00<00:00]\n",
      "Adding features from contig b4038 into the ME-model...                     : 100.0%|████████████████████████████████████████|     2/    2 [00:00<00:00]\n",
      "Adding features from contig b3782 into the ME-model...                     : 100.0%|████████████████████████████████████████|     2/    2 [00:00<00:00]\n",
      "Adding features from contig b4661 into the ME-model...                     : 100.0%|████████████████████████████████████████|     2/    2 [00:00<00:00]\n",
      "Adding features from contig b4493 into the ME-model...                     : 100.0%|████████████████████████████████████████|     2/    2 [00:00<00:00]\n",
      "Adding features from contig b4497 into the ME-model...                     : 100.0%|████████████████████████████████████████|     2/    2 [00:00<00:00]\n",
      "Adding features from contig b4521 into the ME-model...                     : 100.0%|████████████████████████████████████████|     2/    2 [00:00<00:00]\n",
      "Adding features from contig b4494 into the ME-model...                     : 100.0%|████████████████████████████████████████|     2/    2 [00:00<00:00]\n",
      "Adding features from contig b4491 into the ME-model...                     : 100.0%|████████████████████████████████████████|     2/    2 [00:00<00:00]\n",
      "Adding features from contig b4660 into the ME-model...                     : 100.0%|████████████████████████████████████████|     2/    2 [00:00<00:00]\n",
      "Adding features from contig b2856 into the ME-model...                     : 100.0%|████████████████████████████████████████|     2/    2 [00:00<00:00]\n",
      "Adding features from contig b4462 into the ME-model...                     : 100.0%|████████████████████████████████████████|     2/    2 [00:00<00:00]\n",
      "Adding features from contig b4286 into the ME-model...                     : 100.0%|████████████████████████████████████████|     2/    2 [00:00<00:00]\n",
      "Adding features from contig b4495 into the ME-model...                     : 100.0%|████████████████████████████████████████|     2/    2 [00:00<00:00]\n",
      "Adding features from contig b2859 into the ME-model...                     : 100.0%|████████████████████████████████████████|     2/    2 [00:00<00:00]\n",
      "Adding features from contig b0562 into the ME-model...                     : 100.0%|████████████████████████████████████████|     2/    2 [00:00<00:00]\n",
      "Adding features from contig b2681 into the ME-model...                     : 100.0%|████████████████████████████████████████|     2/    2 [00:00<00:00]\n",
      "Adding features from contig b4696 into the ME-model...                     : 100.0%|████████████████████████████████████████|     2/    2 [00:00<00:00]\n",
      "Adding features from contig b4488 into the ME-model...                     : 100.0%|████████████████████████████████████████|     2/    2 [00:00<00:00]\n",
      "Adding features from contig b4500 into the ME-model...                     : 100.0%|████████████████████████████████████████|     2/    2 [00:00<00:00]\n",
      "Adding features from contig b4610 into the ME-model...                     : 100.0%|████████████████████████████████████████|     2/    2 [00:00<00:00]\n",
      "Adding features from contig b4545 into the ME-model...                     : 100.0%|████████████████████████████████████████|     2/    2 [00:00<00:00]\n",
      "Adding features from contig b2863 into the ME-model...                     : 100.0%|████████████████████████████████████████|     2/    2 [00:00<00:00]\n",
      "Adding features from contig b1471 into the ME-model...                     : 100.0%|████████████████████████████████████████|     2/    2 [00:00<00:00]\n",
      "Adding features from contig b4795 into the ME-model...                     : 100.0%|████████████████████████████████████████|     2/    2 [00:00<00:00]\n",
      "Adding features from contig b4777 into the ME-model...                     : 100.0%|████████████████████████████████████████|     2/    2 [00:00<00:00]\n",
      "Adding features from contig b4753 into the ME-model...                     : 100.0%|████████████████████████████████████████|     2/    2 [00:00<00:00]\n",
      "Adding features from contig b4738 into the ME-model...                     : 100.0%|████████████████████████████████████████|     2/    2 [00:00<00:00]\n",
      "Adding features from contig b4525 into the ME-model...                     : 100.0%|████████████████████████████████████████|     2/    2 [00:00<00:00]\n",
      "Adding features from contig b4791 into the ME-model...                     : 100.0%|████████████████████████████████████████|     2/    2 [00:00<00:00]\n",
      "Adding features from contig b4774 into the ME-model...                     : 100.0%|████████████████████████████████████████|     2/    2 [00:00<00:00]\n",
      "Adding features from contig b4749 into the ME-model...                     : 100.0%|████████████████████████████████████████|     2/    2 [00:00<00:00]\n",
      "Adding features from contig b4735 into the ME-model...                     : 100.0%|████████████████████████████████████████|     2/    2 [00:00<00:00]\n",
      "Adding features from contig b2969 into the ME-model...                     : 100.0%|████████████████████████████████████████|     2/    2 [00:00<00:00]\n",
      "Adding features from contig b4743 into the ME-model...                     : 100.0%|████████████████████████████████████████|     2/    2 [00:00<00:00]\n",
      "Adding features from contig b4788 into the ME-model...                     : 100.0%|████████████████████████████████████████|     2/    2 [00:00<00:00]\n",
      "Adding features from contig b4771 into the ME-model...                     : 100.0%|████████████████████████████████████████|     2/    2 [00:00<00:00]\n",
      "Adding features from contig b4746 into the ME-model...                     : 100.0%|████████████████████████████████████████|     2/    2 [00:00<00:00]\n",
      "Adding features from contig b4732 into the ME-model...                     : 100.0%|████████████████████████████████████████|     2/    2 [00:00<00:00]\n",
      "Adding features from contig b3808 into the ME-model...                     : 100.0%|████████████████████████████████████████|     2/    2 [00:00<00:00]\n",
      "Adding features from contig b0322 into the ME-model...                     : 100.0%|████████████████████████████████████████|     2/    2 [00:00<00:00]\n",
      "Adding features from contig b0012 into the ME-model...                     : 100.0%|████████████████████████████████████████|     2/    2 [00:00<00:00]\n",
      "Adding features from contig b0502 into the ME-model...                     : 100.0%|████████████████████████████████████████|     2/    2 [00:00<00:00]\n",
      "Adding features from contig b4802 into the ME-model...                     : 100.0%|████████████████████████████████████████|     2/    2 [00:00<00:00]\n",
      "Adding features from contig b4785 into the ME-model...                     : 100.0%|████████████████████████████████████████|     2/    2 [00:00<00:00]\n",
      "Adding features from contig b4768 into the ME-model...                     : 100.0%|████████████████████████████████████████|     2/    2 [00:00<00:00]\n",
      "Adding features from contig b4742 into the ME-model...                     : 100.0%|████████████████████████████████████████|     2/    2 [00:00<00:00]\n",
      "Adding features from contig b4729 into the ME-model...                     : 100.0%|████████████████████████████████████████|     2/    2 [00:00<00:00]\n",
      "Adding features from contig b3427 into the ME-model...                     : 100.0%|████████████████████████████████████████|     2/    2 [00:00<00:00]\n",
      "Adding features from contig b0057 into the ME-model...                     : 100.0%|████████████████████████████████████████|     2/    2 [00:00<00:00]\n",
      "Adding features from contig b0282 into the ME-model...                     : 100.0%|████████████████████████████████████████|     2/    2 [00:00<00:00]\n",
      "Adding features from contig b4799 into the ME-model...                     : 100.0%|████████████████████████████████████████|     2/    2 [00:00<00:00]\n",
      "Adding features from contig b4782 into the ME-model...                     : 100.0%|████████████████████████████████████████|     2/    2 [00:00<00:00]\n",
      "Adding features from contig b4757 into the ME-model...                     : 100.0%|████████████████████████████████████████|     2/    2 [00:00<00:00]\n",
      "Adding features from contig b4726 into the ME-model...                     : 100.0%|████████████████████████████████████████|     2/    2 [00:00<00:00]\n",
      "Adding features from contig b2650 into the ME-model...                     : 100.0%|████████████████████████████████████████|     2/    2 [00:00<00:00]\n",
      "Adding features from contig b2115 into the ME-model...                     : 100.0%|████████████████████████████████████████|     2/    2 [00:00<00:00]\n",
      "Adding features from contig b2981 into the ME-model...                     : 100.0%|████████████████████████████████████████|     2/    2 [00:00<00:00]\n",
      "Adding features from contig b1472 into the ME-model...                     : 100.0%|████████████████████████████████████████|     2/    2 [00:00<00:00]\n",
      "Adding features from contig b4572 into the ME-model...                     : 100.0%|████████████████████████████████████████|     2/    2 [00:00<00:00]\n",
      "Adding features from contig b4796 into the ME-model...                     : 100.0%|████████████████████████████████████████|     2/    2 [00:00<00:00]\n",
      "Adding features from contig b4778 into the ME-model...                     : 100.0%|████████████████████████████████████████|     2/    2 [00:00<00:00]\n",
      "Adding features from contig b4754 into the ME-model...                     : 100.0%|████████████████████████████████████████|     2/    2 [00:00<00:00]\n",
      "Adding features from contig b4739 into the ME-model...                     : 100.0%|████████████████████████████████████████|     2/    2 [00:00<00:00]\n",
      "Adding features from contig b1228 into the ME-model...                     : 100.0%|████████████████████████████████████████|     2/    2 [00:00<00:00]\n",
      "Adding features from contig b4760 into the ME-model...                     : 100.0%|████████████████████████████████████████|     2/    2 [00:00<00:00]\n",
      "Adding features from contig b4792 into the ME-model...                     : 100.0%|████████████████████████████████████████|     2/    2 [00:00<00:00]\n",
      "Adding features from contig b4775 into the ME-model...                     : 100.0%|████████████████████████████████████████|     2/    2 [00:00<00:00]\n",
      "Adding features from contig b4750 into the ME-model...                     : 100.0%|████████████████████████████████████████|     2/    2 [00:00<00:00]\n",
      "Adding features from contig b4736 into the ME-model...                     : 100.0%|████████████████████████████████████████|     2/    2 [00:00<00:00]\n",
      "Adding features from contig b4758 into the ME-model...                     : 100.0%|████████████████████████████████████████|     2/    2 [00:00<00:00]\n",
      "Adding features from contig b4719 into the ME-model...                     : 100.0%|████████████████████████████████████████|     2/    2 [00:00<00:00]\n",
      "Adding features from contig b2970 into the ME-model...                     : 100.0%|████████████████████████████████████████|     2/    2 [00:00<00:00]\n",
      "Adding features from contig b4716 into the ME-model...                     : 100.0%|████████████████████████████████████████|     2/    2 [00:00<00:00]\n",
      "Adding features from contig b4789 into the ME-model...                     : 100.0%|████████████████████████████████████████|     2/    2 [00:00<00:00]\n",
      "Adding features from contig b4772 into the ME-model...                     : 100.0%|████████████████████████████████████████|     2/    2 [00:00<00:00]\n",
      "Adding features from contig b4747 into the ME-model...                     : 100.0%|████████████████████████████████████████|     2/    2 [00:00<00:00]\n",
      "Adding features from contig b4733 into the ME-model...                     : 100.0%|████████████████████████████████████████|     2/    2 [00:00<00:00]\n",
      "Adding features from contig b4534 into the ME-model...                     : 100.0%|████████████████████████████████████████|     2/    2 [00:00<00:00]\n",
      "Adding features from contig b2941 into the ME-model...                     : 100.0%|████████████████████████████████████████|     2/    2 [00:00<00:00]\n",
      "Adding features from contig b4786 into the ME-model...                     : 100.0%|████████████████████████████████████████|     2/    2 [00:00<00:00]\n",
      "Adding features from contig b4769 into the ME-model...                     : 100.0%|████████████████████████████████████████|     2/    2 [00:00<00:00]\n",
      "Adding features from contig b4744 into the ME-model...                     : 100.0%|████████████████████████████████████████|     2/    2 [00:00<00:00]\n",
      "Adding features from contig b4342 into the ME-model...                     : 100.0%|████████████████████████████████████████|     2/    2 [00:00<00:00]\n",
      "Adding features from contig b4730 into the ME-model...                     : 100.0%|████████████████████████████████████████|     2/    2 [00:00<00:00]\n",
      "Adding features from contig b3683 into the ME-model...                     : 100.0%|████████████████████████████████████████|     2/    2 [00:00<00:00]\n",
      "Adding features from contig b4800 into the ME-model...                     : 100.0%|████████████████████████████████████████|     2/    2 [00:00<00:00]\n",
      "Adding features from contig b4783 into the ME-model...                     : 100.0%|████████████████████████████████████████|     2/    2 [00:00<00:00]\n",
      "Adding features from contig b4765 into the ME-model...                     : 100.0%|████████████████████████████████████████|     2/    2 [00:00<00:00]\n",
      "Adding features from contig b3682 into the ME-model...                     : 100.0%|████████████████████████████████████████|     2/    2 [00:00<00:00]\n",
      "Adding features from contig b4727 into the ME-model...                     : 100.0%|████████████████████████████████████████|     2/    2 [00:00<00:00]\n",
      "Adding features from contig b4615 into the ME-model...                     : 100.0%|████████████████████████████████████████|     2/    2 [00:00<00:00]\n",
      "Adding features from contig b2122 into the ME-model...                     : 100.0%|████████████████████████████████████████|     2/    2 [00:00<00:00]\n",
      "Adding features from contig b4797 into the ME-model...                     : 100.0%|████████████████████████████████████████|     2/    2 [00:00<00:00]\n",
      "Adding features from contig b4779 into the ME-model...                     : 100.0%|████████████████████████████████████████|     2/    2 [00:00<00:00]\n",
      "Adding features from contig b4755 into the ME-model...                     : 100.0%|████████████████████████████████████████|     2/    2 [00:00<00:00]\n",
      "Adding features from contig b4740 into the ME-model...                     : 100.0%|████████████████████████████████████████|     2/    2 [00:00<00:00]\n",
      "Adding features from contig b4688 into the ME-model...                     : 100.0%|████████████████████████████████████████|     2/    2 [00:00<00:00]\n",
      "Adding features from contig b4605 into the ME-model...                     : 100.0%|████████████████████████████████████████|     2/    2 [00:00<00:00]\n",
      "Adding features from contig b4538 into the ME-model...                     : 100.0%|████████████████████████████████████████|     2/    2 [00:00<00:00]\n",
      "Adding features from contig b4793 into the ME-model...                     : 100.0%|████████████████████████████████████████|     2/    2 [00:00<00:00]\n",
      "Adding features from contig b4776 into the ME-model...                     : 100.0%|████████████████████████████████████████|     2/    2 [00:00<00:00]\n",
      "Adding features from contig b4752 into the ME-model...                     : 100.0%|████████████████████████████████████████|     2/    2 [00:00<00:00]\n",
      "Adding features from contig b4737 into the ME-model...                     : 100.0%|████████████████████████████████████████|     2/    2 [00:00<00:00]\n",
      "Adding features from contig b4790 into the ME-model...                     : 100.0%|████████████████████████████████████████|     2/    2 [00:00<00:00]\n",
      "Adding features from contig b4773 into the ME-model...                     : 100.0%|████████████████████████████████████████|     2/    2 [00:00<00:00]\n",
      "Adding features from contig b4748 into the ME-model...                     : 100.0%|████████████████████████████████████████|     2/    2 [00:00<00:00]\n",
      "Adding features from contig b4734 into the ME-model...                     : 100.0%|████████████████████████████████████████|     2/    2 [00:00<00:00]\n",
      "Adding features from contig b4787 into the ME-model...                     : 100.0%|████████████████████████████████████████|     2/    2 [00:00<00:00]\n",
      "Adding features from contig b4770 into the ME-model...                     : 100.0%|████████████████████████████████████████|     2/    2 [00:00<00:00]\n",
      "Adding features from contig b4745 into the ME-model...                     : 100.0%|████████████████████████████████████████|     2/    2 [00:00<00:00]\n",
      "Adding features from contig b4731 into the ME-model...                     : 100.0%|████████████████████████████████████████|     2/    2 [00:00<00:00]\n",
      "Adding features from contig b4801 into the ME-model...                     : 100.0%|████████████████████████████████████████|     2/    2 [00:00<00:00]\n",
      "Adding features from contig b4784 into the ME-model...                     : 100.0%|████████████████████████████████████████|     2/    2 [00:00<00:00]\n",
      "Adding features from contig b4767 into the ME-model...                     : 100.0%|████████████████████████████████████████|     2/    2 [00:00<00:00]\n",
      "Adding features from contig b4741 into the ME-model...                     : 100.0%|████████████████████████████████████████|     2/    2 [00:00<00:00]\n",
      "Adding features from contig b4728 into the ME-model...                     : 100.0%|████████████████████████████████████████|     2/    2 [00:00<00:00]\n",
      "Adding features from contig b0056 into the ME-model...                     : 100.0%|████████████████████████████████████████|     2/    2 [00:00<00:00]\n",
      "Adding features from contig b1505 into the ME-model...                     : 100.0%|████████████████████████████████████████|     2/    2 [00:00<00:00]\n",
      "Adding features from contig b4798 into the ME-model...                     : 100.0%|████████████████████████████████████████|     2/    2 [00:00<00:00]\n",
      "Adding features from contig b4781 into the ME-model...                     : 100.0%|████████████████████████████████████████|     2/    2 [00:00<00:00]\n",
      "Adding features from contig b4756 into the ME-model...                     : 100.0%|████████████████████████████████████████|     2/    2 [00:00<00:00]\n",
      "Adding features from contig b1543 into the ME-model...                     : 100.0%|████████████████████████████████████████|     2/    2 [00:00<00:00]\n",
      "Adding features from contig b2649 into the ME-model...                     : 100.0%|████████████████████████████████████████|     2/    2 [00:00<00:00]\n",
      "Adding features from contig G0-16695 into the ME-model...                  : 100.0%|████████████████████████████████████████|     2/    2 [00:00<00:00]\n",
      "Adding features from contig b4725 into the ME-model...                     : 100.0%|████████████████████████████████████████|     2/    2 [00:00<00:00]\n",
      "Adding features from contig G0-10701 into the ME-model...                  : 100.0%|████████████████████████████████████████|     2/    2 [00:00<00:00]\n",
      "Adding features from contig b4812 into the ME-model...                     : 100.0%|████████████████████████████████████████|     2/    2 [00:00<00:00]\n",
      "Adding features from contig b4721 into the ME-model...                     : 100.0%|████████████████████████████████████████|     2/    2 [00:00<00:00]\n",
      "Adding features from contig b4763 into the ME-model...                     : 100.0%|████████████████████████████████████████|     2/    2 [00:00<00:00]\n",
      "Adding features from contig b4761 into the ME-model...                     : 100.0%|████████████████████████████████████████|     2/    2 [00:00<00:00]\n",
      "Adding features from contig G0-8861 into the ME-model...                   : 100.0%|████████████████████████████████████████|     2/    2 [00:00<00:00]\n",
      "Adding features from contig b4762 into the ME-model...                     : 100.0%|████████████████████████████████████████|     2/    2 [00:00<00:00]\n",
      "Adding features from contig b4416 into the ME-model...                     : 100.0%|████████████████████████████████████████|     2/    2 [00:00<00:00]\n",
      "Adding features from contig b4805 into the ME-model...                     : 100.0%|████████████████████████████████████████|     2/    2 [00:00<00:00]\n",
      "Adding features from contig b4718 into the ME-model...                     : 100.0%|████████████████████████████████████████|     2/    2 [00:00<00:00]\n",
      "Adding features from contig G0-16699 into the ME-model...                  : 100.0%|████████████████████████████████████████|     2/    2 [00:00<00:00]\n",
      "Adding features from contig G0-16635 into the ME-model...                  : 100.0%|████████████████████████████████████████|     2/    2 [00:00<00:00]\n",
      "Adding features from contig G0-16696 into the ME-model...                  : 100.0%|████████████████████████████████████████|     2/    2 [00:00<00:00]\n",
      "Adding features from contig G0-16693 into the ME-model...                  : 100.0%|████████████████████████████████████████|     2/    2 [00:00<00:00]\n",
      "Adding features from contig G0-10706 into the ME-model...                  : 100.0%|████████████████████████████████████████|     2/    2 [00:00<00:00]\n",
      "Adding features from contig b4723 into the ME-model...                     : 100.0%|████████████████████████████████████████|     2/    2 [00:00<00:00]\n",
      "Adding features from contig G0-17079 into the ME-model...                  : 100.0%|████████████████████████████████████████|     2/    2 [00:00<00:00]\n",
      "Adding features from contig b4722 into the ME-model...                     : 100.0%|████████████████████████████████████████|     2/    2 [00:00<00:00]\n",
      "Adding features from contig b4673 into the ME-model...                     : 100.0%|████████████████████████████████████████|     2/    2 [00:00<00:00]\n",
      "Adding features from contig G0-17076 into the ME-model...                  : 100.0%|████████████████████████████████████████|     2/    2 [00:00<00:00]\n",
      "Adding features from contig b4759 into the ME-model...                     : 100.0%|████████████████████████████████████████|     2/    2 [00:00<00:00]\n",
      "Adding features from contig G0-16697 into the ME-model...                  : 100.0%|████████████████████████████████████████|     2/    2 [00:00<00:00]\n",
      "Adding features from contig G0-10738 into the ME-model...                  : 100.0%|████████████████████████████████████████|     2/    2 [00:00<00:00]\n",
      "Adding features from contig G0-16694 into the ME-model...                  : 100.0%|████████████████████████████████████████|     2/    2 [00:00<00:00]\n",
      "Adding features from contig b4514 into the ME-model...                     : 100.0%|████████████████████████████████████████|     2/    2 [00:00<00:00]\n",
      "Adding features from contig b4724 into the ME-model...                     : 100.0%|████████████████████████████████████████|     2/    2 [00:00<00:00]\n",
      "Adding features from contig b4811 into the ME-model...                     : 100.0%|████████████████████████████████████████|     2/    2 [00:00<00:00]\n",
      "Adding features from contig b4720 into the ME-model...                     : 100.0%|████████████████████████████████████████|     2/    2 [00:00<00:00]\n",
      "Adding features from contig b4804 into the ME-model...                     : 100.0%|████████████████████████████████████████|     2/    2 [00:00<00:00]\n",
      "Adding features from contig G0-10624 into the ME-model...                  : 100.0%|████████████████████████████████████████|     2/    2 [00:00<00:00]\n",
      "Adding features from contig b4715 into the ME-model...                     : 100.0%|████████████████████████████████████████|     2/    2 [00:00<00:00]\n",
      "Adding features from contig G0-16698 into the ME-model...                  : 100.0%|████████████████████████████████████████|     2/    2 [00:00<00:00]\n",
      "Adding features from contig b4717 into the ME-model...                     : 100.0%|████████████████████████████████████████|     2/    2 [00:00<00:00]\n",
      "Adding features from contig b4780 into the ME-model...                     : 100.0%|████████████████████████████████████████|     2/    2 [00:00<00:00]\n",
      "Adding features from contig b4806 into the ME-model...                     : 100.0%|████████████████████████████████████████|     2/    2 [00:00<00:00]\n",
      "Adding features from contig b4712 into the ME-model...                     : 100.0%|████████████████████████████████████████|     2/    2 [00:00<00:00]\n",
      "Adding features from contig b4713 into the ME-model...                     : 100.0%|████████████████████████████████████████|     2/    2 [00:00<00:00]\n",
      "Adding features from contig b4714 into the ME-model...                     : 100.0%|████████████████████████████████████████|     2/    2 [00:00<00:00]\n",
      "Adding features from contig b4794 into the ME-model...                     : 100.0%|████████████████████████████████████████|     2/    2 [00:00<00:00]\n",
      "Adding features from contig b4803 into the ME-model...                     : 100.0%|████████████████████████████████████████|     2/    2 [00:00<00:00]\n",
      "Adding features from contig b4751 into the ME-model...                     : 100.0%|████████████████████████████████████████|     2/    2 [00:00<00:00]\n",
      "Adding features from contig b4766 into the ME-model...                     : 100.0%|████████████████████████████████████████|     2/    2 [00:00<00:00]\n",
      "Adding features from contig b2854 into the ME-model...                     : 100.0%|████████████████████████████████████████|     2/    2 [00:00<00:00]\n",
      "Adding features from contig b1157 into the ME-model...                     : 100.0%|████████████████████████████████████████|     2/    2 [00:00<00:00]\n",
      "Adding features from contig b4634 into the ME-model...                     : 100.0%|████████████████████████████████████████|     2/    2 [00:00<00:00]\n",
      "Adding features from contig b1577 into the ME-model...                     : 100.0%|████████████████████████████████████████|     2/    2 [00:00<00:00]\n",
      "Adding features from contig b2355 into the ME-model...                     : 100.0%|████████████████████████████████████████|     2/    2 [00:00<00:00]\n",
      "Adding features from contig b0705 into the ME-model...                     : 100.0%|████████████████████████████████████████|     2/    2 [00:00<00:00]\n",
      "Adding features from contig b4626 into the ME-model...                     : 100.0%|████████████████████████████████████████|     2/    2 [00:00<00:00]\n",
      "Adding features from contig b2238 into the ME-model...                     : 100.0%|████████████████████████████████████████|     2/    2 [00:00<00:00]\n",
      "Adding features from contig b4282 into the ME-model...                     : 100.0%|████████████████████████████████████████|     2/    2 [00:00<00:00]\n",
      "Adding features from contig b1999 into the ME-model...                     : 100.0%|████████████████████████████████████████|     2/    2 [00:00<00:00]\n",
      "Adding features from contig b0499 into the ME-model...                     : 100.0%|████████████████████████████████████████|     2/    2 [00:00<00:00]\n",
      "Adding features from contig b4271 into the ME-model...                     : 100.0%|████████████████████████████████████████|     2/    2 [00:00<00:00]\n",
      "Adding features from contig b3777 into the ME-model...                     : 100.0%|████████████████████████████████████████|     2/    2 [00:00<00:00]\n",
      "Adding features from contig b1578 into the ME-model...                     : 100.0%|████████████████████████████████████████|     2/    2 [00:00<00:00]\n",
      "Adding features from contig b0263 into the ME-model...                     : 100.0%|████████████████████████████████████████|     2/    2 [00:00<00:00]\n",
      "Adding features from contig b2139 into the ME-model...                     : 100.0%|████████████████████████████████████████|     2/    2 [00:00<00:00]\n",
      "Adding features from contig b2915 into the ME-model...                     : 100.0%|████████████████████████████████████████|     2/    2 [00:00<00:00]\n",
      "Adding features from contig b1459 into the ME-model...                     : 100.0%|████████████████████████████████████████|     2/    2 [00:00<00:00]\n",
      "Adding features from contig b0229 into the ME-model...                     : 100.0%|████████████████████████████████████████|     2/    2 [00:00<00:00]\n",
      "Adding features from contig b3595 into the ME-model...                     : 100.0%|████████████████████████████████████████|     2/    2 [00:00<00:00]\n",
      "Adding features from contig b2855 into the ME-model...                     : 100.0%|████████████████████████████████████████|     2/    2 [00:00<00:00]\n",
      "Adding features from contig b4573 into the ME-model...                     : 100.0%|████████████████████████████████████████|     2/    2 [00:00<00:00]\n",
      "Adding features from contig b4692 into the ME-model...                     : 100.0%|████████████████████████████████████████|     2/    2 [00:00<00:00]\n",
      "Adding features from contig b4486 into the ME-model...                     : 100.0%|████████████████████████████████████████|     2/    2 [00:00<00:00]\n",
      "Adding features from contig b2641 into the ME-model...                     : 100.0%|████████████████████████████████████████|     2/    2 [00:00<00:00]\n",
      "Adding features from contig b1028 into the ME-model...                     : 100.0%|████████████████████████████████████████|     2/    2 [00:00<00:00]\n",
      "Adding features from contig b4630 into the ME-model...                     : 100.0%|████████████████████████████████████████|     2/    2 [00:00<00:00]\n",
      "Adding features from contig b4519 into the ME-model...                     : 100.0%|████████████████████████████████████████|     2/    2 [00:00<00:00]\n",
      "Adding features from contig b4503 into the ME-model...                     : 100.0%|████████████████████████████████████████|     2/    2 [00:00<00:00]\n",
      "Adding features from contig b4308 into the ME-model...                     : 100.0%|████████████████████████████████████████|     2/    2 [00:00<00:00]\n",
      "Adding features from contig b2083 into the ME-model...                     : 100.0%|████████████████████████████████████████|     2/    2 [00:00<00:00]\n",
      "Adding features from contig b0539 into the ME-model...                     : 100.0%|████████████████████████████████████████|     2/    2 [00:00<00:00]\n",
      "Adding features from contig b4632 into the ME-model...                     : 100.0%|████████████████████████████████████████|     2/    2 [00:00<00:00]\n",
      "Adding features from contig b3135 into the ME-model...                     : 100.0%|████████████████████████████████████████|     2/    2 [00:00<00:00]\n",
      "Adding features from contig b4205 into the ME-model...                     : 100.0%|████████████████████████████████████████|     2/    2 [00:00<00:00]\n",
      "Adding features from contig b1579 into the ME-model...                     : 100.0%|████████████████████████████████████████|     2/    2 [00:00<00:00]\n",
      "Adding features from contig b0300 into the ME-model...                     : 100.0%|████████████████████████████████████████|     2/    2 [00:00<00:00]\n",
      "Adding features from contig b4657 into the ME-model...                     : 100.0%|████████████████████████████████████████|     2/    2 [00:00<00:00]\n",
      "Adding features from contig b0297 into the ME-model...                     : 100.0%|████████████████████████████████████████|     2/    2 [00:00<00:00]\n",
      "Adding features from contig b3134 into the ME-model...                     : 100.0%|████████████████████████████████████████|     2/    2 [00:00<00:00]\n",
      "Adding features from contig b1470 into the ME-model...                     : 100.0%|████████████████████████████████████████|     2/    2 [00:00<00:00]\n",
      "Adding features from contig b0230 into the ME-model...                     : 100.0%|████████████████████████████████████████|     2/    2 [00:00<00:00]\n",
      "Adding features from contig b0501 into the ME-model...                     : 100.0%|████████████████████████████████████████|     2/    2 [00:00<00:00]\n",
      "Adding features from contig b2858 into the ME-model...                     : 100.0%|████████████████████████████████████████|     2/    2 [00:00<00:00]\n",
      "Adding features from contig b1318 into the ME-model...                     : 100.0%|████████████████████████████████████████|     2/    2 [00:00<00:00]\n",
      "Adding features from contig b4693 into the ME-model...                     : 100.0%|████████████████████████████████████████|     2/    2 [00:00<00:00]\n",
      "Adding features from contig b4650 into the ME-model...                     : 100.0%|████████████████████████████████████████|     2/    2 [00:00<00:00]\n",
      "Adding features from contig b0236 into the ME-model...                     : 100.0%|████████████████████████████████████████|     2/    2 [00:00<00:00]\n",
      "Adding features from contig b2648 into the ME-model...                     : 100.0%|████████████████████████████████████████|     2/    2 [00:00<00:00]\n",
      "Adding features from contig b1152 into the ME-model...                     : 100.0%|████████████████████████████████████████|     2/    2 [00:00<00:00]\n",
      "Adding features from contig b4633 into the ME-model...                     : 100.0%|████████████████████████████████████████|     2/    2 [00:00<00:00]\n",
      "Adding features from contig b4583 into the ME-model...                     : 100.0%|████████████████████████████████████████|     2/    2 [00:00<00:00]\n",
      "Adding features from contig b0703 into the ME-model...                     : 100.0%|████████████████████████████████████████|     2/    2 [00:00<00:00]\n",
      "Adding features from contig b4638 into the ME-model...                     : 100.0%|████████████████████████████████████████|     2/    2 [00:00<00:00]\n",
      "Adding features from contig b4524 into the ME-model...                     : 100.0%|████████████████████████████████████████|     2/    2 [00:00<00:00]\n",
      "Adding features from contig b3268 into the ME-model...                     : 100.0%|████████████████████████████████████████|     2/    2 [00:00<00:00]\n",
      "Adding features from contig b1456 into the ME-model...                     : 100.0%|████████████████████████████████████████|     2/    2 [00:00<00:00]\n",
      "Adding features from contig b4281 into the ME-model...                     : 100.0%|████████████████████████████████████████|     2/    2 [00:00<00:00]\n",
      "Adding features from contig b1936 into the ME-model...                     : 100.0%|████████████████████████████████████████|     2/    2 [00:00<00:00]\n",
      "Adding features from contig b0392 into the ME-model...                     : 100.0%|████████████████████████████████████████|     2/    2 [00:00<00:00]\n",
      "Adding features from contig b4581 into the ME-model...                     : 100.0%|████████████████████████████████████████|     2/    2 [00:00<00:00]\n",
      "Adding features from contig b1506 into the ME-model...                     : 100.0%|████████████████████████████████████████|     2/    2 [00:00<00:00]\n",
      "Updating all TranslationReaction and TranscriptionReaction...              : 100.0%|████████████████████████████████████████|  8333/ 8333 [00:25<00:00]\n",
      "Removing SubReactions from ComplexData...                                  : 100.0%|████████████████████████████████████████|  5678/ 5678 [00:00<00:00]\n",
      "Adding ComplexFormation into the ME-model...                               : 100.0%|████████████████████████████████████████|  5678/ 5678 [00:02<00:00]\n",
      "Adding Generic(s) into the ME-model...                                     : 100.0%|████████████████████████████████████████|    11/   11 [00:00<00:00]\n",
      "Processing StoichiometricData in ME-model...                               : 100.0%|████████████████████████████████████████|  2281/ 2281 [00:02<00:00]\n"
     ]
    },
    {
     "name": "stdout",
     "output_type": "stream",
     "text": [
      "ME-model was saved in the iJL1678b-ME directory as MEModel-step1-iJL1678b-ME.pkl\n"
     ]
    },
    {
     "name": "stderr",
     "output_type": "stream",
     "text": [
      "Adding tRNA synthetase(s) information into the ME-model...                 : 100.0%|████████████████████████████████████████|   158/  158 [00:00<00:00]\n",
      "Adding tRNA modification SubReactions...                                   : 100.0%|████████████████████████████████████████|    34/   34 [00:00<00:00]\n",
      "Associating tRNA modification enzyme(s) to tRNA(s)...                      : 100.0%|████████████████████████████████████████|   650/  650 [00:03<00:00]\n",
      "Adding SubReactions into TranslationReactions...                           : 100.0%|████████████████████████████████████████|  4279/ 4279 [00:09<00:00]\n",
      "Adding RNA Polymerase(s) into the ME-model...                              : 100.0%|████████████████████████████████████████|     7/    7 [00:00<00:00]\n",
      "Associating a RNA Polymerase to each Transcriptional Unit...               : 100.0%|████████████████████████████████████████|  3415/ 3415 [00:00<00:00]\n",
      "Processing ComplexData in ME-model...                                      : 100.0%|████████████████████████████████████████|   537/  537 [00:00<00:00]\n",
      "Adding ComplexFormation into the ME-model...                               : 100.0%|████████████████████████████████████████|  5697/ 5697 [00:00<00:00]\n",
      "Adding SubReactions into TranslationReactions...                           : 100.0%|████████████████████████████████████████|  4279/ 4279 [00:09<00:00]\n",
      "Adding Transcription SubReactions...                                       : 100.0%|████████████████████████████████████████|  3556/ 3556 [00:00<00:00]\n",
      "Processing StoichiometricData in SubReactionData...                        : 100.0%|████████████████████████████████████████|  1009/ 1009 [00:00<00:00]\n",
      "Adding lipid precursors and lipoproteins...                                : 100.0%|████████████████████████████████████████|    14/   14 [00:00<00:00]\n",
      "Mapping effective turnover rates from user input...                        : 100.0%|████████████████████████████████████████|  5036/ 5036 [00:00<00:00]\n",
      "Setting the effective turnover rates using user input...                   : 100.0%|████████████████████████████████████████|  5031/ 5031 [00:02<00:00]\n",
      "Adding reaction subsystems from M-model into the ME-model...               : 100.0%|████████████████████████████████████████|  2610/ 2610 [00:00<00:00]\n",
      "Processing StoichiometricData in ME-model...                               : 100.0%|████████████████████████████████████████|  2281/ 2281 [00:00<00:00]\n",
      "Updating ME-model Reactions...                                             : 100.0%|████████████████████████████████████████| 21917/21917 [06:49<00:00]\n",
      "Updating all FormationReactions...                                         : 100.0%|████████████████████████████████████████|  5697/ 5697 [00:00<00:00]\n",
      "Recalculation of the elemental contribution in SubReactions...             : 100.0%|████████████████████████████████████████|   425/  425 [00:00<00:00]\n",
      "Updating all FormationReactions...                                         : 100.0%|████████████████████████████████████████|  5697/ 5697 [00:00<00:00]\n",
      "Updating FormationReactions involving a lipoyl prosthetic group...         : 100.0%|████████████████████████████████████████|    15/   15 [00:00<00:00]\n",
      "Updating FormationReactions involving a glycyl radical...                  : 100.0%|████████████████████████████████████████|    18/   18 [00:00<00:00]\n",
      "Pruning unnecessary ComplexData reactions...                               : 100.0%|████████████████████████████████████████|  5697/ 5697 [00:28<00:00]\n",
      "Pruning unnecessary FoldedProtein reactions...                             : 0.0%|                                              |     0/    0 [00:00<?]\n",
      "Pruning unnecessary ProcessedProtein reactions...                          : 100.0%|████████████████████████████████████████|  4883/ 4883 [00:00<00:00]\n",
      "Pruning unnecessary TranslatedGene reactions...                            : 100.0%|████████████████████████████████████████|  4883/ 4883 [00:20<00:00]\n",
      "Pruning unnecessary TranscribedGene reactions...                           : 100.0%|████████████████████████████████████████|  4450/ 4450 [00:14<00:00]\n",
      "Pruning unnecessary Transcriptional Units...                               : 100.0%|████████████████████████████████████████|  3555/ 3555 [00:21<00:00]\n",
      "Pruning unnecessary ComplexData reactions...                               : 100.0%|████████████████████████████████████████|  1462/ 1462 [00:00<00:00]\n",
      "Pruning unnecessary FoldedProtein reactions...                             : 0.0%|                                              |     0/    0 [00:00<?]\n",
      "Pruning unnecessary ProcessedProtein reactions...                          : 100.0%|████████████████████████████████████████|  2184/ 2184 [00:00<00:00]\n",
      "Pruning unnecessary TranslatedGene reactions...                            : 100.0%|████████████████████████████████████████|  2184/ 2184 [00:00<00:00]\n",
      "Pruning unnecessary TranscribedGene reactions...                           : 100.0%|████████████████████████████████████████|  1691/ 1691 [00:00<00:00]\n",
      "Pruning unnecessary Transcriptional Units...                               : 100.0%|████████████████████████████████████████|  1458/ 1458 [00:14<00:00]\n"
     ]
    },
    {
     "name": "stdout",
     "output_type": "stream",
     "text": [
      "ME-model was saved in the iJL1678b-ME directory as MEModel-step2-iJL1678b-ME.pkl\n",
      "ME-model reconstruction is done.\n",
      "Number of metabolites in the ME-model is 7197 (+333.55%, from 1660)\n",
      "Number of reactions in the ME-model is 14959 (+529.32%, from 2377)\n",
      "Number of genes in the ME-model is 1689 (+32.99%, from 1270)\n"
     ]
    }
   ],
   "source": [
    "from coralme.builder.main import MEBuilder\n",
    "\n",
    "builder = MEBuilder(*['iJL1678b-ME/coralme-config-tRNAs-TUs.yaml'])\n",
    "builder.configuration['run_bbh_blast'] = False\n",
    "builder.configuration['feature_types'] = ['CDS', 'rRNA', 'tRNA', 'ncRNA']\n",
    "# builder.configuration['gam'] = 0.\n",
    "# builder.configuration['ngam'] = 0.\n",
    "builder.build_me_model(overwrite = False)\n",
    "# builder.troubleshoot(growth_key_and_value = { builder.me_model.mu : 0.001 })"
   ]
  },
  {
   "cell_type": "code",
   "execution_count": 4,
   "metadata": {
    "ExecuteTime": {
     "end_time": "2023-05-09T23:23:19.497578Z",
     "start_time": "2023-05-09T23:23:19.464397Z"
    },
    "tags": []
   },
   "outputs": [
    {
     "name": "stdout",
     "output_type": "stream",
     "text": [
      "Genes in CORAL-ME, not in ECOLI-ME: 13 (b0195,b1807,b2583,b2726,b2727,b2728,b2729,b2730,b3064,b3414,b3497,b4168,b4373)\n",
      "\n",
      "Genes in ECOLI-ME, not in CORAL-ME: 2 (b2710,b2711)\n"
     ]
    }
   ],
   "source": [
    "with open('genes.txt', 'r') as infile:\n",
    "    data = pandas.read_fwf(infile, header = None)\n",
    "iJLgenes = data.iloc[:, 0].to_list()\n",
    "\n",
    "import re\n",
    "me_genes = [ x.id.split('RNA_')[1] for x in builder.me_model.metabolites.query(re.compile('^RNA_(?!biomass|dummy|degradosome)')) ]\n",
    "\n",
    "genes = sorted(set(me_genes).difference(iJLgenes))\n",
    "print('Genes in CORAL-ME, not in ECOLI-ME: {:d} ({:s})'.format(len(genes), ','.join(genes)))\n",
    "print()\n",
    "\n",
    "genes = sorted(set(iJLgenes).difference(me_genes))\n",
    "print('Genes in ECOLI-ME, not in CORAL-ME: {:d} ({:s})'.format(len(genes), ','.join(genes)))"
   ]
  },
  {
   "cell_type": "code",
   "execution_count": null,
   "metadata": {
    "ExecuteTime": {
     "end_time": "2023-05-09T23:23:48.722648Z",
     "start_time": "2023-05-09T23:23:19.499136Z"
    }
   },
   "outputs": [],
   "source": [
    "import pickle, tqdm\n",
    "with open('./iJL1678b-ME/MEModel-step2-iJL1678b-ME.pkl', 'rb') as infile:\n",
    "    me = pickle.load(infile)\n",
    "    \n",
    "with open('./MEModel-step2-ecoli.pkl','wb') as f:\n",
    "    pickle.dump(me, f)\n",
    "\n",
    "me.add_boundary(me.metabolites.li_c, type = 'sink')\n",
    "\n",
    "import coralme\n",
    "coralme.io.json.save_json_me_model(me, 'MEModel-step2-ecoli.json')\n",
    "\n",
    "# me.optimize()"
   ]
  },
  {
   "cell_type": "code",
   "execution_count": null,
   "metadata": {
    "ExecuteTime": {
     "end_time": "2023-05-09T23:23:48.784750Z",
     "start_time": "2023-05-09T23:23:48.724007Z"
    }
   },
   "outputs": [],
   "source": [
    "with open('ecolime-fluxes-from-model.txt', 'r') as infile:\n",
    "    data = pandas.read_csv(infile, sep = '\\t', header = None)\n",
    "iJLreactions = data.iloc[:, 0].to_list()\n",
    "\n",
    "import re\n",
    "me_reactions = [ x.id for x in me.reactions if x.bounds != (0, 0) ]\n",
    "me_reactions = [ x.replace('_Outer_Membrane', '') if x.startswith('translocation') else x for x in me_reactions ]\n",
    "me_reactions = [ x.replace('_Inner_Membrane', '') if x.startswith('translocation') else x for x in me_reactions ]\n",
    "me_reactions = [ x.replace('_Periplasm', '') if x.startswith('translocation') else x for x in me_reactions ]\n",
    "\n",
    "reactions = sorted(set(me_reactions).difference(iJLreactions))\n",
    "print('Reactions in CORAL-ME, not in ECOLI-ME: {:d} ({:s})'.format(len(reactions), ''))#, ','.join(genes)))\n",
    "print()\n",
    "\n",
    "reactions = sorted(set(iJLreactions).difference(me_reactions))\n",
    "print('Reactions in ECOLI-ME, not in CORAL-ME: {:d} ({:s})'.format(len(reactions), ''))#, ','.join(genes)))\n",
    "\n",
    "with open('mismatching_reactions.txt', 'w') as outfile:\n",
    "    for data in sorted([ x for x in set(iJLreactions).symmetric_difference(me_reactions) \n",
    "                        if not x.startswith('transcription_') if not x.startswith('translocation_') ]):\n",
    "        outfile.write(data)\n",
    "        outfile.write('\\n')\n",
    "        \n",
    "with open('mismatching_reactions_transcription_only.txt', 'w') as outfile:\n",
    "    for data in sorted([ x for x in set(iJLreactions).symmetric_difference(me_reactions) \n",
    "                        if x.startswith('transcription_') ]):\n",
    "        outfile.write(data)\n",
    "        outfile.write('\\n')\n",
    "        \n",
    "with open('mismatching_reactions_translocation_only.txt', 'w') as outfile:\n",
    "    for data in sorted([ x for x in set(iJLreactions).symmetric_difference(me_reactions) \n",
    "                        if x.startswith('translocation_') ]):\n",
    "        outfile.write(data)\n",
    "        outfile.write('\\n')"
   ]
  },
  {
   "cell_type": "code",
   "execution_count": null,
   "metadata": {
    "ExecuteTime": {
     "end_time": "2023-05-09T23:30:01.600429Z",
     "start_time": "2023-05-09T23:24:28.882402Z"
    }
   },
   "outputs": [],
   "source": [
    "me.optimize()"
   ]
  },
  {
   "cell_type": "code",
   "execution_count": null,
   "metadata": {},
   "outputs": [],
   "source": [
    "2"
   ]
  },
  {
   "cell_type": "code",
   "execution_count": null,
   "metadata": {},
   "outputs": [],
   "source": [
    "2"
   ]
  },
  {
   "cell_type": "code",
   "execution_count": null,
   "metadata": {},
   "outputs": [],
   "source": []
  }
 ],
 "metadata": {
  "kernelspec": {
   "display_name": "coralme",
   "language": "python",
   "name": "coralme"
  },
  "language_info": {
   "codemirror_mode": {
    "name": "ipython",
    "version": 3
   },
   "file_extension": ".py",
   "mimetype": "text/x-python",
   "name": "python",
   "nbconvert_exporter": "python",
   "pygments_lexer": "ipython3",
   "version": "3.7.8"
  }
 },
 "nbformat": 4,
 "nbformat_minor": 4
}
