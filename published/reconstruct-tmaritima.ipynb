{
 "cells": [
  {
   "cell_type": "code",
   "execution_count": null,
   "id": "fadf741b-d65e-4c02-a73f-3c1414e848ce",
   "metadata": {
    "ExecuteTime": {
     "end_time": "2022-12-12T06:27:35.182100Z",
     "start_time": "2022-12-12T06:27:35.157355Z"
    }
   },
   "outputs": [],
   "source": [
    "from IPython.display import display, HTML, Math, Markdown\n",
    "display(HTML(\"<style>.container { width:95% !important; }</style>\"))\n",
    "\n",
    "%load_ext autoreload\n",
    "%autoreload 2"
   ]
  },
  {
   "cell_type": "code",
   "execution_count": null,
   "id": "63414ed1-c7f0-4b1c-9dd0-534c4182f428",
   "metadata": {
    "ExecuteTime": {
     "end_time": "2022-12-12T06:27:36.177441Z",
     "start_time": "2022-12-12T06:27:35.183790Z"
    }
   },
   "outputs": [],
   "source": [
    "from coralme.builder.main import MEBuilder, MEReconstruction, METroubleshooter\n",
    "from coralme.builder.curation import MECurator, MEManualCuration\n",
    "import coralme"
   ]
  },
  {
   "cell_type": "code",
   "execution_count": null,
   "id": "659ca4b2-ac94-4b00-98e8-68fdf89c0b16",
   "metadata": {},
   "outputs": [],
   "source": [
    "org = 'tmaritima'\n",
    "organism = './{:s}/organism.json'.format(org)\n",
    "inputs = './{:s}/input.json'.format(org)"
   ]
  },
  {
   "cell_type": "markdown",
   "id": "50f8ec29-232f-4f8a-9143-4ec0f89c3b94",
   "metadata": {},
   "source": [
    "### Full"
   ]
  },
  {
   "cell_type": "code",
   "execution_count": null,
   "id": "63010c92-3cab-4563-8252-51a4e489ae0e",
   "metadata": {
    "scrolled": true,
    "tags": []
   },
   "outputs": [],
   "source": [
    "builder = MEBuilder(*[organism, inputs])\n",
    "builder.configuration['run_bbh_blast'] = False"
   ]
  },
  {
   "cell_type": "code",
   "execution_count": null,
   "id": "cd56e9b5-9c24-40ac-bd8b-d1a1d6d23c2a",
   "metadata": {
    "ExecuteTime": {
     "end_time": "2022-12-12T06:30:28.060280Z",
     "start_time": "2022-12-12T06:30:01.706785Z"
    },
    "scrolled": true,
    "tags": []
   },
   "outputs": [],
   "source": [
    "builder.generate_files(overwrite=True)\n",
    "builder.save_builder_info()"
   ]
  },
  {
   "cell_type": "code",
   "execution_count": null,
   "id": "8f13e060-9f04-481f-87f9-9e5a7feb2629",
   "metadata": {
    "scrolled": true,
    "tags": []
   },
   "outputs": [],
   "source": [
    "# builder.org = coralme.builder.organism.Organism(builder.configuration,False)\n",
    "# builder.org.get_organism()"
   ]
  },
  {
   "cell_type": "code",
   "execution_count": null,
   "id": "a0ca2c09-f407-472d-8902-2964eba510a5",
   "metadata": {
    "ExecuteTime": {
     "end_time": "2022-12-12T06:28:36.607889Z",
     "start_time": "2022-12-12T06:27:59.542579Z"
    },
    "scrolled": true,
    "tags": []
   },
   "outputs": [],
   "source": [
    "builder.build_me_model(overwrite=False)\n",
    "# builder.troubleshoot(growth_key_and_value = { builder.me_model.mu : 0.001 })"
   ]
  },
  {
   "cell_type": "code",
   "execution_count": null,
   "id": "c3c2b019-4b54-4ff5-bdd1-9a2bd73a7ed7",
   "metadata": {
    "tags": []
   },
   "outputs": [],
   "source": [
    "builder.troubleshoot(growth_key_and_value = { builder.me_model.mu : 0.001 })"
   ]
  },
  {
   "cell_type": "markdown",
   "id": "4e7f22d1-5230-461e-a37a-e8c64542b62d",
   "metadata": {},
   "source": [
    "### Quick"
   ]
  },
  {
   "cell_type": "code",
   "execution_count": null,
   "id": "ba8fe959-5606-4631-b49a-e9f5e56c4b0c",
   "metadata": {
    "ExecuteTime": {
     "end_time": "2022-12-12T06:30:28.060280Z",
     "start_time": "2022-12-12T06:30:01.706785Z"
    },
    "scrolled": true
   },
   "outputs": [],
   "source": [
    "builder = MEBuilder(*['./{:s}/coralme-config.yaml'.format(org)])"
   ]
  },
  {
   "cell_type": "code",
   "execution_count": null,
   "id": "c2f000ee-bd9a-4bb1-8d8f-ebf0e02bb657",
   "metadata": {
    "ExecuteTime": {
     "end_time": "2022-12-12T06:28:36.607889Z",
     "start_time": "2022-12-12T06:27:59.542579Z"
    },
    "scrolled": true,
    "tags": []
   },
   "outputs": [],
   "source": [
    "builder.build_me_model(overwrite=False, update=True, prune=False)"
   ]
  },
  {
   "cell_type": "code",
   "execution_count": null,
   "id": "4dc1c455-5dc2-489d-8327-050d5f0c580a",
   "metadata": {},
   "outputs": [],
   "source": [
    "builder.troubleshoot(growth_key_and_value = { builder.me_model.mu : 0.001 })"
   ]
  },
  {
   "cell_type": "markdown",
   "id": "4840cacc-f83e-402e-91e7-a8d45ca92bee",
   "metadata": {},
   "source": [
    "### Load builder"
   ]
  },
  {
   "cell_type": "code",
   "execution_count": null,
   "id": "afcd0a3a-182b-424d-8c4c-09af614e3f67",
   "metadata": {
    "ExecuteTime": {
     "end_time": "2022-12-12T06:30:28.060280Z",
     "start_time": "2022-12-12T06:30:01.706785Z"
    },
    "scrolled": true
   },
   "outputs": [],
   "source": [
    "builder = MEBuilder(*['./{:s}/coralme-config.yaml'.format(org)])\n",
    "builder.me_model = builder.load(builder.configuration['out_directory']+'MEModel-step2-{}.pkl'.format(org))\n",
    "me = builder.me_model"
   ]
  },
  {
   "cell_type": "code",
   "execution_count": null,
   "id": "f417a9fd-0506-4d07-966d-05ae91a9a7df",
   "metadata": {},
   "outputs": [],
   "source": [
    "from coralme.builder.helper_functions import *\n",
    "pandas.set_option('display.max_colwidth', None)"
   ]
  },
  {
   "cell_type": "code",
   "execution_count": null,
   "id": "144c0065-5256-48b4-9c68-7ce0c1327abc",
   "metadata": {},
   "outputs": [],
   "source": [
    "df = summarize_reactions(me,'TM1372-MONOMER_mod_2fe2s(1)_mod_fe2(2)')\n",
    "df[df.index.str.contains('FWD')]['reaction']"
   ]
  },
  {
   "cell_type": "code",
   "execution_count": null,
   "id": "14e91461-4721-4f86-8cd1-7061c7fdd24a",
   "metadata": {},
   "outputs": [],
   "source": [
    "summarize_reactions(me,'cbl1_c')"
   ]
  },
  {
   "cell_type": "code",
   "execution_count": null,
   "id": "c2b044d7-c459-44bf-bebc-9ab0dd2a6ab8",
   "metadata": {},
   "outputs": [],
   "source": [
    "me.reactions.query('unloading')"
   ]
  },
  {
   "cell_type": "code",
   "execution_count": null,
   "id": "71d00968-97c1-49f8-8e1b-9c7ca54d9f71",
   "metadata": {},
   "outputs": [],
   "source": [
    "def add_demand(me,met):\n",
    "    rid = 'SK_{}'.format(met)\n",
    "    if not me.reactions.has_id(rid):\n",
    "        r = coralme.core.reaction.MEReaction(rid)\n",
    "        me.add_reaction(r)\n",
    "        r.add_metabolites({\n",
    "        met:-1\n",
    "        })\n",
    "    else:\n",
    "        r = me.reactions.get_by_id(rid)\n",
    "    \n",
    "    r.bounds = (-1000,1000)\n",
    "def close_demand(me,met):\n",
    "    rid = 'SK_{}'.format(met)\n",
    "    r = me.reactions.get_by_id(rid)\n",
    "    r.bounds = (0,0)\n",
    "    "
   ]
  },
  {
   "cell_type": "code",
   "execution_count": null,
   "id": "e658fb7a-954b-45d4-9917-11feb7de3494",
   "metadata": {},
   "outputs": [],
   "source": [
    "# close_demand(me,'val__L_c')\n",
    "# close_demand(me,'3mob_c')\n",
    "# close_demand(me,'23dhmb_c')\n",
    "add_demand(me,'TM1692-MONOMER_mod_pydx5p(2)_mod_SH(1)')\n",
    "# me.feasibility({me.mu:0.001})"
   ]
  },
  {
   "cell_type": "code",
   "execution_count": null,
   "id": "7b118a09-28e7-404c-bc26-f347b7116c92",
   "metadata": {
    "scrolled": true,
    "tags": []
   },
   "outputs": [],
   "source": [
    "flux_based_reactions(me,'val__L_c',growth_key=me.mu,only_types = ['MetabolicReaction'])"
   ]
  },
  {
   "cell_type": "code",
   "execution_count": null,
   "id": "cc137a8d-7986-4aa2-a507-fad38fa1a4df",
   "metadata": {
    "scrolled": true,
    "tags": []
   },
   "outputs": [],
   "source": [
    "flux_based_reactions(me,'3mob_c',growth_key=me.mu,only_types = ['MetabolicReaction'])"
   ]
  },
  {
   "cell_type": "code",
   "execution_count": null,
   "id": "922f2c90-e001-4830-b5ab-0377b13578ee",
   "metadata": {},
   "outputs": [],
   "source": [
    "me.reactions.query('VALDH')"
   ]
  },
  {
   "cell_type": "markdown",
   "id": "822d348a-c2bc-4064-a131-db28874b89d2",
   "metadata": {},
   "source": [
    "### Find issue"
   ]
  },
  {
   "cell_type": "code",
   "execution_count": null,
   "id": "0291e591-18b1-4062-89c3-5397efd5ea5d",
   "metadata": {},
   "outputs": [],
   "source": [
    "builder.find_issue('GMET_RS15370')"
   ]
  },
  {
   "cell_type": "markdown",
   "id": "30b60288-f1c3-4aa9-925a-cc12d983a2bd",
   "metadata": {},
   "source": [
    "### Curation notes"
   ]
  },
  {
   "cell_type": "code",
   "execution_count": null,
   "id": "27830dc0-69bc-4331-af3e-08e2d597ec3b",
   "metadata": {},
   "outputs": [],
   "source": [
    "builder.curation_notes"
   ]
  },
  {
   "cell_type": "markdown",
   "id": "232476c7-c954-4291-b658-20671021f347",
   "metadata": {},
   "source": [
    "### Load builder"
   ]
  },
  {
   "cell_type": "code",
   "execution_count": null,
   "id": "2b5d0fb1-fa86-433a-af26-aca1aa8c542f",
   "metadata": {
    "ExecuteTime": {
     "end_time": "2022-12-12T06:30:28.060280Z",
     "start_time": "2022-12-12T06:30:01.706785Z"
    },
    "scrolled": true
   },
   "outputs": [],
   "source": [
    "builder = MEBuilder(*['./{:s}/coralme-config.yaml'.format(org)])\n",
    "builder.me_model = builder.load(builder.configuration['out_directory']+'MEModel-step2-{}.pkl'.format(org))\n",
    "me = builder.me_model"
   ]
  },
  {
   "cell_type": "code",
   "execution_count": null,
   "id": "dfe15b96-0060-4957-b4c8-81553a244fce",
   "metadata": {},
   "outputs": [],
   "source": []
  }
 ],
 "metadata": {
  "kernelspec": {
   "display_name": "coralme",
   "language": "python",
   "name": "coralme"
  },
  "language_info": {
   "codemirror_mode": {
    "name": "ipython",
    "version": 3
   },
   "file_extension": ".py",
   "mimetype": "text/x-python",
   "name": "python",
   "nbconvert_exporter": "python",
   "pygments_lexer": "ipython3",
   "version": "3.7.8"
  }
 },
 "nbformat": 4,
 "nbformat_minor": 5
}
