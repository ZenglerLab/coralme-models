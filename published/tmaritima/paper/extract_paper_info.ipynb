{
 "cells": [
  {
   "cell_type": "code",
   "execution_count": 1,
   "id": "ba0701e6-c009-4317-9be7-6d4be933b4cd",
   "metadata": {},
   "outputs": [],
   "source": [
    "import pandas as pd"
   ]
  },
  {
   "cell_type": "code",
   "execution_count": 2,
   "id": "92e888d5-b2a7-4e71-8482-9e5912a9b1e4",
   "metadata": {},
   "outputs": [],
   "source": [
    "import io\n",
    "data = open('./tRNA-modifications.txt').read().split('#')\n",
    "mod_df = pd.DataFrame()\n",
    "for d in data:\n",
    "    mod_df = pd.concat([mod_df, pd.read_csv(io.StringIO(d), delim_whitespace=True).T],join='outer')\n",
    "all_paper_trnas = set([i.split('.')[0] for i in mod_df.index])"
   ]
  },
  {
   "cell_type": "markdown",
   "id": "3c9a7407-2b57-48b1-936d-533df6eb22f0",
   "metadata": {},
   "source": [
    "# Targets"
   ]
  },
  {
   "cell_type": "code",
   "execution_count": 4,
   "id": "3126aac4-3b03-44c7-a5eb-8153b130f7a7",
   "metadata": {},
   "outputs": [],
   "source": [
    "from Bio import SeqIO\n",
    "trna_df = pd.read_csv('tRNAs.txt',sep='\\t',index_col=0)\n",
    "paper_dct = trna_df.reset_index().set_index('Codon')['tRNA'].to_dict()\n",
    "gb_file = Bio.SeqIO.parse(\"../building_data/genome_modified.gb\", \"gb\")\n",
    "contigs = [ i for i in gb_file ]\n",
    "dct = {'c':'G','g':'C','t':'A','a':'T'}"
   ]
  },
  {
   "cell_type": "code",
   "execution_count": 5,
   "id": "55df39b4-0f85-49f1-abe3-704cd0b051f5",
   "metadata": {
    "scrolled": true,
    "tags": []
   },
   "outputs": [
    {
     "name": "stdout",
     "output_type": "stream",
     "text": [
      "TM_t01 Pro CCA\n",
      "TM_t02 Ile ATC\n",
      "TM_t03 Ala GCA\n",
      "TM_t04 Ala GCG\n",
      "TM_t05 Arg CGA\n",
      "TM_t06 His CAC\n",
      "TM_t07 Arg AGA\n",
      "TM_t08 Gly GGA\n",
      "TM_t09 Ser AGC\n",
      "TM_t10 Arg CGC\n",
      "TM_t11 Thr ACC\n",
      "TM_t12 Gln CAG\n",
      "TM_t13 Met ATG\n",
      "TM_t14 Met ATG\n",
      "TM_t15 Thr ACA\n",
      "TM_t16 Tyr TAC\n",
      "TM_t17 Trp TGG\n",
      "TM_t18 Ser TCA\n",
      "TM_t19 Gly GGC\n",
      "TM_t20 Leu CTA\n",
      "TM_t21 Lys AAA\n",
      "TM_t22 Thr ACG\n",
      "TM_t23 Gln CAA\n",
      "TM_t24 Leu CTG\n",
      "TM_t25 Ser TCG\n",
      "TM_t26 Leu TTG\n",
      "TM_t27 Asn AAC\n",
      "TM_t28 Pro CCG\n",
      "TM_t29 Met ATG\n",
      "TM_t30 Gly GGG\n",
      "TM_t31 Leu TTA\n",
      "TM_t32 Cys TGC\n",
      "TM_t33 Val GTC\n",
      "TM_t34 Leu CTC\n",
      "TM_t35 Val GTG\n",
      "TM_t36 Arg CGG\n",
      "TM_t37 Val GTA\n",
      "TM_t38 Phe TTC\n",
      "TM_t39 Ala GCC\n",
      "TM_t40 Arg AGG\n",
      "TM_t41 Lys AAG\n",
      "TM_t42 Glu GAG\n",
      "TM_t43 Pro CCC\n",
      "TM_t44 Asp GAC\n",
      "TM_t45 Ser TCC\n",
      "TM_t46 Glu GAA\n"
     ]
    }
   ],
   "source": [
    "gb_dct = {}\n",
    "for c in contigs:\n",
    "    for f in c.features:\n",
    "        if f.type == 'tRNA':\n",
    "            s = f.qualifiers['anticodon'][0].split('seq:')[1].split(')')[0][::-1]\n",
    "            s2 = ''.join([dct[i] for i in s])\n",
    "            i = f.qualifiers['old_locus_tag'][0]\n",
    "            aa = f.qualifiers['product'][0].split('tRNA-')[1]\n",
    "#             if 'Ala' in f.qualifiers['product'][0]:\n",
    "            gb_dct[s2] = i\n",
    "            print(i,aa,s2)"
   ]
  },
  {
   "cell_type": "code",
   "execution_count": 6,
   "id": "a3ed125a-5700-4ba8-ae08-7af2124fbb73",
   "metadata": {},
   "outputs": [],
   "source": [
    "paper_to_gb = {}\n",
    "for c in gb_dct:\n",
    "    gb_trna = gb_dct[c]\n",
    "    paper_trna = paper_dct[c]\n",
    "    paper_to_gb[paper_trna] = gb_trna"
   ]
  },
  {
   "cell_type": "code",
   "execution_count": 7,
   "id": "c218aa9a-d09c-4ffb-b16c-2eb33ffed0d8",
   "metadata": {},
   "outputs": [],
   "source": [
    "coralme_rnamod = pd.DataFrame()"
   ]
  },
  {
   "cell_type": "code",
   "execution_count": 8,
   "id": "72b61543-746f-49b6-b4b2-c19caf87acfa",
   "metadata": {},
   "outputs": [
    {
     "name": "stdout",
     "output_type": "stream",
     "text": [
      "TMtRNA-Met-1\n",
      "TMtRNA-Met-2\n"
     ]
    }
   ],
   "source": [
    "for i in all_paper_trnas:\n",
    "    if i not in paper_to_gb:\n",
    "        print(i)\n",
    "        continue\n",
    "    trna = paper_to_gb[i]\n",
    "    mods = mod_df[mod_df.index.str.contains(i)]\n",
    "    rnamod_dct = {}\n",
    "    for j,row in mods.iterrows():\n",
    "        rnamod_dct[trna] = {'position':row[1],\n",
    "                        'modification':row[0]}\n",
    "        coralme_rnamod = pd.concat([coralme_rnamod, pd.DataFrame.from_dict(rnamod_dct).T],join='outer')"
   ]
  },
  {
   "cell_type": "code",
   "execution_count": null,
   "id": "cbbe591f-8115-4ad2-b02f-0a338d3cbe78",
   "metadata": {},
   "outputs": [],
   "source": [
    "coralme_rnamod"
   ]
  },
  {
   "cell_type": "code",
   "execution_count": 119,
   "id": "e49b922b-bbfc-404b-8fac-2e49e5042cc1",
   "metadata": {},
   "outputs": [],
   "source": [
    "# coralme_rnamod.to_csv('./building_data/post_transcriptional_modification_of_RNA.txt',sep='\\t')"
   ]
  },
  {
   "cell_type": "markdown",
   "id": "807462f3-5396-48a0-9f24-05ccc6224ca5",
   "metadata": {},
   "source": [
    "# Machinery"
   ]
  },
  {
   "cell_type": "code",
   "execution_count": 151,
   "id": "e7b3b115-f8f3-412e-a0fe-cd1dcba85af3",
   "metadata": {
    "scrolled": true,
    "tags": []
   },
   "outputs": [
    {
     "name": "stdout",
     "output_type": "stream",
     "text": [
      "TMtRNA-Met-1\n",
      "TMtRNA-Met-1\n",
      "TMtRNA-Met-1\n",
      "TMtRNA-Met-1\n",
      "TMtRNA-Met-1\n",
      "TMtRNA-Met-1\n",
      "TMtRNA-Met-1\n",
      "TMtRNA-Met-1\n",
      "TMtRNA-Met-2\n",
      "TMtRNA-Met-2\n",
      "TMtRNA-Met-2\n",
      "TMtRNA-Met-2\n",
      "TMtRNA-Met-2\n",
      "TMtRNA-Met-2\n",
      "TMtRNA-Met-2\n",
      "TMtRNA-Met-2\n",
      "TMtRNA-Met-2\n"
     ]
    }
   ],
   "source": [
    "dct = {}\n",
    "for i,row in mod_df.iterrows():\n",
    "    i = i.split('.')[0]\n",
    "    if i not in paper_to_gb:\n",
    "        print(i)\n",
    "        continue\n",
    "    if 'Monomer' not in row[2]:\n",
    "        continue\n",
    "    trna = paper_to_gb[i]\n",
    "    enz = row[2].split('_assumed')[0]\n",
    "    if enz not in dct:\n",
    "        dct[enz] = set()\n",
    "    dct[enz].add('{}_at_{}'.format(row[1],row[0]))\n"
   ]
  },
  {
   "cell_type": "code",
   "execution_count": 154,
   "id": "749e61df-06f0-4399-88b6-01991d0e9557",
   "metadata": {
    "tags": []
   },
   "outputs": [
    {
     "name": "stdout",
     "output_type": "stream",
     "text": [
      "TM0748 ['m1A'] 58\n",
      "TM0856 ['Y'] 55\n",
      "TM0925 ['m7G'] 46\n",
      "TM0096 ['D', 'D', 'D', 'D', 'D', 'D', 'D'] 20,22,18,17,19,21,16\n",
      "TM1574 ['Y', 'Y'] 39,40\n",
      "TM0852 ['t6A'] 37\n"
     ]
    }
   ],
   "source": [
    "for k,v in dct.items():\n",
    "    mods = [i.split('_at_')[1] for i in v]\n",
    "    pos = [i.split('_at_')[0] for i in v]\n",
    "    print(k,mods,','.join(pos))"
   ]
  },
  {
   "cell_type": "code",
   "execution_count": null,
   "id": "896624b3-cf46-40fb-842c-87e05b8f6106",
   "metadata": {},
   "outputs": [],
   "source": []
  },
  {
   "cell_type": "code",
   "execution_count": null,
   "id": "ae0ce398-7083-440c-83b4-a87162fcfdc0",
   "metadata": {},
   "outputs": [],
   "source": []
  },
  {
   "cell_type": "markdown",
   "id": "2a17d66b-a10f-4751-9539-5eb59e1a81a6",
   "metadata": {},
   "source": [
    "## ATPM"
   ]
  },
  {
   "cell_type": "markdown",
   "id": "f309249d-2c00-4baa-a531-8cb1915b18f4",
   "metadata": {
    "tags": []
   },
   "source": [
    "Supplementary information of the paper states atp maintenance is 25.0\n",
    "\n",
    "https://static-content.springer.com/esm/art%3A10.1038%2Fncomms1928/MediaObjects/41467_2012_BFncomms1928_MOESM921_ESM.pdf"
   ]
  },
  {
   "cell_type": "markdown",
   "id": "2240d002-c3f5-4bd1-9187-079e41f0903f",
   "metadata": {},
   "source": [
    "## New reactions"
   ]
  },
  {
   "cell_type": "code",
   "execution_count": 1,
   "id": "f6290614-ab3a-4c80-ba92-757b1bfddfee",
   "metadata": {},
   "outputs": [
    {
     "name": "stderr",
     "output_type": "stream",
     "text": [
      "/home/jt/me_modeling/lib/python3.6/site-packages/cobra-0.5.11-py3.6-linux-x86_64.egg/cobra/io/sbml3.py:24: UserWarning: Install lxml for faster SBML I/O\n",
      "  warn(\"Install lxml for faster SBML I/O\")\n",
      "/home/jt/me_modeling/lib/python3.6/site-packages/cobra-0.5.11-py3.6-linux-x86_64.egg/cobra/io/__init__.py:12: UserWarning: cobra.io.sbml requires libsbml\n",
      "  warn(\"cobra.io.sbml requires libsbml\")\n"
     ]
    }
   ],
   "source": [
    "import cobra"
   ]
  },
  {
   "cell_type": "code",
   "execution_count": 3,
   "id": "aa5a9741-3524-4507-b653-3fe9dec1f99f",
   "metadata": {
    "scrolled": true,
    "tags": []
   },
   "outputs": [
    {
     "ename": "Exception",
     "evalue": "libSBML required for fbc < 2",
     "output_type": "error",
     "traceback": [
      "\u001b[0;31m---------------------------------------------------------------------------\u001b[0m",
      "\u001b[0;31mException\u001b[0m                                 Traceback (most recent call last)",
      "\u001b[0;32m<ipython-input-3-5ec925daddda>\u001b[0m in \u001b[0;36m<module>\u001b[0;34m\u001b[0m\n\u001b[0;32m----> 1\u001b[0;31m \u001b[0mmodel\u001b[0m \u001b[0;34m=\u001b[0m \u001b[0mcobra\u001b[0m\u001b[0;34m.\u001b[0m\u001b[0mio\u001b[0m\u001b[0;34m.\u001b[0m\u001b[0mread_sbml_model\u001b[0m\u001b[0;34m(\u001b[0m\u001b[0;34m'./tmaritima-ME.xml'\u001b[0m\u001b[0;34m)\u001b[0m\u001b[0;34m\u001b[0m\u001b[0;34m\u001b[0m\u001b[0m\n\u001b[0m",
      "\u001b[0;32m~/me_modeling/lib/python3.6/site-packages/cobra-0.5.11-py3.6-linux-x86_64.egg/cobra/io/sbml3.py\u001b[0m in \u001b[0;36mread_sbml_model\u001b[0;34m(filename, number, **kwargs)\u001b[0m\n\u001b[1;32m    546\u001b[0m             \u001b[0mget_attrib\u001b[0m\u001b[0;34m(\u001b[0m\u001b[0mxml\u001b[0m\u001b[0;34m,\u001b[0m \u001b[0;34m\"fbc:required\"\u001b[0m\u001b[0;34m)\u001b[0m \u001b[0;32mis\u001b[0m \u001b[0;32mNone\u001b[0m\u001b[0;34m:\u001b[0m\u001b[0;34m\u001b[0m\u001b[0;34m\u001b[0m\u001b[0m\n\u001b[1;32m    547\u001b[0m         \u001b[0;32mif\u001b[0m \u001b[0mlibsbml\u001b[0m \u001b[0;32mis\u001b[0m \u001b[0;32mNone\u001b[0m\u001b[0;34m:\u001b[0m\u001b[0;34m\u001b[0m\u001b[0;34m\u001b[0m\u001b[0m\n\u001b[0;32m--> 548\u001b[0;31m             \u001b[0;32mraise\u001b[0m \u001b[0mException\u001b[0m\u001b[0;34m(\u001b[0m\u001b[0;34m\"libSBML required for fbc < 2\"\u001b[0m\u001b[0;34m)\u001b[0m\u001b[0;34m\u001b[0m\u001b[0;34m\u001b[0m\u001b[0m\n\u001b[0m\u001b[1;32m    549\u001b[0m         \u001b[0;31m# libsbml needs a file string, so write to temp file if a file handle\u001b[0m\u001b[0;34m\u001b[0m\u001b[0;34m\u001b[0m\u001b[0;34m\u001b[0m\u001b[0m\n\u001b[1;32m    550\u001b[0m         \u001b[0;32mif\u001b[0m \u001b[0mhasattr\u001b[0m\u001b[0;34m(\u001b[0m\u001b[0mfilename\u001b[0m\u001b[0;34m,\u001b[0m \u001b[0;34m\"read\"\u001b[0m\u001b[0;34m)\u001b[0m\u001b[0;34m:\u001b[0m\u001b[0;34m\u001b[0m\u001b[0;34m\u001b[0m\u001b[0m\n",
      "\u001b[0;31mException\u001b[0m: libSBML required for fbc < 2"
     ]
    }
   ],
   "source": [
    "model = cobra.io.read_sbml_model('./tmaritima-ME.xml')"
   ]
  },
  {
   "cell_type": "code",
   "execution_count": null,
   "id": "ec88b640-1f2d-47a5-a1b0-70b1715fab8b",
   "metadata": {},
   "outputs": [],
   "source": [
    "for r in model.metabolites.atp_c.reactions:\n",
    "    if r.lower_bound > 0:\n",
    "        print(r.id) \n",
    "        print(r.reaction)"
   ]
  },
  {
   "cell_type": "code",
   "execution_count": null,
   "id": "8e7734c4-c897-4985-b564-1c7ed1be35a9",
   "metadata": {},
   "outputs": [],
   "source": []
  }
 ],
 "metadata": {
  "kernelspec": {
   "display_name": "me_modeling",
   "language": "python",
   "name": "me_modeling"
  },
  "language_info": {
   "codemirror_mode": {
    "name": "ipython",
    "version": 3
   },
   "file_extension": ".py",
   "mimetype": "text/x-python",
   "name": "python",
   "nbconvert_exporter": "python",
   "pygments_lexer": "ipython3",
   "version": "3.6.8"
  }
 },
 "nbformat": 4,
 "nbformat_minor": 5
}
