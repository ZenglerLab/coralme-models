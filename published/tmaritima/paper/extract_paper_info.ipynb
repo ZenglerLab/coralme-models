{
 "cells": [
  {
   "cell_type": "code",
   "execution_count": null,
   "id": "ba0701e6-c009-4317-9be7-6d4be933b4cd",
   "metadata": {},
   "outputs": [],
   "source": [
    "import pandas as pd"
   ]
  },
  {
   "cell_type": "code",
   "execution_count": null,
   "id": "92e888d5-b2a7-4e71-8482-9e5912a9b1e4",
   "metadata": {},
   "outputs": [],
   "source": [
    "import io\n",
    "data = open('./tRNA-modifications.txt').read().split('#')\n",
    "mod_df = pd.DataFrame()\n",
    "for d in data:\n",
    "    mod_df = pd.concat([mod_df, pd.read_csv(io.StringIO(d), delim_whitespace=True).T],join='outer')\n",
    "all_paper_trnas = set([i.split('.')[0] for i in mod_df.index])"
   ]
  },
  {
   "cell_type": "markdown",
   "id": "3c9a7407-2b57-48b1-936d-533df6eb22f0",
   "metadata": {},
   "source": [
    "# Targets"
   ]
  },
  {
   "cell_type": "code",
   "execution_count": null,
   "id": "3126aac4-3b03-44c7-a5eb-8153b130f7a7",
   "metadata": {},
   "outputs": [],
   "source": [
    "from Bio import SeqIO\n",
    "trna_df = pd.read_csv('tRNAs.txt',sep='\\t',index_col=0)\n",
    "paper_dct = trna_df.reset_index().set_index('Codon')['tRNA'].to_dict()\n",
    "gb_file = Bio.SeqIO.parse(\"../building_data/genome_modified.gb\", \"gb\")\n",
    "contigs = [ i for i in gb_file ]\n",
    "dct = {'c':'G','g':'C','t':'A','a':'T'}"
   ]
  },
  {
   "cell_type": "code",
   "execution_count": null,
   "id": "55df39b4-0f85-49f1-abe3-704cd0b051f5",
   "metadata": {
    "scrolled": true,
    "tags": []
   },
   "outputs": [],
   "source": [
    "gb_dct = {}\n",
    "for c in contigs:\n",
    "    for f in c.features:\n",
    "        if f.type == 'tRNA':\n",
    "            s = f.qualifiers['anticodon'][0].split('seq:')[1].split(')')[0][::-1]\n",
    "            s2 = ''.join([dct[i] for i in s])\n",
    "            i = f.qualifiers['old_locus_tag'][0]\n",
    "            aa = f.qualifiers['product'][0].split('tRNA-')[1]\n",
    "#             if 'Ala' in f.qualifiers['product'][0]:\n",
    "            gb_dct[s2] = i\n",
    "            print(i,aa,s2)"
   ]
  },
  {
   "cell_type": "code",
   "execution_count": null,
   "id": "a3ed125a-5700-4ba8-ae08-7af2124fbb73",
   "metadata": {},
   "outputs": [],
   "source": [
    "paper_to_gb = {}\n",
    "for c in gb_dct:\n",
    "    gb_trna = gb_dct[c]\n",
    "    paper_trna = paper_dct[c]\n",
    "    paper_to_gb[paper_trna] = gb_trna"
   ]
  },
  {
   "cell_type": "code",
   "execution_count": null,
   "id": "c218aa9a-d09c-4ffb-b16c-2eb33ffed0d8",
   "metadata": {},
   "outputs": [],
   "source": [
    "coralme_rnamod = pd.DataFrame()"
   ]
  },
  {
   "cell_type": "code",
   "execution_count": null,
   "id": "72b61543-746f-49b6-b4b2-c19caf87acfa",
   "metadata": {},
   "outputs": [],
   "source": [
    "for i in all_paper_trnas:\n",
    "    if i not in paper_to_gb:\n",
    "        print(i)\n",
    "        continue\n",
    "    trna = paper_to_gb[i]\n",
    "    mods = mod_df[mod_df.index.str.contains(i)]\n",
    "    rnamod_dct = {}\n",
    "    for j,row in mods.iterrows():\n",
    "        rnamod_dct[trna] = {'position':row[1],\n",
    "                        'modification':row[0]}\n",
    "        coralme_rnamod = pd.concat([coralme_rnamod, pd.DataFrame.from_dict(rnamod_dct).T],join='outer')"
   ]
  },
  {
   "cell_type": "code",
   "execution_count": null,
   "id": "cbbe591f-8115-4ad2-b02f-0a338d3cbe78",
   "metadata": {},
   "outputs": [],
   "source": [
    "coralme_rnamod"
   ]
  },
  {
   "cell_type": "code",
   "execution_count": null,
   "id": "e49b922b-bbfc-404b-8fac-2e49e5042cc1",
   "metadata": {},
   "outputs": [],
   "source": [
    "# coralme_rnamod.to_csv('./building_data/post_transcriptional_modification_of_RNA.txt',sep='\\t')"
   ]
  },
  {
   "cell_type": "markdown",
   "id": "807462f3-5396-48a0-9f24-05ccc6224ca5",
   "metadata": {},
   "source": [
    "# Machinery"
   ]
  },
  {
   "cell_type": "code",
   "execution_count": null,
   "id": "e7b3b115-f8f3-412e-a0fe-cd1dcba85af3",
   "metadata": {
    "scrolled": true,
    "tags": []
   },
   "outputs": [],
   "source": [
    "dct = {}\n",
    "for i,row in mod_df.iterrows():\n",
    "    i = i.split('.')[0]\n",
    "    if i not in paper_to_gb:\n",
    "        print(i)\n",
    "        continue\n",
    "    if 'Monomer' not in row[2]:\n",
    "        continue\n",
    "    trna = paper_to_gb[i]\n",
    "    enz = row[2].split('_assumed')[0]\n",
    "    if enz not in dct:\n",
    "        dct[enz] = set()\n",
    "    dct[enz].add('{}_at_{}'.format(row[1],row[0]))\n"
   ]
  },
  {
   "cell_type": "code",
   "execution_count": null,
   "id": "749e61df-06f0-4399-88b6-01991d0e9557",
   "metadata": {
    "tags": []
   },
   "outputs": [],
   "source": [
    "for k,v in dct.items():\n",
    "    mods = [i.split('_at_')[1] for i in v]\n",
    "    pos = [i.split('_at_')[0] for i in v]\n",
    "    print(k,mods,','.join(pos))"
   ]
  },
  {
   "cell_type": "markdown",
   "id": "2a17d66b-a10f-4751-9539-5eb59e1a81a6",
   "metadata": {},
   "source": [
    "## ATPM"
   ]
  },
  {
   "cell_type": "markdown",
   "id": "f309249d-2c00-4baa-a531-8cb1915b18f4",
   "metadata": {
    "tags": []
   },
   "source": [
    "Supplementary information of the paper states atp maintenance is 25.0\n",
    "\n",
    "https://static-content.springer.com/esm/art%3A10.1038%2Fncomms1928/MediaObjects/41467_2012_BFncomms1928_MOESM921_ESM.pdf"
   ]
  },
  {
   "cell_type": "markdown",
   "id": "2240d002-c3f5-4bd1-9187-079e41f0903f",
   "metadata": {},
   "source": [
    "## New reactions"
   ]
  },
  {
   "cell_type": "code",
   "execution_count": null,
   "id": "f6290614-ab3a-4c80-ba92-757b1bfddfee",
   "metadata": {},
   "outputs": [],
   "source": [
    "import cobra"
   ]
  },
  {
   "cell_type": "code",
   "execution_count": null,
   "id": "aa5a9741-3524-4507-b653-3fe9dec1f99f",
   "metadata": {
    "scrolled": true,
    "tags": []
   },
   "outputs": [],
   "source": [
    "model = cobra.io.read_sbml_model('./tmaritima-ME.xml')"
   ]
  },
  {
   "cell_type": "code",
   "execution_count": null,
   "id": "ec88b640-1f2d-47a5-a1b0-70b1715fab8b",
   "metadata": {},
   "outputs": [],
   "source": [
    "for r in model.metabolites.atp_c.reactions:\n",
    "    if r.lower_bound > 0:\n",
    "        print(r.id) \n",
    "        print(r.reaction)"
   ]
  }
 ],
 "metadata": {
  "kernelspec": {
   "display_name": "python3.7-cobrame",
   "language": "python",
   "name": "python3.7-cobrame"
  },
  "language_info": {
   "codemirror_mode": {
    "name": "ipython",
    "version": 3
   },
   "file_extension": ".py",
   "mimetype": "text/x-python",
   "name": "python",
   "nbconvert_exporter": "python",
   "pygments_lexer": "ipython3",
   "version": "3.7.8"
  }
 },
 "nbformat": 4,
 "nbformat_minor": 5
}
