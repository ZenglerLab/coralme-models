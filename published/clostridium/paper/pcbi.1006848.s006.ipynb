{
 "cells": [
  {
   "cell_type": "markdown",
   "metadata": {},
   "source": [
    "## A simplified version of Fig 5\n",
    "This notebook contains code that can be used to reproduce the *in silico* portions of Fig 5 from Liu *et al* (*Plos comp bio*) 2018. The code will load in iJL965-ME,  solve it several times with varying amounts of maximum Ni$^{2+}$ allowed, and plot a figure comparing relative Ni$^{2+}$ uptake to growth rate, CODH_ACS protein activity, and CODH4 protein activity.\n",
    "\n",
    "The figure produced by this code is similar to the final figure presented in the manuscript.  Major differences are the number of data points included (the figure in the manuscript uses 50 data points verses the 10 calculated here) and the level of accuracy (1e-4 verses 1e-9 for the manuscript).  These differences are included so that this notebook would finish running within an hour.  "
   ]
  },
  {
   "cell_type": "markdown",
   "metadata": {},
   "source": [
    "#### Import packages"
   ]
  },
  {
   "cell_type": "code",
   "execution_count": 2,
   "metadata": {
    "tags": []
   },
   "outputs": [],
   "source": [
    "import numpy as np\n",
    "import pandas as pd\n",
    "\n",
    "from pickle import dump,load\n",
    "import matplotlib.pyplot as plt\n",
    "\n",
    "%matplotlib inline"
   ]
  },
  {
   "cell_type": "markdown",
   "metadata": {},
   "source": [
    "Import COBRAme.  If using the published COBRAme package, please uncomment the first 2 lines of code and remove the last 2 lines of code"
   ]
  },
  {
   "cell_type": "code",
   "execution_count": 6,
   "metadata": {
    "tags": []
   },
   "outputs": [],
   "source": [
    "from cobrame.solve.algorithms import binary_search\n",
    "from cobrame.solve.symbolic import compile_expressions\n",
    "\n",
    "# from minime.solve.algorithms import binary_search\n",
    "# from minime.solve.symbolic import compile_expressions"
   ]
  },
  {
   "cell_type": "markdown",
   "metadata": {},
   "source": [
    "#### Load iJL965-ME"
   ]
  },
  {
   "cell_type": "code",
   "execution_count": 7,
   "metadata": {
    "collapsed": false,
    "jupyter": {
     "outputs_hidden": false
    }
   },
   "outputs": [
    {
     "ename": "ModuleNotFoundError",
     "evalue": "No module named 'minime'",
     "output_type": "error",
     "traceback": [
      "\u001b[0;31m---------------------------------------------------------------------------\u001b[0m",
      "\u001b[0;31mModuleNotFoundError\u001b[0m                       Traceback (most recent call last)",
      "\u001b[0;32m<ipython-input-7-aac67a141a6b>\u001b[0m in \u001b[0;36m<module>\u001b[0;34m\u001b[0m\n\u001b[0;32m----> 1\u001b[0;31m \u001b[0mme\u001b[0m \u001b[0;34m=\u001b[0m \u001b[0mload\u001b[0m\u001b[0;34m(\u001b[0m\u001b[0mopen\u001b[0m\u001b[0;34m(\u001b[0m\u001b[0;34m'iJL965_ME.pickle'\u001b[0m\u001b[0;34m,\u001b[0m \u001b[0;34m'rb'\u001b[0m\u001b[0;34m)\u001b[0m\u001b[0;34m)\u001b[0m\u001b[0;34m\u001b[0m\u001b[0;34m\u001b[0m\u001b[0m\n\u001b[0m",
      "\u001b[0;31mModuleNotFoundError\u001b[0m: No module named 'minime'"
     ]
    }
   ],
   "source": [
    "me = load(open('iJL965_ME.pickle', 'rb'))"
   ]
  },
  {
   "cell_type": "markdown",
   "metadata": {},
   "source": [
    "#### Set the allowed substrate to CO"
   ]
  },
  {
   "cell_type": "code",
   "execution_count": 4,
   "metadata": {
    "collapsed": true,
    "jupyter": {
     "outputs_hidden": true
    }
   },
   "outputs": [],
   "source": [
    "me.reactions.EX_co_e.lower_bound = -1000.\n",
    "\n",
    "## Set the max uptake for alternate substrates to 0 \n",
    "me.reactions.EX_co2_e.lower_bound = 0.\n",
    "me.reactions.EX_h2_e.lower_bound = 0.\n",
    "me.reactions.EX_fru_e.lower_bound = 0."
   ]
  },
  {
   "cell_type": "markdown",
   "metadata": {},
   "source": [
    "## Running the model"
   ]
  },
  {
   "cell_type": "markdown",
   "metadata": {},
   "source": [
    "#### Solve model at maximum growth rate\n",
    "Here, we set mu_accuracy=1e-4, but the data in the manuscript uses 1e-9"
   ]
  },
  {
   "cell_type": "code",
   "execution_count": 5,
   "metadata": {
    "collapsed": false,
    "jupyter": {
     "outputs_hidden": false
    }
   },
   "outputs": [],
   "source": [
    "%%capture\n",
    "\n",
    "expressions = compile_expressions(me)\n",
    "\n",
    "binary_search(me,\n",
    "              min_mu=0.368,\n",
    "              max_mu=0.369,\n",
    "              mu_accuracy=1e-4,\n",
    "              compiled_expressions=expressions)"
   ]
  },
  {
   "cell_type": "markdown",
   "metadata": {},
   "source": [
    "#### Save values of interests"
   ]
  },
  {
   "cell_type": "markdown",
   "metadata": {},
   "source": [
    "Create variables to save the growth rate and protein activity"
   ]
  },
  {
   "cell_type": "code",
   "execution_count": 6,
   "metadata": {
    "collapsed": true,
    "jupyter": {
     "outputs_hidden": true
    }
   },
   "outputs": [],
   "source": [
    "columns = []\n",
    "fluxes = []"
   ]
  },
  {
   "cell_type": "markdown",
   "metadata": {},
   "source": [
    "Save maximum Ni$^{2+}$ uptake and calculate intervals of Ni$^{2+}$ constraint. Here, we calculate an additional 9 points, but the data in the manuscript includes 50."
   ]
  },
  {
   "cell_type": "code",
   "execution_count": 7,
   "metadata": {
    "collapsed": true,
    "jupyter": {
     "outputs_hidden": true
    }
   },
   "outputs": [],
   "source": [
    "max_ex_ni2_e = me.solution.x_dict['EX_ni2_e']\n",
    "ni_bounds = np.linspace(0, max_ex_ni2_e, 11)[1:-1]"
   ]
  },
  {
   "cell_type": "markdown",
   "metadata": {},
   "source": [
    "Save maximum growth rate, which will be used to set the upper limit for growth rate in future runs of binary_search() for quicker solving times, as the number of iterations the function must repeat is cut down."
   ]
  },
  {
   "cell_type": "code",
   "execution_count": 8,
   "metadata": {
    "collapsed": true,
    "jupyter": {
     "outputs_hidden": true
    }
   },
   "outputs": [],
   "source": [
    "max_gr = me.solution.f"
   ]
  },
  {
   "cell_type": "markdown",
   "metadata": {},
   "source": [
    "Prepare to calculate protein activity for target metabolic reactions."
   ]
  },
  {
   "cell_type": "code",
   "execution_count": 9,
   "metadata": {
    "collapsed": false,
    "jupyter": {
     "outputs_hidden": false
    }
   },
   "outputs": [],
   "source": [
    "def calculate_protein_activity(solution_dict, metabolic_rxns):\n",
    "    \"\"\"Calculates the protein activity of metabolic reactions\"\"\"\n",
    "    \n",
    "    protein_biomass = solution_dict['protein_biomass_to_biomass']\n",
    "    growth_rate = solution_dict['biomass_dilution']\n",
    "    \n",
    "    series = pd.Series(index=metabolic_rxns)\n",
    "    for rxn in metabolic_rxns:\n",
    "        protein_activity = abs(solution_dict[rxn]/(protein_biomass/growth_rate))\n",
    "        series.loc[rxn] = protein_activity\n",
    "    return series"
   ]
  },
  {
   "cell_type": "markdown",
   "metadata": {},
   "source": [
    "Define metabolic reactions that require Ni$^{2+}$-containing proteins"
   ]
  },
  {
   "cell_type": "code",
   "execution_count": 10,
   "metadata": {
    "collapsed": true,
    "jupyter": {
     "outputs_hidden": true
    }
   },
   "outputs": [],
   "source": [
    "metabolic_ni_rxns = ['CODH_ACS_FWD_CODH_AC_SYN_mod_1:4fe4s_mod_1:ni2',\n",
    "                     'HYD2_FWD_CPLX-27_mod_1:2fe2s_mod_1:ni2',\n",
    "                     'CODH4_FWD_CPLX-15_mod_1:4fe4s_mod_1:ni2']"
   ]
  },
  {
   "cell_type": "markdown",
   "metadata": {},
   "source": [
    "Save growth rate and protein activity of Ni$^{2+}$-containing proteins from the maximum growth rate run"
   ]
  },
  {
   "cell_type": "code",
   "execution_count": 11,
   "metadata": {
    "collapsed": false,
    "jupyter": {
     "outputs_hidden": false
    }
   },
   "outputs": [],
   "source": [
    "ex_ni2_e = me.solution.x_dict['EX_ni2_e']\n",
    "ni_uptake_ratio = ex_ni2_e/max_ex_ni2_e\n",
    "columns.append(ni_uptake_ratio)\n",
    "\n",
    "series = calculate_protein_activity(me.solution.x_dict,\n",
    "                                    metabolic_ni_rxns)\n",
    "series.loc['f'] = me.solution.f\n",
    "fluxes.append(series)"
   ]
  },
  {
   "cell_type": "markdown",
   "metadata": {},
   "source": [
    "#### Rerun model with Ni$^{2+}$ constrained and save target values"
   ]
  },
  {
   "cell_type": "code",
   "execution_count": 12,
   "metadata": {
    "collapsed": false,
    "jupyter": {
     "outputs_hidden": false
    }
   },
   "outputs": [],
   "source": [
    "%%capture\n",
    "\n",
    "previous_gr = 0.1\n",
    "for ni in ni_bounds:\n",
    "    ## Constrain the exchange of Ni2+\n",
    "    me.reactions.EX_ni2_e.lower_bound = ni\n",
    "    \n",
    "    ## Run model\n",
    "    ## The growth rate is rounded off to match mu_accuracy, which is not necessary step\n",
    "    binary_search(me,\n",
    "                  min_mu = round(previous_gr, 5),\n",
    "                  max_mu = round(max_gr, 5),\n",
    "                  mu_accuracy = 1e-4,\n",
    "                  compiled_expressions=expressions)\n",
    "    \n",
    "    ## Save values of interest\n",
    "    previous_gr = me.solution.f\n",
    "    ex_ni2_e = me.solution.x_dict['EX_ni2_e']\n",
    "    \n",
    "    ni_uptake_ratio = ex_ni2_e/max_ex_ni2_e\n",
    "    columns.append(ni_uptake_ratio)\n",
    "\n",
    "    series = calculate_protein_activity(me.solution.x_dict,\n",
    "                                        metabolic_ni_rxns)\n",
    "    series.loc['f'] = me.solution.f\n",
    "    fluxes.append(series)"
   ]
  },
  {
   "cell_type": "markdown",
   "metadata": {},
   "source": [
    "## Plotting data"
   ]
  },
  {
   "cell_type": "markdown",
   "metadata": {},
   "source": [
    "Format data"
   ]
  },
  {
   "cell_type": "code",
   "execution_count": 13,
   "metadata": {
    "collapsed": true,
    "jupyter": {
     "outputs_hidden": true
    }
   },
   "outputs": [],
   "source": [
    "df = pd.concat(fluxes, axis=1)\n",
    "df.columns = columns\n",
    "df[0] = 0  ## Clostridium lljungdahli does not grow without Ni2+ on CO\n",
    "df.sort_index(axis=1, inplace=True)"
   ]
  },
  {
   "cell_type": "markdown",
   "metadata": {},
   "source": [
    "Create image"
   ]
  },
  {
   "cell_type": "code",
   "execution_count": 14,
   "metadata": {
    "collapsed": false,
    "jupyter": {
     "outputs_hidden": false
    }
   },
   "outputs": [
    {
     "data": {
      "image/png": "[encoded data removed]",
      "text/plain": [
       "<matplotlib.figure.Figure at 0x10a74d810>"
      ]
     },
     "metadata": {},
     "output_type": "display_data"
    }
   ],
   "source": [
    "fig, axes = plt.subplots(1, 2, figsize=(6.5, 3))\n",
    "\n",
    "## Plot relative Ni2+ uptake verses growth rate\n",
    "axes[0].plot(df.columns, df.loc[\"f\"], 'k-')\n",
    "axes[0].set(xlim=(0, 1), \n",
    "            xlabel=r\"$in silico$ relative Ni$^{2+}$ uptake\",\n",
    "            ylim=(0, 0.4), \n",
    "            ylabel=\"\\n\".join([r\"$in silico$\",\n",
    "                              r\"max growth rate (h$^{-1}$)\"]))\n",
    "\n",
    "## Plot relative Ni2+ uptake verses protein activity of CODH_ACS and CODH4\n",
    "## The third Ni2+-containing enzyme, a hydrogenase, has activity of 0\n",
    "axes[1].plot(df.columns, \n",
    "             df.loc['CODH_ACS_FWD_CODH_AC_SYN_mod_1:4fe4s_mod_1:ni2'],\n",
    "             'k:',\n",
    "             label='CODH_ACS')\n",
    "axes[1].plot(df.columns, \n",
    "             df.loc['CODH4_FWD_CPLX-15_mod_1:4fe4s_mod_1:ni2'],\n",
    "             'k--',\n",
    "             label='CODH4')\n",
    "axes[1].set(xlim=(0, 1),\n",
    "            xlabel=r\"$in silico$ relative Ni$^{2+}$ uptake\",\n",
    "            ylim=(0, 65),\n",
    "            ylabel=\"\\n\".join([r\"$in silico$ protein activity\",\n",
    "                              r\"mmol*protein gDW$^{-1}$*h$^{-1}$\"]))\n",
    "axes[1].legend()\n",
    "fig.tight_layout()"
   ]
  },
  {
   "cell_type": "markdown",
   "metadata": {},
   "source": [
    "As stated at the top of the notebook, this image differs slightly from Fig 5 in the manuscript due to the number of data points included (10 vs 50) and the level of accuracy (1e-4 vs 1e-9). The user is welcome to modify the code to fully reproduce Fig 5. \n",
    "\n",
    "Other modifications to the code, like changing the allowed substrate and checking metabolites being consumed/released, can be used to reproduce any other figure in the manuscript."
   ]
  },
  {
   "cell_type": "markdown",
   "metadata": {},
   "source": [
    "### END"
   ]
  }
 ],
 "metadata": {
  "kernelspec": {
   "display_name": "me_modeling",
   "language": "python",
   "name": "me_modeling"
  },
  "language_info": {
   "codemirror_mode": {
    "name": "ipython",
    "version": 3
   },
   "file_extension": ".py",
   "mimetype": "text/x-python",
   "name": "python",
   "nbconvert_exporter": "python",
   "pygments_lexer": "ipython3",
   "version": "3.6.8"
  }
 },
 "nbformat": 4,
 "nbformat_minor": 4
}
