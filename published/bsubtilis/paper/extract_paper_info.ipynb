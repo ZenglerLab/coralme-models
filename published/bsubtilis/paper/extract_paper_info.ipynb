{
 "cells": [
  {
   "cell_type": "code",
   "execution_count": 2,
   "id": "1e47e662-b3f5-41b2-8fcc-bbf37687a49a",
   "metadata": {},
   "outputs": [],
   "source": [
    "import pandas as pd"
   ]
  },
  {
   "cell_type": "markdown",
   "id": "fef97023-8320-4290-a5ab-459c03f4e4c2",
   "metadata": {},
   "source": [
    "# Targets"
   ]
  },
  {
   "cell_type": "code",
   "execution_count": 4,
   "id": "aba293a8-d7b5-4328-9c08-30f173bf43a9",
   "metadata": {},
   "outputs": [],
   "source": [
    "from Bio import SeqIO\n",
    "gb_file = SeqIO.parse(\"../building_data/genome_modified.gb\", \"gb\")\n",
    "contigs = [ i for i in gb_file ]"
   ]
  },
  {
   "cell_type": "code",
   "execution_count": 3,
   "id": "8a484787-47c7-4537-8bb2-50e08cb4b070",
   "metadata": {},
   "outputs": [],
   "source": [
    "import re"
   ]
  },
  {
   "cell_type": "code",
   "execution_count": 28,
   "id": "ed14b030-4990-4711-ada3-700116d98b40",
   "metadata": {
    "scrolled": true,
    "tags": []
   },
   "outputs": [
    {
     "name": "stdout",
     "output_type": "stream",
     "text": [
      "BSU_tRNA_6 UGC\n",
      "BSU_tRNA_7 UGA\n",
      "BSU_tRNA_8 GAU\n",
      "BSU_tRNA_9 UGC\n",
      "BSU_tRNA_10 CAU\n",
      "BSU_tRNA_11 UUC\n",
      "BSU_tRNA_12 UAC\n",
      "BSU_tRNA_13 UGU\n",
      "BSU_tRNA_14 UUU\n",
      "BSU_tRNA_15 UAG\n",
      "BSU_tRNA_16 GCC\n",
      "BSU_tRNA_17 UAA\n",
      "BSU_tRNA_18 ACG\n",
      "BSU_tRNA_19 UGG\n",
      "BSU_tRNA_20 UGC\n",
      "BSU_tRNA_23 GUU\n",
      "BSU_tRNA_24 GGU\n",
      "BSU_tRNA_25 GCC\n",
      "BSU_tRNA_26 AGC\n",
      "BSU_tRNA_28 UGC\n",
      "BSU_tRNA_75 UUC\n",
      "BSU_tRNA_78 UAC\n",
      "BSU_tRNA_76 UGU\n",
      "BSU_tRNA_77 GAU\n",
      "BSU_tRNA_74 UUG\n",
      "BSU_tRNA_45 GUU\n",
      "BSU_tRNA_46 GCU\n",
      "BSU_tRNA_48 UUG\n",
      "BSU_tRNA_49 UUU\n",
      "BSU_tRNA_50 UAG\n",
      "BSU_tRNA_51 GAG\n",
      "BSU_tRNA_80 UCC\n",
      "BSU_tRNA_21 CAU\n",
      "BSU_tRNA_22 GUC\n",
      "BSU_tRNA_29 GUU\n",
      "BSU_tRNA_30 GGA\n",
      "BSU_tRNA_31 UUC\n",
      "BSU_tRNA_32 UAC\n",
      "BSU_tRNA_33 CAU\n",
      "BSU_tRNA_34 GUC\n",
      "BSU_tRNA_35 GAA\n",
      "BSU_tRNA_36 UGU\n",
      "BSU_tRNA_37 GUA\n",
      "BSU_tRNA_38 CCA\n",
      "BSU_tRNA_39 GUG\n",
      "BSU_tRNA_40 UUG\n",
      "BSU_tRNA_41 GCC\n",
      "BSU_tRNA_42 GCA\n",
      "BSU_tRNA_43 UAA\n",
      "BSU_tRNA_44 CAA\n",
      "BSU_tRNA_82 TCC\n",
      "BSU_tRNA_83 GAC\n",
      "BSU_tRNA_73 UUG\n",
      "BSU_tRNA_84 UCU\n",
      "BSU_tRNA_86 GGC\n",
      "BSU_tRNA_81 CCG\n"
     ]
    }
   ],
   "source": [
    "gb_dct = {}\n",
    "for c in contigs:\n",
    "    for f in c.features:\n",
    "        if f.type == 'tRNA':\n",
    "            s = f.qualifiers['note'][0]\n",
    "            codon = re.findall('(?<=\\()[A-Z]{3}(?=\\))',s)\n",
    "            if not codon:\n",
    "                continue\n",
    "            codon = codon[0]\n",
    "            i = f.qualifiers['old_locus_tag'][0]\n",
    "            gb_dct[codon] = i\n",
    "            print(i,codon)\n",
    "#             s2 = ''.join([dct[i] for i in s])\n",
    "#             i = f.qualifiers['old_locus_tag'][0]\n",
    "#             aa = f.qualifiers['product'][0].split('tRNA-')[1]\n",
    "# #             if 'Ala' in f.qualifiers['product'][0]:\n",
    "#             gb_dct[s2] = i\n",
    "#             print(i,aa,s2)"
   ]
  },
  {
   "cell_type": "code",
   "execution_count": 46,
   "id": "5b93f9c1-11a3-49a3-acfe-060ee839a79d",
   "metadata": {},
   "outputs": [],
   "source": [
    "# From https://www.ncbi.nlm.nih.gov/pmc/articles/PMC7408541/\n",
    "targets = pd.read_csv('./tRNA-mod-targets.txt',sep='\\t',index_col=0, comment='#')"
   ]
  },
  {
   "cell_type": "code",
   "execution_count": 51,
   "id": "bdf07668-6723-4302-9216-28a37b7067fc",
   "metadata": {},
   "outputs": [],
   "source": [
    "coralme_rnamod = pd.DataFrame()"
   ]
  },
  {
   "cell_type": "code",
   "execution_count": 56,
   "id": "d4a647ed-ac88-4395-a30a-385786c09028",
   "metadata": {},
   "outputs": [
    {
     "name": "stdout",
     "output_type": "stream",
     "text": [
      "GCT not in genbank\n",
      "CAG not in genbank\n"
     ]
    },
    {
     "data": {
      "text/html": [
       "<div>\n",
       "<style scoped>\n",
       "    .dataframe tbody tr th:only-of-type {\n",
       "        vertical-align: middle;\n",
       "    }\n",
       "\n",
       "    .dataframe tbody tr th {\n",
       "        vertical-align: top;\n",
       "    }\n",
       "\n",
       "    .dataframe thead th {\n",
       "        text-align: right;\n",
       "    }\n",
       "</style>\n",
       "<table border=\"1\" class=\"dataframe\">\n",
       "  <thead>\n",
       "    <tr style=\"text-align: right;\">\n",
       "      <th></th>\n",
       "      <th>modification</th>\n",
       "      <th>position</th>\n",
       "    </tr>\n",
       "  </thead>\n",
       "  <tbody>\n",
       "    <tr>\n",
       "      <th>BSU_tRNA_42</th>\n",
       "      <td>m1A</td>\n",
       "      <td>22</td>\n",
       "    </tr>\n",
       "    <tr>\n",
       "      <th>BSU_tRNA_73</th>\n",
       "      <td>m1A</td>\n",
       "      <td>22</td>\n",
       "    </tr>\n",
       "    <tr>\n",
       "      <th>BSU_tRNA_31</th>\n",
       "      <td>m1A</td>\n",
       "      <td>22</td>\n",
       "    </tr>\n",
       "    <tr>\n",
       "      <th>BSU_tRNA_44</th>\n",
       "      <td>m1A</td>\n",
       "      <td>22</td>\n",
       "    </tr>\n",
       "    <tr>\n",
       "      <th>BSU_tRNA_43</th>\n",
       "      <td>m1A</td>\n",
       "      <td>22</td>\n",
       "    </tr>\n",
       "    <tr>\n",
       "      <th>...</th>\n",
       "      <td>...</td>\n",
       "      <td>...</td>\n",
       "    </tr>\n",
       "    <tr>\n",
       "      <th>BSU_tRNA_33</th>\n",
       "      <td>m6A</td>\n",
       "      <td>37</td>\n",
       "    </tr>\n",
       "    <tr>\n",
       "      <th>BSU_tRNA_77</th>\n",
       "      <td>t6A</td>\n",
       "      <td>37</td>\n",
       "    </tr>\n",
       "    <tr>\n",
       "      <th>BSU_tRNA_36</th>\n",
       "      <td>t6A</td>\n",
       "      <td>37</td>\n",
       "    </tr>\n",
       "    <tr>\n",
       "      <th>BSU_tRNA_39</th>\n",
       "      <td>Q</td>\n",
       "      <td>34</td>\n",
       "    </tr>\n",
       "    <tr>\n",
       "      <th>BSU_tRNA_34</th>\n",
       "      <td>Q</td>\n",
       "      <td>34</td>\n",
       "    </tr>\n",
       "  </tbody>\n",
       "</table>\n",
       "<p>120 rows × 2 columns</p>\n",
       "</div>"
      ],
      "text/plain": [
       "            modification position\n",
       "BSU_tRNA_42          m1A       22\n",
       "BSU_tRNA_73          m1A       22\n",
       "BSU_tRNA_31          m1A       22\n",
       "BSU_tRNA_44          m1A       22\n",
       "BSU_tRNA_43          m1A       22\n",
       "...                  ...      ...\n",
       "BSU_tRNA_33          m6A       37\n",
       "BSU_tRNA_77          t6A       37\n",
       "BSU_tRNA_36          t6A       37\n",
       "BSU_tRNA_39            Q       34\n",
       "BSU_tRNA_34            Q       34\n",
       "\n",
       "[120 rows x 2 columns]"
      ]
     },
     "execution_count": 56,
     "metadata": {},
     "output_type": "execute_result"
    }
   ],
   "source": [
    "for mod, row in targets.iterrows():\n",
    "    trnas = row['target'].split(',')\n",
    "    for t in trnas:\n",
    "        rnamod_dct = {}\n",
    "        codon = re.findall('[A-Z]{3}',t)[0]\n",
    "        pos = re.findall('[0-9]{1,}',t)[0]\n",
    "        if codon not in gb_dct:\n",
    "            print('{} not in genbank'.format(codon))\n",
    "            continue\n",
    "        rnamod_dct[gb_dct[codon]] = {\n",
    "            'position':pos,\n",
    "            'modification':mod\n",
    "        }\n",
    "        coralme_rnamod = pd.concat([coralme_rnamod, pd.DataFrame.from_dict(rnamod_dct).T],join='outer')        \n",
    "coralme_rnamod"
   ]
  },
  {
   "cell_type": "code",
   "execution_count": 71,
   "id": "4dba7b23-8564-46f8-8bc0-30a2f8804dd3",
   "metadata": {},
   "outputs": [
    {
     "data": {
      "text/html": [
       "<div>\n",
       "<style scoped>\n",
       "    .dataframe tbody tr th:only-of-type {\n",
       "        vertical-align: middle;\n",
       "    }\n",
       "\n",
       "    .dataframe tbody tr th {\n",
       "        vertical-align: top;\n",
       "    }\n",
       "\n",
       "    .dataframe thead th {\n",
       "        text-align: right;\n",
       "    }\n",
       "</style>\n",
       "<table border=\"1\" class=\"dataframe\">\n",
       "  <thead>\n",
       "    <tr style=\"text-align: right;\">\n",
       "      <th></th>\n",
       "      <th>modification</th>\n",
       "      <th>position</th>\n",
       "    </tr>\n",
       "  </thead>\n",
       "  <tbody>\n",
       "    <tr>\n",
       "      <th>BSU_tRNA_50</th>\n",
       "      <td>mo5U</td>\n",
       "      <td>34</td>\n",
       "    </tr>\n",
       "    <tr>\n",
       "      <th>BSU_tRNA_50</th>\n",
       "      <td>mo5U</td>\n",
       "      <td>34</td>\n",
       "    </tr>\n",
       "    <tr>\n",
       "      <th>BSU_tRNA_50</th>\n",
       "      <td>mo5U</td>\n",
       "      <td>34</td>\n",
       "    </tr>\n",
       "  </tbody>\n",
       "</table>\n",
       "</div>"
      ],
      "text/plain": [
       "            modification position\n",
       "BSU_tRNA_50         mo5U       34\n",
       "BSU_tRNA_50         mo5U       34\n",
       "BSU_tRNA_50         mo5U       34"
      ]
     },
     "execution_count": 71,
     "metadata": {},
     "output_type": "execute_result"
    }
   ],
   "source": [
    "coralme_rnamod[coralme_rnamod['modification'].str.contains('mo5U')]"
   ]
  },
  {
   "cell_type": "code",
   "execution_count": 57,
   "id": "90457464-97e3-43b4-b059-bdf50c9054b0",
   "metadata": {},
   "outputs": [],
   "source": [
    "# coralme_rnamod.to_csv('../building_data/post_transcriptional_modification_of_RNA.txt',sep='\\t')"
   ]
  },
  {
   "cell_type": "markdown",
   "id": "523716e0-f528-4330-9b25-59c6229b8211",
   "metadata": {},
   "source": [
    "### Rho dependent"
   ]
  },
  {
   "cell_type": "code",
   "execution_count": 45,
   "id": "6ca2bc3e-b5d9-4d0b-a0fa-9dced8ffcb41",
   "metadata": {},
   "outputs": [],
   "source": [
    "df = pd.read_csv('./TU_sequences.txt',sep='\\t',index_col=0,comment='#')"
   ]
  },
  {
   "cell_type": "code",
   "execution_count": 51,
   "id": "f43c7886-8d45-4824-8367-f22adf86983b",
   "metadata": {},
   "outputs": [],
   "source": [
    "with open('TU_sequences.fasta','w') as f:\n",
    "    for tu, row in df.iterrows():\n",
    "        f.write('>{}\\n'.format(tu))\n",
    "        f.write(row['Sequence - DNA sequence'] + '\\n')"
   ]
  },
  {
   "cell_type": "code",
   "execution_count": 41,
   "id": "1be52b85-0469-418a-a9f4-eab88c8656dc",
   "metadata": {},
   "outputs": [],
   "source": [
    "iJT964_TUs = pd.read_csv('./iJT964_TUs.txt',sep='\\t',index_col=0,comment='#')\n",
    "iJT964_TUs = iJT964_TUs[iJT964_TUs['rho_independent'] == False]"
   ]
  },
  {
   "cell_type": "code",
   "execution_count": 43,
   "id": "10d7eb00-a495-43fa-84bf-57a014071dfd",
   "metadata": {
    "scrolled": true,
    "tags": []
   },
   "outputs": [],
   "source": [
    "l = []\n",
    "for tu,row in iJT964_TUs.iterrows():\n",
    "    l.append(tu.split('_from_')[0].replace('_','-'))"
   ]
  },
  {
   "cell_type": "code",
   "execution_count": 44,
   "id": "b635a9f6-2d2e-40b1-abc5-84f25064b28b",
   "metadata": {},
   "outputs": [],
   "source": [
    "df = pd.DataFrame(columns=l).T\n",
    "df.index.name = 'id'\n",
    "df.to_csv('../building_data/rho_dependent.txt')"
   ]
  }
 ],
 "metadata": {
  "kernelspec": {
   "display_name": "coralme",
   "language": "python",
   "name": "coralme"
  },
  "language_info": {
   "codemirror_mode": {
    "name": "ipython",
    "version": 3
   },
   "file_extension": ".py",
   "mimetype": "text/x-python",
   "name": "python",
   "nbconvert_exporter": "python",
   "pygments_lexer": "ipython3",
   "version": "3.7.8"
  }
 },
 "nbformat": 4,
 "nbformat_minor": 5
}
