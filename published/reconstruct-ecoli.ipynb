{
 "cells": [
  {
   "cell_type": "code",
   "execution_count": 111,
   "id": "fadf741b-d65e-4c02-a73f-3c1414e848ce",
   "metadata": {
    "ExecuteTime": {
     "end_time": "2022-12-12T06:27:35.182100Z",
     "start_time": "2022-12-12T06:27:35.157355Z"
    }
   },
   "outputs": [
    {
     "data": {
      "text/html": [
       "<style>.container { width:95% !important; }</style>"
      ],
      "text/plain": [
       "<IPython.core.display.HTML object>"
      ]
     },
     "metadata": {},
     "output_type": "display_data"
    },
    {
     "name": "stdout",
     "output_type": "stream",
     "text": [
      "The autoreload extension is already loaded. To reload it, use:\n",
      "  %reload_ext autoreload\n"
     ]
    }
   ],
   "source": [
    "from IPython.display import display, HTML, Math, Markdown\n",
    "display(HTML(\"<style>.container { width:95% !important; }</style>\"))\n",
    "\n",
    "%load_ext autoreload\n",
    "%autoreload 2"
   ]
  },
  {
   "cell_type": "code",
   "execution_count": 112,
   "id": "63414ed1-c7f0-4b1c-9dd0-534c4182f428",
   "metadata": {
    "ExecuteTime": {
     "end_time": "2022-12-12T06:27:36.177441Z",
     "start_time": "2022-12-12T06:27:35.183790Z"
    }
   },
   "outputs": [],
   "source": [
    "from coralme.builder.main import MEBuilder, MEReconstruction, METroubleshooter\n",
    "from coralme.builder.curation import MECurator, MEManualCuration\n",
    "import coralme"
   ]
  },
  {
   "cell_type": "code",
   "execution_count": 115,
   "id": "659ca4b2-ac94-4b00-98e8-68fdf89c0b16",
   "metadata": {},
   "outputs": [],
   "source": [
    "org = 'ecoli'\n",
    "organism = './{:s}/organism.json'.format(org)\n",
    "inputs = './{:s}/input.json'.format(org)"
   ]
  },
  {
   "cell_type": "markdown",
   "id": "50f8ec29-232f-4f8a-9143-4ec0f89c3b94",
   "metadata": {},
   "source": [
    "### Full"
   ]
  },
  {
   "cell_type": "code",
   "execution_count": 116,
   "id": "63010c92-3cab-4563-8252-51a4e489ae0e",
   "metadata": {
    "scrolled": true,
    "tags": []
   },
   "outputs": [],
   "source": [
    "builder = MEBuilder(*[organism, inputs])\n",
    "builder.configuration['run_bbh_blast'] = False\n",
    "# builder.configuration['dev_reference'] = Falsehttps://pubmed.ncbi.nlm.nih.gov/15351641/\n",
    "builder.configuration['include_pseudo_genes'] = False\n",
    "builder.configuration[\"df_metadata_metabolites\"] = \"./{}/building_data/me_metabolites.txt\".format(org)"
   ]
  },
  {
   "cell_type": "code",
   "execution_count": 117,
   "id": "cd56e9b5-9c24-40ac-bd8b-d1a1d6d23c2a",
   "metadata": {
    "ExecuteTime": {
     "end_time": "2022-12-12T06:30:28.060280Z",
     "start_time": "2022-12-12T06:30:01.706785Z"
    },
    "scrolled": true,
    "tags": []
   },
   "outputs": [
    {
     "name": "stdout",
     "output_type": "stream",
     "text": [
      "Initiating file processing...\n",
      "~ Processing files for iJL1678b-ME...\n"
     ]
    },
    {
     "name": "stderr",
     "output_type": "stream",
     "text": [
      "Checking M-model metabolites...                                            : 100.0%|████████████████████████████████████████|  1660/ 1660 [00:00<00:00]\n",
      "Checking M-model reactions...                                              : 100.0%|████████████████████████████████████████|  2377/ 2377 [00:00<00:00]\n",
      "Generating complexes dataframe from optional proteins file...              : 100.0%|████████████████████████████████████████|  1301/ 1301 [00:00<00:00]\n",
      "Syncing optional genes file...                                             : 100.0%|████████████████████████████████████████|  4713/ 4713 [00:12<00:00]\n",
      "Looking for duplicates within datasets...                                  : 100.0%|████████████████████████████████████████|     5/    5 [00:00<00:00]\n",
      "Gathering ID occurrences across datasets...                                : 100.0%|████████████████████████████████████████| 12176/12176 [00:00<00:00]\n",
      "Solving duplicates across datasets...                                      : 0.0%|                                              |     0/    0 [00:00<?]\n",
      "Pruning GenBank...                                                         : 100.0%|████████████████████████████████████████|     1/    1 [00:09<00:00]\n",
      "Updating Genbank file with optional files...                               : 100.0%|████████████████████████████████████████|  4713/ 4713 [00:00<00:00]\n",
      "Syncing optional files with genbank contigs...                             : 100.0%|████████████████████████████████████████|   287/  287 [00:24<00:00]\n",
      "Modifying metabolic reactions with manual curation...                      : 0.0%|                                              |     0/    0 [00:00<?]\n",
      "Adding manual curation of complexes...                                     : 0.0%|                                              |     0/    0 [00:00<?]\n",
      "Getting sigma factors...                                                   : 100.0%|████████████████████████████████████████|     7/    7 [00:00<00:00]\n",
      "Getting generics from Genbank contigs...                                   : 100.0%|████████████████████████████████████████|   287/  287 [00:00<00:00]\n",
      "Getting TU-gene associations from optional TUs file...                     : 100.0%|████████████████████████████████████████|  3697/ 3697 [00:00<00:00]\n",
      "Gathering ribosome stoichiometry...                                        : 100.0%|████████████████████████████████████████|    55/   55 [00:00<00:00]\n",
      "Adding protein location...                                                 : 100.0%|████████████████████████████████████████|  5069/ 5069 [00:01<00:00]\n",
      "Purging M-model genes...                                                   : 100.0%|████████████████████████████████████████|  1271/ 1271 [00:01<00:00]\n"
     ]
    },
    {
     "name": "stdout",
     "output_type": "stream",
     "text": [
      "Reading iJL1678b-ME done...\n"
     ]
    },
    {
     "name": "stderr",
     "output_type": "stream",
     "text": [
      "Gathering M-model compartments...                                          : 100.0%|████████████████████████████████████████|     3/    3 [00:00<00:00]\n",
      "Fixing compartments in M-model metabolites...                              : 100.0%|████████████████████████████████████████|  1660/ 1660 [00:00<00:00]\n",
      "Fixing missing names in M-model reactions...                               : 100.0%|████████████████████████████████████████|  2377/ 2377 [00:00<00:00]\n",
      "Getting enzyme-reaction associations...                                    : 100.0%|████████████████████████████████████████|  2377/ 2377 [00:35<00:00]\n",
      "Getting tRNA to codon dictionary from NC_000913.2                          : 100.0%|████████████████████████████████████████|  4317/ 4317 [00:25<00:00]\n",
      "Getting tRNA to codon dictionary from b0235                                : 100.0%|████████████████████████████████████████|     2/    2 [00:00<00:00]\n",
      "Getting tRNA to codon dictionary from b4644                                : 100.0%|████████████████████████████████████████|     2/    2 [00:00<00:00]\n",
      "Getting tRNA to codon dictionary from b0691                                : 100.0%|████████████████████████████████████████|     2/    2 [00:00<00:00]\n",
      "Getting tRNA to codon dictionary from b2862                                : 100.0%|████████████████████████████████████████|     2/    2 [00:00<00:00]\n",
      "Getting tRNA to codon dictionary from b1362                                : 100.0%|████████████████████████████████████████|     2/    2 [00:00<00:00]\n",
      "Getting tRNA to codon dictionary from b0218                                : 100.0%|████████████████████████████████████████|     2/    2 [00:00<00:00]\n",
      "Getting tRNA to codon dictionary from b4810                                : 100.0%|████████████████████████████████████████|     2/    2 [00:00<00:00]\n",
      "Getting tRNA to codon dictionary from b4807                                : 100.0%|████████████████████████████████████████|     2/    2 [00:00<00:00]\n",
      "Getting tRNA to codon dictionary from b4808                                : 100.0%|████████████████████████████████████████|     2/    2 [00:00<00:00]\n",
      "Getting tRNA to codon dictionary from b4809                                : 100.0%|████████████████████████████████████████|     2/    2 [00:00<00:00]\n",
      "Getting tRNA to codon dictionary from b4764                                : 100.0%|████████████████████████████████████████|     2/    2 [00:00<00:00]\n",
      "Getting tRNA to codon dictionary from G0-10537                             : 100.0%|████████████████████████████████████████|     2/    2 [00:00<00:00]\n",
      "Getting tRNA to codon dictionary from G0-10531                             : 100.0%|████████████████████████████████████████|     2/    2 [00:00<00:00]\n",
      "Getting tRNA to codon dictionary from b4710                                : 100.0%|████████████████████████████████████████|     2/    2 [00:00<00:00]\n",
      "Getting tRNA to codon dictionary from G0-10528                             : 100.0%|████████████████████████████████████████|     2/    2 [00:00<00:00]\n",
      "Getting tRNA to codon dictionary from G0-10544                             : 100.0%|████████████████████████████████████████|     2/    2 [00:00<00:00]\n",
      "Getting tRNA to codon dictionary from G0-10541                             : 100.0%|████████████████████████████████████████|     2/    2 [00:00<00:00]\n",
      "Getting tRNA to codon dictionary from G0-10538                             : 100.0%|████████████████████████████████████████|     2/    2 [00:00<00:00]\n",
      "Getting tRNA to codon dictionary from G0-10535                             : 100.0%|████████████████████████████████████████|     2/    2 [00:00<00:00]\n",
      "Getting tRNA to codon dictionary from b4709                                : 100.0%|████████████████████████████████████████|     2/    2 [00:00<00:00]\n",
      "Getting tRNA to codon dictionary from G0-10529                             : 100.0%|████████████████████████████████████████|     2/    2 [00:00<00:00]\n",
      "Getting tRNA to codon dictionary from G0-10545                             : 100.0%|████████████████████████████████████████|     2/    2 [00:00<00:00]\n",
      "Getting tRNA to codon dictionary from G0-10542                             : 100.0%|████████████████████████████████████████|     2/    2 [00:00<00:00]\n",
      "Getting tRNA to codon dictionary from G0-10539                             : 100.0%|████████████████████████████████████████|     2/    2 [00:00<00:00]\n",
      "Getting tRNA to codon dictionary from G0-10536                             : 100.0%|████████████████████████████████████████|     2/    2 [00:00<00:00]\n",
      "Getting tRNA to codon dictionary from b4711                                : 100.0%|████████████████████████████████████████|     2/    2 [00:00<00:00]\n",
      "Getting tRNA to codon dictionary from G0-10530                             : 100.0%|████████████████████████████████████████|     2/    2 [00:00<00:00]\n",
      "Getting tRNA to codon dictionary from G0-10546                             : 100.0%|████████████████████████████████████████|     2/    2 [00:00<00:00]\n",
      "Getting tRNA to codon dictionary from G0-10525                             : 100.0%|████████████████████████████████████████|     2/    2 [00:00<00:00]\n",
      "Getting tRNA to codon dictionary from G0-10543                             : 100.0%|████████████████████████████████████████|     2/    2 [00:00<00:00]\n",
      "Getting tRNA to codon dictionary from G0-10540                             : 100.0%|████████████████████████████████████████|     2/    2 [00:00<00:00]\n",
      "Getting tRNA to codon dictionary from b1370                                : 100.0%|████████████████████████████████████████|     2/    2 [00:00<00:00]\n",
      "Getting tRNA to codon dictionary from b1151                                : 100.0%|████████████████████████████████████████|     2/    2 [00:00<00:00]\n",
      "Getting tRNA to codon dictionary from b0266                                : 100.0%|████████████████████████████████████████|     2/    2 [00:00<00:00]\n",
      "Getting tRNA to codon dictionary from b1142                                : 100.0%|████████████████████████████████████████|     2/    2 [00:00<00:00]\n",
      "Getting tRNA to codon dictionary from b2638                                : 100.0%|████████████████████████████████████████|     2/    2 [00:00<00:00]\n",
      "Getting tRNA to codon dictionary from b0258                                : 100.0%|████████████████████████████████████████|     2/    2 [00:00<00:00]\n",
      "Getting tRNA to codon dictionary from b0561                                : 100.0%|████████████████████████████████████████|     2/    2 [00:00<00:00]\n",
      "Getting tRNA to codon dictionary from b1366                                : 100.0%|████████████████████████████████████████|     2/    2 [00:00<00:00]\n",
      "Getting tRNA to codon dictionary from b1149                                : 100.0%|████████████████████████████████████████|     2/    2 [00:00<00:00]\n",
      "Getting tRNA to codon dictionary from b1548                                : 100.0%|████████████████████████████████████████|     2/    2 [00:00<00:00]\n",
      "Getting tRNA to codon dictionary from b2358                                : 100.0%|████████████████████████████████████████|     2/    2 [00:00<00:00]\n",
      "Getting tRNA to codon dictionary from b1567                                : 100.0%|████████████████████████████████████████|     2/    2 [00:00<00:00]\n",
      "Getting tRNA to codon dictionary from b0563                                : 100.0%|████████████████████████████████████████|     2/    2 [00:00<00:00]\n",
      "Getting tRNA to codon dictionary from b2006                                : 100.0%|████████████████████████████████████████|     2/    2 [00:00<00:00]\n",
      "Getting tRNA to codon dictionary from b1368                                : 100.0%|████████████████████████████████████████|     2/    2 [00:00<00:00]\n",
      "Getting tRNA to codon dictionary from b1361                                : 100.0%|████████████████████████████████████████|     2/    2 [00:00<00:00]\n",
      "Getting tRNA to codon dictionary from b0276                                : 100.0%|████████████████████████████████████████|     2/    2 [00:00<00:00]\n",
      "Getting tRNA to codon dictionary from b2356                                : 100.0%|████████████████████████████████████████|     2/    2 [00:00<00:00]\n",
      "Getting tRNA to codon dictionary from b1568                                : 100.0%|████████████████████████████████████████|     2/    2 [00:00<00:00]\n",
      "Getting tRNA to codon dictionary from b4584                                : 100.0%|████████████████████████████████████████|     2/    2 [00:00<00:00]\n",
      "Getting tRNA to codon dictionary from b4496                                : 100.0%|████████████████████████████████████████|     2/    2 [00:00<00:00]\n",
      "Getting tRNA to codon dictionary from b4575                                : 100.0%|████████████████████████████████████████|     2/    2 [00:00<00:00]\n",
      "Getting tRNA to codon dictionary from b3534                                : 100.0%|████████████████████████████████████████|     2/    2 [00:00<00:00]\n",
      "Getting tRNA to codon dictionary from b4658                                : 100.0%|████████████████████████████████████████|     2/    2 [00:00<00:00]\n",
      "Getting tRNA to codon dictionary from b4490                                : 100.0%|████████████████████████████████████████|     2/    2 [00:00<00:00]\n",
      "Getting tRNA to codon dictionary from b2850                                : 100.0%|████████████████████████████████████████|     2/    2 [00:00<00:00]\n",
      "Getting tRNA to codon dictionary from b4038                                : 100.0%|████████████████████████████████████████|     2/    2 [00:00<00:00]\n",
      "Getting tRNA to codon dictionary from b3782                                : 100.0%|████████████████████████████████████████|     2/    2 [00:00<00:00]\n",
      "Getting tRNA to codon dictionary from b4661                                : 100.0%|████████████████████████████████████████|     2/    2 [00:00<00:00]\n",
      "Getting tRNA to codon dictionary from b4493                                : 100.0%|████████████████████████████████████████|     2/    2 [00:00<00:00]\n",
      "Getting tRNA to codon dictionary from b4497                                : 100.0%|████████████████████████████████████████|     2/    2 [00:00<00:00]\n",
      "Getting tRNA to codon dictionary from b4521                                : 100.0%|████████████████████████████████████████|     2/    2 [00:00<00:00]\n",
      "Getting tRNA to codon dictionary from b4494                                : 100.0%|████████████████████████████████████████|     2/    2 [00:00<00:00]\n",
      "Getting tRNA to codon dictionary from b4491                                : 100.0%|████████████████████████████████████████|     2/    2 [00:00<00:00]\n",
      "Getting tRNA to codon dictionary from b4660                                : 100.0%|████████████████████████████████████████|     2/    2 [00:00<00:00]\n",
      "Getting tRNA to codon dictionary from b2856                                : 100.0%|████████████████████████████████████████|     2/    2 [00:00<00:00]\n",
      "Getting tRNA to codon dictionary from b4462                                : 100.0%|████████████████████████████████████████|     2/    2 [00:00<00:00]\n",
      "Getting tRNA to codon dictionary from b4286                                : 100.0%|████████████████████████████████████████|     2/    2 [00:00<00:00]\n",
      "Getting tRNA to codon dictionary from b4495                                : 100.0%|████████████████████████████████████████|     2/    2 [00:00<00:00]\n",
      "Getting tRNA to codon dictionary from b2859                                : 100.0%|████████████████████████████████████████|     2/    2 [00:00<00:00]\n",
      "Getting tRNA to codon dictionary from b0562                                : 100.0%|████████████████████████████████████████|     2/    2 [00:00<00:00]\n",
      "Getting tRNA to codon dictionary from b2681                                : 100.0%|████████████████████████████████████████|     2/    2 [00:00<00:00]\n",
      "Getting tRNA to codon dictionary from b4696                                : 100.0%|████████████████████████████████████████|     2/    2 [00:00<00:00]\n",
      "Getting tRNA to codon dictionary from b4488                                : 100.0%|████████████████████████████████████████|     2/    2 [00:00<00:00]\n",
      "Getting tRNA to codon dictionary from b4500                                : 100.0%|████████████████████████████████████████|     2/    2 [00:00<00:00]\n",
      "Getting tRNA to codon dictionary from b4610                                : 100.0%|████████████████████████████████████████|     2/    2 [00:00<00:00]\n",
      "Getting tRNA to codon dictionary from b4545                                : 100.0%|████████████████████████████████████████|     2/    2 [00:00<00:00]\n",
      "Getting tRNA to codon dictionary from b2863                                : 100.0%|████████████████████████████████████████|     2/    2 [00:00<00:00]\n",
      "Getting tRNA to codon dictionary from b1471                                : 100.0%|████████████████████████████████████████|     2/    2 [00:00<00:00]\n",
      "Getting tRNA to codon dictionary from b4795                                : 100.0%|████████████████████████████████████████|     2/    2 [00:00<00:00]\n",
      "Getting tRNA to codon dictionary from b4777                                : 100.0%|████████████████████████████████████████|     2/    2 [00:00<00:00]\n",
      "Getting tRNA to codon dictionary from b4753                                : 100.0%|████████████████████████████████████████|     2/    2 [00:00<00:00]\n",
      "Getting tRNA to codon dictionary from b4738                                : 100.0%|████████████████████████████████████████|     2/    2 [00:00<00:00]\n",
      "Getting tRNA to codon dictionary from b4525                                : 100.0%|████████████████████████████████████████|     2/    2 [00:00<00:00]\n",
      "Getting tRNA to codon dictionary from b4791                                : 100.0%|████████████████████████████████████████|     2/    2 [00:00<00:00]\n",
      "Getting tRNA to codon dictionary from b4774                                : 100.0%|████████████████████████████████████████|     2/    2 [00:00<00:00]\n",
      "Getting tRNA to codon dictionary from b4749                                : 100.0%|████████████████████████████████████████|     2/    2 [00:00<00:00]\n",
      "Getting tRNA to codon dictionary from b4735                                : 100.0%|████████████████████████████████████████|     2/    2 [00:00<00:00]\n",
      "Getting tRNA to codon dictionary from b2969                                : 100.0%|████████████████████████████████████████|     2/    2 [00:00<00:00]\n",
      "Getting tRNA to codon dictionary from b4743                                : 100.0%|████████████████████████████████████████|     2/    2 [00:00<00:00]\n",
      "Getting tRNA to codon dictionary from b4788                                : 100.0%|████████████████████████████████████████|     2/    2 [00:00<00:00]\n",
      "Getting tRNA to codon dictionary from b4771                                : 100.0%|████████████████████████████████████████|     2/    2 [00:00<00:00]\n",
      "Getting tRNA to codon dictionary from b4746                                : 100.0%|████████████████████████████████████████|     2/    2 [00:00<00:00]\n",
      "Getting tRNA to codon dictionary from b4732                                : 100.0%|████████████████████████████████████████|     2/    2 [00:00<00:00]\n",
      "Getting tRNA to codon dictionary from b3808                                : 100.0%|████████████████████████████████████████|     2/    2 [00:00<00:00]\n",
      "Getting tRNA to codon dictionary from b0322                                : 100.0%|████████████████████████████████████████|     2/    2 [00:00<00:00]\n",
      "Getting tRNA to codon dictionary from b0012                                : 100.0%|████████████████████████████████████████|     2/    2 [00:00<00:00]\n",
      "Getting tRNA to codon dictionary from b0502                                : 100.0%|████████████████████████████████████████|     2/    2 [00:00<00:00]\n",
      "Getting tRNA to codon dictionary from b4802                                : 100.0%|████████████████████████████████████████|     2/    2 [00:00<00:00]\n",
      "Getting tRNA to codon dictionary from b4785                                : 100.0%|████████████████████████████████████████|     2/    2 [00:00<00:00]\n",
      "Getting tRNA to codon dictionary from b4768                                : 100.0%|████████████████████████████████████████|     2/    2 [00:00<00:00]\n",
      "Getting tRNA to codon dictionary from b4742                                : 100.0%|████████████████████████████████████████|     2/    2 [00:00<00:00]\n",
      "Getting tRNA to codon dictionary from b4729                                : 100.0%|████████████████████████████████████████|     2/    2 [00:00<00:00]\n",
      "Getting tRNA to codon dictionary from b3427                                : 100.0%|████████████████████████████████████████|     2/    2 [00:00<00:00]\n",
      "Getting tRNA to codon dictionary from b0057                                : 100.0%|████████████████████████████████████████|     2/    2 [00:00<00:00]\n",
      "Getting tRNA to codon dictionary from b0282                                : 100.0%|████████████████████████████████████████|     2/    2 [00:00<00:00]\n",
      "Getting tRNA to codon dictionary from b4799                                : 100.0%|████████████████████████████████████████|     2/    2 [00:00<00:00]\n",
      "Getting tRNA to codon dictionary from b4782                                : 100.0%|████████████████████████████████████████|     2/    2 [00:00<00:00]\n",
      "Getting tRNA to codon dictionary from b4757                                : 100.0%|████████████████████████████████████████|     2/    2 [00:00<00:00]\n",
      "Getting tRNA to codon dictionary from b4726                                : 100.0%|████████████████████████████████████████|     2/    2 [00:00<00:00]\n",
      "Getting tRNA to codon dictionary from b2650                                : 100.0%|████████████████████████████████████████|     2/    2 [00:00<00:00]\n",
      "Getting tRNA to codon dictionary from b2115                                : 100.0%|████████████████████████████████████████|     2/    2 [00:00<00:00]\n",
      "Getting tRNA to codon dictionary from b2981                                : 100.0%|████████████████████████████████████████|     2/    2 [00:00<00:00]\n",
      "Getting tRNA to codon dictionary from b1472                                : 100.0%|████████████████████████████████████████|     2/    2 [00:00<00:00]\n",
      "Getting tRNA to codon dictionary from b4572                                : 100.0%|████████████████████████████████████████|     2/    2 [00:00<00:00]\n",
      "Getting tRNA to codon dictionary from b4796                                : 100.0%|████████████████████████████████████████|     2/    2 [00:00<00:00]\n",
      "Getting tRNA to codon dictionary from b4778                                : 100.0%|████████████████████████████████████████|     2/    2 [00:00<00:00]\n",
      "Getting tRNA to codon dictionary from b4754                                : 100.0%|████████████████████████████████████████|     2/    2 [00:00<00:00]\n",
      "Getting tRNA to codon dictionary from b4739                                : 100.0%|████████████████████████████████████████|     2/    2 [00:00<00:00]\n",
      "Getting tRNA to codon dictionary from b1228                                : 100.0%|████████████████████████████████████████|     2/    2 [00:00<00:00]\n",
      "Getting tRNA to codon dictionary from b4760                                : 100.0%|████████████████████████████████████████|     2/    2 [00:00<00:00]\n",
      "Getting tRNA to codon dictionary from b4792                                : 100.0%|████████████████████████████████████████|     2/    2 [00:00<00:00]\n",
      "Getting tRNA to codon dictionary from b4775                                : 100.0%|████████████████████████████████████████|     2/    2 [00:00<00:00]\n",
      "Getting tRNA to codon dictionary from b4750                                : 100.0%|████████████████████████████████████████|     2/    2 [00:00<00:00]\n",
      "Getting tRNA to codon dictionary from b4736                                : 100.0%|████████████████████████████████████████|     2/    2 [00:00<00:00]\n",
      "Getting tRNA to codon dictionary from b4758                                : 100.0%|████████████████████████████████████████|     2/    2 [00:00<00:00]\n",
      "Getting tRNA to codon dictionary from b4719                                : 100.0%|████████████████████████████████████████|     2/    2 [00:00<00:00]\n",
      "Getting tRNA to codon dictionary from b2970                                : 100.0%|████████████████████████████████████████|     2/    2 [00:00<00:00]\n",
      "Getting tRNA to codon dictionary from b4716                                : 100.0%|████████████████████████████████████████|     2/    2 [00:00<00:00]\n",
      "Getting tRNA to codon dictionary from b4789                                : 100.0%|████████████████████████████████████████|     2/    2 [00:00<00:00]\n",
      "Getting tRNA to codon dictionary from b4772                                : 100.0%|████████████████████████████████████████|     2/    2 [00:00<00:00]\n",
      "Getting tRNA to codon dictionary from b4747                                : 100.0%|████████████████████████████████████████|     2/    2 [00:00<00:00]\n",
      "Getting tRNA to codon dictionary from b4733                                : 100.0%|████████████████████████████████████████|     2/    2 [00:00<00:00]\n",
      "Getting tRNA to codon dictionary from b4534                                : 100.0%|████████████████████████████████████████|     2/    2 [00:00<00:00]\n",
      "Getting tRNA to codon dictionary from b2941                                : 100.0%|████████████████████████████████████████|     2/    2 [00:00<00:00]\n",
      "Getting tRNA to codon dictionary from b4786                                : 100.0%|████████████████████████████████████████|     2/    2 [00:00<00:00]\n",
      "Getting tRNA to codon dictionary from b4769                                : 100.0%|████████████████████████████████████████|     2/    2 [00:00<00:00]\n",
      "Getting tRNA to codon dictionary from b4744                                : 100.0%|████████████████████████████████████████|     2/    2 [00:00<00:00]\n",
      "Getting tRNA to codon dictionary from b4342                                : 100.0%|████████████████████████████████████████|     2/    2 [00:00<00:00]\n",
      "Getting tRNA to codon dictionary from b4730                                : 100.0%|████████████████████████████████████████|     2/    2 [00:00<00:00]\n",
      "Getting tRNA to codon dictionary from b3683                                : 100.0%|████████████████████████████████████████|     2/    2 [00:00<00:00]\n",
      "Getting tRNA to codon dictionary from b4800                                : 100.0%|████████████████████████████████████████|     2/    2 [00:00<00:00]\n",
      "Getting tRNA to codon dictionary from b4783                                : 100.0%|████████████████████████████████████████|     2/    2 [00:00<00:00]\n",
      "Getting tRNA to codon dictionary from b4765                                : 100.0%|████████████████████████████████████████|     2/    2 [00:00<00:00]\n",
      "Getting tRNA to codon dictionary from b3682                                : 100.0%|████████████████████████████████████████|     2/    2 [00:00<00:00]\n",
      "Getting tRNA to codon dictionary from b4727                                : 100.0%|████████████████████████████████████████|     2/    2 [00:00<00:00]\n",
      "Getting tRNA to codon dictionary from b4615                                : 100.0%|████████████████████████████████████████|     2/    2 [00:00<00:00]\n",
      "Getting tRNA to codon dictionary from b2122                                : 100.0%|████████████████████████████████████████|     2/    2 [00:00<00:00]\n",
      "Getting tRNA to codon dictionary from b4797                                : 100.0%|████████████████████████████████████████|     2/    2 [00:00<00:00]\n",
      "Getting tRNA to codon dictionary from b4779                                : 100.0%|████████████████████████████████████████|     2/    2 [00:00<00:00]\n",
      "Getting tRNA to codon dictionary from b4755                                : 100.0%|████████████████████████████████████████|     2/    2 [00:00<00:00]\n",
      "Getting tRNA to codon dictionary from b4740                                : 100.0%|████████████████████████████████████████|     2/    2 [00:00<00:00]\n",
      "Getting tRNA to codon dictionary from b4688                                : 100.0%|████████████████████████████████████████|     2/    2 [00:00<00:00]\n",
      "Getting tRNA to codon dictionary from b4605                                : 100.0%|████████████████████████████████████████|     2/    2 [00:00<00:00]\n",
      "Getting tRNA to codon dictionary from b4538                                : 100.0%|████████████████████████████████████████|     2/    2 [00:00<00:00]\n",
      "Getting tRNA to codon dictionary from b4793                                : 100.0%|████████████████████████████████████████|     2/    2 [00:00<00:00]\n",
      "Getting tRNA to codon dictionary from b4776                                : 100.0%|████████████████████████████████████████|     2/    2 [00:00<00:00]\n",
      "Getting tRNA to codon dictionary from b4752                                : 100.0%|████████████████████████████████████████|     2/    2 [00:00<00:00]\n",
      "Getting tRNA to codon dictionary from b4737                                : 100.0%|████████████████████████████████████████|     2/    2 [00:00<00:00]\n",
      "Getting tRNA to codon dictionary from b4790                                : 100.0%|████████████████████████████████████████|     2/    2 [00:00<00:00]\n",
      "Getting tRNA to codon dictionary from b4773                                : 100.0%|████████████████████████████████████████|     2/    2 [00:00<00:00]\n",
      "Getting tRNA to codon dictionary from b4748                                : 100.0%|████████████████████████████████████████|     2/    2 [00:00<00:00]\n",
      "Getting tRNA to codon dictionary from b4734                                : 100.0%|████████████████████████████████████████|     2/    2 [00:00<00:00]\n",
      "Getting tRNA to codon dictionary from b4787                                : 100.0%|████████████████████████████████████████|     2/    2 [00:00<00:00]\n",
      "Getting tRNA to codon dictionary from b4770                                : 100.0%|████████████████████████████████████████|     2/    2 [00:00<00:00]\n",
      "Getting tRNA to codon dictionary from b4745                                : 100.0%|████████████████████████████████████████|     2/    2 [00:00<00:00]\n",
      "Getting tRNA to codon dictionary from b4731                                : 100.0%|████████████████████████████████████████|     2/    2 [00:00<00:00]\n",
      "Getting tRNA to codon dictionary from b4801                                : 100.0%|████████████████████████████████████████|     2/    2 [00:00<00:00]\n",
      "Getting tRNA to codon dictionary from b4784                                : 100.0%|████████████████████████████████████████|     2/    2 [00:00<00:00]\n",
      "Getting tRNA to codon dictionary from b4767                                : 100.0%|████████████████████████████████████████|     2/    2 [00:00<00:00]\n",
      "Getting tRNA to codon dictionary from b4741                                : 100.0%|████████████████████████████████████████|     2/    2 [00:00<00:00]\n",
      "Getting tRNA to codon dictionary from b4728                                : 100.0%|████████████████████████████████████████|     2/    2 [00:00<00:00]\n",
      "Getting tRNA to codon dictionary from b0056                                : 100.0%|████████████████████████████████████████|     2/    2 [00:00<00:00]\n",
      "Getting tRNA to codon dictionary from b1505                                : 100.0%|████████████████████████████████████████|     2/    2 [00:00<00:00]\n",
      "Getting tRNA to codon dictionary from b4798                                : 100.0%|████████████████████████████████████████|     2/    2 [00:00<00:00]\n",
      "Getting tRNA to codon dictionary from b4781                                : 100.0%|████████████████████████████████████████|     2/    2 [00:00<00:00]\n",
      "Getting tRNA to codon dictionary from b4756                                : 100.0%|████████████████████████████████████████|     2/    2 [00:00<00:00]\n",
      "Getting tRNA to codon dictionary from b1543                                : 100.0%|████████████████████████████████████████|     2/    2 [00:00<00:00]\n",
      "Getting tRNA to codon dictionary from b2649                                : 100.0%|████████████████████████████████████████|     2/    2 [00:00<00:00]\n",
      "Getting tRNA to codon dictionary from G0-16695                             : 100.0%|████████████████████████████████████████|     2/    2 [00:00<00:00]\n",
      "Getting tRNA to codon dictionary from b4725                                : 100.0%|████████████████████████████████████████|     2/    2 [00:00<00:00]\n",
      "Getting tRNA to codon dictionary from G0-10701                             : 100.0%|████████████████████████████████████████|     2/    2 [00:00<00:00]\n",
      "Getting tRNA to codon dictionary from b4812                                : 100.0%|████████████████████████████████████████|     2/    2 [00:00<00:00]\n",
      "Getting tRNA to codon dictionary from b4721                                : 100.0%|████████████████████████████████████████|     2/    2 [00:00<00:00]\n",
      "Getting tRNA to codon dictionary from b4763                                : 100.0%|████████████████████████████████████████|     2/    2 [00:00<00:00]\n",
      "Getting tRNA to codon dictionary from b4761                                : 100.0%|████████████████████████████████████████|     2/    2 [00:00<00:00]\n",
      "Getting tRNA to codon dictionary from G0-8861                              : 100.0%|████████████████████████████████████████|     2/    2 [00:00<00:00]\n",
      "Getting tRNA to codon dictionary from b4762                                : 100.0%|████████████████████████████████████████|     2/    2 [00:00<00:00]\n",
      "Getting tRNA to codon dictionary from b4416                                : 100.0%|████████████████████████████████████████|     2/    2 [00:00<00:00]\n",
      "Getting tRNA to codon dictionary from b4805                                : 100.0%|████████████████████████████████████████|     2/    2 [00:00<00:00]\n",
      "Getting tRNA to codon dictionary from b4718                                : 100.0%|████████████████████████████████████████|     2/    2 [00:00<00:00]\n",
      "Getting tRNA to codon dictionary from G0-16699                             : 100.0%|████████████████████████████████████████|     2/    2 [00:00<00:00]\n",
      "Getting tRNA to codon dictionary from G0-16635                             : 100.0%|████████████████████████████████████████|     2/    2 [00:00<00:00]\n",
      "Getting tRNA to codon dictionary from G0-16696                             : 100.0%|████████████████████████████████████████|     2/    2 [00:00<00:00]\n",
      "Getting tRNA to codon dictionary from G0-16693                             : 100.0%|████████████████████████████████████████|     2/    2 [00:00<00:00]\n",
      "Getting tRNA to codon dictionary from G0-10706                             : 100.0%|████████████████████████████████████████|     2/    2 [00:00<00:00]\n",
      "Getting tRNA to codon dictionary from b4723                                : 100.0%|████████████████████████████████████████|     2/    2 [00:00<00:00]\n",
      "Getting tRNA to codon dictionary from G0-17079                             : 100.0%|████████████████████████████████████████|     2/    2 [00:00<00:00]\n",
      "Getting tRNA to codon dictionary from b4722                                : 100.0%|████████████████████████████████████████|     2/    2 [00:00<00:00]\n",
      "Getting tRNA to codon dictionary from b4673                                : 100.0%|████████████████████████████████████████|     2/    2 [00:00<00:00]\n",
      "Getting tRNA to codon dictionary from G0-17076                             : 100.0%|████████████████████████████████████████|     2/    2 [00:00<00:00]\n",
      "Getting tRNA to codon dictionary from b4759                                : 100.0%|████████████████████████████████████████|     2/    2 [00:00<00:00]\n",
      "Getting tRNA to codon dictionary from G0-16697                             : 100.0%|████████████████████████████████████████|     2/    2 [00:00<00:00]\n",
      "Getting tRNA to codon dictionary from G0-10738                             : 100.0%|████████████████████████████████████████|     2/    2 [00:00<00:00]\n",
      "Getting tRNA to codon dictionary from G0-16694                             : 100.0%|████████████████████████████████████████|     2/    2 [00:00<00:00]\n",
      "Getting tRNA to codon dictionary from b4514                                : 100.0%|████████████████████████████████████████|     2/    2 [00:00<00:00]\n",
      "Getting tRNA to codon dictionary from b4724                                : 100.0%|████████████████████████████████████████|     2/    2 [00:00<00:00]\n",
      "Getting tRNA to codon dictionary from b4811                                : 100.0%|████████████████████████████████████████|     2/    2 [00:00<00:00]\n",
      "Getting tRNA to codon dictionary from b4720                                : 100.0%|████████████████████████████████████████|     2/    2 [00:00<00:00]\n",
      "Getting tRNA to codon dictionary from b4804                                : 100.0%|████████████████████████████████████████|     2/    2 [00:00<00:00]\n",
      "Getting tRNA to codon dictionary from G0-10624                             : 100.0%|████████████████████████████████████████|     2/    2 [00:00<00:00]\n",
      "Getting tRNA to codon dictionary from b4715                                : 100.0%|████████████████████████████████████████|     2/    2 [00:00<00:00]\n",
      "Getting tRNA to codon dictionary from G0-16698                             : 100.0%|████████████████████████████████████████|     2/    2 [00:00<00:00]\n",
      "Getting tRNA to codon dictionary from b4717                                : 100.0%|████████████████████████████████████████|     2/    2 [00:00<00:00]\n",
      "Getting tRNA to codon dictionary from b4780                                : 100.0%|████████████████████████████████████████|     2/    2 [00:00<00:00]\n",
      "Getting tRNA to codon dictionary from b4806                                : 100.0%|████████████████████████████████████████|     2/    2 [00:00<00:00]\n",
      "Getting tRNA to codon dictionary from b4712                                : 100.0%|████████████████████████████████████████|     2/    2 [00:00<00:00]\n",
      "Getting tRNA to codon dictionary from b4713                                : 100.0%|████████████████████████████████████████|     2/    2 [00:00<00:00]\n",
      "Getting tRNA to codon dictionary from b4714                                : 100.0%|████████████████████████████████████████|     2/    2 [00:00<00:00]\n",
      "Getting tRNA to codon dictionary from b4794                                : 100.0%|████████████████████████████████████████|     2/    2 [00:00<00:00]\n",
      "Getting tRNA to codon dictionary from b4803                                : 100.0%|████████████████████████████████████████|     2/    2 [00:00<00:00]\n",
      "Getting tRNA to codon dictionary from b4751                                : 100.0%|████████████████████████████████████████|     2/    2 [00:00<00:00]\n",
      "Getting tRNA to codon dictionary from b4766                                : 100.0%|████████████████████████████████████████|     2/    2 [00:00<00:00]\n",
      "Getting tRNA to codon dictionary from b2854                                : 100.0%|████████████████████████████████████████|     2/    2 [00:00<00:00]\n",
      "Getting tRNA to codon dictionary from b1157                                : 100.0%|████████████████████████████████████████|     2/    2 [00:00<00:00]\n",
      "Getting tRNA to codon dictionary from b4634                                : 100.0%|████████████████████████████████████████|     2/    2 [00:00<00:00]\n",
      "Getting tRNA to codon dictionary from b1577                                : 100.0%|████████████████████████████████████████|     2/    2 [00:00<00:00]\n",
      "Getting tRNA to codon dictionary from b2355                                : 100.0%|████████████████████████████████████████|     2/    2 [00:00<00:00]\n",
      "Getting tRNA to codon dictionary from b0705                                : 100.0%|████████████████████████████████████████|     2/    2 [00:00<00:00]\n",
      "Getting tRNA to codon dictionary from b4626                                : 100.0%|████████████████████████████████████████|     2/    2 [00:00<00:00]\n",
      "Getting tRNA to codon dictionary from b2238                                : 100.0%|████████████████████████████████████████|     2/    2 [00:00<00:00]\n",
      "Getting tRNA to codon dictionary from b4282                                : 100.0%|████████████████████████████████████████|     2/    2 [00:00<00:00]\n",
      "Getting tRNA to codon dictionary from b1999                                : 100.0%|████████████████████████████████████████|     2/    2 [00:00<00:00]\n",
      "Getting tRNA to codon dictionary from b0499                                : 100.0%|████████████████████████████████████████|     2/    2 [00:00<00:00]\n",
      "Getting tRNA to codon dictionary from b4271                                : 100.0%|████████████████████████████████████████|     2/    2 [00:00<00:00]\n",
      "Getting tRNA to codon dictionary from b3777                                : 100.0%|████████████████████████████████████████|     2/    2 [00:00<00:00]\n",
      "Getting tRNA to codon dictionary from b1578                                : 100.0%|████████████████████████████████████████|     2/    2 [00:00<00:00]\n",
      "Getting tRNA to codon dictionary from b0263                                : 100.0%|████████████████████████████████████████|     2/    2 [00:00<00:00]\n",
      "Getting tRNA to codon dictionary from b2139                                : 100.0%|████████████████████████████████████████|     2/    2 [00:00<00:00]\n",
      "Getting tRNA to codon dictionary from b2915                                : 100.0%|████████████████████████████████████████|     2/    2 [00:00<00:00]\n",
      "Getting tRNA to codon dictionary from b1459                                : 100.0%|████████████████████████████████████████|     2/    2 [00:00<00:00]\n",
      "Getting tRNA to codon dictionary from b0229                                : 100.0%|████████████████████████████████████████|     2/    2 [00:00<00:00]\n",
      "Getting tRNA to codon dictionary from b3595                                : 100.0%|████████████████████████████████████████|     2/    2 [00:00<00:00]\n",
      "Getting tRNA to codon dictionary from b2855                                : 100.0%|████████████████████████████████████████|     2/    2 [00:00<00:00]\n",
      "Getting tRNA to codon dictionary from b4573                                : 100.0%|████████████████████████████████████████|     2/    2 [00:00<00:00]\n",
      "Getting tRNA to codon dictionary from b4692                                : 100.0%|████████████████████████████████████████|     2/    2 [00:00<00:00]\n",
      "Getting tRNA to codon dictionary from b4486                                : 100.0%|████████████████████████████████████████|     2/    2 [00:00<00:00]\n",
      "Getting tRNA to codon dictionary from b2641                                : 100.0%|████████████████████████████████████████|     2/    2 [00:00<00:00]\n",
      "Getting tRNA to codon dictionary from b1028                                : 100.0%|████████████████████████████████████████|     2/    2 [00:00<00:00]\n",
      "Getting tRNA to codon dictionary from b4630                                : 100.0%|████████████████████████████████████████|     2/    2 [00:00<00:00]\n",
      "Getting tRNA to codon dictionary from b4519                                : 100.0%|████████████████████████████████████████|     2/    2 [00:00<00:00]\n",
      "Getting tRNA to codon dictionary from b4503                                : 100.0%|████████████████████████████████████████|     2/    2 [00:00<00:00]\n",
      "Getting tRNA to codon dictionary from b4308                                : 100.0%|████████████████████████████████████████|     2/    2 [00:00<00:00]\n",
      "Getting tRNA to codon dictionary from b2083                                : 100.0%|████████████████████████████████████████|     2/    2 [00:00<00:00]\n",
      "Getting tRNA to codon dictionary from b0539                                : 100.0%|████████████████████████████████████████|     2/    2 [00:00<00:00]\n",
      "Getting tRNA to codon dictionary from b4632                                : 100.0%|████████████████████████████████████████|     2/    2 [00:00<00:00]\n",
      "Getting tRNA to codon dictionary from b3135                                : 100.0%|████████████████████████████████████████|     2/    2 [00:00<00:00]\n",
      "Getting tRNA to codon dictionary from b4205                                : 100.0%|████████████████████████████████████████|     2/    2 [00:00<00:00]\n",
      "Getting tRNA to codon dictionary from b1579                                : 100.0%|████████████████████████████████████████|     2/    2 [00:00<00:00]\n",
      "Getting tRNA to codon dictionary from b0300                                : 100.0%|████████████████████████████████████████|     2/    2 [00:00<00:00]\n",
      "Getting tRNA to codon dictionary from b4657                                : 100.0%|████████████████████████████████████████|     2/    2 [00:00<00:00]\n",
      "Getting tRNA to codon dictionary from b0297                                : 100.0%|████████████████████████████████████████|     2/    2 [00:00<00:00]\n",
      "Getting tRNA to codon dictionary from b3134                                : 100.0%|████████████████████████████████████████|     2/    2 [00:00<00:00]\n",
      "Getting tRNA to codon dictionary from b1470                                : 100.0%|████████████████████████████████████████|     2/    2 [00:00<00:00]\n",
      "Getting tRNA to codon dictionary from b0230                                : 100.0%|████████████████████████████████████████|     2/    2 [00:00<00:00]\n",
      "Getting tRNA to codon dictionary from b0501                                : 100.0%|████████████████████████████████████████|     2/    2 [00:00<00:00]\n",
      "Getting tRNA to codon dictionary from b2858                                : 100.0%|████████████████████████████████████████|     2/    2 [00:00<00:00]\n",
      "Getting tRNA to codon dictionary from b1318                                : 100.0%|████████████████████████████████████████|     2/    2 [00:00<00:00]\n",
      "Getting tRNA to codon dictionary from b4693                                : 100.0%|████████████████████████████████████████|     2/    2 [00:00<00:00]\n",
      "Getting tRNA to codon dictionary from b4650                                : 100.0%|████████████████████████████████████████|     2/    2 [00:00<00:00]\n",
      "Getting tRNA to codon dictionary from b0236                                : 100.0%|████████████████████████████████████████|     2/    2 [00:00<00:00]\n",
      "Getting tRNA to codon dictionary from b2648                                : 100.0%|████████████████████████████████████████|     2/    2 [00:00<00:00]\n",
      "Getting tRNA to codon dictionary from b1152                                : 100.0%|████████████████████████████████████████|     2/    2 [00:00<00:00]\n",
      "Getting tRNA to codon dictionary from b4633                                : 100.0%|████████████████████████████████████████|     2/    2 [00:00<00:00]\n",
      "Getting tRNA to codon dictionary from b4583                                : 100.0%|████████████████████████████████████████|     2/    2 [00:00<00:00]\n",
      "Getting tRNA to codon dictionary from b0703                                : 100.0%|████████████████████████████████████████|     2/    2 [00:00<00:00]\n",
      "Getting tRNA to codon dictionary from b4638                                : 100.0%|████████████████████████████████████████|     2/    2 [00:00<00:00]\n",
      "Getting tRNA to codon dictionary from b4524                                : 100.0%|████████████████████████████████████████|     2/    2 [00:00<00:00]\n",
      "Getting tRNA to codon dictionary from b3268                                : 100.0%|████████████████████████████████████████|     2/    2 [00:00<00:00]\n",
      "Getting tRNA to codon dictionary from b1456                                : 100.0%|████████████████████████████████████████|     2/    2 [00:00<00:00]\n",
      "Getting tRNA to codon dictionary from b4281                                : 100.0%|████████████████████████████████████████|     2/    2 [00:00<00:00]\n",
      "Getting tRNA to codon dictionary from b1936                                : 100.0%|████████████████████████████████████████|     2/    2 [00:00<00:00]\n",
      "Getting tRNA to codon dictionary from b0392                                : 100.0%|████████████████████████████████████████|     2/    2 [00:00<00:00]\n",
      "Getting tRNA to codon dictionary from b4581                                : 100.0%|████████████████████████████████████████|     2/    2 [00:00<00:00]\n",
      "Getting tRNA to codon dictionary from b1506                                : 100.0%|████████████████████████████████████████|     2/    2 [00:00<00:00]\n",
      "Checking defined translocation pathways...                                 : 0.0%|                                              |     0/    0 [00:00<?]\n",
      "Getting reaction Keffs...                                                  : 100.0%|████████████████████████████████████████|  1886/ 1886 [00:00<00:00]\n"
     ]
    },
    {
     "name": "stdout",
     "output_type": "stream",
     "text": [
      "File processing done...\n"
     ]
    }
   ],
   "source": [
    "builder.generate_files(overwrite=True)\n",
    "builder.save_builder_info()"
   ]
  },
  {
   "cell_type": "code",
   "execution_count": 118,
   "id": "8f13e060-9f04-481f-87f9-9e5a7feb2629",
   "metadata": {
    "scrolled": true,
    "tags": []
   },
   "outputs": [],
   "source": [
    "# builder.org = coralme.builder.organism.Organism(builder.configuration,False)\n",
    "# builder.org.get_organism()"
   ]
  },
  {
   "cell_type": "code",
   "execution_count": null,
   "id": "a0ca2c09-f407-472d-8902-2964eba510a5",
   "metadata": {
    "ExecuteTime": {
     "end_time": "2022-12-12T06:28:36.607889Z",
     "start_time": "2022-12-12T06:27:59.542579Z"
    },
    "scrolled": true,
    "tags": []
   },
   "outputs": [],
   "source": [
    "builder.build_me_model(overwrite=False)\n",
    "# builder.troubleshoot(growth_key_and_value = { builder.me_model.mu : 0.001 })"
   ]
  },
  {
   "cell_type": "code",
   "execution_count": null,
   "id": "c3c2b019-4b54-4ff5-bdd1-9a2bd73a7ed7",
   "metadata": {
    "tags": []
   },
   "outputs": [],
   "source": [
    "builder.troubleshoot(growth_key_and_value = { builder.me_model.mu : 0.001 })"
   ]
  },
  {
   "cell_type": "markdown",
   "id": "4e7f22d1-5230-461e-a37a-e8c64542b62d",
   "metadata": {},
   "source": [
    "### Quick"
   ]
  },
  {
   "cell_type": "code",
   "execution_count": null,
   "id": "ba8fe959-5606-4631-b49a-e9f5e56c4b0c",
   "metadata": {
    "ExecuteTime": {
     "end_time": "2022-12-12T06:30:28.060280Z",
     "start_time": "2022-12-12T06:30:01.706785Z"
    },
    "scrolled": true
   },
   "outputs": [],
   "source": [
    "builder = MEBuilder(*['./{:s}/coralme-config.yaml'.format(org)])"
   ]
  },
  {
   "cell_type": "code",
   "execution_count": null,
   "id": "c2f000ee-bd9a-4bb1-8d8f-ebf0e02bb657",
   "metadata": {
    "ExecuteTime": {
     "end_time": "2022-12-12T06:28:36.607889Z",
     "start_time": "2022-12-12T06:27:59.542579Z"
    },
    "scrolled": true,
    "tags": []
   },
   "outputs": [],
   "source": [
    "builder.build_me_model(overwrite=False, update=False, prune=False)"
   ]
  },
  {
   "cell_type": "code",
   "execution_count": null,
   "id": "4dc1c455-5dc2-489d-8327-050d5f0c580a",
   "metadata": {},
   "outputs": [],
   "source": [
    "builder.troubleshoot(growth_key_and_value = { builder.me_model.mu : 0.001 })"
   ]
  },
  {
   "cell_type": "markdown",
   "id": "4840cacc-f83e-402e-91e7-a8d45ca92bee",
   "metadata": {},
   "source": [
    "### Load builder"
   ]
  },
  {
   "cell_type": "code",
   "execution_count": null,
   "id": "afcd0a3a-182b-424d-8c4c-09af614e3f67",
   "metadata": {
    "ExecuteTime": {
     "end_time": "2022-12-12T06:30:28.060280Z",
     "start_time": "2022-12-12T06:30:01.706785Z"
    },
    "scrolled": true
   },
   "outputs": [],
   "source": [
    "builder = MEBuilder(*['./{:s}/coralme-config.yaml'.format(org)])\n",
    "builder.me_model = builder.load(builder.configuration['out_directory']+'MEModel-step2-{}.pkl'.format(org))\n",
    "me = builder.me_model"
   ]
  },
  {
   "cell_type": "code",
   "execution_count": null,
   "id": "8158d5e2-75d7-4e70-9033-fa9f9159d462",
   "metadata": {
    "scrolled": true,
    "tags": []
   },
   "outputs": [],
   "source": [
    "builder.troubleshoot(growth_key_and_value = { builder.me_model.mu : 0.001 })"
   ]
  },
  {
   "cell_type": "code",
   "execution_count": null,
   "id": "2653eb7c-8b8d-4f44-add5-4ed1f9bbaa04",
   "metadata": {},
   "outputs": [],
   "source": [
    "from coralme.builder.helper_functions import *\n",
    "pandas.set_option('display.max_colwidth', None)"
   ]
  },
  {
   "cell_type": "code",
   "execution_count": null,
   "id": "7b118a09-28e7-404c-bc26-f347b7116c92",
   "metadata": {
    "scrolled": true,
    "tags": []
   },
   "outputs": [],
   "source": [
    "flux_based_reactions(me,'val__L_c',growth_key=me.mu,only_types = ['MetabolicReaction'])"
   ]
  },
  {
   "cell_type": "code",
   "execution_count": null,
   "id": "cc137a8d-7986-4aa2-a507-fad38fa1a4df",
   "metadata": {
    "scrolled": true,
    "tags": []
   },
   "outputs": [],
   "source": [
    "flux_based_reactions(me,'3mob_c',growth_key=me.mu,only_types = ['MetabolicReaction'])"
   ]
  },
  {
   "cell_type": "code",
   "execution_count": null,
   "id": "922f2c90-e001-4830-b5ab-0377b13578ee",
   "metadata": {},
   "outputs": [],
   "source": [
    "me.reactions.query('VALDH')"
   ]
  },
  {
   "cell_type": "markdown",
   "id": "822d348a-c2bc-4064-a131-db28874b89d2",
   "metadata": {},
   "source": [
    "### Find issue"
   ]
  },
  {
   "cell_type": "code",
   "execution_count": null,
   "id": "0291e591-18b1-4062-89c3-5397efd5ea5d",
   "metadata": {},
   "outputs": [],
   "source": [
    "builder.find_issue('GMET_RS15370')"
   ]
  },
  {
   "cell_type": "markdown",
   "id": "30b60288-f1c3-4aa9-925a-cc12d983a2bd",
   "metadata": {},
   "source": [
    "### Curation notes"
   ]
  },
  {
   "cell_type": "code",
   "execution_count": null,
   "id": "27830dc0-69bc-4331-af3e-08e2d597ec3b",
   "metadata": {},
   "outputs": [],
   "source": [
    "builder.curation_notes"
   ]
  }
 ],
 "metadata": {
  "kernelspec": {
   "display_name": "coralme",
   "language": "python",
   "name": "coralme"
  },
  "language_info": {
   "codemirror_mode": {
    "name": "ipython",
    "version": 3
   },
   "file_extension": ".py",
   "mimetype": "text/x-python",
   "name": "python",
   "nbconvert_exporter": "python",
   "pygments_lexer": "ipython3",
   "version": "3.7.8"
  }
 },
 "nbformat": 4,
 "nbformat_minor": 5
}
