{
 "cells": [
  {
   "cell_type": "code",
   "execution_count": 1,
   "id": "fadf741b-d65e-4c02-a73f-3c1414e848ce",
   "metadata": {
    "ExecuteTime": {
     "end_time": "2022-12-12T06:27:35.182100Z",
     "start_time": "2022-12-12T06:27:35.157355Z"
    },
    "scrolled": true
   },
   "outputs": [
    {
     "data": {
      "text/html": [
       "<style>.container { width:95% !important; }</style>"
      ],
      "text/plain": [
       "<IPython.core.display.HTML object>"
      ]
     },
     "metadata": {},
     "output_type": "display_data"
    }
   ],
   "source": [
    "from IPython.display import display, HTML, Math, Markdown\n",
    "display(HTML(\"<style>.container { width:95% !important; }</style>\"))\n",
    "\n",
    "%load_ext autoreload\n",
    "%autoreload 2"
   ]
  },
  {
   "cell_type": "code",
   "execution_count": 2,
   "id": "63414ed1-c7f0-4b1c-9dd0-534c4182f428",
   "metadata": {
    "ExecuteTime": {
     "end_time": "2022-12-12T06:27:36.177441Z",
     "start_time": "2022-12-12T06:27:35.183790Z"
    },
    "scrolled": true
   },
   "outputs": [
    {
     "name": "stderr",
     "output_type": "stream",
     "text": [
      "/home/jt/UCSD/coralme/coralme/builder/main.py:30: UserWarning: This pandas version does not allow for correct warning handling. Pandas >=1.5.1 is suggested.\n",
      "  warnings.warn(\"This pandas version does not allow for correct warning handling. Pandas >=1.5.1 is suggested.\")\n",
      "/home/jt/UCSD/coralme/coralme/builder/preprocess_inputs.py:15: UserWarning: This pandas version does not allow for correct warning handling. Pandas >=1.5.1 is suggested.\n",
      "  warnings.warn(\"This pandas version does not allow for correct warning handling. Pandas >=1.5.1 is suggested.\")\n"
     ]
    }
   ],
   "source": [
    "import coralme\n",
    "from coralme.builder.main import MEBuilder, MEReconstruction, METroubleshooter\n",
    "from coralme.builder.curation import MECurator, MEManualCuration\n"
   ]
  },
  {
   "cell_type": "code",
   "execution_count": 3,
   "id": "659ca4b2-ac94-4b00-98e8-68fdf89c0b16",
   "metadata": {
    "scrolled": true
   },
   "outputs": [],
   "source": [
    "org = 'bacillus'\n",
    "organism = './{:s}/organism.json'.format(org)\n",
    "inputs = './{:s}/input.json'.format(org)"
   ]
  },
  {
   "cell_type": "markdown",
   "id": "50f8ec29-232f-4f8a-9143-4ec0f89c3b94",
   "metadata": {},
   "source": [
    "### Full"
   ]
  },
  {
   "cell_type": "code",
   "execution_count": null,
   "id": "63010c92-3cab-4563-8252-51a4e489ae0e",
   "metadata": {
    "scrolled": true,
    "tags": []
   },
   "outputs": [],
   "source": [
    "builder = MEBuilder(*[organism, inputs])\n",
    "builder.configuration['run_bbh_blast'] = False\n",
    "# builder.configuration['dev_reference'] = Falsehttps://pubmed.ncbi.nlm.nih.gov/15351641/"
   ]
  },
  {
   "cell_type": "code",
   "execution_count": null,
   "id": "cd56e9b5-9c24-40ac-bd8b-d1a1d6d23c2a",
   "metadata": {
    "ExecuteTime": {
     "end_time": "2022-12-12T06:30:28.060280Z",
     "start_time": "2022-12-12T06:30:01.706785Z"
    },
    "scrolled": true,
    "tags": []
   },
   "outputs": [],
   "source": [
    "builder.generate_files(overwrite=True)\n",
    "# builder.save_builder_info()"
   ]
  },
  {
   "cell_type": "code",
   "execution_count": null,
   "id": "8f13e060-9f04-481f-87f9-9e5a7feb2629",
   "metadata": {
    "scrolled": true,
    "tags": []
   },
   "outputs": [],
   "source": [
    "# builder.org = coralme.builder.organism.Organism(builder.configuration,False)\n",
    "# builder.org.get_organism()"
   ]
  },
  {
   "cell_type": "code",
   "execution_count": null,
   "id": "a0ca2c09-f407-472d-8902-2964eba510a5",
   "metadata": {
    "ExecuteTime": {
     "end_time": "2022-12-12T06:28:36.607889Z",
     "start_time": "2022-12-12T06:27:59.542579Z"
    },
    "scrolled": true,
    "tags": []
   },
   "outputs": [],
   "source": [
    "builder.build_me_model(overwrite=False)"
   ]
  },
  {
   "cell_type": "code",
   "execution_count": null,
   "id": "c3c2b019-4b54-4ff5-bdd1-9a2bd73a7ed7",
   "metadata": {
    "scrolled": true,
    "tags": []
   },
   "outputs": [],
   "source": [
    "builder.troubleshoot(growth_key_and_value = { builder.me_model.mu : 0.001 })"
   ]
  },
  {
   "cell_type": "markdown",
   "id": "4e7f22d1-5230-461e-a37a-e8c64542b62d",
   "metadata": {},
   "source": [
    "### Quick"
   ]
  },
  {
   "cell_type": "code",
   "execution_count": null,
   "id": "ba8fe959-5606-4631-b49a-e9f5e56c4b0c",
   "metadata": {
    "ExecuteTime": {
     "end_time": "2022-12-12T06:30:28.060280Z",
     "start_time": "2022-12-12T06:30:01.706785Z"
    },
    "scrolled": true
   },
   "outputs": [],
   "source": [
    "builder = MEBuilder(*['./{:s}/coralme-config.yaml'.format(org)])"
   ]
  },
  {
   "cell_type": "code",
   "execution_count": null,
   "id": "c2f000ee-bd9a-4bb1-8d8f-ebf0e02bb657",
   "metadata": {
    "ExecuteTime": {
     "end_time": "2022-12-12T06:28:36.607889Z",
     "start_time": "2022-12-12T06:27:59.542579Z"
    },
    "scrolled": true,
    "tags": []
   },
   "outputs": [],
   "source": [
    "builder.build_me_model(overwrite=False, update=True, prune=False)"
   ]
  },
  {
   "cell_type": "code",
   "execution_count": null,
   "id": "4dc1c455-5dc2-489d-8327-050d5f0c580a",
   "metadata": {
    "scrolled": true,
    "tags": []
   },
   "outputs": [],
   "source": [
    "builder.troubleshoot(growth_key_and_value = { builder.me_model.mu : 0.001 })"
   ]
  },
  {
   "cell_type": "markdown",
   "id": "4840cacc-f83e-402e-91e7-a8d45ca92bee",
   "metadata": {},
   "source": [
    "### Load builder"
   ]
  },
  {
   "cell_type": "code",
   "execution_count": 4,
   "id": "afcd0a3a-182b-424d-8c4c-09af614e3f67",
   "metadata": {
    "ExecuteTime": {
     "end_time": "2022-12-12T06:30:28.060280Z",
     "start_time": "2022-12-12T06:30:01.706785Z"
    },
    "scrolled": true
   },
   "outputs": [
    {
     "name": "stdout",
     "output_type": "stream",
     "text": [
      "Set parameter Username\n",
      "Academic license - for non-commercial use only - expires 2024-01-12\n",
      "Read LP format model from file /tmp/tmpwab61_ar.lp\n",
      "Reading time = 0.00 seconds\n",
      ": 0 rows, 0 columns, 0 nonzeros\n",
      "Read LP format model from file /tmp/tmpqyslshgr.lp\n",
      "Reading time = 0.01 seconds\n",
      ": 998 rows, 2524 columns, 10562 nonzeros\n",
      "Read LP format model from file /tmp/tmppr2tanvd.lp\n",
      "Reading time = 0.01 seconds\n",
      ": 1088 rows, 2554 columns, 10544 nonzeros\n"
     ]
    }
   ],
   "source": [
    "builder = MEBuilder(*['./{:s}/coralme-config.yaml'.format(org)])\n",
    "builder.me_model = builder.load(builder.configuration['out_directory']+'MEModel-step2-{}.pkl'.format(org))\n",
    "me = builder.me_model"
   ]
  },
  {
   "cell_type": "code",
   "execution_count": 5,
   "id": "9ec9e74a-32d8-4307-918e-82c03d7cee82",
   "metadata": {},
   "outputs": [
    {
     "name": "stdout",
     "output_type": "stream",
     "text": [
      "Iteration\t Solution to check\tSolver Status\n",
      "---------\t------------------\t-------------\n",
      "        1\t1.4050280687025918\tNot feasible\n",
      "        2\t0.7025140343512959\tNot feasible\n",
      "        3\t0.3512570171756479\tNot feasible\n",
      "        4\t0.1756285085878240\tOptimal\n",
      "        5\t0.2634427628817360\tNot feasible\n",
      "        6\t0.2195356357347800\tNot feasible\n",
      "        7\t0.1975820721613020\tNot feasible\n",
      "        8\t0.1866052903745630\tNot feasible\n",
      "        9\t0.1811168994811935\tNot feasible\n",
      "       10\t0.1783727040345087\tNot feasible\n",
      "       11\t0.1770006063111663\tNot feasible\n",
      "       12\t0.1763145574494951\tOptimal\n",
      "       13\t0.1766575818803308\tOptimal\n",
      "       14\t0.1768290940957485\tOptimal\n",
      "       15\t0.1769148502034574\tNot feasible\n",
      "       16\t0.1768719721496030\tOptimal\n",
      "       17\t0.1768934111765302\tOptimal\n",
      "       18\t0.1769041306899938\tNot feasible\n",
      "       19\t0.1768987709332620\tOptimal\n",
      "       20\t0.1769014508116279\tNot feasible\n",
      "       21\t0.1769001108724449\tNot feasible\n",
      "       22\t0.1768994409028535\tNot feasible\n"
     ]
    },
    {
     "data": {
      "text/plain": [
       "True"
      ]
     },
     "execution_count": 5,
     "metadata": {},
     "output_type": "execute_result"
    }
   ],
   "source": [
    "me.optimize(precision='dq')"
   ]
  },
  {
   "cell_type": "code",
   "execution_count": 8,
   "id": "0b061ba8-cbc8-411b-8f02-9e1ee1235bdc",
   "metadata": {},
   "outputs": [
    {
     "name": "stdout",
     "output_type": "stream",
     "text": [
      "M1PD_FWD_BSU03990-MONOMER: [2.81856022570259e-6*mu1] BSU03990-MONOMER + 1.0 mnl1p_c + 1.0 nad_c --> 1.0 f6p_c + 1.0 h_c + 1.0 nadh_c\n",
      "0 999999.0\n",
      "-3.2321967849547743e-28\n",
      "\n",
      "APNPT_REV_BSU23760-MONOMER_mod_mg2(1): [2.77531548994142e-5*mu1] BSU23760-MONOMER_mod_mg2(1) + 1.0 adp_c + 1.0 h_c + 1.0 pan4p_c --> 1.0 atp_c + 1.0 ptth_c\n",
      "0 999999.0\n",
      "-1.1556741177480996e-18\n",
      "\n",
      "APNPT_FWD_BSU23760-MONOMER_mod_mg2(1): [2.77531548994142e-5*mu1] BSU23760-MONOMER_mod_mg2(1) + 1.0 atp_c + 1.0 ptth_c --> 1.0 adp_c + 1.0 h_c + 1.0 pan4p_c\n",
      "0 999999.0\n",
      "-1.1556741177480996e-18\n",
      "\n",
      "DNA_replication: 0.28242492549115594 datp_c + 0.21757507450884406 dctp_c + 0.21757507450884406 dgtp_c + 0.28242492549115594 dttp_c --> 0.3079068982281192 DNA_biomass + 1.0 ppi_c\n",
      "0.0338606118945269 0.0338606118945269\n",
      "0.03386061189452694\n",
      "\n"
     ]
    }
   ],
   "source": [
    "for r in me.reactions:\n",
    "    lb,ub = r.bounds\n",
    "    lb = lb.subs(me.mu,me.solution.fluxes[\"biomass_dilution\"]) if hasattr(lb,'subs') else lb\n",
    "    ub = ub.subs(me.mu,me.solution.fluxes[\"biomass_dilution\"]) if hasattr(ub,'subs') else ub\n",
    "    if me.solution.fluxes[r.id] < lb or me.solution.fluxes[r.id] > ub:\n",
    "        print(r)\n",
    "        print(lb,ub)\n",
    "        print(me.solution.fluxes[r.id])\n",
    "        print()"
   ]
  },
  {
   "cell_type": "markdown",
   "id": "822d348a-c2bc-4064-a131-db28874b89d2",
   "metadata": {},
   "source": [
    "### Find issue"
   ]
  },
  {
   "cell_type": "code",
   "execution_count": null,
   "id": "0291e591-18b1-4062-89c3-5397efd5ea5d",
   "metadata": {
    "scrolled": true
   },
   "outputs": [],
   "source": [
    "builder.find_issue('GMET_RS15370')"
   ]
  },
  {
   "cell_type": "markdown",
   "id": "30b60288-f1c3-4aa9-925a-cc12d983a2bd",
   "metadata": {},
   "source": [
    "### Curation notes"
   ]
  },
  {
   "cell_type": "code",
   "execution_count": null,
   "id": "27830dc0-69bc-4331-af3e-08e2d597ec3b",
   "metadata": {
    "scrolled": true
   },
   "outputs": [],
   "source": [
    "builder.curation_notes"
   ]
  }
 ],
 "metadata": {
  "kernelspec": {
   "display_name": "coralme",
   "language": "python",
   "name": "coralme"
  },
  "language_info": {
   "codemirror_mode": {
    "name": "ipython",
    "version": 3
   },
   "file_extension": ".py",
   "mimetype": "text/x-python",
   "name": "python",
   "nbconvert_exporter": "python",
   "pygments_lexer": "ipython3",
   "version": "3.7.8"
  }
 },
 "nbformat": 4,
 "nbformat_minor": 5
}
